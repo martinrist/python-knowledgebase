{
 "cells": [
  {
   "cell_type": "code",
   "execution_count": 9,
   "id": "initial_id",
   "metadata": {
    "collapsed": true,
    "ExecuteTime": {
     "end_time": "2024-03-18T15:21:33.372277Z",
     "start_time": "2024-03-18T15:21:33.367742Z"
    }
   },
   "outputs": [
    {
     "name": "stdout",
     "output_type": "stream",
     "text": [
      "BOOM!\n"
     ]
    }
   ],
   "source": [
    "ROLE_MAPPING = { \"scammer\": \"user\", \"ai\": \"assistant\" }\n",
    "\n",
    "old_role = \"aix\"\n",
    "if (new_role := ROLE_MAPPING.get(old_role)) is None:\n",
    "    print(\"BOOM!\")  \n",
    "else:\n",
    "    print(new_role)"
   ]
  },
  {
   "cell_type": "code",
   "outputs": [
    {
     "data": {
      "text/plain": "[{'role': 'user', 'content': 'scam message 1'},\n {'role': 'assistant', 'content': 'ai message 1'},\n {'role': 'user', 'content': 'scam message 2'},\n {'role': None, 'content': 'ai message 2'}]"
     },
     "execution_count": 27,
     "metadata": {},
     "output_type": "execute_result"
    }
   ],
   "source": [
    "ROLE_MAPPING = { \"scammer\": \"user\", \"ai\": \"assistant\" }\n",
    "\n",
    "input_messages = [\n",
    "    { \"role\": \"scammer\", \"content\": \"scam message 1\" },\n",
    "    { \"role\": \"ai\", \"content\": \"ai message 1\" },\n",
    "    { \"role\": \"scammer\", \"content\": \"scam message 2\" },\n",
    "    { \"role\": \"aix\", \"content\": \"ai message 2\" },\n",
    "]\n",
    "\n",
    "output2 = map(lambda message:\n",
    "    {\n",
    "        \"role\": ROLE_MAPPING.get(message[\"role\"]),\n",
    "        \"content\": message[\"content\"]\n",
    "    }, input_messages\n",
    ")\n",
    "\n",
    "output_messages = [\n",
    "    {\n",
    "        \"role\": ROLE_MAPPING.get(message[\"role\"]),\n",
    "        \"content\": message[\"content\"]\n",
    "    }\n",
    "    for message in input_messages\n",
    "]\n",
    "\n",
    "len(list(filter(lambda message: message[\"role\"] is None, output_messages))) > 0\n",
    "list(output2)\n",
    "   \n"
   ],
   "metadata": {
    "collapsed": false,
    "ExecuteTime": {
     "end_time": "2024-03-18T20:40:41.883857Z",
     "start_time": "2024-03-18T20:40:41.879634Z"
    }
   },
   "id": "7f8eb37d247ac6ba",
   "execution_count": 27
  },
  {
   "cell_type": "code",
   "outputs": [],
   "source": [],
   "metadata": {
    "collapsed": false
   },
   "id": "effef50fc63d7f4d",
   "execution_count": null
  },
  {
   "cell_type": "code",
   "outputs": [
    {
     "data": {
      "text/plain": "[{'role': 'system', 'content': ''},\n {'role': 'user', 'content': 'scam message 1'},\n {'role': 'assistant', 'content': 'user message 1'},\n {'role': 'user', 'content': 'scam message 2'}]"
     },
     "execution_count": 4,
     "metadata": {},
     "output_type": "execute_result"
    }
   ],
   "source": [
    "ROLE_MAPPING = { \"scammer\": \"user\", \"ai\": \"assistant\" }\n",
    "\n",
    "def messages_processor(messages_prompt: list[dict], system_prompt: str | None):\n",
    "    messages = messages_prompt\n",
    "    for message in messages:\n",
    "        if (message_role := ROLE_MAPPING.get(message[\"role\"])) is None:\n",
    "            raise ValueError(\"The role provided in messages field is not valid\")\n",
    "        else:\n",
    "            message[\"role\"] = message_role\n",
    "    if system_prompt is not None:\n",
    "        messages_prompt.insert(0, {\"role\": \"system\", \"content\": system_prompt})\n",
    "    return messages\n",
    "\n",
    "\n",
    "\n",
    "\n",
    "input_messages = [\n",
    "    { \"role\": \"scammer\", \"content\": \"scam message 1\" },\n",
    "    { \"role\": \"ai\", \"content\": \"user message 1\" },\n",
    "    { \"role\": \"scammer\", \"content\": \"scam message 2\" }\n",
    "]\n",
    "\n",
    "messages_processor(input_messages, \"\")\n",
    "\n",
    "input_messages"
   ],
   "metadata": {
    "collapsed": false,
    "ExecuteTime": {
     "end_time": "2024-03-18T20:59:31.103160Z",
     "start_time": "2024-03-18T20:59:31.098317Z"
    }
   },
   "id": "c9920bbc6e31dbc4",
   "execution_count": 4
  },
  {
   "cell_type": "code",
   "outputs": [],
   "source": [],
   "metadata": {
    "collapsed": false
   },
   "id": "14dba38392e94abd",
   "execution_count": null
  },
  {
   "metadata": {
    "ExecuteTime": {
     "end_time": "2024-06-26T19:47:52.524581Z",
     "start_time": "2024-06-26T19:47:52.519631Z"
    }
   },
   "cell_type": "code",
   "source": [
    "input = \"hello world\"\n",
    "\n",
    "def encode(offset: int, s: str) -> str:\n",
    "    if len(s) > 1:\n",
    "        return \"\".join(map(lambda x: encode(offset, x), s))\n",
    "    elif s.isupper():\n",
    "        return chr((ord(s) - ord('A') + offset) % 26 + ord('A'))\n",
    "    elif s.islower():\n",
    "        return chr((ord(s) - ord('a') + offset) % 26 + ord('a'))\n",
    "    else:\n",
    "        return s\n",
    "\n",
    "def decode(offset: int, s: str) -> str:\n",
    "    return encode(-offset, s)\n",
    "\n",
    "encode(1, \"c\")"
   ],
   "id": "f212a953c6e86e64",
   "outputs": [
    {
     "data": {
      "text/plain": [
       "'d'"
      ]
     },
     "execution_count": 53,
     "metadata": {},
     "output_type": "execute_result"
    }
   ],
   "execution_count": 53
  },
  {
   "metadata": {
    "ExecuteTime": {
     "end_time": "2024-06-26T17:58:05.029631Z",
     "start_time": "2024-06-26T17:58:05.025681Z"
    }
   },
   "cell_type": "code",
   "source": "encode(1, \"C\")",
   "id": "359bfe93f83a00a1",
   "outputs": [
    {
     "data": {
      "text/plain": [
       "'D'"
      ]
     },
     "execution_count": 44,
     "metadata": {},
     "output_type": "execute_result"
    }
   ],
   "execution_count": 44
  },
  {
   "metadata": {
    "ExecuteTime": {
     "end_time": "2024-06-26T17:58:11.797297Z",
     "start_time": "2024-06-26T17:58:11.793671Z"
    }
   },
   "cell_type": "code",
   "source": "encode(1, \" \")",
   "id": "639cc8b0b2648706",
   "outputs": [
    {
     "data": {
      "text/plain": [
       "' '"
      ]
     },
     "execution_count": 45,
     "metadata": {},
     "output_type": "execute_result"
    }
   ],
   "execution_count": 45
  },
  {
   "metadata": {
    "ExecuteTime": {
     "end_time": "2024-06-26T17:58:16.428261Z",
     "start_time": "2024-06-26T17:58:16.424986Z"
    }
   },
   "cell_type": "code",
   "source": "encode(1, \"!\")",
   "id": "2edc5d646f83db44",
   "outputs": [
    {
     "data": {
      "text/plain": [
       "'!'"
      ]
     },
     "execution_count": 46,
     "metadata": {},
     "output_type": "execute_result"
    }
   ],
   "execution_count": 46
  },
  {
   "metadata": {
    "ExecuteTime": {
     "end_time": "2024-06-26T17:58:38.641270Z",
     "start_time": "2024-06-26T17:58:38.638072Z"
    }
   },
   "cell_type": "code",
   "source": "encode(13, \"This is a long STRING of all sorts of !@$&\")",
   "id": "ea9e84fe67da22fa",
   "outputs": [
    {
     "data": {
      "text/plain": [
       "'Guvf vf n ybat FGEVAT bs nyy fbegf bs !@$&'"
      ]
     },
     "execution_count": 47,
     "metadata": {},
     "output_type": "execute_result"
    }
   ],
   "execution_count": 47
  },
  {
   "metadata": {},
   "cell_type": "code",
   "outputs": [],
   "execution_count": null,
   "source": "",
   "id": "845982de9b7def1a"
  }
 ],
 "metadata": {
  "kernelspec": {
   "display_name": "Python 3",
   "language": "python",
   "name": "python3"
  },
  "language_info": {
   "codemirror_mode": {
    "name": "ipython",
    "version": 2
   },
   "file_extension": ".py",
   "mimetype": "text/x-python",
   "name": "python",
   "nbconvert_exporter": "python",
   "pygments_lexer": "ipython2",
   "version": "2.7.6"
  }
 },
 "nbformat": 4,
 "nbformat_minor": 5
}
