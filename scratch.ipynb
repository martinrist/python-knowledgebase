{
 "cells": [
  {
   "cell_type": "code",
   "execution_count": 9,
   "id": "initial_id",
   "metadata": {
    "collapsed": true,
    "ExecuteTime": {
     "end_time": "2024-03-18T15:21:33.372277Z",
     "start_time": "2024-03-18T15:21:33.367742Z"
    }
   },
   "outputs": [
    {
     "name": "stdout",
     "output_type": "stream",
     "text": [
      "BOOM!\n"
     ]
    }
   ],
   "source": [
    "ROLE_MAPPING = { \"scammer\": \"user\", \"ai\": \"assistant\" }\n",
    "\n",
    "old_role = \"aix\"\n",
    "if (new_role := ROLE_MAPPING.get(old_role)) is None:\n",
    "    print(\"BOOM!\")  \n",
    "else:\n",
    "    print(new_role)"
   ]
  },
  {
   "cell_type": "code",
   "outputs": [
    {
     "data": {
      "text/plain": "[{'role': 'user', 'content': 'scam message 1'},\n {'role': 'assistant', 'content': 'ai message 1'},\n {'role': 'user', 'content': 'scam message 2'},\n {'role': None, 'content': 'ai message 2'}]"
     },
     "execution_count": 27,
     "metadata": {},
     "output_type": "execute_result"
    }
   ],
   "source": [
    "ROLE_MAPPING = { \"scammer\": \"user\", \"ai\": \"assistant\" }\n",
    "\n",
    "input_messages = [\n",
    "    { \"role\": \"scammer\", \"content\": \"scam message 1\" },\n",
    "    { \"role\": \"ai\", \"content\": \"ai message 1\" },\n",
    "    { \"role\": \"scammer\", \"content\": \"scam message 2\" },\n",
    "    { \"role\": \"aix\", \"content\": \"ai message 2\" },\n",
    "]\n",
    "\n",
    "output2 = map(lambda message:\n",
    "    {\n",
    "        \"role\": ROLE_MAPPING.get(message[\"role\"]),\n",
    "        \"content\": message[\"content\"]\n",
    "    }, input_messages\n",
    ")\n",
    "\n",
    "output_messages = [\n",
    "    {\n",
    "        \"role\": ROLE_MAPPING.get(message[\"role\"]),\n",
    "        \"content\": message[\"content\"]\n",
    "    }\n",
    "    for message in input_messages\n",
    "]\n",
    "\n",
    "len(list(filter(lambda message: message[\"role\"] is None, output_messages))) > 0\n",
    "list(output2)\n",
    "   \n"
   ],
   "metadata": {
    "collapsed": false,
    "ExecuteTime": {
     "end_time": "2024-03-18T20:40:41.883857Z",
     "start_time": "2024-03-18T20:40:41.879634Z"
    }
   },
   "id": "7f8eb37d247ac6ba",
   "execution_count": 27
  },
  {
   "cell_type": "code",
   "outputs": [],
   "source": [],
   "metadata": {
    "collapsed": false
   },
   "id": "effef50fc63d7f4d"
  },
  {
   "cell_type": "code",
   "outputs": [
    {
     "data": {
      "text/plain": "[{'role': 'system', 'content': ''},\n {'role': 'user', 'content': 'scam message 1'},\n {'role': 'assistant', 'content': 'user message 1'},\n {'role': 'user', 'content': 'scam message 2'}]"
     },
     "execution_count": 4,
     "metadata": {},
     "output_type": "execute_result"
    }
   ],
   "source": [
    "ROLE_MAPPING = { \"scammer\": \"user\", \"ai\": \"assistant\" }\n",
    "\n",
    "def messages_processor(messages_prompt: list[dict], system_prompt: str | None):\n",
    "    messages = messages_prompt\n",
    "    for message in messages:\n",
    "        if (message_role := ROLE_MAPPING.get(message[\"role\"])) is None:\n",
    "            raise ValueError(\"The role provided in messages field is not valid\")\n",
    "        else:\n",
    "            message[\"role\"] = message_role\n",
    "    if system_prompt is not None:\n",
    "        messages_prompt.insert(0, {\"role\": \"system\", \"content\": system_prompt})\n",
    "    return messages\n",
    "\n",
    "\n",
    "\n",
    "\n",
    "input_messages = [\n",
    "    { \"role\": \"scammer\", \"content\": \"scam message 1\" },\n",
    "    { \"role\": \"ai\", \"content\": \"user message 1\" },\n",
    "    { \"role\": \"scammer\", \"content\": \"scam message 2\" }\n",
    "]\n",
    "\n",
    "messages_processor(input_messages, \"\")\n",
    "\n",
    "input_messages"
   ],
   "metadata": {
    "collapsed": false,
    "ExecuteTime": {
     "end_time": "2024-03-18T20:59:31.103160Z",
     "start_time": "2024-03-18T20:59:31.098317Z"
    }
   },
   "id": "c9920bbc6e31dbc4",
   "execution_count": 4
  },
  {
   "cell_type": "code",
   "outputs": [],
   "source": [],
   "metadata": {
    "collapsed": false
   },
   "id": "14dba38392e94abd"
  }
 ],
 "metadata": {
  "kernelspec": {
   "display_name": "Python 3",
   "language": "python",
   "name": "python3"
  },
  "language_info": {
   "codemirror_mode": {
    "name": "ipython",
    "version": 2
   },
   "file_extension": ".py",
   "mimetype": "text/x-python",
   "name": "python",
   "nbconvert_exporter": "python",
   "pygments_lexer": "ipython2",
   "version": "2.7.6"
  }
 },
 "nbformat": 4,
 "nbformat_minor": 5
}
