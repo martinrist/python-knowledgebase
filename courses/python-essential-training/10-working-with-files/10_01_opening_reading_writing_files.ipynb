{
 "cells": [
  {
   "cell_type": "markdown",
   "id": "6aa22b13",
   "metadata": {},
   "source": [
    "## Files"
   ]
  },
  {
   "cell_type": "markdown",
   "id": "6845a35a",
   "metadata": {},
   "source": [
    "### Reading Files"
   ]
  },
  {
   "cell_type": "code",
   "id": "136e3488",
   "metadata": {
    "ExecuteTime": {
     "end_time": "2024-06-21T16:10:23.093628Z",
     "start_time": "2024-06-21T16:10:23.090669Z"
    }
   },
   "source": [
    "f = open('10_01_file.txt', 'r')\n",
    "print(f)"
   ],
   "outputs": [
    {
     "name": "stdout",
     "output_type": "stream",
     "text": [
      "<_io.TextIOWrapper name='10_01_file.txt' mode='r' encoding='UTF-8'>\n"
     ]
    }
   ],
   "execution_count": 1
  },
  {
   "cell_type": "code",
   "id": "37766ca7",
   "metadata": {
    "ExecuteTime": {
     "end_time": "2024-06-21T16:10:23.097707Z",
     "start_time": "2024-06-21T16:10:23.094633Z"
    }
   },
   "source": [
    "f.readline()"
   ],
   "outputs": [
    {
     "data": {
      "text/plain": [
       "'Beautiful is better than ugly.\\n'"
      ]
     },
     "execution_count": 2,
     "metadata": {},
     "output_type": "execute_result"
    }
   ],
   "execution_count": 2
  },
  {
   "cell_type": "code",
   "id": "cbaa3c36",
   "metadata": {
    "ExecuteTime": {
     "end_time": "2024-06-21T16:10:23.100327Z",
     "start_time": "2024-06-21T16:10:23.098332Z"
    }
   },
   "source": [
    "f.readlines()"
   ],
   "outputs": [
    {
     "data": {
      "text/plain": [
       "['Explicit is better than implicit.\\n',\n",
       " 'Simple is better than complex.\\n',\n",
       " 'Complex is better than complicated.\\n',\n",
       " 'Flat is better than nested.\\n',\n",
       " 'Sparse is better than dense.\\n',\n",
       " 'Readability counts.\\n',\n",
       " \"Special cases aren't special enough to break the rules.\\n\",\n",
       " 'Although practicality beats purity.\\n',\n",
       " 'Errors should never pass silently.\\n',\n",
       " 'Unless explicitly silenced.\\n',\n",
       " 'In the face of ambiguity, refuse the temptation to guess.\\n',\n",
       " 'There should be one-- and preferably only one --obvious way to do it.\\n',\n",
       " \"Although that way may not be obvious at first unless you're Dutch.\\n\",\n",
       " 'Now is better than never.\\n',\n",
       " 'Although never is often better than *right* now.\\n',\n",
       " \"If the implementation is hard to explain, it's a bad idea.\\n\",\n",
       " 'If the implementation is easy to explain, it may be a good idea.\\n',\n",
       " \"Namespaces are one honking great idea -- let's do more of those!\"]"
      ]
     },
     "execution_count": 3,
     "metadata": {},
     "output_type": "execute_result"
    }
   ],
   "execution_count": 3
  },
  {
   "cell_type": "code",
   "id": "d4b71184",
   "metadata": {
    "ExecuteTime": {
     "end_time": "2024-06-21T16:10:23.103504Z",
     "start_time": "2024-06-21T16:10:23.101589Z"
    }
   },
   "source": [
    "f = open('10_01_file.txt', 'r')\n",
    "for line in f.readlines():\n",
    "    print(line.strip())"
   ],
   "outputs": [
    {
     "name": "stdout",
     "output_type": "stream",
     "text": [
      "Beautiful is better than ugly.\n",
      "Explicit is better than implicit.\n",
      "Simple is better than complex.\n",
      "Complex is better than complicated.\n",
      "Flat is better than nested.\n",
      "Sparse is better than dense.\n",
      "Readability counts.\n",
      "Special cases aren't special enough to break the rules.\n",
      "Although practicality beats purity.\n",
      "Errors should never pass silently.\n",
      "Unless explicitly silenced.\n",
      "In the face of ambiguity, refuse the temptation to guess.\n",
      "There should be one-- and preferably only one --obvious way to do it.\n",
      "Although that way may not be obvious at first unless you're Dutch.\n",
      "Now is better than never.\n",
      "Although never is often better than *right* now.\n",
      "If the implementation is hard to explain, it's a bad idea.\n",
      "If the implementation is easy to explain, it may be a good idea.\n",
      "Namespaces are one honking great idea -- let's do more of those!\n"
     ]
    }
   ],
   "execution_count": 4
  },
  {
   "cell_type": "markdown",
   "id": "f50154d9",
   "metadata": {},
   "source": [
    "### Writing Files"
   ]
  },
  {
   "cell_type": "code",
   "id": "0a968992",
   "metadata": {
    "ExecuteTime": {
     "end_time": "2024-06-21T16:10:23.105863Z",
     "start_time": "2024-06-21T16:10:23.104049Z"
    }
   },
   "source": [
    "f = open('10_01_output.txt', 'w')\n",
    "print(f)"
   ],
   "outputs": [
    {
     "name": "stdout",
     "output_type": "stream",
     "text": [
      "<_io.TextIOWrapper name='10_01_output.txt' mode='w' encoding='UTF-8'>\n"
     ]
    }
   ],
   "execution_count": 5
  },
  {
   "cell_type": "code",
   "id": "5494eb04",
   "metadata": {
    "ExecuteTime": {
     "end_time": "2024-06-21T16:10:23.108756Z",
     "start_time": "2024-06-21T16:10:23.106534Z"
    }
   },
   "source": [
    "f.write('Line 1\\n')\n",
    "f.write('Line 2\\n')"
   ],
   "outputs": [
    {
     "data": {
      "text/plain": [
       "7"
      ]
     },
     "execution_count": 6,
     "metadata": {},
     "output_type": "execute_result"
    }
   ],
   "execution_count": 6
  },
  {
   "cell_type": "code",
   "id": "b222ea93",
   "metadata": {
    "ExecuteTime": {
     "end_time": "2024-06-21T16:10:23.111123Z",
     "start_time": "2024-06-21T16:10:23.109461Z"
    }
   },
   "source": [
    "f.close()"
   ],
   "outputs": [],
   "execution_count": 7
  },
  {
   "cell_type": "markdown",
   "id": "8a54d22e",
   "metadata": {},
   "source": [
    "### Appending Files"
   ]
  },
  {
   "cell_type": "code",
   "id": "42b670c3",
   "metadata": {
    "ExecuteTime": {
     "end_time": "2024-06-21T16:10:23.113358Z",
     "start_time": "2024-06-21T16:10:23.111730Z"
    }
   },
   "source": [
    "f = open('10_01_output.txt', 'a')\n",
    "f.write('Line 3\\n')\n",
    "f.write('Line 4\\n')\n",
    "f.close()"
   ],
   "outputs": [],
   "execution_count": 8
  },
  {
   "cell_type": "code",
   "id": "623506cf",
   "metadata": {
    "ExecuteTime": {
     "end_time": "2024-06-21T16:10:23.115946Z",
     "start_time": "2024-06-21T16:10:23.114093Z"
    }
   },
   "source": [
    "with open('10_01_output.txt', 'a') as f:\n",
    "    f.write('some stuff\\n')\n",
    "    f.write('some other stuff\\n')\n",
    "    \n",
    "print(f)"
   ],
   "outputs": [
    {
     "name": "stdout",
     "output_type": "stream",
     "text": [
      "<_io.TextIOWrapper name='10_01_output.txt' mode='a' encoding='UTF-8'>\n"
     ]
    }
   ],
   "execution_count": 9
  },
  {
   "cell_type": "code",
   "id": "a8663ad4",
   "metadata": {
    "ExecuteTime": {
     "end_time": "2024-06-21T16:10:23.212729Z",
     "start_time": "2024-06-21T16:10:23.117684Z"
    }
   },
   "source": [
    "f.write('PS. I forgot some stuff')"
   ],
   "outputs": [
    {
     "ename": "ValueError",
     "evalue": "I/O operation on closed file.",
     "output_type": "error",
     "traceback": [
      "\u001B[0;31m---------------------------------------------------------------------------\u001B[0m",
      "\u001B[0;31mValueError\u001B[0m                                Traceback (most recent call last)",
      "Cell \u001B[0;32mIn[10], line 1\u001B[0m\n\u001B[0;32m----> 1\u001B[0m \u001B[43mf\u001B[49m\u001B[38;5;241;43m.\u001B[39;49m\u001B[43mwrite\u001B[49m\u001B[43m(\u001B[49m\u001B[38;5;124;43m'\u001B[39;49m\u001B[38;5;124;43mPS. I forgot some stuff\u001B[39;49m\u001B[38;5;124;43m'\u001B[39;49m\u001B[43m)\u001B[49m\n",
      "\u001B[0;31mValueError\u001B[0m: I/O operation on closed file."
     ]
    }
   ],
   "execution_count": 10
  },
  {
   "cell_type": "code",
   "id": "06f58194",
   "metadata": {},
   "source": [],
   "outputs": [],
   "execution_count": null
  }
 ],
 "metadata": {
  "kernelspec": {
   "display_name": "Python 3 (ipykernel)",
   "language": "python",
   "name": "python3"
  },
  "language_info": {
   "codemirror_mode": {
    "name": "ipython",
    "version": 3
   },
   "file_extension": ".py",
   "mimetype": "text/x-python",
   "name": "python",
   "nbconvert_exporter": "python",
   "pygments_lexer": "ipython3",
   "version": "3.10.2"
  }
 },
 "nbformat": 4,
 "nbformat_minor": 5
}
