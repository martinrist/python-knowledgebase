{
 "cells": [
  {
   "cell_type": "code",
   "execution_count": 21,
   "id": "a6cd1c0a",
   "metadata": {},
   "outputs": [],
   "source": [
    "from collections import defaultdict"
   ]
  },
  {
   "cell_type": "markdown",
   "id": "f635ede0",
   "metadata": {},
   "source": [
    "## Dictionaries"
   ]
  },
  {
   "cell_type": "code",
   "id": "68d250c4",
   "metadata": {
    "ExecuteTime": {
     "end_time": "2024-06-21T14:13:10.755613Z",
     "start_time": "2024-06-21T14:13:10.751553Z"
    }
   },
   "source": [
    "animals = {\n",
    "    'a': 'aardvark',\n",
    "    'b': 'bear',\n",
    "    'c': 'cat',\n",
    "}\n",
    "animals"
   ],
   "outputs": [
    {
     "data": {
      "text/plain": [
       "{'a': 'aardvark', 'b': 'bear', 'c': 'cat'}"
      ]
     },
     "execution_count": 1,
     "metadata": {},
     "output_type": "execute_result"
    }
   ],
   "execution_count": 1
  },
  {
   "cell_type": "code",
   "execution_count": 4,
   "id": "841f1cd7",
   "metadata": {},
   "outputs": [
    {
     "data": {
      "text/plain": [
       "'aardvark'"
      ]
     },
     "execution_count": 4,
     "metadata": {},
     "output_type": "execute_result"
    }
   ],
   "source": [
    "animals['a']"
   ]
  },
  {
   "cell_type": "code",
   "execution_count": 5,
   "id": "04782755",
   "metadata": {},
   "outputs": [],
   "source": [
    "animals['d'] = 'dog'"
   ]
  },
  {
   "cell_type": "code",
   "execution_count": 6,
   "id": "c65fd4ff",
   "metadata": {},
   "outputs": [
    {
     "data": {
      "text/plain": [
       "{'a': 'aardvark', 'b': 'bear', 'c': 'cat', 'd': 'dog'}"
      ]
     },
     "execution_count": 6,
     "metadata": {},
     "output_type": "execute_result"
    }
   ],
   "source": [
    "animals"
   ]
  },
  {
   "cell_type": "code",
   "execution_count": 7,
   "id": "1a5be2d9",
   "metadata": {},
   "outputs": [
    {
     "data": {
      "text/plain": [
       "{'a': 'antelope', 'b': 'bear', 'c': 'cat', 'd': 'dog'}"
      ]
     },
     "execution_count": 7,
     "metadata": {},
     "output_type": "execute_result"
    }
   ],
   "source": [
    "animals['a'] = 'antelope'\n",
    "animals"
   ]
  },
  {
   "cell_type": "code",
   "id": "a55c6d44",
   "metadata": {
    "ExecuteTime": {
     "end_time": "2024-06-21T14:14:18.586617Z",
     "start_time": "2024-06-21T14:14:18.581910Z"
    }
   },
   "source": "animals.keys()",
   "outputs": [
    {
     "data": {
      "text/plain": [
       "dict_keys"
      ]
     },
     "execution_count": 2,
     "metadata": {},
     "output_type": "execute_result"
    }
   ],
   "execution_count": 2
  },
  {
   "cell_type": "code",
   "execution_count": 9,
   "id": "4c851484",
   "metadata": {},
   "outputs": [
    {
     "data": {
      "text/plain": [
       "dict_values(['antelope', 'bear', 'cat', 'dog'])"
      ]
     },
     "execution_count": 9,
     "metadata": {},
     "output_type": "execute_result"
    }
   ],
   "source": [
    "animals.values()"
   ]
  },
  {
   "cell_type": "code",
   "execution_count": 10,
   "id": "f6c35bdc",
   "metadata": {},
   "outputs": [
    {
     "data": {
      "text/plain": [
       "['a', 'b', 'c', 'd']"
      ]
     },
     "execution_count": 10,
     "metadata": {},
     "output_type": "execute_result"
    }
   ],
   "source": [
    "list(animals.keys())"
   ]
  },
  {
   "cell_type": "code",
   "execution_count": 11,
   "id": "dcf867b7",
   "metadata": {},
   "outputs": [
    {
     "ename": "KeyError",
     "evalue": "'e'",
     "output_type": "error",
     "traceback": [
      "\u001B[0;31m---------------------------------------------------------------------------\u001B[0m",
      "\u001B[0;31mKeyError\u001B[0m                                  Traceback (most recent call last)",
      "Input \u001B[0;32mIn [11]\u001B[0m, in \u001B[0;36m<module>\u001B[0;34m\u001B[0m\n\u001B[0;32m----> 1\u001B[0m \u001B[43manimals\u001B[49m\u001B[43m[\u001B[49m\u001B[38;5;124;43m'\u001B[39;49m\u001B[38;5;124;43me\u001B[39;49m\u001B[38;5;124;43m'\u001B[39;49m\u001B[43m]\u001B[49m\n",
      "\u001B[0;31mKeyError\u001B[0m: 'e'"
     ]
    }
   ],
   "source": [
    "animals['e']"
   ]
  },
  {
   "cell_type": "code",
   "execution_count": 15,
   "id": "7c06306f",
   "metadata": {},
   "outputs": [
    {
     "data": {
      "text/plain": [
       "'antelope'"
      ]
     },
     "execution_count": 15,
     "metadata": {},
     "output_type": "execute_result"
    }
   ],
   "source": [
    "animals.get('a')"
   ]
  },
  {
   "metadata": {
    "ExecuteTime": {
     "end_time": "2024-06-21T14:15:16.335018Z",
     "start_time": "2024-06-21T14:15:16.329506Z"
    }
   },
   "cell_type": "code",
   "source": "animals.get('e', 'elephant')",
   "id": "8b3ac388a5d037cd",
   "outputs": [
    {
     "data": {
      "text/plain": [
       "'elephant'"
      ]
     },
     "execution_count": 3,
     "metadata": {},
     "output_type": "execute_result"
    }
   ],
   "execution_count": 3
  },
  {
   "cell_type": "code",
   "execution_count": 16,
   "id": "df87bf97",
   "metadata": {},
   "outputs": [
    {
     "data": {
      "text/plain": [
       "4"
      ]
     },
     "execution_count": 16,
     "metadata": {},
     "output_type": "execute_result"
    }
   ],
   "source": [
    "len(animals)"
   ]
  },
  {
   "cell_type": "code",
   "execution_count": 17,
   "id": "e1a8477a",
   "metadata": {},
   "outputs": [],
   "source": [
    "animals = {\n",
    "    'a': ['aardvark', 'antelope'],\n",
    "    'b': ['bear'],\n",
    "}"
   ]
  },
  {
   "cell_type": "code",
   "execution_count": 18,
   "id": "97b04f20",
   "metadata": {},
   "outputs": [],
   "source": [
    "animals['b'].append('bison')"
   ]
  },
  {
   "cell_type": "code",
   "execution_count": 19,
   "id": "f862d71c",
   "metadata": {},
   "outputs": [],
   "source": [
    "animals['c'] = ['cat']"
   ]
  },
  {
   "cell_type": "code",
   "execution_count": 20,
   "id": "ab292c6b",
   "metadata": {},
   "outputs": [],
   "source": [
    "if 'c' not in animals:\n",
    "    animals['c'] = []\n",
    "    \n",
    "animals['c'].append('cat')"
   ]
  },
  {
   "cell_type": "markdown",
   "id": "99f7f409",
   "metadata": {},
   "source": [
    "### The Default Dict"
   ]
  },
  {
   "cell_type": "code",
   "execution_count": 22,
   "id": "71803fe4",
   "metadata": {},
   "outputs": [],
   "source": [
    "animals = defaultdict(list)"
   ]
  },
  {
   "cell_type": "code",
   "execution_count": 23,
   "id": "57e747f6",
   "metadata": {},
   "outputs": [
    {
     "data": {
      "text/plain": [
       "defaultdict(list, {})"
      ]
     },
     "execution_count": 23,
     "metadata": {},
     "output_type": "execute_result"
    }
   ],
   "source": [
    "animals"
   ]
  },
  {
   "cell_type": "code",
   "execution_count": 24,
   "id": "faaa95e0",
   "metadata": {},
   "outputs": [
    {
     "data": {
      "text/plain": [
       "defaultdict(list, {'e': ['elephant']})"
      ]
     },
     "execution_count": 24,
     "metadata": {},
     "output_type": "execute_result"
    }
   ],
   "source": [
    "animals['e'].append('elephant')\n",
    "animals"
   ]
  },
  {
   "cell_type": "code",
   "execution_count": 25,
   "id": "b8fefdb6",
   "metadata": {},
   "outputs": [
    {
     "data": {
      "text/plain": [
       "defaultdict(list, {'e': ['elephant', 'emu']})"
      ]
     },
     "execution_count": 25,
     "metadata": {},
     "output_type": "execute_result"
    }
   ],
   "source": [
    "animals['e'].append('emu')\n",
    "animals"
   ]
  },
  {
   "cell_type": "code",
   "execution_count": 26,
   "id": "f8f53dc5",
   "metadata": {},
   "outputs": [
    {
     "data": {
      "text/plain": [
       "[]"
      ]
     },
     "execution_count": 26,
     "metadata": {},
     "output_type": "execute_result"
    }
   ],
   "source": [
    "animals['f']"
   ]
  },
  {
   "cell_type": "code",
   "execution_count": null,
   "id": "6973288b",
   "metadata": {},
   "outputs": [],
   "source": []
  }
 ],
 "metadata": {
  "kernelspec": {
   "display_name": "Python 3 (ipykernel)",
   "language": "python",
   "name": "python3"
  },
  "language_info": {
   "codemirror_mode": {
    "name": "ipython",
    "version": 3
   },
   "file_extension": ".py",
   "mimetype": "text/x-python",
   "name": "python",
   "nbconvert_exporter": "python",
   "pygments_lexer": "ipython3",
   "version": "3.10.2"
  }
 },
 "nbformat": 4,
 "nbformat_minor": 5
}
