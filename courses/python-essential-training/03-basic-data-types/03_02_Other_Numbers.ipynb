{
 "cells": [
  {
   "cell_type": "code",
   "id": "6198165c",
   "metadata": {
    "ExecuteTime": {
     "end_time": "2024-06-21T13:21:05.473403Z",
     "start_time": "2024-06-21T13:21:05.471192Z"
    }
   },
   "source": "from decimal import Decimal, getcontext",
   "outputs": [],
   "execution_count": 10
  },
  {
   "cell_type": "markdown",
   "id": "07c07c37",
   "metadata": {},
   "source": [
    "## Integers"
   ]
  },
  {
   "cell_type": "code",
   "id": "90fc3a0f",
   "metadata": {
    "ExecuteTime": {
     "end_time": "2024-06-21T13:21:05.479055Z",
     "start_time": "2024-06-21T13:21:05.476599Z"
    }
   },
   "source": [
    "int('100')"
   ],
   "outputs": [
    {
     "data": {
      "text/plain": [
       "100"
      ]
     },
     "execution_count": 11,
     "metadata": {},
     "output_type": "execute_result"
    }
   ],
   "execution_count": 11
  },
  {
   "cell_type": "code",
   "id": "d8b37c5e",
   "metadata": {
    "ExecuteTime": {
     "end_time": "2024-06-21T13:21:05.496266Z",
     "start_time": "2024-06-21T13:21:05.493712Z"
    }
   },
   "source": [
    "int('100', 2)"
   ],
   "outputs": [
    {
     "data": {
      "text/plain": [
       "4"
      ]
     },
     "execution_count": 12,
     "metadata": {},
     "output_type": "execute_result"
    }
   ],
   "execution_count": 12
  },
  {
   "cell_type": "code",
   "id": "4a827a52",
   "metadata": {
    "ExecuteTime": {
     "end_time": "2024-06-21T13:21:05.505978Z",
     "start_time": "2024-06-21T13:21:05.497410Z"
    }
   },
   "source": [
    "int(100, 2)"
   ],
   "outputs": [
    {
     "ename": "TypeError",
     "evalue": "int() can't convert non-string with explicit base",
     "output_type": "error",
     "traceback": [
      "\u001B[0;31m---------------------------------------------------------------------------\u001B[0m",
      "\u001B[0;31mTypeError\u001B[0m                                 Traceback (most recent call last)",
      "Cell \u001B[0;32mIn[13], line 1\u001B[0m\n\u001B[0;32m----> 1\u001B[0m \u001B[38;5;28;43mint\u001B[39;49m\u001B[43m(\u001B[49m\u001B[38;5;241;43m100\u001B[39;49m\u001B[43m,\u001B[49m\u001B[43m \u001B[49m\u001B[38;5;241;43m2\u001B[39;49m\u001B[43m)\u001B[49m\n",
      "\u001B[0;31mTypeError\u001B[0m: int() can't convert non-string with explicit base"
     ]
    }
   ],
   "execution_count": 13
  },
  {
   "cell_type": "code",
   "id": "a8a0e4f7",
   "metadata": {
    "ExecuteTime": {
     "end_time": "2024-06-21T13:21:05.506903Z",
     "start_time": "2024-06-21T13:21:05.506845Z"
    }
   },
   "source": [
    "int('1ab', 16)"
   ],
   "outputs": [],
   "execution_count": null
  },
  {
   "cell_type": "code",
   "id": "f625c653",
   "metadata": {},
   "source": [
    "1.2 - 1.0"
   ],
   "outputs": [],
   "execution_count": null
  },
  {
   "cell_type": "markdown",
   "id": "8c7e7020",
   "metadata": {},
   "source": [
    "## Decimals"
   ]
  },
  {
   "cell_type": "code",
   "id": "0e9334d6",
   "metadata": {
    "ExecuteTime": {
     "end_time": "2024-06-21T13:21:05.510939Z",
     "start_time": "2024-06-21T13:21:05.508795Z"
    }
   },
   "source": [
    "getcontext()"
   ],
   "outputs": [
    {
     "data": {
      "text/plain": [
       "Context(prec=28, rounding=ROUND_HALF_EVEN, Emin=-999999, Emax=999999, capitals=1, clamp=0, flags=[], traps=[InvalidOperation, DivisionByZero, Overflow])"
      ]
     },
     "execution_count": 14,
     "metadata": {},
     "output_type": "execute_result"
    }
   ],
   "execution_count": 14
  },
  {
   "cell_type": "code",
   "id": "32dc75fb",
   "metadata": {
    "ExecuteTime": {
     "end_time": "2024-06-21T13:21:05.513138Z",
     "start_time": "2024-06-21T13:21:05.511749Z"
    }
   },
   "source": [
    "getcontext().prec=4"
   ],
   "outputs": [],
   "execution_count": 15
  },
  {
   "cell_type": "code",
   "id": "fd4dad61",
   "metadata": {
    "ExecuteTime": {
     "end_time": "2024-06-21T13:21:05.523604Z",
     "start_time": "2024-06-21T13:21:05.521434Z"
    }
   },
   "source": [
    "getcontext()"
   ],
   "outputs": [
    {
     "data": {
      "text/plain": [
       "Context(prec=4, rounding=ROUND_HALF_EVEN, Emin=-999999, Emax=999999, capitals=1, clamp=0, flags=[], traps=[InvalidOperation, DivisionByZero, Overflow])"
      ]
     },
     "execution_count": 16,
     "metadata": {},
     "output_type": "execute_result"
    }
   ],
   "execution_count": 16
  },
  {
   "cell_type": "code",
   "id": "645adafe",
   "metadata": {
    "ExecuteTime": {
     "end_time": "2024-06-21T13:21:05.541207Z",
     "start_time": "2024-06-21T13:21:05.538615Z"
    }
   },
   "source": [
    "Decimal(1) / Decimal(3)"
   ],
   "outputs": [
    {
     "data": {
      "text/plain": [
       "Decimal('0.3333')"
      ]
     },
     "execution_count": 17,
     "metadata": {},
     "output_type": "execute_result"
    }
   ],
   "execution_count": 17
  },
  {
   "cell_type": "code",
   "id": "4c4f9d41",
   "metadata": {
    "ExecuteTime": {
     "end_time": "2024-06-21T13:21:05.543767Z",
     "start_time": "2024-06-21T13:21:05.542284Z"
    }
   },
   "source": [
    "getcontext().prec=2"
   ],
   "outputs": [],
   "execution_count": 18
  },
  {
   "cell_type": "code",
   "id": "720466f4",
   "metadata": {
    "ExecuteTime": {
     "end_time": "2024-06-21T13:21:05.546287Z",
     "start_time": "2024-06-21T13:21:05.544330Z"
    }
   },
   "source": [
    "Decimal(1) / Decimal(3)"
   ],
   "outputs": [
    {
     "data": {
      "text/plain": [
       "Decimal('0.33')"
      ]
     },
     "execution_count": 19,
     "metadata": {},
     "output_type": "execute_result"
    }
   ],
   "execution_count": 19
  },
  {
   "cell_type": "code",
   "id": "1ae61cfc",
   "metadata": {
    "ExecuteTime": {
     "end_time": "2024-06-21T13:21:05.549865Z",
     "start_time": "2024-06-21T13:21:05.547555Z"
    }
   },
   "source": [
    "Decimal(3.14)"
   ],
   "outputs": [
    {
     "data": {
      "text/plain": [
       "Decimal('3.140000000000000124344978758017532527446746826171875')"
      ]
     },
     "execution_count": 20,
     "metadata": {},
     "output_type": "execute_result"
    }
   ],
   "execution_count": 20
  },
  {
   "cell_type": "code",
   "id": "9463274c",
   "metadata": {
    "ExecuteTime": {
     "end_time": "2024-06-21T13:21:05.552587Z",
     "start_time": "2024-06-21T13:21:05.550553Z"
    }
   },
   "source": [
    "Decimal('3.14')"
   ],
   "outputs": [
    {
     "data": {
      "text/plain": [
       "Decimal('3.14')"
      ]
     },
     "execution_count": 21,
     "metadata": {},
     "output_type": "execute_result"
    }
   ],
   "execution_count": 21
  },
  {
   "cell_type": "code",
   "id": "03e53ec7",
   "metadata": {
    "ExecuteTime": {
     "end_time": "2024-06-21T13:21:05.555864Z",
     "start_time": "2024-06-21T13:21:05.553735Z"
    }
   },
   "source": [
    "round(1.2 - 1.0, 2)"
   ],
   "outputs": [
    {
     "data": {
      "text/plain": [
       "0.2"
      ]
     },
     "execution_count": 22,
     "metadata": {},
     "output_type": "execute_result"
    }
   ],
   "execution_count": 22
  },
  {
   "cell_type": "code",
   "id": "b33aadf1",
   "metadata": {
    "ExecuteTime": {
     "end_time": "2024-06-21T13:21:05.557746Z",
     "start_time": "2024-06-21T13:21:05.556443Z"
    }
   },
   "source": [],
   "outputs": [],
   "execution_count": 22
  }
 ],
 "metadata": {
  "kernelspec": {
   "display_name": "Python 3 (ipykernel)",
   "language": "python",
   "name": "python3"
  },
  "language_info": {
   "codemirror_mode": {
    "name": "ipython",
    "version": 3
   },
   "file_extension": ".py",
   "mimetype": "text/x-python",
   "name": "python",
   "nbconvert_exporter": "python",
   "pygments_lexer": "ipython3",
   "version": "3.9.13"
  }
 },
 "nbformat": 4,
 "nbformat_minor": 5
}
