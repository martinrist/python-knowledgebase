{
 "cells": [
  {
   "cell_type": "code",
   "id": "035347bb",
   "metadata": {
    "ExecuteTime": {
     "end_time": "2024-06-21T13:33:33.505891Z",
     "start_time": "2024-06-21T13:33:33.503572Z"
    }
   },
   "source": [
    "import math"
   ],
   "outputs": [],
   "execution_count": 6
  },
  {
   "cell_type": "markdown",
   "id": "02d18456",
   "metadata": {},
   "source": [
    "## Strings"
   ]
  },
  {
   "cell_type": "markdown",
   "id": "bfc860a0",
   "metadata": {},
   "source": [
    "### Slicing"
   ]
  },
  {
   "cell_type": "code",
   "id": "387a2e6e",
   "metadata": {
    "ExecuteTime": {
     "end_time": "2024-06-21T13:33:33.537934Z",
     "start_time": "2024-06-21T13:33:33.535972Z"
    }
   },
   "source": [
    "name = 'My name is Ryan Mitchell'"
   ],
   "outputs": [],
   "execution_count": 7
  },
  {
   "cell_type": "code",
   "id": "1ebc90d0",
   "metadata": {
    "ExecuteTime": {
     "end_time": "2024-06-21T13:33:33.541378Z",
     "start_time": "2024-06-21T13:33:33.539148Z"
    }
   },
   "source": [
    "name[0]"
   ],
   "outputs": [
    {
     "data": {
      "text/plain": [
       "'M'"
      ]
     },
     "execution_count": 8,
     "metadata": {},
     "output_type": "execute_result"
    }
   ],
   "execution_count": 8
  },
  {
   "cell_type": "code",
   "id": "927b4d55",
   "metadata": {
    "ExecuteTime": {
     "end_time": "2024-06-21T13:33:33.544766Z",
     "start_time": "2024-06-21T13:33:33.542308Z"
    }
   },
   "source": [
    "name[1]"
   ],
   "outputs": [
    {
     "data": {
      "text/plain": [
       "'y'"
      ]
     },
     "execution_count": 9,
     "metadata": {},
     "output_type": "execute_result"
    }
   ],
   "execution_count": 9
  },
  {
   "cell_type": "code",
   "id": "37f585af",
   "metadata": {
    "ExecuteTime": {
     "end_time": "2024-06-21T13:33:33.547825Z",
     "start_time": "2024-06-21T13:33:33.545717Z"
    }
   },
   "source": [
    "name[0:7]"
   ],
   "outputs": [
    {
     "data": {
      "text/plain": [
       "'My name'"
      ]
     },
     "execution_count": 10,
     "metadata": {},
     "output_type": "execute_result"
    }
   ],
   "execution_count": 10
  },
  {
   "cell_type": "code",
   "id": "147d51d5",
   "metadata": {
    "ExecuteTime": {
     "end_time": "2024-06-21T13:33:33.550797Z",
     "start_time": "2024-06-21T13:33:33.548700Z"
    }
   },
   "source": [
    "name[:7]"
   ],
   "outputs": [
    {
     "data": {
      "text/plain": [
       "'My name'"
      ]
     },
     "execution_count": 11,
     "metadata": {},
     "output_type": "execute_result"
    }
   ],
   "execution_count": 11
  },
  {
   "cell_type": "code",
   "id": "8642d491",
   "metadata": {
    "ExecuteTime": {
     "end_time": "2024-06-21T13:33:33.553823Z",
     "start_time": "2024-06-21T13:33:33.551687Z"
    }
   },
   "source": [
    "name[11:]"
   ],
   "outputs": [
    {
     "data": {
      "text/plain": [
       "'Ryan Mitchell'"
      ]
     },
     "execution_count": 12,
     "metadata": {},
     "output_type": "execute_result"
    }
   ],
   "execution_count": 12
  },
  {
   "cell_type": "code",
   "id": "0eb13957",
   "metadata": {
    "ExecuteTime": {
     "end_time": "2024-06-21T13:33:33.556081Z",
     "start_time": "2024-06-21T13:33:33.554692Z"
    }
   },
   "source": [
    "myList = [1,2,3,4,5]"
   ],
   "outputs": [],
   "execution_count": 13
  },
  {
   "cell_type": "code",
   "id": "11dc06e6",
   "metadata": {
    "ExecuteTime": {
     "end_time": "2024-06-21T13:33:33.558546Z",
     "start_time": "2024-06-21T13:33:33.556566Z"
    }
   },
   "source": [
    "myList[2:4]"
   ],
   "outputs": [
    {
     "data": {
      "text/plain": [
       "[3, 4]"
      ]
     },
     "execution_count": 14,
     "metadata": {},
     "output_type": "execute_result"
    }
   ],
   "execution_count": 14
  },
  {
   "cell_type": "code",
   "id": "6644ab0b",
   "metadata": {
    "ExecuteTime": {
     "end_time": "2024-06-21T13:33:33.561580Z",
     "start_time": "2024-06-21T13:33:33.559590Z"
    }
   },
   "source": [
    "len(name)"
   ],
   "outputs": [
    {
     "data": {
      "text/plain": [
       "24"
      ]
     },
     "execution_count": 15,
     "metadata": {},
     "output_type": "execute_result"
    }
   ],
   "execution_count": 15
  },
  {
   "cell_type": "code",
   "id": "75b57667",
   "metadata": {
    "ExecuteTime": {
     "end_time": "2024-06-21T13:33:33.567276Z",
     "start_time": "2024-06-21T13:33:33.565331Z"
    }
   },
   "source": [
    "len(myList)"
   ],
   "outputs": [
    {
     "data": {
      "text/plain": [
       "5"
      ]
     },
     "execution_count": 16,
     "metadata": {},
     "output_type": "execute_result"
    }
   ],
   "execution_count": 16
  },
  {
   "cell_type": "markdown",
   "id": "2f62d3a0",
   "metadata": {},
   "source": [
    "### Formatting"
   ]
  },
  {
   "cell_type": "code",
   "id": "46e3eee4",
   "metadata": {
    "ExecuteTime": {
     "end_time": "2024-06-21T13:33:33.588403Z",
     "start_time": "2024-06-21T13:33:33.585938Z"
    }
   },
   "source": "'My number is: '+str(5)",
   "outputs": [
    {
     "data": {
      "text/plain": [
       "'My number is: 5'"
      ]
     },
     "execution_count": 17,
     "metadata": {},
     "output_type": "execute_result"
    }
   ],
   "execution_count": 17
  },
  {
   "cell_type": "code",
   "id": "50b4d13a",
   "metadata": {
    "ExecuteTime": {
     "end_time": "2024-06-21T13:33:33.591663Z",
     "start_time": "2024-06-21T13:33:33.589514Z"
    }
   },
   "source": [
    "f'My number is: {5}'"
   ],
   "outputs": [
    {
     "data": {
      "text/plain": [
       "'My number is: 5'"
      ]
     },
     "execution_count": 18,
     "metadata": {},
     "output_type": "execute_result"
    }
   ],
   "execution_count": 18
  },
  {
   "cell_type": "code",
   "id": "bd3f66d7",
   "metadata": {
    "ExecuteTime": {
     "end_time": "2024-06-21T13:33:33.599250Z",
     "start_time": "2024-06-21T13:33:33.597197Z"
    }
   },
   "source": [
    "f'My number is: {5} and twice that is {2*5}'"
   ],
   "outputs": [
    {
     "data": {
      "text/plain": [
       "'My number is: 5 and twice that is 10'"
      ]
     },
     "execution_count": 19,
     "metadata": {},
     "output_type": "execute_result"
    }
   ],
   "execution_count": 19
  },
  {
   "cell_type": "code",
   "id": "9581a9bc",
   "metadata": {
    "ExecuteTime": {
     "end_time": "2024-06-21T13:33:59.167364Z",
     "start_time": "2024-06-21T13:33:59.162857Z"
    }
   },
   "source": "f'Pi is: {math.pi:.2f}'",
   "outputs": [
    {
     "data": {
      "text/plain": [
       "'Pi is: 3.14'"
      ]
     },
     "execution_count": 28,
     "metadata": {},
     "output_type": "execute_result"
    }
   ],
   "execution_count": 28
  },
  {
   "cell_type": "code",
   "id": "4ac812ce",
   "metadata": {
    "ExecuteTime": {
     "end_time": "2024-06-21T13:33:33.622882Z",
     "start_time": "2024-06-21T13:33:33.620837Z"
    }
   },
   "source": [
    "'Pi is: {}'.format(math.pi)"
   ],
   "outputs": [
    {
     "data": {
      "text/plain": [
       "'Pi is: 3.141592653589793'"
      ]
     },
     "execution_count": 21,
     "metadata": {},
     "output_type": "execute_result"
    }
   ],
   "execution_count": 21
  },
  {
   "cell_type": "markdown",
   "id": "9f153341",
   "metadata": {},
   "source": [
    "### Multi-line Strings"
   ]
  },
  {
   "cell_type": "code",
   "id": "92cb7feb",
   "metadata": {
    "ExecuteTime": {
     "end_time": "2024-06-21T13:35:28.872188Z",
     "start_time": "2024-06-21T13:35:28.869014Z"
    }
   },
   "source": [
    "myString = '''\n",
    "Here is a long block of text\n",
    "I can add newlines!\n",
    "the text doesn't stop until it sees \\'\\'\\'\n",
    "'''"
   ],
   "outputs": [],
   "execution_count": 38
  },
  {
   "cell_type": "code",
   "id": "496129f8",
   "metadata": {
    "ExecuteTime": {
     "end_time": "2024-06-21T13:35:29.918717Z",
     "start_time": "2024-06-21T13:35:29.916099Z"
    }
   },
   "source": [
    "myString"
   ],
   "outputs": [
    {
     "data": {
      "text/plain": [
       "\"\\nHere is a long block of text\\nI can add newlines!\\nthe text doesn't stop until it sees '''\\n\""
      ]
     },
     "execution_count": 39,
     "metadata": {},
     "output_type": "execute_result"
    }
   ],
   "execution_count": 39
  },
  {
   "cell_type": "code",
   "id": "a9b4ddec",
   "metadata": {
    "ExecuteTime": {
     "end_time": "2024-06-21T13:35:30.499832Z",
     "start_time": "2024-06-21T13:35:30.496937Z"
    }
   },
   "source": [
    "print(myString)"
   ],
   "outputs": [
    {
     "name": "stdout",
     "output_type": "stream",
     "text": [
      "\n",
      "Here is a long block of text\n",
      "I can add newlines!\n",
      "the text doesn't stop until it sees '''\n",
      "\n"
     ]
    }
   ],
   "execution_count": 40
  },
  {
   "cell_type": "code",
   "id": "5fb8f96a",
   "metadata": {
    "ExecuteTime": {
     "end_time": "2024-06-21T13:33:33.663704Z",
     "start_time": "2024-06-21T13:33:33.662561Z"
    }
   },
   "source": [],
   "outputs": [],
   "execution_count": 24
  }
 ],
 "metadata": {
  "kernelspec": {
   "display_name": "Python 3 (ipykernel)",
   "language": "python",
   "name": "python3"
  },
  "language_info": {
   "codemirror_mode": {
    "name": "ipython",
    "version": 3
   },
   "file_extension": ".py",
   "mimetype": "text/x-python",
   "name": "python",
   "nbconvert_exporter": "python",
   "pygments_lexer": "ipython3",
   "version": "3.9.13"
  }
 },
 "nbformat": 4,
 "nbformat_minor": 5
}
