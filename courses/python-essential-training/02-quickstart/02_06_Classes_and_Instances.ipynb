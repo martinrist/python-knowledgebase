{
 "cells": [
  {
   "cell_type": "markdown",
   "id": "7e7cecd6",
   "metadata": {},
   "source": [
    "## Classes"
   ]
  },
  {
   "cell_type": "code",
   "id": "d5cde69b",
   "metadata": {
    "ExecuteTime": {
     "end_time": "2024-06-21T13:06:00.105870Z",
     "start_time": "2024-06-21T13:06:00.102828Z"
    }
   },
   "source": [
    "class Dog:\n",
    "    def __init__(self, name):\n",
    "        self.name = name\n",
    "        self.legs = 4\n",
    "        \n",
    "    def speak(self):\n",
    "        print(self.name + ' says: Bark!')"
   ],
   "outputs": [],
   "execution_count": 20
  },
  {
   "cell_type": "code",
   "id": "5b3dde35",
   "metadata": {
    "ExecuteTime": {
     "end_time": "2024-06-21T13:06:00.115624Z",
     "start_time": "2024-06-21T13:06:00.113705Z"
    }
   },
   "source": [
    "my_dog = Dog('Rover')\n",
    "another_dog = Dog('Fluffy')"
   ],
   "outputs": [],
   "execution_count": 21
  },
  {
   "cell_type": "code",
   "id": "ceed1af6",
   "metadata": {
    "ExecuteTime": {
     "end_time": "2024-06-21T13:06:00.119565Z",
     "start_time": "2024-06-21T13:06:00.117484Z"
    }
   },
   "source": [
    "my_dog.speak()"
   ],
   "outputs": [
    {
     "name": "stdout",
     "output_type": "stream",
     "text": [
      "Rover says: Bark!\n"
     ]
    }
   ],
   "execution_count": 22
  },
  {
   "cell_type": "code",
   "id": "b85ea67b",
   "metadata": {
    "ExecuteTime": {
     "end_time": "2024-06-21T13:06:25.320640Z",
     "start_time": "2024-06-21T13:06:25.317184Z"
    }
   },
   "source": [
    "another_dog.speak()"
   ],
   "outputs": [
    {
     "name": "stdout",
     "output_type": "stream",
     "text": [
      "Fluffy says: Bark!\n"
     ]
    }
   ],
   "execution_count": 24
  },
  {
   "metadata": {},
   "cell_type": "code",
   "outputs": [],
   "execution_count": null,
   "source": "",
   "id": "228e6711ffdd58a4"
  }
 ],
 "metadata": {
  "kernelspec": {
   "display_name": "Python 3 (ipykernel)",
   "language": "python",
   "name": "python3"
  },
  "language_info": {
   "codemirror_mode": {
    "name": "ipython",
    "version": 3
   },
   "file_extension": ".py",
   "mimetype": "text/x-python",
   "name": "python",
   "nbconvert_exporter": "python",
   "pygments_lexer": "ipython3",
   "version": "3.10.2"
  }
 },
 "nbformat": 4,
 "nbformat_minor": 5
}
