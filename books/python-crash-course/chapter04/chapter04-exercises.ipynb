{
 "cells": [
  {
   "cell_type": "markdown",
   "source": [
    "# Chapter 4 - Working with Lists"
   ],
   "metadata": {
    "collapsed": false
   },
   "id": "9360ff304cd990cd"
  },
  {
   "cell_type": "markdown",
   "source": [
    "## 4.1. Pizzas"
   ],
   "metadata": {
    "collapsed": false
   },
   "id": "cd7079b881c58ed8"
  },
  {
   "cell_type": "code",
   "outputs": [
    {
     "name": "stdout",
     "output_type": "stream",
     "text": [
      "Marinara\n",
      "Porco Rosso\n",
      "Napoli\n",
      "Capricciosa\n"
     ]
    }
   ],
   "source": [
    "# Think of at least three kinds of your favorite pizza. Store these pizza\n",
    "# names in a list, and then use a for loop to print the name of each pizza.\n",
    "\n",
    "my_pizzas = [\"Marinara\", \"Porco Rosso\", \"Napoli\", \"Capricciosa\"]\n",
    "\n",
    "for pizza in my_pizzas:\n",
    "    print(pizza)"
   ],
   "metadata": {
    "collapsed": false,
    "ExecuteTime": {
     "end_time": "2024-01-18T11:49:28.264491Z",
     "start_time": "2024-01-18T11:49:28.202394Z"
    }
   },
   "id": "e4ceed58ca0447f3",
   "execution_count": 103
  },
  {
   "cell_type": "code",
   "outputs": [
    {
     "name": "stdout",
     "output_type": "stream",
     "text": [
      "I like Marinara pizza\n",
      "I like Porco Rosso pizza\n",
      "I like Napoli pizza\n",
      "I like Capricciosa pizza\n"
     ]
    }
   ],
   "source": [
    "# Modify your for loop to print a sentence using the name of the pizza,\n",
    "# instead of printing just the name of the pizza. For each pizza, you should\n",
    "# have one line of output containing a simple statement like \n",
    "# \"I like pepperoni pizza.\"\n",
    "\n",
    "for pizza in my_pizzas:\n",
    "    print(f\"I like {pizza} pizza\")"
   ],
   "metadata": {
    "collapsed": false,
    "ExecuteTime": {
     "end_time": "2024-01-18T11:49:28.270216Z",
     "start_time": "2024-01-18T11:49:28.266855Z"
    }
   },
   "id": "3348c1d5b1e51f45",
   "execution_count": 104
  },
  {
   "cell_type": "code",
   "outputs": [
    {
     "name": "stdout",
     "output_type": "stream",
     "text": [
      "I like Marinara pizza\n",
      "I like Porco Rosso pizza\n",
      "I like Napoli pizza\n",
      "I like Capricciosa pizza\n",
      "I really love pizza\n"
     ]
    }
   ],
   "source": [
    "# Add a line at the end of your program, outside the for loop, that states\n",
    "# how much you like pizza. The output should consist of three or more lines\n",
    "# about the kinds of pizza you like and then an additional sentence,\n",
    "# such as \"I really love pizza!\"\n",
    "\n",
    "for pizza in my_pizzas:\n",
    "    print(f\"I like {pizza} pizza\")\n",
    "\n",
    "print(\"I really love pizza\")"
   ],
   "metadata": {
    "collapsed": false,
    "ExecuteTime": {
     "end_time": "2024-01-18T11:49:28.279457Z",
     "start_time": "2024-01-18T11:49:28.270404Z"
    }
   },
   "id": "42bb0ead2c8be505",
   "execution_count": 105
  },
  {
   "cell_type": "markdown",
   "source": [
    "## 4-2. Animals"
   ],
   "metadata": {
    "collapsed": false
   },
   "id": "19c9b4425e46079d"
  },
  {
   "cell_type": "code",
   "outputs": [
    {
     "name": "stdout",
     "output_type": "stream",
     "text": [
      "dog\n",
      "cat\n",
      "rat\n"
     ]
    }
   ],
   "source": [
    "# Think of at least three different animals that have a common characteristic.\n",
    "# Store the names of these animals in a list, and then use a for loop to\n",
    "# print out the name of each animal.\n",
    "\n",
    "animals = [\"dog\", \"cat\", \"rat\"]\n",
    "\n",
    "for animal in animals:\n",
    "    print(animal)"
   ],
   "metadata": {
    "collapsed": false,
    "ExecuteTime": {
     "end_time": "2024-01-18T11:49:28.280803Z",
     "start_time": "2024-01-18T11:49:28.274200Z"
    }
   },
   "id": "a6951ced0038662a",
   "execution_count": 106
  },
  {
   "cell_type": "code",
   "outputs": [
    {
     "name": "stdout",
     "output_type": "stream",
     "text": [
      "A dog would make a great pet\n",
      "A cat would make a great pet\n",
      "A rat would make a great pet\n"
     ]
    }
   ],
   "source": [
    "# Modify your program to print a statement about each animal, such as \n",
    "# \"A dog would make a great pet.\"\n",
    "\n",
    "for animal in animals:\n",
    "    print(f\"A {animal} would make a great pet\")"
   ],
   "metadata": {
    "collapsed": false,
    "ExecuteTime": {
     "end_time": "2024-01-18T11:49:28.281280Z",
     "start_time": "2024-01-18T11:49:28.276820Z"
    }
   },
   "id": "ad36c1c366133179",
   "execution_count": 107
  },
  {
   "cell_type": "code",
   "outputs": [
    {
     "name": "stdout",
     "output_type": "stream",
     "text": [
      "A dog would make a great pet\n",
      "A cat would make a great pet\n",
      "A rat would make a great pet\n",
      "Any of these animals would make a great pet\n"
     ]
    }
   ],
   "source": [
    "# Add a line at the end of your program, stating what these animals have in\n",
    "# common. You could print a sentence, such as \"Any of these animals would\n",
    "# make a great pet\"\n",
    "\n",
    "for animal in animals:\n",
    "    print(f\"A {animal} would make a great pet\")\n",
    "print(\"Any of these animals would make a great pet\")"
   ],
   "metadata": {
    "collapsed": false,
    "ExecuteTime": {
     "end_time": "2024-01-18T11:49:28.285121Z",
     "start_time": "2024-01-18T11:49:28.279927Z"
    }
   },
   "id": "20f6bc6a547a8540",
   "execution_count": 108
  },
  {
   "cell_type": "markdown",
   "source": [
    "## 4-3. Counting to Twenty"
   ],
   "metadata": {
    "collapsed": false
   },
   "id": "b0951329ac8a179d"
  },
  {
   "cell_type": "code",
   "outputs": [
    {
     "name": "stdout",
     "output_type": "stream",
     "text": [
      "1\n",
      "2\n",
      "3\n",
      "4\n",
      "5\n",
      "6\n",
      "7\n",
      "8\n",
      "9\n",
      "10\n",
      "11\n",
      "12\n",
      "13\n",
      "14\n",
      "15\n",
      "16\n",
      "17\n",
      "18\n",
      "19\n",
      "20\n"
     ]
    }
   ],
   "source": [
    "# Use a for loop to print the numbers from 1 to 20, inclusive.\n",
    "\n",
    "for i in range(1, 21):\n",
    "    print(i)"
   ],
   "metadata": {
    "collapsed": false,
    "ExecuteTime": {
     "end_time": "2024-01-18T11:49:28.286819Z",
     "start_time": "2024-01-18T11:49:28.282185Z"
    }
   },
   "id": "af8f259a9def0713",
   "execution_count": 109
  },
  {
   "cell_type": "markdown",
   "source": [
    "## 4-4. One Million"
   ],
   "metadata": {
    "collapsed": false
   },
   "id": "53acf2aac58432c8"
  },
  {
   "cell_type": "code",
   "outputs": [],
   "source": [
    "# Make a list of the numbers from one to one million, and then use a for loop\n",
    "# to print the numbers. (If the output is taking too long, stop it by pressing\n",
    "# CTRL-C or by closing the output window.)\n",
    "\n",
    "numbers = range(1, 1_000_001)\n",
    "\n",
    "for i in numbers:\n",
    "    # This will exceed the output rate, so it's disabled\n",
    "    # print(i)\n",
    "    i\n"
   ],
   "metadata": {
    "collapsed": false,
    "ExecuteTime": {
     "end_time": "2024-01-18T11:49:28.322157Z",
     "start_time": "2024-01-18T11:49:28.310595Z"
    }
   },
   "id": "e32f4b8edcbeef8c",
   "execution_count": 110
  },
  {
   "cell_type": "markdown",
   "source": [
    "## 4-5. Summing a Million"
   ],
   "metadata": {
    "collapsed": false
   },
   "id": "de4e59124f5b6ee8"
  },
  {
   "cell_type": "code",
   "source": [
    "# Make a list of the numbers from one to one million, and then use min() and\n",
    "# max() to make sure your list actually starts at one and ends at one million.\n",
    "numbers = range(1, 1_000_001)\n",
    "print(min(numbers))\n",
    "print(max(numbers))"
   ],
   "metadata": {
    "collapsed": false,
    "ExecuteTime": {
     "end_time": "2024-06-24T14:46:09.603297Z",
     "start_time": "2024-06-24T14:46:09.561316Z"
    }
   },
   "id": "3f8a0f7c62e2b7e6",
   "outputs": [
    {
     "name": "stdout",
     "output_type": "stream",
     "text": [
      "1\n",
      "1000000\n"
     ]
    }
   ],
   "execution_count": 1
  },
  {
   "cell_type": "code",
   "outputs": [
    {
     "data": {
      "text/plain": "500000500000"
     },
     "execution_count": 112,
     "metadata": {},
     "output_type": "execute_result"
    }
   ],
   "source": [
    "# Also, use the sum() function to see how quickly Python can add a million numbers.\n",
    "\n",
    "sum(numbers)"
   ],
   "metadata": {
    "collapsed": false,
    "ExecuteTime": {
     "end_time": "2024-01-18T11:49:28.377137Z",
     "start_time": "2024-01-18T11:49:28.360500Z"
    }
   },
   "id": "feed973f6d55dd00",
   "execution_count": 112
  },
  {
   "cell_type": "markdown",
   "source": [
    "## 4-6. Odd Numbers"
   ],
   "metadata": {
    "collapsed": false
   },
   "id": "56c71ffcfa8e2239"
  },
  {
   "cell_type": "code",
   "outputs": [
    {
     "name": "stdout",
     "output_type": "stream",
     "text": [
      "1\n",
      "3\n",
      "5\n",
      "7\n",
      "9\n",
      "11\n",
      "13\n",
      "15\n",
      "17\n",
      "19\n"
     ]
    }
   ],
   "source": [
    "# Use the third argument of the range() function to make a list of the odd\n",
    "# numbers from 1 to 20. Use a for loop to print each number.\n",
    "\n",
    "odds = range(1, 21, 2)\n",
    "for odd in odds:\n",
    "    print(odd)"
   ],
   "metadata": {
    "collapsed": false,
    "ExecuteTime": {
     "end_time": "2024-01-18T11:49:28.402807Z",
     "start_time": "2024-01-18T11:49:28.361060Z"
    }
   },
   "id": "a0f4e5adbfe3096f",
   "execution_count": 113
  },
  {
   "cell_type": "markdown",
   "source": [
    "## 4-7. Threes"
   ],
   "metadata": {
    "collapsed": false
   },
   "id": "4fd3c988992438f3"
  },
  {
   "cell_type": "code",
   "outputs": [
    {
     "name": "stdout",
     "output_type": "stream",
     "text": [
      "3\n",
      "6\n",
      "9\n",
      "12\n",
      "15\n",
      "18\n",
      "21\n",
      "24\n",
      "27\n",
      "30\n"
     ]
    }
   ],
   "source": [
    "# Make a list of the multiples of 3, from 3 to 30. Use a for loop to print\n",
    "# the numbers in your list.\n",
    "\n",
    "threes = range(3, 31,3)\n",
    "for three in threes:\n",
    "    print(three)"
   ],
   "metadata": {
    "collapsed": false,
    "ExecuteTime": {
     "end_time": "2024-01-18T11:49:28.403397Z",
     "start_time": "2024-01-18T11:49:28.363845Z"
    }
   },
   "id": "9f9bbafc9d9f70b",
   "execution_count": 114
  },
  {
   "cell_type": "markdown",
   "source": [
    "## 4-8. Cubes"
   ],
   "metadata": {
    "collapsed": false
   },
   "id": "c31f4ea56fc62c2b"
  },
  {
   "cell_type": "code",
   "outputs": [
    {
     "name": "stdout",
     "output_type": "stream",
     "text": [
      "1\n",
      "8\n",
      "27\n",
      "64\n",
      "125\n",
      "216\n",
      "343\n",
      "512\n",
      "729\n",
      "1000\n"
     ]
    }
   ],
   "source": [
    "# A number raised to the third power is called a cube. For example, the cube\n",
    "# of 2 is written as 2**3 in Python.\n",
    "\n",
    "# Make a list of the first 10 cubes (that is, the cube of each integer from\n",
    "# 1 through 10), and use a for loop to print out the value of each cube.\n",
    "\n",
    "cubes = []\n",
    "for i in range(1, 11):\n",
    "    cubes.append(i**3)\n",
    "    \n",
    "for cube in cubes:\n",
    "    print(cube)"
   ],
   "metadata": {
    "collapsed": false,
    "ExecuteTime": {
     "end_time": "2024-01-18T11:49:28.403771Z",
     "start_time": "2024-01-18T11:49:28.367394Z"
    }
   },
   "id": "34d8696cb444606c",
   "execution_count": 115
  },
  {
   "cell_type": "markdown",
   "source": [
    "## 4-9. Cube Comprehension"
   ],
   "metadata": {
    "collapsed": false
   },
   "id": "d5e076f641658380"
  },
  {
   "cell_type": "code",
   "outputs": [
    {
     "data": {
      "text/plain": "[1, 8, 27, 64, 125, 216, 343, 512, 729, 1000]"
     },
     "execution_count": 116,
     "metadata": {},
     "output_type": "execute_result"
    }
   ],
   "source": [
    "# Use a list comprehension to generate a list of the first 10 cubes.\n",
    "\n",
    "comprehension_cubes = [i**3 for i in range(1, 11)]\n",
    "comprehension_cubes"
   ],
   "metadata": {
    "collapsed": false,
    "ExecuteTime": {
     "end_time": "2024-01-18T11:49:28.404138Z",
     "start_time": "2024-01-18T11:49:28.369987Z"
    }
   },
   "id": "365acfea4845aa5b",
   "execution_count": 116
  },
  {
   "cell_type": "markdown",
   "source": [
    "## 4-10. Slices"
   ],
   "metadata": {
    "collapsed": false
   },
   "id": "efad81bfb3f87b98"
  },
  {
   "cell_type": "code",
   "outputs": [
    {
     "name": "stdout",
     "output_type": "stream",
     "text": [
      "The first three items in the list are:\n",
      "[1, 8, 27]\n"
     ]
    }
   ],
   "source": [
    "# Using one of the programs you wrote in this chapter, add several lines to\n",
    "# the end of the program that do the following:\n",
    "\n",
    "# Print the message \"The first three items in the list are:\". Then use a\n",
    "# slice to print the first three items from that program’s list.\n",
    "\n",
    "print(\"The first three items in the list are:\")\n",
    "print(cubes[:3])"
   ],
   "metadata": {
    "collapsed": false,
    "ExecuteTime": {
     "end_time": "2024-01-18T11:49:28.404493Z",
     "start_time": "2024-01-18T11:49:28.372742Z"
    }
   },
   "id": "428d62e5d44e4465",
   "execution_count": 117
  },
  {
   "cell_type": "code",
   "outputs": [
    {
     "name": "stdout",
     "output_type": "stream",
     "text": [
      "Three items from the middle of the list are:\n",
      "[216, 343, 512]\n"
     ]
    }
   ],
   "source": [
    "# Print the message \"Three items from the middle of the list are:\". Then use\n",
    "# a slice to print three items from the middle of the list.\n",
    "\n",
    "print(\"Three items from the middle of the list are:\")\n",
    "print(cubes[5:8])"
   ],
   "metadata": {
    "collapsed": false,
    "ExecuteTime": {
     "end_time": "2024-01-18T11:49:28.413718Z",
     "start_time": "2024-01-18T11:49:28.376249Z"
    }
   },
   "id": "8dd6da290de58a55",
   "execution_count": 118
  },
  {
   "cell_type": "code",
   "outputs": [
    {
     "name": "stdout",
     "output_type": "stream",
     "text": [
      "The last three items in the list are:\n",
      "[512, 729, 1000]\n"
     ]
    }
   ],
   "source": [
    "# Print the message \"The last three items in the list are:\". Then use a slice\n",
    "# to print the last three items in the list.\n",
    "\n",
    "print(\"The last three items in the list are:\")\n",
    "print(cubes[-3:])"
   ],
   "metadata": {
    "collapsed": false,
    "ExecuteTime": {
     "end_time": "2024-01-18T11:49:28.414468Z",
     "start_time": "2024-01-18T11:49:28.378462Z"
    }
   },
   "id": "2c2181c6d883105d",
   "execution_count": 119
  },
  {
   "cell_type": "markdown",
   "source": [
    "# 4-11. My Pizzas, Your Pizzas"
   ],
   "metadata": {
    "collapsed": false
   },
   "id": "c0c25f49458a2c51"
  },
  {
   "cell_type": "code",
   "outputs": [],
   "source": [
    "# Start with your program from Exercise 4-1. Make a copy of the list of pizzas,\n",
    "# and call it friend_pizzas.\n",
    "\n",
    "# Note that we have to use an empty slice here to ensure a copy\n",
    "friend_pizzas = my_pizzas[:]\n",
    "\n",
    "# Then, do the following:\n",
    "# Add a new pizza to the original list.\n",
    "\n",
    "my_pizzas.append(\"Tropicana\")"
   ],
   "metadata": {
    "collapsed": false,
    "ExecuteTime": {
     "end_time": "2024-01-18T11:49:28.414900Z",
     "start_time": "2024-01-18T11:49:28.381347Z"
    }
   },
   "id": "938c095525b97c73",
   "execution_count": 120
  },
  {
   "cell_type": "code",
   "outputs": [],
   "source": [
    "# Add a different pizza to the list friend_pizzas.\n",
    "\n",
    "friend_pizzas.append(\"Pepperoni\")"
   ],
   "metadata": {
    "collapsed": false,
    "ExecuteTime": {
     "end_time": "2024-01-18T11:49:28.461530Z",
     "start_time": "2024-01-18T11:49:28.408276Z"
    }
   },
   "id": "1671a782352c816e",
   "execution_count": 121
  },
  {
   "cell_type": "code",
   "outputs": [
    {
     "name": "stdout",
     "output_type": "stream",
     "text": [
      "My favourite pizzas are: ['Marinara', 'Porco Rosso', 'Napoli', 'Capricciosa', 'Tropicana']\n",
      "My friend's favourite pizzas are: ['Marinara', 'Porco Rosso', 'Napoli', 'Capricciosa', 'Pepperoni']\n"
     ]
    }
   ],
   "source": [
    "# Prove that you have two separate lists. Print the message\n",
    "# \"My favorite pizzas are:\", and then use a for loop to print the first list.\n",
    "# Print the message \"My friend’s favorite pizzas are:\", and then use a for\n",
    "# loop to print the second list. Make sure each new pizza is stored in the\n",
    "# appropriate list\n",
    "\n",
    "print(f\"My favourite pizzas are: {my_pizzas}\")\n",
    "print(f\"My friend's favourite pizzas are: {friend_pizzas}\")"
   ],
   "metadata": {
    "collapsed": false,
    "ExecuteTime": {
     "end_time": "2024-01-18T11:49:28.477639Z",
     "start_time": "2024-01-18T11:49:28.462851Z"
    }
   },
   "id": "7e65d48fe54b5e3f",
   "execution_count": 122
  },
  {
   "cell_type": "markdown",
   "source": [
    "# 4-12. More Loops"
   ],
   "metadata": {
    "collapsed": false
   },
   "id": "38d4aedb9a2eb755"
  },
  {
   "cell_type": "code",
   "outputs": [
    {
     "name": "stdout",
     "output_type": "stream",
     "text": [
      "My food: pizza\n",
      "My food: falafel\n",
      "My food: carrot cake\n",
      "My food: cannoli\n",
      "Friend food: pizza\n",
      "Friend food: falafel\n",
      "Friend food: carrot cake\n",
      "Friend food: ice cream\n"
     ]
    }
   ],
   "source": [
    "# All versions of foods.py in this section have avoided using for loops when\n",
    "# printing, to save space. Choose a version of foods.py, and write two for\n",
    "# loops to print each list of foods.\n",
    "\n",
    "my_foods = [\"pizza\", \"falafel\", \"carrot cake\"]\n",
    "friend_foods = my_foods[:]\n",
    "\n",
    "my_foods.append(\"cannoli\")\n",
    "friend_foods.append(\"ice cream\")\n",
    "\n",
    "for food in my_foods:\n",
    "    print(f\"My food: {food}\")\n",
    "    \n",
    "for food in friend_foods:\n",
    "    print(f\"Friend food: {food}\")"
   ],
   "metadata": {
    "collapsed": false,
    "ExecuteTime": {
     "end_time": "2024-01-18T11:49:28.499455Z",
     "start_time": "2024-01-18T11:49:28.481172Z"
    }
   },
   "id": "ccbd65eef20f3320",
   "execution_count": 123
  },
  {
   "cell_type": "markdown",
   "source": [
    "## 4-13. Buffet"
   ],
   "metadata": {
    "collapsed": false
   },
   "id": "32a4a3c869346659"
  },
  {
   "cell_type": "code",
   "outputs": [],
   "source": [
    "# A buffet-style restaurant offers only five basic foods. Think of five simple\n",
    "# foods, and store them in a tuple.\n",
    "menu = (\"pizza\", \"burger\", \"falafel\", \"sushi\", \"curry\")"
   ],
   "metadata": {
    "collapsed": false,
    "ExecuteTime": {
     "end_time": "2024-01-18T11:49:28.501095Z",
     "start_time": "2024-01-18T11:49:28.488196Z"
    }
   },
   "id": "15930ba749bcb4f9",
   "execution_count": 124
  },
  {
   "cell_type": "code",
   "outputs": [
    {
     "name": "stdout",
     "output_type": "stream",
     "text": [
      "pizza\n",
      "burger\n",
      "falafel\n",
      "sushi\n",
      "curry\n"
     ]
    }
   ],
   "source": [
    "# Use a for loop to print each food the restaurant offers.\n",
    "for item in menu:\n",
    "    print(item)"
   ],
   "metadata": {
    "collapsed": false,
    "ExecuteTime": {
     "end_time": "2024-01-18T11:49:28.513030Z",
     "start_time": "2024-01-18T11:49:28.503685Z"
    }
   },
   "id": "93dbc439e5f17d21",
   "execution_count": 125
  },
  {
   "cell_type": "code",
   "outputs": [
    {
     "ename": "TypeError",
     "evalue": "'tuple' object does not support item assignment",
     "output_type": "error",
     "traceback": [
      "\u001B[0;31m---------------------------------------------------------------------------\u001B[0m",
      "\u001B[0;31mTypeError\u001B[0m                                 Traceback (most recent call last)",
      "Cell \u001B[0;32mIn[126], line 3\u001B[0m\n\u001B[1;32m      1\u001B[0m \u001B[38;5;66;03m# Try to modify one of the items, and make sure that Python rejects the change.\u001B[39;00m\n\u001B[0;32m----> 3\u001B[0m \u001B[43mmenu\u001B[49m\u001B[43m[\u001B[49m\u001B[38;5;241;43m1\u001B[39;49m\u001B[43m]\u001B[49m \u001B[38;5;241m=\u001B[39m \u001B[38;5;124m\"\u001B[39m\u001B[38;5;124mice cream\u001B[39m\u001B[38;5;124m\"\u001B[39m\n",
      "\u001B[0;31mTypeError\u001B[0m: 'tuple' object does not support item assignment"
     ]
    }
   ],
   "source": [
    "# Try to modify one of the items, and make sure that Python rejects the change.\n",
    "\n",
    "menu[1] = \"ice cream\""
   ],
   "metadata": {
    "collapsed": false,
    "ExecuteTime": {
     "end_time": "2024-01-18T11:49:28.524462Z",
     "start_time": "2024-01-18T11:49:28.508789Z"
    }
   },
   "id": "a599c3ad5dd5b0b5",
   "execution_count": 126
  },
  {
   "cell_type": "code",
   "outputs": [
    {
     "name": "stdout",
     "output_type": "stream",
     "text": [
      "tacos\n",
      "fruit\n",
      "cabbage\n"
     ]
    }
   ],
   "source": [
    "# The restaurant changes its menu, replacing two of the items with different foods.\n",
    "# Add a line that rewrites the tuple, and then use a for loop to print each of the\n",
    "# items on the revised menu\n",
    "\n",
    "menu = (\"tacos\", \"fruit\", \"cabbage\")\n",
    "\n",
    "for item in menu:\n",
    "    print(item)"
   ],
   "metadata": {
    "collapsed": false,
    "ExecuteTime": {
     "end_time": "2024-01-18T11:49:28.525056Z",
     "start_time": "2024-01-18T11:49:28.514728Z"
    }
   },
   "id": "b239b6da265401d9",
   "execution_count": 127
  }
 ],
 "metadata": {
  "kernelspec": {
   "display_name": "Python 3",
   "language": "python",
   "name": "python3"
  },
  "language_info": {
   "codemirror_mode": {
    "name": "ipython",
    "version": 2
   },
   "file_extension": ".py",
   "mimetype": "text/x-python",
   "name": "python",
   "nbconvert_exporter": "python",
   "pygments_lexer": "ipython2",
   "version": "2.7.6"
  }
 },
 "nbformat": 4,
 "nbformat_minor": 5
}
