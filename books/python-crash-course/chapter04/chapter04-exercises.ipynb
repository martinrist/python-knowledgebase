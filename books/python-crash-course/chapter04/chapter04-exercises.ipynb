{
 "cells": [
  {
   "cell_type": "markdown",
   "source": [
    "# Chapter 4 - Working with Lists"
   ],
   "metadata": {
    "collapsed": false
   },
   "id": "9360ff304cd990cd"
  },
  {
   "cell_type": "markdown",
   "source": [
    "## 4.1. Pizzas\n",
    "\n",
    "Think of at least three kinds of your favorite pizza. Store these pizza\n",
    "names in a list, and then use a for loop to print the name of each pizza.\n",
    "\n",
    "- Modify your for loop to print a sentence using the name of the pizza,\n",
    "instead of printing just the name of the pizza. For each pizza, you should\n",
    "have one line of output containing a simple statement like\n",
    "\"I like pepperoni pizza.\"\n",
    "\n",
    "- Add a line at the end of your program, outside the for loop, that states\n",
    "how much you like pizza. The output should consist of three or more lines\n",
    "about the kinds of pizza you like and then an additional sentence,\n",
    "such as \"I really love pizza!\""
   ],
   "metadata": {
    "collapsed": false
   },
   "id": "cd7079b881c58ed8"
  },
  {
   "cell_type": "code",
   "source": [
    "my_pizzas = [\"Marinara\", \"Porco Rosso\", \"Napoli\", \"Capricciosa\"]\n",
    "\n",
    "for pizza in my_pizzas:\n",
    "    print(pizza)\n",
    "\n",
    "for pizza in my_pizzas:\n",
    "    print(f\"I like {pizza} pizza\")\n",
    "print(\"I really love pizza\")"
   ],
   "metadata": {
    "collapsed": false,
    "ExecuteTime": {
     "end_time": "2024-06-24T16:20:30.140313Z",
     "start_time": "2024-06-24T16:20:30.133674Z"
    }
   },
   "id": "e4ceed58ca0447f3",
   "outputs": [
    {
     "name": "stdout",
     "output_type": "stream",
     "text": [
      "Marinara\n",
      "Porco Rosso\n",
      "Napoli\n",
      "Capricciosa\n",
      "I like Marinara pizza\n",
      "I like Porco Rosso pizza\n",
      "I like Napoli pizza\n",
      "I like Capricciosa pizza\n",
      "I really love pizza\n"
     ]
    }
   ],
   "execution_count": 25
  },
  {
   "cell_type": "markdown",
   "source": [
    "## 4-2. Animals\n",
    "\n",
    "Think of at least three different animals that have a common characteristic.\n",
    "Store the names of these animals in a list, and then use a for loop to\n",
    "print out the name of each animal.\n",
    "\n",
    "- Modify your program to print a statement about each animal, such as\n",
    "\"A dog would make a great pet.\"\n",
    "- Add a line at the end of your program, stating what these animals have in\n",
    "common. You could print a sentence, such as \"Any of these animals would\n",
    "make a great pet\""
   ],
   "metadata": {
    "collapsed": false
   },
   "id": "19c9b4425e46079d"
  },
  {
   "cell_type": "code",
   "source": [
    "animals = [\"dog\", \"cat\", \"rat\"]\n",
    "\n",
    "for animal in animals:\n",
    "    print(animal)\n",
    "\n",
    "for animal in animals:\n",
    "    print(f\"A {animal} would make a great pet\")\n",
    "print(\"Any of these animals would make a great pet\")"
   ],
   "metadata": {
    "collapsed": false,
    "ExecuteTime": {
     "end_time": "2024-06-24T16:21:39.087340Z",
     "start_time": "2024-06-24T16:21:39.084045Z"
    }
   },
   "id": "a6951ced0038662a",
   "outputs": [
    {
     "name": "stdout",
     "output_type": "stream",
     "text": [
      "dog\n",
      "cat\n",
      "rat\n",
      "A dog would make a great pet\n",
      "A cat would make a great pet\n",
      "A rat would make a great pet\n",
      "Any of these animals would make a great pet\n"
     ]
    }
   ],
   "execution_count": 26
  },
  {
   "cell_type": "markdown",
   "source": [
    "## 4-3. Counting to Twenty\n",
    "\n",
    "Use a `for` loop to print the numbers from 1 to 20, inclusive."
   ],
   "metadata": {
    "collapsed": false
   },
   "id": "b0951329ac8a179d"
  },
  {
   "cell_type": "code",
   "source": [
    "for i in range(1, 21):\n",
    "    print(i)"
   ],
   "metadata": {
    "collapsed": false,
    "ExecuteTime": {
     "end_time": "2024-06-24T15:25:30.421756Z",
     "start_time": "2024-06-24T15:25:30.419852Z"
    }
   },
   "id": "af8f259a9def0713",
   "outputs": [
    {
     "name": "stdout",
     "output_type": "stream",
     "text": [
      "1\n",
      "2\n",
      "3\n",
      "4\n",
      "5\n",
      "6\n",
      "7\n",
      "8\n",
      "9\n",
      "10\n",
      "11\n",
      "12\n",
      "13\n",
      "14\n",
      "15\n",
      "16\n",
      "17\n",
      "18\n",
      "19\n",
      "20\n"
     ]
    }
   ],
   "execution_count": 7
  },
  {
   "cell_type": "markdown",
   "source": [
    "## 4-4. One Million\n",
    "\n",
    "Make a list of the numbers from one to one million, and then use a `for` loop\n",
    "to print the numbers. (If the output is taking too long, stop it by pressing\n",
    "CTRL-C or by closing the output window.)"
   ],
   "metadata": {
    "collapsed": false
   },
   "id": "53acf2aac58432c8"
  },
  {
   "cell_type": "code",
   "source": [
    "numbers = range(1, 1_000_001)\n",
    "\n",
    "for i in numbers:\n",
    "    # This will exceed the output rate, so it's disabled\n",
    "    # print(i)\n",
    "    i\n"
   ],
   "metadata": {
    "collapsed": false,
    "ExecuteTime": {
     "end_time": "2024-06-24T15:25:30.453997Z",
     "start_time": "2024-06-24T15:25:30.423980Z"
    }
   },
   "id": "e32f4b8edcbeef8c",
   "outputs": [],
   "execution_count": 8
  },
  {
   "cell_type": "markdown",
   "source": [
    "## 4-5. Summing a Million\n",
    "\n",
    "Make a list of the numbers from one to one million, and then use `min()` and\n",
    "`max()` to make sure your list actually starts at one and ends at one million.\n",
    "\n",
    "Also, use the `sum()` function to see how quickly Python can add a million\n",
    "numbers."
   ],
   "metadata": {
    "collapsed": false
   },
   "id": "de4e59124f5b6ee8"
  },
  {
   "cell_type": "code",
   "source": [
    "numbers = range(1, 1_000_001)\n",
    "print(min(numbers))\n",
    "print(max(numbers))\n",
    "\n",
    "print(sum(numbers))"
   ],
   "metadata": {
    "collapsed": false,
    "ExecuteTime": {
     "end_time": "2024-06-24T16:22:53.873951Z",
     "start_time": "2024-06-24T16:22:53.830198Z"
    }
   },
   "id": "3f8a0f7c62e2b7e6",
   "outputs": [
    {
     "name": "stdout",
     "output_type": "stream",
     "text": [
      "1\n",
      "1000000\n",
      "500000500000\n"
     ]
    }
   ],
   "execution_count": 28
  },
  {
   "cell_type": "markdown",
   "source": [
    "## 4-6. Odd Numbers\n",
    "\n",
    "Use the third argument of the `range()` function to make a list of the odd\n",
    "numbers from 1 to 20. Use a `for` loop to print each number.\n"
   ],
   "metadata": {
    "collapsed": false
   },
   "id": "56c71ffcfa8e2239"
  },
  {
   "metadata": {},
   "cell_type": "code",
   "outputs": [
    {
     "name": "stdout",
     "output_type": "stream",
     "text": [
      "1\n",
      "3\n",
      "5\n",
      "7\n",
      "9\n",
      "11\n",
      "13\n",
      "15\n",
      "17\n",
      "19\n"
     ]
    }
   ],
   "execution_count": 11,
   "source": [
    "odds = range(1, 21, 2)\n",
    "for odd in odds:\n",
    "    print(odd)"
   ],
   "id": "a0f4e5adbfe3096f"
  },
  {
   "cell_type": "markdown",
   "source": [
    "## 4-7. Threes\n",
    "\n",
    "Make a list of the multiples of 3, from 3 to 30. Use a `for` loop to print\n",
    "the numbers in your list."
   ],
   "metadata": {
    "collapsed": false
   },
   "id": "4fd3c988992438f3"
  },
  {
   "cell_type": "code",
   "source": [
    "threes = range(3, 31,3)\n",
    "for three in threes:\n",
    "    print(three)"
   ],
   "metadata": {
    "collapsed": false,
    "ExecuteTime": {
     "end_time": "2024-06-24T15:25:30.511070Z",
     "start_time": "2024-06-24T15:25:30.508670Z"
    }
   },
   "id": "9f9bbafc9d9f70b",
   "outputs": [
    {
     "name": "stdout",
     "output_type": "stream",
     "text": [
      "3\n",
      "6\n",
      "9\n",
      "12\n",
      "15\n",
      "18\n",
      "21\n",
      "24\n",
      "27\n",
      "30\n"
     ]
    }
   ],
   "execution_count": 12
  },
  {
   "cell_type": "markdown",
   "source": [
    "## 4-8. Cubes\n",
    "\n",
    "A number raised to the third power is called a cube. For example, the cube\n",
    "of 2 is written as 2**3 in Python.\n",
    "\n",
    "Make a list of the first 10 cubes (that is, the cube of each integer from\n",
    "1 through 10), and use a `for` loop to print out the value of each cube."
   ],
   "metadata": {
    "collapsed": false
   },
   "id": "c31f4ea56fc62c2b"
  },
  {
   "cell_type": "code",
   "source": [
    "cubes = []\n",
    "for i in range(1, 11):\n",
    "    cubes.append(i**3)\n",
    "    \n",
    "for cube in cubes:\n",
    "    print(cube)"
   ],
   "metadata": {
    "collapsed": false,
    "ExecuteTime": {
     "end_time": "2024-06-24T15:25:30.514416Z",
     "start_time": "2024-06-24T15:25:30.511710Z"
    }
   },
   "id": "34d8696cb444606c",
   "outputs": [
    {
     "name": "stdout",
     "output_type": "stream",
     "text": [
      "1\n",
      "8\n",
      "27\n",
      "64\n",
      "125\n",
      "216\n",
      "343\n",
      "512\n",
      "729\n",
      "1000\n"
     ]
    }
   ],
   "execution_count": 13
  },
  {
   "cell_type": "markdown",
   "source": [
    "## 4-9. Cube Comprehension\n",
    "\n",
    "Use a list comprehension to generate a list of the first 10 cubes."
   ],
   "metadata": {
    "collapsed": false
   },
   "id": "d5e076f641658380"
  },
  {
   "cell_type": "code",
   "source": [
    "comprehension_cubes = [i**3 for i in range(1, 11)]\n",
    "comprehension_cubes"
   ],
   "metadata": {
    "collapsed": false,
    "ExecuteTime": {
     "end_time": "2024-06-24T15:25:30.517946Z",
     "start_time": "2024-06-24T15:25:30.515593Z"
    }
   },
   "id": "365acfea4845aa5b",
   "outputs": [
    {
     "data": {
      "text/plain": [
       "[1, 8, 27, 64, 125, 216, 343, 512, 729, 1000]"
      ]
     },
     "execution_count": 14,
     "metadata": {},
     "output_type": "execute_result"
    }
   ],
   "execution_count": 14
  },
  {
   "cell_type": "markdown",
   "source": [
    "## 4-10. Slices\n",
    "\n",
    "Using one of the programs you wrote in this chapter, add several lines to\n",
    "the end of the program that do the following:\n",
    "\n",
    "- Print the message \"The first three items in the list are:\". Then use a\n",
    "slice to print the first three items from that program’s list.\n",
    "- Print the message \"Three items from the middle of the list are:\". Then use\n",
    "a slice to print three items from the middle of the list.\n",
    "- Print the message \"The last three items in the list are:\". Then use a slice\n",
    "to print the last three items in the list."
   ],
   "metadata": {
    "collapsed": false
   },
   "id": "efad81bfb3f87b98"
  },
  {
   "cell_type": "code",
   "source": [
    "print(\"The first three items in the list are:\")\n",
    "print(cubes[:3])\n",
    "\n",
    "print(\"Three items from the middle of the list are:\")\n",
    "print(cubes[5:8])\n",
    "\n",
    "print(\"The last three items in the list are:\")\n",
    "print(cubes[-3:])"
   ],
   "metadata": {
    "collapsed": false,
    "ExecuteTime": {
     "end_time": "2024-06-24T16:25:02.922828Z",
     "start_time": "2024-06-24T16:25:02.918816Z"
    }
   },
   "id": "428d62e5d44e4465",
   "outputs": [
    {
     "name": "stdout",
     "output_type": "stream",
     "text": [
      "The first three items in the list are:\n",
      "[1, 8, 27]\n",
      "Three items from the middle of the list are:\n",
      "[216, 343, 512]\n",
      "The last three items in the list are:\n",
      "[512, 729, 1000]\n"
     ]
    }
   ],
   "execution_count": 29
  },
  {
   "cell_type": "markdown",
   "source": [
    "# 4-11. My Pizzas, Your Pizzas\n",
    "\n",
    "Start with your program from Exercise 4-1. Make a copy of the list of pizzas,\n",
    "and call it `friend_pizzas`.  Then, do the following:\n",
    "- Add a new pizza to the original list.\n",
    "- Add a different pizza to the list `friend_pizzas`.\n",
    "- Prove that you have two separate lists. Print the message \"My favorite pizzas\n",
    "are:\", and then use a `for` loop to print the first list.  Print the message\n",
    "\"My friend’s favorite pizzas are:\", and then use a `for` loop to print the\n",
    "second list. Make sure each new pizza is stored in the appropriate list"
   ],
   "metadata": {
    "collapsed": false
   },
   "id": "c0c25f49458a2c51"
  },
  {
   "cell_type": "code",
   "source": [
    "# Note that we have to use an empty slice here to ensure a copy\n",
    "friend_pizzas = my_pizzas[:]\n",
    "\n",
    "my_pizzas.append(\"Tropicana\")\n",
    "\n",
    "friend_pizzas.append(\"Pepperoni\")\n",
    "\n",
    "print(f\"My favourite pizzas are: {my_pizzas}\")\n",
    "print(f\"My friend's favourite pizzas are: {friend_pizzas}\")"
   ],
   "metadata": {
    "collapsed": false,
    "ExecuteTime": {
     "end_time": "2024-06-24T16:26:43.043110Z",
     "start_time": "2024-06-24T16:26:43.040365Z"
    }
   },
   "id": "938c095525b97c73",
   "outputs": [
    {
     "name": "stdout",
     "output_type": "stream",
     "text": [
      "My favourite pizzas are: ['Marinara', 'Porco Rosso', 'Napoli', 'Capricciosa', 'Tropicana']\n",
      "My friend's favourite pizzas are: ['Marinara', 'Porco Rosso', 'Napoli', 'Capricciosa', 'Pepperoni']\n"
     ]
    }
   ],
   "execution_count": 30
  },
  {
   "cell_type": "markdown",
   "source": [
    "# 4-12. More Loops\n",
    "\n",
    "All versions of `foods.py` in this section have avoided using `for` loops when\n",
    "printing, to save space. Choose a version of `foods.py`, and write two `for`\n",
    "loops to print each list of foods."
   ],
   "metadata": {
    "collapsed": false
   },
   "id": "38d4aedb9a2eb755"
  },
  {
   "cell_type": "code",
   "source": [
    "my_foods = [\"pizza\", \"falafel\", \"carrot cake\"]\n",
    "friend_foods = my_foods[:]\n",
    "\n",
    "my_foods.append(\"cannoli\")\n",
    "friend_foods.append(\"ice cream\")\n",
    "\n",
    "for food in my_foods:\n",
    "    print(f\"My food: {food}\")\n",
    "    \n",
    "for food in friend_foods:\n",
    "    print(f\"Friend food: {food}\")"
   ],
   "metadata": {
    "collapsed": false,
    "ExecuteTime": {
     "end_time": "2024-06-24T16:27:14.856650Z",
     "start_time": "2024-06-24T16:27:14.852629Z"
    }
   },
   "id": "ccbd65eef20f3320",
   "outputs": [
    {
     "name": "stdout",
     "output_type": "stream",
     "text": [
      "My food: pizza\n",
      "My food: falafel\n",
      "My food: carrot cake\n",
      "My food: cannoli\n",
      "Friend food: pizza\n",
      "Friend food: falafel\n",
      "Friend food: carrot cake\n",
      "Friend food: ice cream\n"
     ]
    }
   ],
   "execution_count": 31
  },
  {
   "cell_type": "markdown",
   "source": [
    "## 4-13. Buffet\n",
    "\n",
    "A buffet-style restaurant offers only five basic foods. Think of five simple\n",
    "foods, and store them in a tuple.\n",
    "\n",
    "- Use a `for` loop to print each food the restaurant offers.\n",
    "- Try to modify one of the items, and make sure that Python rejects the change.\n",
    "- The restaurant changes its menu, replacing two of the items with different\n",
    "foods.  Add a line that rewrites the tuple, and then use a `for` loop to print\n",
    "each of the items on the revised menu"
   ],
   "metadata": {
    "collapsed": false
   },
   "id": "32a4a3c869346659"
  },
  {
   "cell_type": "code",
   "source": [
    "menu = (\"pizza\", \"burger\", \"falafel\", \"sushi\", \"curry\")\n",
    "\n",
    "for item in menu:\n",
    "    print(item)\n",
    "\n",
    "menu[1] = \"ice cream\"\n",
    "\n",
    "menu = (\"tacos\", \"fruit\", \"cabbage\")\n",
    "\n",
    "for item in menu:\n",
    "    print(item)"
   ],
   "metadata": {
    "collapsed": false,
    "ExecuteTime": {
     "end_time": "2024-06-24T15:25:30.692456Z",
     "start_time": "2024-06-24T15:25:30.690645Z"
    }
   },
   "id": "15930ba749bcb4f9",
   "outputs": [],
   "execution_count": 22
  }
 ],
 "metadata": {
  "kernelspec": {
   "display_name": "Python 3",
   "language": "python",
   "name": "python3"
  },
  "language_info": {
   "codemirror_mode": {
    "name": "ipython",
    "version": 2
   },
   "file_extension": ".py",
   "mimetype": "text/x-python",
   "name": "python",
   "nbconvert_exporter": "python",
   "pygments_lexer": "ipython2",
   "version": "2.7.6"
  }
 },
 "nbformat": 4,
 "nbformat_minor": 5
}
