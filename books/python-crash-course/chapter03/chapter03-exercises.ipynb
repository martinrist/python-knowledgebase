{
 "cells": [
  {
   "cell_type": "markdown",
   "source": [
    "# Chapter 3 - Introducing Lists"
   ],
   "metadata": {
    "collapsed": false
   },
   "id": "49a209f1b718ecac"
  },
  {
   "cell_type": "markdown",
   "source": [
    "## 3-1. Names\n",
    "\n",
    "Store the names of a few of your friends in a list called names.\n",
    "Print each person’s name by accessing each element in the list, one at a time."
   ],
   "metadata": {
    "collapsed": false
   },
   "id": "afaa50ee82870d8c"
  },
  {
   "cell_type": "code",
   "source": [
    "names = [\"Alice\", \"Bob\", \"Carol\", \"David\", \"Eve\", \"Frank\"]\n",
    "print(f\"names = {names}\")\n",
    "print(f\"names[0] = {names[0]}\")\n",
    "print(f\"names[1] = {names[1]}\")\n",
    "print(f\"names[-1] = {names[-1]}\")"
   ],
   "metadata": {
    "collapsed": false,
    "ExecuteTime": {
     "end_time": "2024-06-24T16:08:59.702355Z",
     "start_time": "2024-06-24T16:08:59.700303Z"
    }
   },
   "id": "e2024cb31608b33b",
   "outputs": [
    {
     "name": "stdout",
     "output_type": "stream",
     "text": [
      "names = ['Alice', 'Bob', 'Carol', 'David', 'Eve', 'Frank']\n",
      "names[0] = Alice\n",
      "names[1] = Bob\n",
      "names[-1] = Frank\n"
     ]
    }
   ],
   "execution_count": 10
  },
  {
   "cell_type": "markdown",
   "source": [
    "## 3-2. Greetings\n",
    "\n",
    "Start with the list you used in Exercise 3-1, but instead of just printing each\n",
    "person’s name, print a message to them. The text of each message should be the\n",
    "same, but each message should be personalized with the person’s name."
   ],
   "metadata": {
    "collapsed": false
   },
   "id": "9f596cd9f614364c"
  },
  {
   "cell_type": "code",
   "source": [
    "print(f\"Hello {names[0]}, how are you?\")\n",
    "print(f\"Hello {names[1]}, how are you?\")\n",
    "print(f\"Hello {names[-1]}, how are you?\")"
   ],
   "metadata": {
    "collapsed": false,
    "ExecuteTime": {
     "end_time": "2024-06-24T16:08:59.752638Z",
     "start_time": "2024-06-24T16:08:59.750840Z"
    }
   },
   "id": "857744aa86794437",
   "outputs": [
    {
     "name": "stdout",
     "output_type": "stream",
     "text": [
      "Hello Alice, how are you?\n",
      "Hello Bob, how are you?\n",
      "Hello Frank, how are you?\n"
     ]
    }
   ],
   "execution_count": 11
  },
  {
   "cell_type": "markdown",
   "source": [
    "## 3-3. Your Own List\n",
    "\n",
    "Think of your favorite mode of transportation, such as a motorcycle or a car,\n",
    "and make a list that stores several examples.\n",
    "\n",
    "Use your list to print a series of statements about these items,\n",
    "such as “I would like to own a Honda motorcycle.”\n"
   ],
   "metadata": {
    "collapsed": false
   },
   "id": "5fb11f8c9608db14"
  },
  {
   "cell_type": "code",
   "source": [
    "bikes = [\"Raleigh\", \"Vitus\", \"Brand-X\", \"Cervelo\"]\n",
    "print(f\"I would like to own a {bikes[-1]} bike\")"
   ],
   "metadata": {
    "collapsed": false,
    "ExecuteTime": {
     "end_time": "2024-06-24T16:08:59.763392Z",
     "start_time": "2024-06-24T16:08:59.761669Z"
    }
   },
   "id": "a0abb2089c237c76",
   "outputs": [
    {
     "name": "stdout",
     "output_type": "stream",
     "text": [
      "I would like to own a Cervelo bike\n"
     ]
    }
   ],
   "execution_count": 12
  },
  {
   "cell_type": "markdown",
   "source": [
    "## 3-4. Guest List\n",
    "\n",
    "If you could invite anyone, living or deceased, to dinner, who would you invite?\n",
    "Make a list that includes at least three people you’d like to invite to dinner.\n",
    "\n",
    "Then use your list to print a message to each person, inviting them to dinner."
   ],
   "metadata": {
    "collapsed": false
   },
   "id": "32622e240c289ef"
  },
  {
   "cell_type": "code",
   "source": [
    "guests = [\"Newton\", \"Einstein\", \"Penrose\", \"Hawking\"]\n",
    "for guest in guests:\n",
    "    print(f\"Hey {guest}. Would you like to come to dinner?\")"
   ],
   "metadata": {
    "collapsed": false,
    "ExecuteTime": {
     "end_time": "2024-06-24T16:08:59.765709Z",
     "start_time": "2024-06-24T16:08:59.764134Z"
    }
   },
   "id": "cb7d96c4af043409",
   "outputs": [
    {
     "name": "stdout",
     "output_type": "stream",
     "text": [
      "Hey Newton. Would you like to come to dinner?\n",
      "Hey Einstein. Would you like to come to dinner?\n",
      "Hey Penrose. Would you like to come to dinner?\n",
      "Hey Hawking. Would you like to come to dinner?\n"
     ]
    }
   ],
   "execution_count": 13
  },
  {
   "cell_type": "markdown",
   "source": [
    "## 3-5. Changing Guest List\n",
    "\n",
    "You just heard that one of your guests can’t make the dinner, so you need to\n",
    "send out a new set of invitations. You’ll have to think of someone else to\n",
    "invite.\n",
    "\n",
    "- Start with your program from Exercise 3-4. Add a `print()` call at the end of\n",
    "your program, stating the name of the guest who can’t make it.\n",
    "- Modify your list, replacing the name of the guest who can’t make it with the\n",
    "name of the new person you are inviting.\n",
    "- Print a second set of invitation messages, one for each person who is still in\n",
    "your list."
   ],
   "metadata": {
    "collapsed": false
   },
   "id": "bd7fa7e7d38a9279"
  },
  {
   "cell_type": "code",
   "source": [
    "no_show = \"Penrose\"\n",
    "replacement_guest = \"Kaku\"\n",
    "print(f\"{no_show} can't make your dinner - they have another appointment.  Inviting {replacement_guest} instead\")\n",
    "\n",
    "guests.remove(no_show)\n",
    "guests.append(replacement_guest)\n",
    "\n",
    "for guest in guests:\n",
    "    print(f\"Hey {guest}. Would you like to come to dinner?\")"
   ],
   "metadata": {
    "collapsed": false,
    "ExecuteTime": {
     "end_time": "2024-06-24T16:08:59.768335Z",
     "start_time": "2024-06-24T16:08:59.766510Z"
    }
   },
   "id": "5bf27142a523b06f",
   "outputs": [
    {
     "name": "stdout",
     "output_type": "stream",
     "text": [
      "Penrose can't make your dinner - they have another appointment.  Inviting Kaku instead\n",
      "Hey Newton. Would you like to come to dinner?\n",
      "Hey Einstein. Would you like to come to dinner?\n",
      "Hey Hawking. Would you like to come to dinner?\n",
      "Hey Kaku. Would you like to come to dinner?\n"
     ]
    }
   ],
   "execution_count": 14
  },
  {
   "cell_type": "markdown",
   "source": [
    "## 3-6. More Guests\n",
    "\n",
    "You just found a bigger dinner table, so now more space is available. Think of\n",
    "three more guests to invite to dinner.\n",
    "\n",
    "- Start with your program from Exercise 3-4 or 3-5. Add a `print()` call to the\n",
    "end of your program, informing people that you found a bigger table.\n",
    "- Use `insert()` to add one new guest to the beginning of your list.\n",
    "- Use `insert()` to add one new guest to the middle of your list.\n",
    "- Use `append()` to add one new guest to the end of your list.\n",
    "- Print a new set of invitation messages, one for each person in your list."
   ],
   "metadata": {
    "collapsed": false
   },
   "id": "5a902d3885e6cc72"
  },
  {
   "cell_type": "code",
   "source": [
    "print(\"Found a bigger table - inviting three more guests\")\n",
    "\n",
    "guests.insert(0, \"Best\")\n",
    "\n",
    "guests.insert(3, \"Thompson\")\n",
    "\n",
    "guests.append(\"Kipchoge\")\n",
    "\n",
    "for guest in guests:\n",
    "    print(f\"Hey {guest}. Would you like to come to dinner?\")"
   ],
   "metadata": {
    "collapsed": false,
    "ExecuteTime": {
     "end_time": "2024-06-24T16:10:24.249788Z",
     "start_time": "2024-06-24T16:10:24.247581Z"
    }
   },
   "id": "161ce3eb118e853d",
   "outputs": [
    {
     "name": "stdout",
     "output_type": "stream",
     "text": [
      "Found a bigger table - inviting three more guests\n",
      "Hey Best. Would you like to come to dinner?\n",
      "Hey Newton. Would you like to come to dinner?\n",
      "Hey Einstein. Would you like to come to dinner?\n",
      "Hey Thompson. Would you like to come to dinner?\n",
      "Hey Penrose. Would you like to come to dinner?\n",
      "Hey Hawking. Would you like to come to dinner?\n",
      "Hey Kipchoge. Would you like to come to dinner?\n"
     ]
    }
   ],
   "execution_count": 35
  },
  {
   "cell_type": "markdown",
   "source": [
    "## 3-7. Shrinking Guest List\n",
    "\n",
    "You just found out that your new dinner table won’t arrive in time for the\n",
    "dinner, and now you have space for only two guests.\n",
    "\n",
    "- Start with your program from Exercise 3-6. Add a new line that prints a\n",
    "message saying that you can invite only two people for dinner.\n",
    "- Use `pop()` to remove guests from your list one at a time until only two\n",
    "names remain in your list. Each time you pop a name from your list, print a\n",
    "message to that person letting them know you’re sorry you can’t invite them to\n",
    "dinner.\n",
    "- Print a message to each of the two people still on your list, letting them\n",
    "know they’re still invited.\n",
    "- Use `del` to remove the last two names from your list, so you have an empty\n",
    "list.\n",
    "- Print your list to make sure you actually have an empty list at the end of\n",
    "your program."
   ],
   "metadata": {
    "collapsed": false
   },
   "id": "b7ba3f51e1e64007"
  },
  {
   "cell_type": "code",
   "source": [
    "print(\"Sorry, I've just found out I can only invite two guests for dinner\")\n",
    "\n",
    "while len(guests) > 2:\n",
    "    removed_guest = guests.pop(0)\n",
    "    print(f\"Sorry, {removed_guest}, I can't invite you any more\")\n",
    "\n",
    "for guest in guests:\n",
    "    print(f\"Hey {guest}. You're still on the invitation list!\")\n",
    "\n",
    "del(guests[0])\n",
    "del(guests[0])\n",
    "\n",
    "print(guests)"
   ],
   "metadata": {
    "collapsed": false,
    "ExecuteTime": {
     "end_time": "2024-06-24T16:12:39.496696Z",
     "start_time": "2024-06-24T16:12:39.493925Z"
    }
   },
   "id": "976f2a17d850ce1e",
   "outputs": [
    {
     "name": "stdout",
     "output_type": "stream",
     "text": [
      "Sorry, I've just found out I can only invite two guests for dinner\n",
      "Sorry, Best, I can't invite you any more\n",
      "Sorry, Newton, I can't invite you any more\n",
      "Sorry, Einstein, I can't invite you any more\n",
      "Sorry, Thompson, I can't invite you any more\n",
      "Sorry, Penrose, I can't invite you any more\n",
      "Hey Hawking. You're still on the invitation list!\n",
      "Hey Kipchoge. You're still on the invitation list!\n",
      "[]\n"
     ]
    }
   ],
   "execution_count": 36
  },
  {
   "cell_type": "markdown",
   "source": [
    "## 3-8. Seeing the World\n",
    "\n",
    "Think of at least five places in the world you’d like to visit.\n",
    "\n",
    "- Store the locations in a list. Make sure the list is not in alphabetical\n",
    "order.\n",
    "- Print your list in its original order. Don’t worry about printing the list\n",
    "neatly, just print it as a raw Python list.\n",
    "- Use `sorted()` to print your list in alphabetical order without modifying the\n",
    "actual list.\n",
    "- Show that your list is still in its original order by printing it.\n",
    "- Use `sorted()` to print your list in reverse-alphabetical order without\n",
    "changing the order of the original list.\n",
    "- Show that your list is still in its original order by printing it again.\n",
    "- Use `reverse()` to change the order of your list.\n",
    "- Print the list to show that its order has changed.\n",
    "- Use `reverse()` to change the order of your list again.\n",
    "- Print the list to show it’s back to its original order.\n",
    "- Use `sort()` to change your list so it’s stored in alphabetical order.\n",
    "- Print the list to show that its order has been changed.\n",
    "- Use `sort()` to change your list so it’s stored in reverse-alphabetical order.\n",
    "- Print the list to show that its order has changed."
   ],
   "metadata": {
    "collapsed": false
   },
   "id": "81babe02ef5885b7"
  },
  {
   "cell_type": "code",
   "source": [
    "locations = [\"Japan\", \"China\", \"Brazil\", \"Chile\", \"Egypt\", \"Poland\"]\n",
    "\n",
    "print(locations)\n",
    "print(\"---\")\n",
    "\n",
    "print(sorted(locations))\n",
    "print(locations)\n",
    "print(\"---\")\n",
    "\n",
    "print(sorted(locations, reverse=True))\n",
    "print(locations)\n",
    "print(\"---\")\n",
    "\n",
    "locations.reverse()\n",
    "print(locations)\n",
    "print(\"---\")\n",
    "\n",
    "locations.reverse()\n",
    "print(locations)\n",
    "print(\"---\")\n",
    "\n",
    "locations.sort()\n",
    "print(locations)\n",
    "print(\"---\")\n",
    "\n",
    "locations.sort(reverse=True)\n",
    "print(locations)\n",
    "print(\"---\")"
   ],
   "metadata": {
    "collapsed": false,
    "ExecuteTime": {
     "end_time": "2024-06-24T16:18:45.270948Z",
     "start_time": "2024-06-24T16:18:45.265463Z"
    }
   },
   "id": "b23a7abb90766503",
   "outputs": [
    {
     "name": "stdout",
     "output_type": "stream",
     "text": [
      "['Japan', 'China', 'Brazil', 'Chile', 'Egypt', 'Poland']\n",
      "---\n",
      "['Brazil', 'Chile', 'China', 'Egypt', 'Japan', 'Poland']\n",
      "['Japan', 'China', 'Brazil', 'Chile', 'Egypt', 'Poland']\n",
      "---\n",
      "['Poland', 'Japan', 'Egypt', 'China', 'Chile', 'Brazil']\n",
      "['Japan', 'China', 'Brazil', 'Chile', 'Egypt', 'Poland']\n",
      "---\n",
      "['Poland', 'Egypt', 'Chile', 'Brazil', 'China', 'Japan']\n",
      "---\n",
      "['Japan', 'China', 'Brazil', 'Chile', 'Egypt', 'Poland']\n",
      "---\n",
      "['Brazil', 'Chile', 'China', 'Egypt', 'Japan', 'Poland']\n",
      "---\n",
      "['Poland', 'Japan', 'Egypt', 'China', 'Chile', 'Brazil']\n",
      "---\n"
     ]
    }
   ],
   "execution_count": 45
  },
  {
   "cell_type": "markdown",
   "source": [
    "## 3-9. Dinner Guests\n",
    "\n",
    "Working with one of the programs from Exercises 3-4 through 3-7, use `len()`\n",
    "to print a message indicating the number of people you’re inviting to dinner."
   ],
   "metadata": {
    "collapsed": false
   },
   "id": "f64918d3093fed6d"
  },
  {
   "cell_type": "code",
   "source": [
    "guests = [\"Newton\", \"Einstein\", \"Penrose\", \"Hawking\"]\n",
    "print(f\"I'm now inviting {len(guests)} guests to dinner\")"
   ],
   "metadata": {
    "collapsed": false,
    "ExecuteTime": {
     "end_time": "2024-06-24T16:19:05.145637Z",
     "start_time": "2024-06-24T16:19:05.142580Z"
    }
   },
   "id": "ebf700605c48daba",
   "outputs": [
    {
     "name": "stdout",
     "output_type": "stream",
     "text": [
      "I'm now inviting 4 guests to dinner\n"
     ]
    }
   ],
   "execution_count": 46
  },
  {
   "metadata": {},
   "cell_type": "code",
   "outputs": [],
   "execution_count": null,
   "source": "",
   "id": "422ca4a8ea74d68"
  }
 ],
 "metadata": {
  "kernelspec": {
   "display_name": "Python 3",
   "language": "python",
   "name": "python3"
  },
  "language_info": {
   "codemirror_mode": {
    "name": "ipython",
    "version": 2
   },
   "file_extension": ".py",
   "mimetype": "text/x-python",
   "name": "python",
   "nbconvert_exporter": "python",
   "pygments_lexer": "ipython2",
   "version": "2.7.6"
  }
 },
 "nbformat": 4,
 "nbformat_minor": 5
}
