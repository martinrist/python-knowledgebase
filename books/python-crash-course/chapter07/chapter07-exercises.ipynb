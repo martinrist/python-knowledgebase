{
 "cells": [
  {
   "metadata": {},
   "cell_type": "markdown",
   "source": "# Chapter 7 - User Input & While Loops",
   "id": "dbd0698ce372d507"
  },
  {
   "metadata": {},
   "cell_type": "markdown",
   "source": [
    "# 7-1. Rental Car:\n",
    "\n",
    "Write a program that asks the user what kind of rental car they would like.\n",
    "Print a message about that car, such as “Let me see if I can find you a Subaru.”"
   ],
   "id": "27b63c17c1116c28"
  },
  {
   "metadata": {
    "ExecuteTime": {
     "end_time": "2024-07-24T15:42:20.612443Z",
     "start_time": "2024-07-24T15:42:18.727970Z"
    }
   },
   "cell_type": "code",
   "source": [
    "print(\"What kind of rental car would you like?\")\n",
    "rental_car = input(\"Enter the name of a rental car: \")\n",
    "\n",
    "print(f\"Let me see if I can find you a {rental_car}\")"
   ],
   "id": "36e9a4e83f7a5afa",
   "outputs": [
    {
     "name": "stdout",
     "output_type": "stream",
     "text": [
      "What kind of rental car would you like?\n",
      "Let me see if I can find you a subaru\n"
     ]
    }
   ],
   "execution_count": 3
  },
  {
   "metadata": {},
   "cell_type": "markdown",
   "source": [
    "# 7-2. Restaurant Seating:\n",
    "\n",
    "Write a program that asks the user how many people are in their dinner group.\n",
    "If the answer is more than eight, print a message saying they’ll have to wait\n",
    "for a table. Otherwise, report that their table is ready."
   ],
   "id": "f302ac204b41dcd"
  },
  {
   "metadata": {
    "ExecuteTime": {
     "end_time": "2024-07-24T15:45:06.324528Z",
     "start_time": "2024-07-24T15:45:04.987596Z"
    }
   },
   "cell_type": "code",
   "source": [
    "number_of_guests = int(input(\"How many people are in your dinner group?\"))\n",
    "if number_of_guests > 8:\n",
    "    print(\"I'm afraid you'll need to wait for a table\")\n",
    "else:\n",
    "    print(\"Your table is ready\")"
   ],
   "id": "26dbdb5e27d8b7e5",
   "outputs": [
    {
     "name": "stdout",
     "output_type": "stream",
     "text": [
      "Your table is ready\n"
     ]
    }
   ],
   "execution_count": 9
  },
  {
   "metadata": {},
   "cell_type": "markdown",
   "source": [
    "# 7-3. Multiples of Ten:\n",
    "\n",
    "Ask the user for a number, and then report whether the number is a multiple of\n",
    "10 or not"
   ],
   "id": "ff475c3bb3f2f131"
  },
  {
   "metadata": {
    "ExecuteTime": {
     "end_time": "2024-07-24T15:47:05.511314Z",
     "start_time": "2024-07-24T15:47:04.525605Z"
    }
   },
   "cell_type": "code",
   "source": [
    "number = int(input(\"Please enter a number:\"))\n",
    "print(f\"{number} is{\"\" if number % 10 == 0 else \" not\"} a multiple of 10\")"
   ],
   "id": "37a3428c016df9c0",
   "outputs": [
    {
     "name": "stdout",
     "output_type": "stream",
     "text": [
      "1 is not a multiple of 10\n"
     ]
    }
   ],
   "execution_count": 13
  },
  {
   "metadata": {},
   "cell_type": "markdown",
   "source": [
    "# 7-4. Pizza Toppings:\n",
    "\n",
    "Write a loop that prompts the user to enter a series of pizza toppings until\n",
    "they enter a 'quit' value. As they enter each topping, print a message saying\n",
    "you’ll add that topping to their pizza."
   ],
   "id": "934361abfefa3d7c"
  },
  {
   "metadata": {
    "ExecuteTime": {
     "end_time": "2024-07-24T15:59:51.609291Z",
     "start_time": "2024-07-24T15:59:45.422934Z"
    }
   },
   "cell_type": "code",
   "source": [
    "while True:\n",
    "    topping = input(\"Enter a topping:\")\n",
    "    if topping == \"quit\":\n",
    "        break\n",
    "    else:\n",
    "        print(f\"Adding {topping} to your pizza\")\n"
   ],
   "id": "2b6df6c64988a6be",
   "outputs": [
    {
     "name": "stdout",
     "output_type": "stream",
     "text": [
      "Adding cheese to your pizza\n",
      "Adding tomato to your pizza\n"
     ]
    }
   ],
   "execution_count": 15
  },
  {
   "metadata": {},
   "cell_type": "markdown",
   "source": [
    "# 7-5. Movie Tickets:\n",
    "\n",
    "A movie theater charges different ticket prices depending on a person’s age.\n",
    "If a person is under the age of 3, the ticket is free; if they are between 3\n",
    "and 12, the ticket is £10; and if they are over age 12, the ticket is £15.\n",
    "\n",
    "Write a loop in which you ask users their age, and then tell them the cost of\n",
    "their movie ticket"
   ],
   "id": "c8982a878a6fe1ae"
  },
  {
   "metadata": {
    "ExecuteTime": {
     "end_time": "2024-07-24T16:02:50.551539Z",
     "start_time": "2024-07-24T16:02:49.951277Z"
    }
   },
   "cell_type": "code",
   "source": [
    "age = int(input(\"How old are you?\"))\n",
    "\n",
    "cost = 0 if age < 3 else 10 if 3 <= age <= 12 else 15\n",
    "print(f\"Your ticket costs £{cost}\")"
   ],
   "id": "1ce2a2526ae8592a",
   "outputs": [
    {
     "ename": "ValueError",
     "evalue": "invalid literal for int() with base 10: ''",
     "output_type": "error",
     "traceback": [
      "\u001B[0;31m---------------------------------------------------------------------------\u001B[0m",
      "\u001B[0;31mValueError\u001B[0m                                Traceback (most recent call last)",
      "Cell \u001B[0;32mIn[20], line 1\u001B[0m\n\u001B[0;32m----> 1\u001B[0m age \u001B[38;5;241m=\u001B[39m \u001B[38;5;28;43mint\u001B[39;49m\u001B[43m(\u001B[49m\u001B[38;5;28;43minput\u001B[39;49m\u001B[43m(\u001B[49m\u001B[38;5;124;43m\"\u001B[39;49m\u001B[38;5;124;43mHow old are you?\u001B[39;49m\u001B[38;5;124;43m\"\u001B[39;49m\u001B[43m)\u001B[49m\u001B[43m)\u001B[49m\n\u001B[1;32m      3\u001B[0m cost \u001B[38;5;241m=\u001B[39m \u001B[38;5;241m0\u001B[39m \u001B[38;5;28;01mif\u001B[39;00m age \u001B[38;5;241m<\u001B[39m \u001B[38;5;241m3\u001B[39m \u001B[38;5;28;01melse\u001B[39;00m \u001B[38;5;241m10\u001B[39m \u001B[38;5;28;01mif\u001B[39;00m \u001B[38;5;241m3\u001B[39m \u001B[38;5;241m<\u001B[39m\u001B[38;5;241m=\u001B[39m age \u001B[38;5;241m<\u001B[39m\u001B[38;5;241m=\u001B[39m \u001B[38;5;241m12\u001B[39m \u001B[38;5;28;01melse\u001B[39;00m \u001B[38;5;241m15\u001B[39m\n\u001B[1;32m      4\u001B[0m \u001B[38;5;28mprint\u001B[39m(\u001B[38;5;124mf\u001B[39m\u001B[38;5;124m\"\u001B[39m\u001B[38;5;124mYour ticket costs £\u001B[39m\u001B[38;5;132;01m{\u001B[39;00mcost\u001B[38;5;132;01m}\u001B[39;00m\u001B[38;5;124m\"\u001B[39m)\n",
      "\u001B[0;31mValueError\u001B[0m: invalid literal for int() with base 10: ''"
     ]
    }
   ],
   "execution_count": 20
  },
  {
   "metadata": {},
   "cell_type": "markdown",
   "source": [
    "# 7-8. Deli:\n",
    "\n",
    "Make a list called `sandwich_orders` and fill it with the names of various\n",
    "sandwiches. Then make an empty list called `finished_sandwiches`. Loop through\n",
    "the list of sandwich orders and print a message for each order, such as\n",
    "_I made your tuna sandwich_. As each sandwich is made, move it to the list of\n",
    "finished sandwiches. After all the sandwiches have been made, print a message\n",
    "listing each sandwich that was made."
   ],
   "id": "8b9c16fd454f47b3"
  },
  {
   "metadata": {
    "ExecuteTime": {
     "end_time": "2024-07-24T16:07:09.952143Z",
     "start_time": "2024-07-24T16:07:09.948219Z"
    }
   },
   "cell_type": "code",
   "source": [
    "sandwich_orders = [\n",
    "    \"BLT\",\n",
    "    \"Coronation Chicken\",\n",
    "    \"Falafel and Hummous\",\n",
    "    \"Cheese and Pickle\"\n",
    "]\n",
    "\n",
    "finished_sandwiches = []\n",
    "\n",
    "while sandwich_orders:\n",
    "    order = sandwich_orders.pop()\n",
    "    print(f\"I made your {order} sandwich\")\n",
    "    finished_sandwiches.append(order)\n",
    "\n",
    "print(f\"Completed sandwiches: {finished_sandwiches}\")"
   ],
   "id": "2f4440183d07c640",
   "outputs": [
    {
     "name": "stdout",
     "output_type": "stream",
     "text": [
      "I made your Cheese and Pickle sandwich\n",
      "I made your Falafel and Hummous sandwich\n",
      "I made your Coronation Chicken sandwich\n",
      "I made your BLT sandwich\n",
      "Completed sandwiches: ['Cheese and Pickle', 'Falafel and Hummous', 'Coronation Chicken', 'BLT']\n"
     ]
    }
   ],
   "execution_count": 21
  },
  {
   "metadata": {},
   "cell_type": "markdown",
   "source": [
    "# 7-9. No Pastrami:\n",
    "\n",
    "Using the list `sandwich_orders` from Exercise 7-8, make sure the sandwich\n",
    "'pastrami' appears in the list at least three times. Add code near the beginning\n",
    "of your program to print a message saying the deli has run out of pastrami, and\n",
    "then use a while loop to remove all occurrences of 'pastrami' from\n",
    "`sandwich_orders`. Make sure no pastrami sandwiches end up in\n",
    "`finished_sandwiches`."
   ],
   "id": "b549de4dbec3ae1c"
  },
  {
   "metadata": {
    "ExecuteTime": {
     "end_time": "2024-07-24T16:09:27.713247Z",
     "start_time": "2024-07-24T16:09:27.710540Z"
    }
   },
   "cell_type": "code",
   "source": [
    "sandwich_orders = [\n",
    "    \"BLT\",\n",
    "    \"Coronation Chicken\",\n",
    "    \"Pastrami\",\n",
    "    \"Falafel and Hummous\",\n",
    "    \"Pastrami\",\n",
    "    \"Cheese and Pickle\",\n",
    "    \"Pastrami\",\n",
    "]\n",
    "\n",
    "finished_sandwiches = []\n",
    "\n",
    "print(\"The deli has run out of pastrami\")\n",
    "\n",
    "while sandwich_orders:\n",
    "    order = sandwich_orders.pop()\n",
    "    if order == \"Pastrami\":\n",
    "        continue\n",
    "    print(f\"I made your {order} sandwich\")\n",
    "    finished_sandwiches.append(order)\n",
    "\n",
    "print(f\"Completed sandwiches: {finished_sandwiches}\")\n"
   ],
   "id": "1c5eea4bd53cd712",
   "outputs": [
    {
     "name": "stdout",
     "output_type": "stream",
     "text": [
      "The deli has run out of pastrami\n",
      "I made your Cheese and Pickle sandwich\n",
      "I made your Falafel and Hummous sandwich\n",
      "I made your Coronation Chicken sandwich\n",
      "I made your BLT sandwich\n",
      "Completed sandwiches: ['Cheese and Pickle', 'Falafel and Hummous', 'Coronation Chicken', 'BLT']\n"
     ]
    }
   ],
   "execution_count": 24
  }
 ],
 "metadata": {
  "kernelspec": {
   "display_name": "Python 3",
   "language": "python",
   "name": "python3"
  },
  "language_info": {
   "codemirror_mode": {
    "name": "ipython",
    "version": 2
   },
   "file_extension": ".py",
   "mimetype": "text/x-python",
   "name": "python",
   "nbconvert_exporter": "python",
   "pygments_lexer": "ipython2",
   "version": "2.7.6"
  }
 },
 "nbformat": 4,
 "nbformat_minor": 5
}
