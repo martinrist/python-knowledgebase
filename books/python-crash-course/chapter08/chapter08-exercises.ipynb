{
 "cells": [
  {
   "metadata": {},
   "cell_type": "markdown",
   "source": "# Chapter 8 - Functions",
   "id": "51be9903388fbf52"
  },
  {
   "metadata": {},
   "cell_type": "markdown",
   "source": [
    "# 8-1. Message:\n",
    "\n",
    "Write a function called `display_message()` that prints one sentence telling\n",
    "everyone what you are learning about in this chapter. Call the function, and\n",
    "make sure the message displays correctly."
   ],
   "id": "f3fb98f7af1c79c6"
  },
  {
   "metadata": {
    "ExecuteTime": {
     "end_time": "2024-07-24T16:16:07.935402Z",
     "start_time": "2024-07-24T16:16:07.932847Z"
    }
   },
   "cell_type": "code",
   "source": [
    "def display_message():\n",
    "    print(\"I'm learning about functions\")\n",
    "\n",
    "display_message()"
   ],
   "id": "ea4819b806085a98",
   "outputs": [
    {
     "name": "stdout",
     "output_type": "stream",
     "text": [
      "I'm learning about functions\n"
     ]
    }
   ],
   "execution_count": 1
  },
  {
   "metadata": {},
   "cell_type": "markdown",
   "source": [
    "# 8-2. Favorite Book:\n",
    "\n",
    "Write a function called `favourite_book()` that accepts one parameter, `title`.\n",
    "The function should print a message, such as _One of my favorite books is\n",
    "Alice in Wonderland_.\n",
    "\n",
    "Call the function, making sure to include a book title as an argument in the\n",
    "function call."
   ],
   "id": "95e5a8defecc0fe9"
  },
  {
   "metadata": {
    "ExecuteTime": {
     "end_time": "2024-07-24T16:17:11.051737Z",
     "start_time": "2024-07-24T16:17:11.048289Z"
    }
   },
   "cell_type": "code",
   "source": [
    "def favourite_book(title):\n",
    "    print(f\"One of my favourite books is {title}\")\n",
    "\n",
    "favourite_book(\"Neuromancer\")"
   ],
   "id": "2d2c7648da2f85dd",
   "outputs": [
    {
     "name": "stdout",
     "output_type": "stream",
     "text": [
      "One of my favourite books is Neuromancer\n"
     ]
    }
   ],
   "execution_count": 2
  },
  {
   "metadata": {},
   "cell_type": "markdown",
   "source": [
    "# 8-3. T-Shirt:\n",
    "\n",
    "Write a function called `make_shirt()` that accepts a size and the text of a\n",
    "message that should be printed on the shirt. The function should print a\n",
    "sentence summarizing the size of the shirt and the message printed on it.\n",
    "\n",
    "Call the function once using positional arguments to make a shirt. Call the\n",
    "function a second time using keyword arguments."
   ],
   "id": "92115e9aee8d71ab"
  },
  {
   "metadata": {
    "ExecuteTime": {
     "end_time": "2024-07-24T16:28:12.108171Z",
     "start_time": "2024-07-24T16:28:12.104906Z"
    }
   },
   "cell_type": "code",
   "source": [
    "def make_shirt(size, text):\n",
    "    print(f\"Printing a {size} shirt, containing message: '{text}'\")\n",
    "\n",
    "make_shirt(\"small\", \"Hi there!\")\n",
    "\n",
    "make_shirt(size=\"medium\", text=\"I love Python!\")"
   ],
   "id": "521c4f82ed109b13",
   "outputs": [
    {
     "name": "stdout",
     "output_type": "stream",
     "text": [
      "Printing a small shirt, containing message: 'Hi there!'\n",
      "Printing a medium shirt, containing message: 'I love Python!'\n"
     ]
    }
   ],
   "execution_count": 7
  },
  {
   "metadata": {},
   "cell_type": "markdown",
   "source": [
    "# 8-4. Large Shirts:\n",
    "\n",
    "Modify the `make_shirt()` function so that shirts are large by default with a\n",
    "message that reads _I love Python_. Make a large shirt and a medium shirt\n",
    "with the default message, and a shirt of any size with a different message."
   ],
   "id": "d57d2c40c086ab22"
  },
  {
   "metadata": {
    "ExecuteTime": {
     "end_time": "2024-07-24T16:30:09.239689Z",
     "start_time": "2024-07-24T16:30:09.236648Z"
    }
   },
   "cell_type": "code",
   "source": [
    "def make_shirt(size=\"large\", text=\"I love Python\"):\n",
    "    print(f\"Printing a {size} shirt, containing message: '{text}'\")\n",
    "\n",
    "# Default both size and text\n",
    "make_shirt()\n",
    "\n",
    "# Default size\n",
    "make_shirt(\"medium\")\n",
    "\n",
    "make_shirt(\"small\", \"I love Haskell!\")"
   ],
   "id": "4ef176c23339666c",
   "outputs": [
    {
     "name": "stdout",
     "output_type": "stream",
     "text": [
      "Printing a large shirt, containing message: 'I love Python'\n",
      "Printing a medium shirt, containing message: 'I love Python'\n",
      "Printing a small shirt, containing message: 'I love Haskell!'\n"
     ]
    }
   ],
   "execution_count": 10
  },
  {
   "metadata": {},
   "cell_type": "markdown",
   "source": [
    "# 8-5. Cities:\n",
    "\n",
    "Write a function called `describe_city()` that accepts the name of a city and\n",
    "its country. The function should print a simple sentence, such as\n",
    "_Reykjavik is in Iceland_. Give the parameter for the country a default value.\n",
    "\n",
    "Call your function for three different cities, at least one of which is not in\n",
    "the default country."
   ],
   "id": "aff8152edb4fbb25"
  },
  {
   "metadata": {
    "ExecuteTime": {
     "end_time": "2024-07-24T16:32:13.627697Z",
     "start_time": "2024-07-24T16:32:13.623899Z"
    }
   },
   "cell_type": "code",
   "source": [
    "def describe_city(name, country=\"UK\"):\n",
    "    print(f\"{name} is in {country}\")\n",
    "\n",
    "describe_city(\"London\")\n",
    "describe_city(\"Exeter\")\n",
    "describe_city(\"Paris\", \"France\")"
   ],
   "id": "c7ed3402d321a167",
   "outputs": [
    {
     "name": "stdout",
     "output_type": "stream",
     "text": [
      "London is in UK\n",
      "Exeter is in UK\n",
      "Paris is in France\n"
     ]
    }
   ],
   "execution_count": 13
  },
  {
   "metadata": {},
   "cell_type": "markdown",
   "source": [
    "# 8-6. City Names:\n",
    "\n",
    "Write a function called `city_country()` that takes in the name of a city and\n",
    "its country. The function should return a string formatted like this:\n",
    "_\"Santiago, Chile\"_\n",
    "\n",
    "Call your function with at least three city-country pairs, and print the values\n",
    "that are returned."
   ],
   "id": "ce1951cb7ed6a76d"
  },
  {
   "metadata": {
    "ExecuteTime": {
     "end_time": "2024-07-24T16:36:26.568301Z",
     "start_time": "2024-07-24T16:36:26.564747Z"
    }
   },
   "cell_type": "code",
   "source": [
    "def city_country(city, country):\n",
    "    return f\"{city}, {country}\"\n",
    "\n",
    "print(city_country(\"Paris\", \"France\"))\n",
    "print(city_country(\"London\", \"UK\"))\n",
    "print(city_country(\"New York\", \"US\"))\n"
   ],
   "id": "c2c29b0a48768e77",
   "outputs": [
    {
     "name": "stdout",
     "output_type": "stream",
     "text": [
      "Paris, France\n",
      "London, UK\n",
      "New York, US\n"
     ]
    }
   ],
   "execution_count": 14
  },
  {
   "metadata": {},
   "cell_type": "markdown",
   "source": [
    "# 8-7. Album:\n",
    "\n",
    "Write a function called `make_album()` that builds a dictionary describing a\n",
    "music album. The function should take in an artist name and an album title,\n",
    "and it should return a dictionary containing these two pieces of information.\n",
    "\n",
    "Use the function to make three dictionaries representing different albums.\n",
    "Print each return value to show that the dictionaries are storing the album\\\n",
    "information correctly.\n",
    "\n",
    "Use None to add an optional parameter to `make_album()` that allows you to\n",
    "store the number of songs on an album. If the calling line includes a value\n",
    "for the number of songs, add that value to the album’s dictionary. Make at\n",
    "least one new function call that includes the number of songs on an album."
   ],
   "id": "4fe71f188982e7af"
  },
  {
   "metadata": {
    "ExecuteTime": {
     "end_time": "2024-07-24T16:38:33.263726Z",
     "start_time": "2024-07-24T16:38:33.259427Z"
    }
   },
   "cell_type": "code",
   "source": [
    "def make_album(title, artist, num_songs=None):\n",
    "    album = {\n",
    "        \"title\": title,\n",
    "        \"artist\": artist,\n",
    "    }\n",
    "    if num_songs is not None:\n",
    "        album[\"num_songs\"] = num_songs\n",
    "    return album\n",
    "\n",
    "print(make_album(\"Album 1\", \"Artist 1\"))\n",
    "print(make_album(\"Album 2\", \"Artist 2\", num_songs=3))"
   ],
   "id": "d14cb295ab13fac6",
   "outputs": [
    {
     "name": "stdout",
     "output_type": "stream",
     "text": [
      "{'title': 'Album 1', 'artist': 'Artist 1'}\n",
      "{'title': 'Album 2', 'artist': 'Artist 2', 'num_songs': 3}\n"
     ]
    }
   ],
   "execution_count": 16
  },
  {
   "metadata": {},
   "cell_type": "markdown",
   "source": [
    "# 8-9. Messages:\n",
    "\n",
    "Make a list containing a series of short text messages.\n",
    "Pass the list to a function called `show_messages()`, which prints each text\n",
    "message."
   ],
   "id": "144df3cbe122390e"
  },
  {
   "metadata": {
    "ExecuteTime": {
     "end_time": "2024-07-24T16:41:45.985527Z",
     "start_time": "2024-07-24T16:41:45.981514Z"
    }
   },
   "cell_type": "code",
   "source": [
    "text_messages = [\n",
    "    \"This is message 1\",\n",
    "    \"This is message 2\",\n",
    "    \"This is message 3\",\n",
    "    \"This is message 4\",\n",
    "]\n",
    "\n",
    "def show_messages(messages):\n",
    "    for message in messages:\n",
    "        print(message)\n",
    "\n",
    "show_messages(text_messages)"
   ],
   "id": "ed8a068e27bfe3ad",
   "outputs": [
    {
     "name": "stdout",
     "output_type": "stream",
     "text": [
      "This is message 1\n",
      "This is message 2\n",
      "This is message 3\n",
      "This is message 4\n"
     ]
    }
   ],
   "execution_count": 21
  },
  {
   "metadata": {},
   "cell_type": "markdown",
   "source": [
    "# 8-10. Sending Messages:\n",
    "\n",
    "Start with a copy of your program from Exercise 8-9. Write a function called\n",
    "`send_messages()` that prints each text message and moves each message to a\n",
    "new list called `sent_messages` as it’s printed. After calling the function,\n",
    "print both of your lists to make sure the messages were moved correctly."
   ],
   "id": "37e697fcfb2c2591"
  },
  {
   "metadata": {
    "ExecuteTime": {
     "end_time": "2024-07-24T16:44:21.929102Z",
     "start_time": "2024-07-24T16:44:21.925190Z"
    }
   },
   "cell_type": "code",
   "source": [
    "text_messages = [\n",
    "    \"This is message 1\",\n",
    "    \"This is message 2\",\n",
    "    \"This is message 3\",\n",
    "    \"This is message 4\",\n",
    "]\n",
    "\n",
    "sent_messages = []\n",
    "\n",
    "def send_messages(messages):\n",
    "    while text_messages:\n",
    "        message = text_messages.pop()\n",
    "        print(message)\n",
    "        sent_messages.append(message)\n",
    "\n",
    "send_messages(text_messages)\n",
    "print(text_messages)\n",
    "print(sent_messages)"
   ],
   "id": "4323483f05fe231b",
   "outputs": [
    {
     "name": "stdout",
     "output_type": "stream",
     "text": [
      "This is message 4\n",
      "This is message 3\n",
      "This is message 2\n",
      "This is message 1\n",
      "[]\n",
      "['This is message 4', 'This is message 3', 'This is message 2', 'This is message 1']\n"
     ]
    }
   ],
   "execution_count": 25
  },
  {
   "metadata": {},
   "cell_type": "markdown",
   "source": [
    "# 8-11. Archived Messages:\n",
    "\n",
    "Start with your work from Exercise 8-10. Call the function `send_messages()`\n",
    "with a copy of the list of messages. After calling the function, print both of\n",
    "your lists to show that the original list has retained its messages."
   ],
   "id": "8ce8cfb7609e5b33"
  },
  {
   "metadata": {
    "ExecuteTime": {
     "end_time": "2024-07-24T16:44:38.426017Z",
     "start_time": "2024-07-24T16:44:38.422062Z"
    }
   },
   "cell_type": "code",
   "source": [
    "text_messages = [\n",
    "    \"This is message 1\",\n",
    "    \"This is message 2\",\n",
    "    \"This is message 3\",\n",
    "    \"This is message 4\",\n",
    "]\n",
    "\n",
    "send_messages(text_messages[:])\n",
    "print(text_messages)\n",
    "print(sent_messages)"
   ],
   "id": "b3174f404a69ed47",
   "outputs": [
    {
     "name": "stdout",
     "output_type": "stream",
     "text": [
      "This is message 4\n",
      "This is message 3\n",
      "This is message 2\n",
      "This is message 1\n",
      "[]\n",
      "['This is message 4', 'This is message 3', 'This is message 2', 'This is message 1', 'This is message 4', 'This is message 3', 'This is message 2', 'This is message 1', 'This is message 4', 'This is message 3', 'This is message 2', 'This is message 1', 'This is message 4', 'This is message 3', 'This is message 2', 'This is message 1']\n"
     ]
    }
   ],
   "execution_count": 28
  },
  {
   "metadata": {},
   "cell_type": "markdown",
   "source": [
    "# 8-12. Sandwiches:\n",
    "\n",
    "Write a function that accepts a list of items a person wants on a sandwich.\n",
    "The function should have one parameter that collects as many items as the\n",
    "function call provides, and it should print a summary of the sandwich that’s\n",
    "being ordered.\n",
    "\n",
    "Call the function three times, using a different number of arguments each time."
   ],
   "id": "574722bf6dd13030"
  },
  {
   "metadata": {
    "ExecuteTime": {
     "end_time": "2024-07-24T16:53:01.449996Z",
     "start_time": "2024-07-24T16:53:01.446134Z"
    }
   },
   "cell_type": "code",
   "source": [
    "def make_sandwich(*items):\n",
    "    print(f\"Making a {\", \".join(items)} sandwich\")\n",
    "\n",
    "make_sandwich(\"cheese\", \"ham\", \"tomato\")\n",
    "make_sandwich(\"pickle\")"
   ],
   "id": "c5a9690f6a8ef0b",
   "outputs": [
    {
     "name": "stdout",
     "output_type": "stream",
     "text": [
      "Making a cheese, ham, tomato sandwich\n",
      "Making a pickle sandwich\n",
      "Making a  sandwich\n"
     ]
    }
   ],
   "execution_count": 30
  },
  {
   "metadata": {},
   "cell_type": "markdown",
   "source": [
    "# 8-13. User Profile:\n",
    "\n",
    "Start with a copy of `user_profile.py`. Build a profile of yourself by calling\n",
    "`build_profile()`, using your first and last names and three other key-value\n",
    "pairs that describe you."
   ],
   "id": "35f6b02ec0d10db7"
  },
  {
   "metadata": {
    "ExecuteTime": {
     "end_time": "2024-07-24T16:54:16.298802Z",
     "start_time": "2024-07-24T16:54:16.296515Z"
    }
   },
   "cell_type": "code",
   "source": [
    "def build_profile(first, last, **user_info):\n",
    "    \"\"\"Build a dictionary containing everything about a user\"\"\"\n",
    "    user_info[\"first_name\"] = first\n",
    "    user_info[\"last_name\"] = last\n",
    "    return user_info\n",
    "\n",
    "me = build_profile(\"Martin\", \"Rist\",\n",
    "                   age=51, occupation=\"Software Engineer\",  city=\"Exeter\")\n",
    "print(me)"
   ],
   "id": "9ff4328289ef2494",
   "outputs": [
    {
     "name": "stdout",
     "output_type": "stream",
     "text": [
      "{'age': 51, 'occupation': 'Software Engineer', 'city': 'Exeter', 'first_name': 'Martin', 'last_name': 'Rist'}\n"
     ]
    }
   ],
   "execution_count": 32
  },
  {
   "metadata": {},
   "cell_type": "markdown",
   "source": [
    "# 8-14. Cars:\n",
    "\n",
    "Write a function that stores information about a car in a dictionary. The\n",
    "function should always receive a manufacturer and a model name. It should then\n",
    "accept an arbitrary number of keyword arguments. Call the function with the\n",
    "required information and two other name-value pairs, such as a color or an\n",
    "optional feature.\n",
    "\n",
    "Your function should work for a call like this one:\n",
    "```car = make_car('subaru', 'outback', color='blue', tow_package=True)```\n",
    "\n",
    "Print the dictionary that’s returned to make sure all the information was\n",
    "stored correctly."
   ],
   "id": "9a4f02349b3686af"
  },
  {
   "metadata": {
    "ExecuteTime": {
     "end_time": "2024-07-24T16:56:00.001205Z",
     "start_time": "2024-07-24T16:55:59.998754Z"
    }
   },
   "cell_type": "code",
   "source": [
    "def make_car(manufacturer, model, **kwargs):\n",
    "    kwargs[\"manufacturer\"] = manufacturer\n",
    "    kwargs[\"model\"] = model\n",
    "    return kwargs\n",
    "\n",
    "car = make_car('subaru', 'outback', color='blue', tow_package=True)\n",
    "print(car)"
   ],
   "id": "dff0b07bbb593a44",
   "outputs": [
    {
     "name": "stdout",
     "output_type": "stream",
     "text": [
      "{'color': 'blue', 'tow_package': True, 'manufacturer': 'subaru', 'model': 'outback'}\n"
     ]
    }
   ],
   "execution_count": 34
  }
 ],
 "metadata": {
  "kernelspec": {
   "display_name": "Python 3",
   "language": "python",
   "name": "python3"
  },
  "language_info": {
   "codemirror_mode": {
    "name": "ipython",
    "version": 2
   },
   "file_extension": ".py",
   "mimetype": "text/x-python",
   "name": "python",
   "nbconvert_exporter": "python",
   "pygments_lexer": "ipython2",
   "version": "2.7.6"
  }
 },
 "nbformat": 4,
 "nbformat_minor": 5
}
