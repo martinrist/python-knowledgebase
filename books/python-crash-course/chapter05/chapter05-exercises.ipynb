{
 "cells": [
  {
   "metadata": {},
   "id": "9360ff304cd990cd",
   "cell_type": "markdown",
   "source": "# Chapter 5 - `if` Statements"
  },
  {
   "metadata": {},
   "id": "cd7079b881c58ed8",
   "cell_type": "markdown",
   "source": "## 5.1. Conditional Tests\n\nWrite a series of conditional tests.  Print a statement describing each test\nand your prediction for the results of each test. Your code should look\nsomething like this:\n\n```\ncar = 'subaru'\nprint(\"Is car == 'subaru'? I predict True.\")\nprint(car == 'subaru')\n\nprint(\"\\nIs car == 'audi'? I predict False.\")\nprint(car == 'audi')\n```\n\n- Look closely at your results, and make sure you understand why each line\n  evaluates to `True` or `False`.\n- Create at least 10 tests. Have at least 5 tests evaluate to `True` and another\n  5 tests evaluate to False.”"
  },
  {
   "metadata": {
    "ExecuteTime": {
     "end_time": "2024-06-24T15:42:41.701475Z",
     "start_time": "2024-06-24T15:42:41.698513Z"
    },
    "trusted": false
   },
   "id": "b239b6da265401d9",
   "cell_type": "code",
   "source": "car = 'subaru'\nprint(\"Is car == 'subaru'? I predict True.\")\nprint(car == 'subaru')\n\nprint(\"\\nIs car == 'audi'? I predict False.\")\nprint(car == 'audi')\n",
   "execution_count": 1,
   "outputs": [
    {
     "name": "stdout",
     "output_type": "stream",
     "text": "Is car == 'subaru'? I predict True.\nTrue\n\nIs car == 'audi'? I predict False.\nFalse\n"
    }
   ]
  },
  {
   "metadata": {},
   "id": "bfdd11e53c17cde8",
   "cell_type": "markdown",
   "source": "## 5.2. More Conditional Tests\n\nYou don’t have to limit the number of tests you create to 10. If you want to try\nmore comparisons, write more tests.  Have at least one `True` and one `False`\nresult for each of the following:\n\n- Tests for equality and inequality with strings\n- Tests using the `lower()` method\n- Numerical tests involving equality and inequality, greater than and less\n  than, greater than or equal to, and less than or equal to\n- Tests using the `and` keyword and the `or` keyword\n- Test whether an item is in a list\n- Test whether an item is not in a list"
  },
  {
   "metadata": {},
   "id": "7412dd46ef33c200",
   "cell_type": "markdown",
   "source": "## 5.3. Alien Colors #1\n\nImagine an alien was just shot down in a game.  Create a variable called\n`alien_color` and assign it a value of 'green', 'yellow', or 'red'.\n\n- Write an `if` statement to test whether the alien’s color is green. If it is,\nprint a message that the player just earned 5 points.\n\n- Write one version of this program that passes the `if` test and another that\nfails. (The version that fails will have no output.)"
  },
  {
   "metadata": {
    "trusted": true
   },
   "cell_type": "code",
   "source": "alien_color = \"green\"\n\nif alien_color == \"green\":\n    print(\"You just earned 5 points\")",
   "execution_count": 2,
   "outputs": [
    {
     "output_type": "stream",
     "text": "You just earned 5 points\n",
     "name": "stdout"
    }
   ]
  },
  {
   "metadata": {
    "trusted": true
   },
   "cell_type": "code",
   "source": "alien_color = \"red\"\n\nif alien_color == \"green\":\n    print(\"You just earned 5 points\")",
   "execution_count": 7,
   "outputs": []
  },
  {
   "metadata": {},
   "id": "66fc8190f49413c8",
   "cell_type": "markdown",
   "source": "## 5-4. Alien Colors #2\n\nChoose a color for an alien as you did in Exercise 5-3, and write an `if-else`\nchain.\n\n- If the alien’s color is green, print a statement that the player just earned 5\npoints for shooting the alien.\n- If the alien’s color isn’t green, print a statement that the player just\nearned 10 points.\n- Write one version of this program that runs the `if` block and another that\nruns the `else` block."
  },
  {
   "metadata": {
    "trusted": true
   },
   "cell_type": "code",
   "source": "alien_color = \"green\"\n\nif alien_color == \"green\":\n    print(\"You just earned 5 points\")\nelse:\n    print(\"You just earned 10 points\")",
   "execution_count": 10,
   "outputs": [
    {
     "output_type": "stream",
     "text": "You just earned 5 points\n",
     "name": "stdout"
    }
   ]
  },
  {
   "metadata": {
    "trusted": true
   },
   "cell_type": "code",
   "source": "alien_color = \"red\"\n\nif alien_color == \"green\":\n    print(\"You just earned 5 points\")\nelse:\n    print(\"You just earned 10 points\")",
   "execution_count": 11,
   "outputs": [
    {
     "output_type": "stream",
     "text": "You just earned 10 points\n",
     "name": "stdout"
    }
   ]
  },
  {
   "metadata": {},
   "id": "ae3b595645e33a28",
   "cell_type": "markdown",
   "source": "# 5-5. Alien Colors #3\n\nTurn your `if`-`else` chain from Exercise 5-4 into an `if`-`elif`-`else` chain.\n\n- If the alien is green, print a message that the player earned 5 points.\n- If the alien is yellow, print a message that the player earned 10 points.\n- If the alien is red, print a message that the player earned 15 points.\n- Write three versions of this program, making sure each message is printed for\nthe appropriate color alien."
  },
  {
   "metadata": {
    "trusted": true
   },
   "cell_type": "code",
   "source": "alien_color = \"green\"\n\nif alien_color == \"green\":\n    print(\"You just earned 5 points\")\nelif alien_color == \"yellow\":\n    print(\"You just earned 10 points\")\nelif alien_color == \"red\":\n    print(\"You just earned 15 points\")",
   "execution_count": 14,
   "outputs": [
    {
     "output_type": "stream",
     "text": "You just earned 5 points\n",
     "name": "stdout"
    }
   ]
  },
  {
   "metadata": {
    "trusted": true
   },
   "cell_type": "code",
   "source": "alien_color = \"yellow\"\n\nif alien_color == \"green\":\n    print(\"You just earned 5 points\")\nelif alien_color == \"yellow\":\n    print(\"You just earned 10 points\")\nelif alien_color == \"red\":\n    print(\"You just earned 15 points\")",
   "execution_count": 13,
   "outputs": [
    {
     "output_type": "stream",
     "text": "You just earned 10 points\n",
     "name": "stdout"
    }
   ]
  },
  {
   "metadata": {
    "trusted": true
   },
   "cell_type": "code",
   "source": "alien_color = \"red\"\n\nif alien_color == \"green\":\n    print(\"You just earned 5 points\")\nelif alien_color == \"yellow\":\n    print(\"You just earned 10 points\")\nelif alien_color == \"red\":\n    print(\"You just earned 15 points\")",
   "execution_count": 12,
   "outputs": [
    {
     "output_type": "stream",
     "text": "You just earned 15 points\n",
     "name": "stdout"
    }
   ]
  },
  {
   "metadata": {},
   "id": "195a3a266124a156",
   "cell_type": "markdown",
   "source": "# 5-6. Stages of Life\n\nWrite an `if`-`elif`-`else` chain that determines a person’s stage of life. Set\na value for the variable age, and then:\n\n- If the person is less than 2 years old, print a message that the person is\na baby.\n- If the person is at least 2 years old but less than 4, print a message that\nthe person is a toddler.\n- If the person is at least 4 years old but less than 13, print a message that\nthe person is a kid.\n- If the person is at least 13 years old but less than 20, print a message that\nthe person is a teenager.\n- If the person is at least 20 years old but less than 65, print a message that\nthe person is an adult.\n- If the person is age 65 or older, print a message that the person is an elder."
  },
  {
   "metadata": {
    "trusted": true
   },
   "cell_type": "code",
   "source": "age = 42\n\nif age < 2:\n    print(\"The person is a baby\")\nelif 2 <= age < 4:\n    print(\"The person is a toddler\")\nelif 4 <= age < 13:\n    print(\"The person is a kid\")\nelif 13 <= age < 20:\n    print(\"The person is a teenager\")\nelif 20 <= age < 65:\n    print(\"The person is an adult\")\nelse:\n    print(\"The person is an elder\")",
   "execution_count": 1,
   "outputs": [
    {
     "output_type": "stream",
     "text": "The person is an adult\n",
     "name": "stdout"
    }
   ]
  },
  {
   "metadata": {},
   "id": "f1b54ec5e485ab58",
   "cell_type": "markdown",
   "source": "# 5-7. Favorite Fruit\n\nMake a list of your favorite fruits, and then write a series of independent `if`\nstatements that check for certain fruits in your list.\n\n- Make a list of your three favorite fruits and call it `favorite_fruits`.\n- Write five `if` statements. Each should check whether a certain kind of fruit\nis in your list. If the fruit is in your list, the `if` block should print a\nstatement, such as You really like bananas!"
  },
  {
   "metadata": {
    "trusted": true
   },
   "cell_type": "code",
   "source": "favorite_fruits = [\"apple\", \"pear\", \"banana\"]\n\nif \"banana\" in favorite_fruits:\n    print(\"You really like bananas!\")\n    \nif \"grape\" in favorite_fruits:\n    print(\"You really like grapes!\")\n    \nif \"pear\" in favorite_fruits:\n    print(\"You really like pears!\")\n    \nif \"peach\" in favorite_fruits:\n    print(\"You really like peaches!\")\n    \nif \"apple\" in favorite_fruits:\n    print(\"You really like apples!\")",
   "execution_count": 2,
   "outputs": [
    {
     "output_type": "stream",
     "text": "You really like bananas!\nYou really like pears!\nYou really like apples!\n",
     "name": "stdout"
    }
   ]
  },
  {
   "metadata": {
    "trusted": true
   },
   "cell_type": "code",
   "source": "",
   "execution_count": null,
   "outputs": []
  }
 ],
 "metadata": {
  "kernelspec": {
   "name": "python3",
   "display_name": "Python 3",
   "language": "python"
  },
  "language_info": {
   "name": "python",
   "version": "3.10.4",
   "mimetype": "text/x-python",
   "codemirror_mode": {
    "name": "ipython",
    "version": 3
   },
   "pygments_lexer": "ipython3",
   "nbconvert_exporter": "python",
   "file_extension": ".py"
  }
 },
 "nbformat": 4,
 "nbformat_minor": 5
}