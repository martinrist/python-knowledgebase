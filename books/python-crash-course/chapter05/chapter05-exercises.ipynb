{
 "cells": [
  {
   "metadata": {},
   "id": "9360ff304cd990cd",
   "cell_type": "markdown",
   "source": "# Chapter 5 - `if` Statements"
  },
  {
   "metadata": {},
   "id": "cd7079b881c58ed8",
   "cell_type": "markdown",
   "source": "## 5.1. Conditional Tests\n\nWrite a series of conditional tests.  Print a statement describing each test\nand your prediction for the results of each test. Your code should look\nsomething like this:\n\n```\ncar = 'subaru'\nprint(\"Is car == 'subaru'? I predict True.\")\nprint(car == 'subaru')\n\nprint(\"\\nIs car == 'audi'? I predict False.\")\nprint(car == 'audi')\n```\n\n- Look closely at your results, and make sure you understand why each line\n  evaluates to `True` or `False`.\n- Create at least 10 tests. Have at least 5 tests evaluate to `True` and another\n  5 tests evaluate to False.”"
  },
  {
   "metadata": {
    "trusted": false,
    "ExecuteTime": {
     "end_time": "2024-07-21T11:58:06.139643Z",
     "start_time": "2024-07-21T11:58:06.136107Z"
    }
   },
   "id": "b239b6da265401d9",
   "cell_type": "code",
   "source": [
    "car = 'subaru'\n",
    "print(\"Is car == 'subaru'? I predict True.\")\n",
    "print(car == 'subaru')\n",
    "\n",
    "print(\"\\nIs car == 'audi'? I predict False.\")\n",
    "print(car == 'audi')\n"
   ],
   "outputs": [
    {
     "name": "stdout",
     "output_type": "stream",
     "text": [
      "Is car == 'subaru'? I predict True.\n",
      "True\n",
      "\n",
      "Is car == 'audi'? I predict False.\n",
      "False\n"
     ]
    }
   ],
   "execution_count": 1
  },
  {
   "metadata": {},
   "id": "bfdd11e53c17cde8",
   "cell_type": "markdown",
   "source": "## 5.2. More Conditional Tests\n\nYou don’t have to limit the number of tests you create to 10. If you want to try\nmore comparisons, write more tests.  Have at least one `True` and one `False`\nresult for each of the following:\n\n- Tests for equality and inequality with strings\n- Tests using the `lower()` method\n- Numerical tests involving equality and inequality, greater than and less\n  than, greater than or equal to, and less than or equal to\n- Tests using the `and` keyword and the `or` keyword\n- Test whether an item is in a list\n- Test whether an item is not in a list"
  },
  {
   "metadata": {},
   "id": "7412dd46ef33c200",
   "cell_type": "markdown",
   "source": "## 5.3. Alien Colors #1\n\nImagine an alien was just shot down in a game.  Create a variable called\n`alien_color` and assign it a value of 'green', 'yellow', or 'red'.\n\n- Write an `if` statement to test whether the alien’s color is green. If it is,\nprint a message that the player just earned 5 points.\n\n- Write one version of this program that passes the `if` test and another that\nfails. (The version that fails will have no output.)"
  },
  {
   "metadata": {
    "trusted": true,
    "ExecuteTime": {
     "end_time": "2024-07-21T11:58:06.166580Z",
     "start_time": "2024-07-21T11:58:06.163647Z"
    }
   },
   "cell_type": "code",
   "source": "alien_color = \"green\"\n\nif alien_color == \"green\":\n    print(\"You just earned 5 points\")",
   "id": "6984541c563a7919",
   "outputs": [
    {
     "name": "stdout",
     "output_type": "stream",
     "text": [
      "You just earned 5 points\n"
     ]
    }
   ],
   "execution_count": 2
  },
  {
   "metadata": {
    "trusted": true,
    "ExecuteTime": {
     "end_time": "2024-07-21T11:58:06.183217Z",
     "start_time": "2024-07-21T11:58:06.180773Z"
    }
   },
   "cell_type": "code",
   "source": "alien_color = \"red\"\n\nif alien_color == \"green\":\n    print(\"You just earned 5 points\")",
   "id": "81577ad45877368e",
   "outputs": [],
   "execution_count": 3
  },
  {
   "metadata": {},
   "id": "66fc8190f49413c8",
   "cell_type": "markdown",
   "source": "## 5-4. Alien Colors #2\n\nChoose a color for an alien as you did in Exercise 5-3, and write an `if-else`\nchain.\n\n- If the alien’s color is green, print a statement that the player just earned 5\npoints for shooting the alien.\n- If the alien’s color isn’t green, print a statement that the player just\nearned 10 points.\n- Write one version of this program that runs the `if` block and another that\nruns the `else` block."
  },
  {
   "metadata": {
    "trusted": true,
    "ExecuteTime": {
     "end_time": "2024-07-21T11:58:06.192261Z",
     "start_time": "2024-07-21T11:58:06.189928Z"
    }
   },
   "cell_type": "code",
   "source": "alien_color = \"green\"\n\nif alien_color == \"green\":\n    print(\"You just earned 5 points\")\nelse:\n    print(\"You just earned 10 points\")",
   "id": "be83c3a3ace6d5ea",
   "outputs": [
    {
     "name": "stdout",
     "output_type": "stream",
     "text": [
      "You just earned 5 points\n"
     ]
    }
   ],
   "execution_count": 4
  },
  {
   "metadata": {
    "trusted": true,
    "ExecuteTime": {
     "end_time": "2024-07-21T11:58:06.207740Z",
     "start_time": "2024-07-21T11:58:06.205425Z"
    }
   },
   "cell_type": "code",
   "source": "alien_color = \"red\"\n\nif alien_color == \"green\":\n    print(\"You just earned 5 points\")\nelse:\n    print(\"You just earned 10 points\")",
   "id": "9570ba870171bb99",
   "outputs": [
    {
     "name": "stdout",
     "output_type": "stream",
     "text": [
      "You just earned 10 points\n"
     ]
    }
   ],
   "execution_count": 5
  },
  {
   "metadata": {},
   "id": "ae3b595645e33a28",
   "cell_type": "markdown",
   "source": "# 5-5. Alien Colors #3\n\nTurn your `if`-`else` chain from Exercise 5-4 into an `if`-`elif`-`else` chain.\n\n- If the alien is green, print a message that the player earned 5 points.\n- If the alien is yellow, print a message that the player earned 10 points.\n- If the alien is red, print a message that the player earned 15 points.\n- Write three versions of this program, making sure each message is printed for\nthe appropriate color alien."
  },
  {
   "metadata": {
    "trusted": true
   },
   "cell_type": "code",
   "source": "alien_color = \"green\"\n\nif alien_color == \"green\":\n    print(\"You just earned 5 points\")\nelif alien_color == \"yellow\":\n    print(\"You just earned 10 points\")\nelif alien_color == \"red\":\n    print(\"You just earned 15 points\")",
   "execution_count": 14,
   "outputs": [
    {
     "output_type": "stream",
     "text": "You just earned 5 points\n",
     "name": "stdout"
    }
   ],
   "id": "a2809840ffc0cea7"
  },
  {
   "metadata": {
    "trusted": true
   },
   "cell_type": "code",
   "source": "alien_color = \"yellow\"\n\nif alien_color == \"green\":\n    print(\"You just earned 5 points\")\nelif alien_color == \"yellow\":\n    print(\"You just earned 10 points\")\nelif alien_color == \"red\":\n    print(\"You just earned 15 points\")",
   "execution_count": 13,
   "outputs": [
    {
     "output_type": "stream",
     "text": "You just earned 10 points\n",
     "name": "stdout"
    }
   ],
   "id": "89da1555b7846c9d"
  },
  {
   "metadata": {
    "trusted": true
   },
   "cell_type": "code",
   "source": "alien_color = \"red\"\n\nif alien_color == \"green\":\n    print(\"You just earned 5 points\")\nelif alien_color == \"yellow\":\n    print(\"You just earned 10 points\")\nelif alien_color == \"red\":\n    print(\"You just earned 15 points\")",
   "execution_count": 12,
   "outputs": [
    {
     "output_type": "stream",
     "text": "You just earned 15 points\n",
     "name": "stdout"
    }
   ],
   "id": "e37534f1499f2e40"
  },
  {
   "metadata": {},
   "id": "195a3a266124a156",
   "cell_type": "markdown",
   "source": "# 5-6. Stages of Life\n\nWrite an `if`-`elif`-`else` chain that determines a person’s stage of life. Set\na value for the variable age, and then:\n\n- If the person is less than 2 years old, print a message that the person is\na baby.\n- If the person is at least 2 years old but less than 4, print a message that\nthe person is a toddler.\n- If the person is at least 4 years old but less than 13, print a message that\nthe person is a kid.\n- If the person is at least 13 years old but less than 20, print a message that\nthe person is a teenager.\n- If the person is at least 20 years old but less than 65, print a message that\nthe person is an adult.\n- If the person is age 65 or older, print a message that the person is an elder."
  },
  {
   "metadata": {
    "trusted": true
   },
   "cell_type": "code",
   "source": "age = 42\n\nif age < 2:\n    print(\"The person is a baby\")\nelif 2 <= age < 4:\n    print(\"The person is a toddler\")\nelif 4 <= age < 13:\n    print(\"The person is a kid\")\nelif 13 <= age < 20:\n    print(\"The person is a teenager\")\nelif 20 <= age < 65:\n    print(\"The person is an adult\")\nelse:\n    print(\"The person is an elder\")",
   "execution_count": 1,
   "outputs": [
    {
     "output_type": "stream",
     "text": "The person is an adult\n",
     "name": "stdout"
    }
   ],
   "id": "60a7c1f0fc28ce71"
  },
  {
   "metadata": {},
   "id": "f1b54ec5e485ab58",
   "cell_type": "markdown",
   "source": "# 5-7. Favorite Fruit\n\nMake a list of your favorite fruits, and then write a series of independent `if`\nstatements that check for certain fruits in your list.\n\n- Make a list of your three favorite fruits and call it `favorite_fruits`.\n- Write five `if` statements. Each should check whether a certain kind of fruit\nis in your list. If the fruit is in your list, the `if` block should print a\nstatement, such as You really like bananas!"
  },
  {
   "metadata": {
    "trusted": true
   },
   "cell_type": "code",
   "source": "favorite_fruits = [\"apple\", \"pear\", \"banana\"]\n\nif \"banana\" in favorite_fruits:\n    print(\"You really like bananas!\")\n    \nif \"grape\" in favorite_fruits:\n    print(\"You really like grapes!\")\n    \nif \"pear\" in favorite_fruits:\n    print(\"You really like pears!\")\n    \nif \"peach\" in favorite_fruits:\n    print(\"You really like peaches!\")\n    \nif \"apple\" in favorite_fruits:\n    print(\"You really like apples!\")",
   "execution_count": 2,
   "outputs": [
    {
     "output_type": "stream",
     "text": "You really like bananas!\nYou really like pears!\nYou really like apples!\n",
     "name": "stdout"
    }
   ],
   "id": "a20d0ba62dc57b6c"
  },
  {
   "metadata": {},
   "cell_type": "markdown",
   "source": [
    "# 5-8. Hello Admin\n",
    "\n",
    "Make a list of five or more usernames, including the name `admin`. Imagine you\n",
    "are writing code that will print a greeting to each user after they log in to\n",
    "a website. Loop through the list, and print a greeting to each user.\n",
    "\n",
    "- If the username is `admin`, print a special greeting, such as _Hello admin,\n",
    "would you like to see a status report?_\n",
    "- Otherwise, print a generic greeting, such as _Hello Jaden, thank you for\n",
    "logging in again._"
   ],
   "id": "b3b08ad2f20f24be"
  },
  {
   "metadata": {
    "ExecuteTime": {
     "end_time": "2024-07-24T10:35:39.650954Z",
     "start_time": "2024-07-24T10:35:39.648049Z"
    }
   },
   "cell_type": "code",
   "source": [
    "usernames = [\"admin\", \"alice\", \"bob\", \"charles\", \"david\", \"emily\"]\n",
    "\n",
    "for name in usernames:\n",
    "    if name == \"admin\":\n",
    "        print(\"Hello admin, would you like to see a status report?\")\n",
    "    else:\n",
    "        print(f\"Hello {name}, thank you for logging in again!\")"
   ],
   "id": "e71f06735ffbb9cf",
   "outputs": [
    {
     "name": "stdout",
     "output_type": "stream",
     "text": [
      "Hello admin, would you like to see a status report?\n",
      "Hello alice, thank you for logging in again!\n",
      "Hello bob, thank you for logging in again!\n",
      "Hello charles, thank you for logging in again!\n",
      "Hello david, thank you for logging in again!\n",
      "Hello emily, thank you for logging in again!\n"
     ]
    }
   ],
   "execution_count": 1
  },
  {
   "metadata": {},
   "cell_type": "markdown",
   "source": [
    "# 5-9. No Users\n",
    "\n",
    "Add an `if` test to `hello_admin.py` to make sure the list of users is not\n",
    "empty.\n",
    "\n",
    "- If the list is empty, print the message _We need to find some users!_\n",
    "- Remove all of the usernames from your list, and make sure the correct message\n",
    "is printed."
   ],
   "id": "8e1077c6f76243e3"
  },
  {
   "metadata": {
    "ExecuteTime": {
     "end_time": "2024-07-24T10:37:23.258498Z",
     "start_time": "2024-07-24T10:37:23.255477Z"
    }
   },
   "cell_type": "code",
   "source": [
    "if not usernames:\n",
    "    print(\"We need to find some users!\")\n",
    "else:\n",
    "    for name in usernames:\n",
    "        if name == \"admin\":\n",
    "            print(\"Hello admin, would you like to see a status report?\")\n",
    "        else:\n",
    "            print(f\"Hello {name}, thank you for logging in again!\")\n",
    "            \n",
    "usernames = []"
   ],
   "id": "56f20df602aacb89",
   "outputs": [
    {
     "name": "stdout",
     "output_type": "stream",
     "text": [
      "We need to find some users!\n"
     ]
    }
   ],
   "execution_count": 4
  },
  {
   "metadata": {},
   "cell_type": "markdown",
   "source": [
    "# 5-10. Checking Usernames\n",
    "\n",
    "Do the following to create a program that simulates how websites ensure that\n",
    "everyone has a unique username.\n",
    "\n",
    "- Make a list of five or more usernames called `current_users`.\n",
    "- Make another list of five usernames called `new_users`. Make sure one or\n",
    "two of the new usernames are also in the `current_users` list.\n",
    "- Loop through the `new_users` list to see if each new username has already\n",
    "been used. If it has, print a message that the person will need to enter a\n",
    "new username. If a username has not been used, print a message saying that the\n",
    "username is available.\n",
    "- Make sure your comparison is case insensitive. If 'John' has been used,\n",
    "'JOHN' should not be accepted. (To do this, you’ll need to make a copy of\n",
    "`current_users` containing the lowercase versions of all existing users.)"
   ],
   "id": "f5632f9a6684a5f0"
  },
  {
   "metadata": {
    "ExecuteTime": {
     "end_time": "2024-07-24T10:40:23.523300Z",
     "start_time": "2024-07-24T10:40:23.520341Z"
    }
   },
   "cell_type": "code",
   "source": [
    "current_users = [\"admin\", \"alice\", \"bob\", \"charles\", \"david\", \"emily\"]\n",
    "\n",
    "current_users_lc = map(lambda u: u.lower(), current_users)\n",
    "\n",
    "new_users = [\"DAVID\", \"emily\", \"fred\", \"georgina\", \"harriet\"]\n",
    "\n",
    "for user in new_users:\n",
    "    if user.lower() in current_users_lc:\n",
    "        print(f\"The username {user} is already taken!  Please enter another one\")\n",
    "    else:\n",
    "        print(f\"The username {user} is available\")"
   ],
   "id": "a9f4ce0c6b51494a",
   "outputs": [
    {
     "name": "stdout",
     "output_type": "stream",
     "text": [
      "The username DAVID is already taken!  Please enter another one\n",
      "The username emily is already taken!  Please enter another one\n",
      "The username fred is available\n",
      "The username georgina is available\n",
      "The username harriet is available\n"
     ]
    }
   ],
   "execution_count": 7
  },
  {
   "metadata": {},
   "cell_type": "markdown",
   "source": [
    "# 5-11. Ordinal Numbers\n",
    "\n",
    "Ordinal numbers indicate their position in a list, such as 1st or 2nd. Most\n",
    "ordinal numbers end in th, except 1, 2, and 3.\n",
    "\n",
    "- Store the numbers 1 through 9 in a list.\n",
    "- Loop through the list.\n",
    "- Use an `if-elif-else` chain inside the loop to print the proper ordinal\n",
    "ending for each number. Your output should read `1st 2nd 3rd 4th 5th 6th 7th 8th 9th`,\n",
    "and each result should be on a separate line."
   ],
   "id": "11d13eecf325b7a3"
  },
  {
   "metadata": {
    "ExecuteTime": {
     "end_time": "2024-07-24T10:42:09.088496Z",
     "start_time": "2024-07-24T10:42:09.085407Z"
    }
   },
   "cell_type": "code",
   "source": [
    "one_through_nine = range(1, 10)\n",
    "\n",
    "for number in one_through_nine:\n",
    "    if number == 1:\n",
    "        ending = \"st\"\n",
    "    elif number == 2:\n",
    "        ending = \"nd\"\n",
    "    elif number == 3:\n",
    "        ending = \"rd\"\n",
    "    else:\n",
    "        ending = \"th\"\n",
    "    print(f\"{number}{ending}\")"
   ],
   "id": "7687a6ea3bbdf38",
   "outputs": [
    {
     "name": "stdout",
     "output_type": "stream",
     "text": [
      "1st\n",
      "2nd\n",
      "3rd\n",
      "4th\n",
      "5th\n",
      "6th\n",
      "7th\n",
      "8th\n",
      "9th\n"
     ]
    }
   ],
   "execution_count": 11
  },
  {
   "metadata": {},
   "cell_type": "code",
   "outputs": [],
   "execution_count": null,
   "source": "",
   "id": "7fd2e1bb8cfa713c"
  }
 ],
 "metadata": {
  "kernelspec": {
   "name": "python3",
   "display_name": "Python 3",
   "language": "python"
  },
  "language_info": {
   "name": "python",
   "version": "3.10.4",
   "mimetype": "text/x-python",
   "codemirror_mode": {
    "name": "ipython",
    "version": 3
   },
   "pygments_lexer": "ipython3",
   "nbconvert_exporter": "python",
   "file_extension": ".py"
  }
 },
 "nbformat": 4,
 "nbformat_minor": 5
}
