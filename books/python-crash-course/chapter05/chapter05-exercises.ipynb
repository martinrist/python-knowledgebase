{
 "cells": [
  {
   "cell_type": "markdown",
   "source": "# Chapter 5 - `if` Statements",
   "metadata": {
    "collapsed": false
   },
   "id": "9360ff304cd990cd"
  },
  {
   "cell_type": "markdown",
   "source": [
    "## 5.1. Conditional Tests\n",
    "\n",
    "Write a series of conditional tests.  Print a statement describing each test\n",
    "and your prediction for the results of each test. Your code should look\n",
    "something like this:\n",
    "\n",
    "```\n",
    "car = 'subaru'\n",
    "print(\"Is car == 'subaru'? I predict True.\")\n",
    "print(car == 'subaru')\n",
    "\n",
    "print(\"\\nIs car == 'audi'? I predict False.\")\n",
    "print(car == 'audi')\n",
    "```\n",
    "\n",
    "- Look closely at your results, and make sure you understand why each line\n",
    "  evaluates to `True` or `False`.\n",
    "- Create at least 10 tests. Have at least 5 tests evaluate to `True` and another\n",
    "  5 tests evaluate to False.”"
   ],
   "metadata": {
    "collapsed": false
   },
   "id": "cd7079b881c58ed8"
  },
  {
   "cell_type": "code",
   "source": [
    "car = 'subaru'\n",
    "print(\"Is car == 'subaru'? I predict True.\")\n",
    "print(car == 'subaru')\n",
    "\n",
    "print(\"\\nIs car == 'audi'? I predict False.\")\n",
    "print(car == 'audi')\n"
   ],
   "metadata": {
    "collapsed": false,
    "ExecuteTime": {
     "end_time": "2024-06-24T15:42:41.701475Z",
     "start_time": "2024-06-24T15:42:41.698513Z"
    }
   },
   "id": "b239b6da265401d9",
   "outputs": [
    {
     "name": "stdout",
     "output_type": "stream",
     "text": [
      "Is car == 'subaru'? I predict True.\n",
      "True\n",
      "\n",
      "Is car == 'audi'? I predict False.\n",
      "False\n"
     ]
    }
   ],
   "execution_count": 1
  },
  {
   "metadata": {},
   "cell_type": "markdown",
   "source": [
    "## 5.2. More Conditional Tests\n",
    "\n",
    "You don’t have to limit the number of tests you create to 10. If you want to try\n",
    "more comparisons, write more tests.  Have at least one `True` and one `False`\n",
    "result for each of the following:\n",
    "\n",
    "- Tests for equality and inequality with strings\n",
    "- Tests using the `lower()` method\n",
    "- Numerical tests involving equality and inequality, greater than and less\n",
    "  than, greater than or equal to, and less than or equal to\n",
    "- Tests using the `and` keyword and the `or` keyword\n",
    "- Test whether an item is in a list\n",
    "- Test whether an item is not in a list"
   ],
   "id": "bfdd11e53c17cde8"
  },
  {
   "metadata": {},
   "cell_type": "markdown",
   "source": [
    "## 5.3. Alien Colors #1\n",
    "\n",
    "Imagine an alien was just shot down in a game.  Create a variable called\n",
    "`alien_color` and assign it a value of 'green', 'yellow', or 'red'.\n",
    "\n",
    "- Write an `if` statement to test whether the alien’s color is green. If it is,\n",
    "print a message that the player just earned 5 points.\n",
    "\n",
    "- Write one version of this program that passes the `if` test and another that\n",
    "fails. (The version that fails will have no output.)"
   ],
   "id": "7412dd46ef33c200"
  },
  {
   "metadata": {},
   "cell_type": "markdown",
   "source": [
    "## 5-4. Alien Colors #2\n",
    "\n",
    "Choose a color for an alien as you did in Exercise 5-3, and write an `if-else`\n",
    "chain.\n",
    "\n",
    "- If the alien’s color is green, print a statement that the player just earned 5\n",
    "points for shooting the alien.\n",
    "- If the alien’s color isn’t green, print a statement that the player just\n",
    "earned 10 points.\n",
    "- Write one version of this program that runs the `if` block and another that\n",
    "runs the `else` block."
   ],
   "id": "66fc8190f49413c8"
  },
  {
   "metadata": {},
   "cell_type": "markdown",
   "source": [
    "# 5-5. Alien Colors #3\n",
    "\n",
    "Turn your `if`-`else` chain from Exercise 5-4 into an `if`-`elif`-`else` chain.\n",
    "\n",
    "- If the alien is green, print a message that the player earned 5 points.\n",
    "- If the alien is yellow, print a message that the player earned 10 points.\n",
    "- If the alien is red, print a message that the player earned 15 points.\n",
    "- Write three versions of this program, making sure each message is printed for\n",
    "the appropriate color alien."
   ],
   "id": "ae3b595645e33a28"
  },
  {
   "metadata": {},
   "cell_type": "markdown",
   "source": [
    "# 5-6. Stages of Life\n",
    "\n",
    "Write an `if`-`elif`-`else` chain that determines a person’s stage of life. Set\n",
    "a value for the variable age, and then:\n",
    "\n",
    "- If the person is less than 2 years old, print a message that the person is\n",
    "a baby.\n",
    "- If the person is at least 2 years old but less than 4, print a message that\n",
    "the person is a toddler.\n",
    "- If the person is at least 4 years old but less than 13, print a message that\n",
    "the person is a kid.\n",
    "- If the person is at least 13 years old but less than 20, print a message that\n",
    "the person is a teenager.\n",
    "- If the person is at least 20 years old but less than 65, print a message that\n",
    "the person is an adult.\n",
    "- If the person is age 65 or older, print a message that the person is an elder."
   ],
   "id": "195a3a266124a156"
  },
  {
   "metadata": {},
   "cell_type": "markdown",
   "source": [
    "# 5-7. Favorite Fruit\n",
    "\n",
    "Make a list of your favorite fruits, and then write a series of independent `if`\n",
    "statements that check for certain fruits in your list.\n",
    "\n",
    "- Make a list of your three favorite fruits and call it `favorite_fruits`.\n",
    "- Write five `if` statements. Each should check whether a certain kind of fruit\n",
    "is in your list. If the fruit is in your list, the `if` block should print a\n",
    "statement, such as You really like bananas!"
   ],
   "id": "f1b54ec5e485ab58"
  }
 ],
 "metadata": {
  "kernelspec": {
   "display_name": "Python 3",
   "language": "python",
   "name": "python3"
  },
  "language_info": {
   "codemirror_mode": {
    "name": "ipython",
    "version": 2
   },
   "file_extension": ".py",
   "mimetype": "text/x-python",
   "name": "python",
   "nbconvert_exporter": "python",
   "pygments_lexer": "ipython2",
   "version": "2.7.6"
  }
 },
 "nbformat": 4,
 "nbformat_minor": 5
}
