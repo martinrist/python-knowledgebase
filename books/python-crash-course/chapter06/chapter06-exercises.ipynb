{
 "cells": [
  {
   "metadata": {},
   "cell_type": "markdown",
   "source": "# Chapter 6 - Dictionaries",
   "id": "a77127730b455ca5"
  },
  {
   "metadata": {},
   "cell_type": "markdown",
   "source": [
    "## 6-1. Person\n",
    "\n",
    "Use a dictionary to store information about a person you know.  Store their\n",
    "first name, last name, age, and the city in which they live. You should have\n",
    "keys such as `first_name`, `last_name`, `age`, and `city`. Print each piece\n",
    "of information stored in your dictionary."
   ],
   "id": "941009f837745d47"
  },
  {
   "metadata": {
    "ExecuteTime": {
     "end_time": "2024-07-24T10:59:29.800823Z",
     "start_time": "2024-07-24T10:59:29.797241Z"
    }
   },
   "cell_type": "code",
   "source": [
    "me = {\n",
    "    \"first_name\": \"Martin\",\n",
    "    \"last_name\": \"Rist\",\n",
    "    \"age\": 51,\n",
    "    \"city\": \"Exeter\"\n",
    "}\n",
    "\n",
    "for key, value in me.items():\n",
    "    print(f\"{key}: {value}\")"
   ],
   "id": "197076effc450047",
   "outputs": [
    {
     "name": "stdout",
     "output_type": "stream",
     "text": [
      "first_name: Martin\n",
      "last_name: Rist\n",
      "age: 51\n",
      "city: Exeter\n"
     ]
    }
   ],
   "execution_count": 3
  },
  {
   "metadata": {},
   "cell_type": "markdown",
   "source": [
    "## 6-2. Favorite Numbers:\n",
    "\n",
    "Use a dictionary to store people’s favorite numbers. Think of five names,\n",
    "and use them as keys in your dictionary. Think of a favorite number for each\n",
    "person, and store each as a value in your dictionary. Print each person’s name\n",
    "and their favorite number."
   ],
   "id": "c95b9fdf68b5b67d"
  },
  {
   "metadata": {
    "ExecuteTime": {
     "end_time": "2024-07-24T11:01:24.082299Z",
     "start_time": "2024-07-24T11:01:24.076301Z"
    }
   },
   "cell_type": "code",
   "source": [
    "favourite_numbers = {\n",
    "    \"Douglas\": 42,\n",
    "    \"Beast\": 666,\n",
    "    \"Andrew\": 7,\n",
    "    \"Sarah\": 1234\n",
    "}\n",
    "\n",
    "[f\"{name}'s favourite number is {number}\" for name, number in favourite_numbers.items()]"
   ],
   "id": "cfe4f922023da306",
   "outputs": [
    {
     "data": {
      "text/plain": [
       "[\"Douglas's favourite number is 42\",\n",
       " \"Beast's favourite number is 666\",\n",
       " \"Andrew's favourite number is 7\",\n",
       " \"Sarah's favourite number is 1234\"]"
      ]
     },
     "execution_count": 6,
     "metadata": {},
     "output_type": "execute_result"
    }
   ],
   "execution_count": 6
  },
  {
   "metadata": {},
   "cell_type": "markdown",
   "source": [
    "## 6-3. Glossary:\n",
    "\n",
    "A Python dictionary can be used to model an actual dictionary. However, to\n",
    "avoid confusion, let’s call it a glossary.\n",
    "\n",
    "- Think of five programming words you’ve learned about in the previous chapters.\n",
    "Use these words as the keys in your glossary, and store their meanings as values.\n",
    "- Print each word and its meaning as neatly formatted output. You might print\n",
    "the word followed by a colon and then its meaning, or print the word on one\n",
    "line and then print its meaning indented on a second line. Use the newline\n",
    "character (`\\n`) to insert a blank line between each word-meaning pair in your\n",
    "output"
   ],
   "id": "ff66633cfc67171b"
  },
  {
   "metadata": {
    "ExecuteTime": {
     "end_time": "2024-07-24T11:09:00.402486Z",
     "start_time": "2024-07-24T11:09:00.398602Z"
    }
   },
   "cell_type": "code",
   "source": [
    "glossary = {\n",
    "    \"list\": \"An ordered collection of items\",\n",
    "    \"dictionary\": \"A collection of key-value pairs\",\n",
    "    \"tuple\": \"An immutable collection of items\",\n",
    "    \"if\": \"Keyword used to start a conditional statement\",\n",
    "    \"comprehension\": \"A concise way to build lists in a single line of code\"\n",
    "}\n",
    "\n",
    "for entry, meaning in glossary.items():\n",
    "    print(f\"{entry}: {meaning}\")"
   ],
   "id": "7de07605a87702e1",
   "outputs": [
    {
     "name": "stdout",
     "output_type": "stream",
     "text": [
      "list: An ordered collection of items\n",
      "dictionary: A collection of key-value pairs\n",
      "tuple: An immutable collection of items\n",
      "if: Keyword used to start a conditional statement\n",
      "comprehension: A concise way to build lists in a single line of code\n"
     ]
    }
   ],
   "execution_count": 10
  },
  {
   "metadata": {},
   "cell_type": "markdown",
   "source": [
    "## 6-4. Glossary 2\n",
    "\n",
    "Now that you know how to loop through a dictionary, clean up the code from\n",
    "Exercise 6-3 by replacing your series of `print()` calls with a loop that runs\n",
    "through the dictionary’s keys and values."
   ],
   "id": "ab77355368fa80bc"
  },
  {
   "metadata": {
    "ExecuteTime": {
     "end_time": "2024-07-24T11:15:26.225052Z",
     "start_time": "2024-07-24T11:15:26.222075Z"
    }
   },
   "cell_type": "code",
   "source": "# See answer to Exercise 6-3 above",
   "id": "18e78ce37bb6ddc7",
   "outputs": [],
   "execution_count": 11
  },
  {
   "metadata": {},
   "cell_type": "markdown",
   "source": [
    "## 6-5. Rivers:\n",
    "\n",
    "Make a dictionary containing three major rivers and the country each river\n",
    "runs through. One key-value pair might be `'nile': 'egypt'`.\n",
    "\n",
    "- Use a loop to print a sentence about each river, such as The Nile runs through\n",
    "Egypt.\n",
    "- Use a loop to print the name of each river included in the dictionary.\n",
    "- Use a loop to print the name of each country included in the dictionary."
   ],
   "id": "9b90e42fb8f50c74"
  },
  {
   "metadata": {
    "ExecuteTime": {
     "end_time": "2024-07-24T11:17:56.458347Z",
     "start_time": "2024-07-24T11:17:56.453977Z"
    }
   },
   "cell_type": "code",
   "source": [
    "rivers = {\n",
    "    \"nile\": \"Egypt\",\n",
    "    \"thames\": \"England\",\n",
    "    \"seine\": \"France\"\n",
    "}\n",
    "\n",
    "for river, country in rivers.items():\n",
    "    print(f\"The river {river} runs through {country}\")\n",
    "\n",
    "print()\n",
    "for river in rivers:\n",
    "    print(river)\n",
    "\n",
    "print()\n",
    "for country in rivers.values():\n",
    "    print(country)"
   ],
   "id": "34cca78cd5dfe9d7",
   "outputs": [
    {
     "name": "stdout",
     "output_type": "stream",
     "text": [
      "The river nile runs through Egypt\n",
      "The river thames runs through England\n",
      "The river seine runs through France\n",
      "\n",
      "nile\n",
      "thames\n",
      "seine\n",
      "\n",
      "Egypt\n",
      "England\n",
      "France\n"
     ]
    }
   ],
   "execution_count": 13
  },
  {
   "metadata": {},
   "cell_type": "markdown",
   "source": [
    "# 6-6. Polling:\n",
    "\n",
    "Use the code in `favorite_languages.py`\n",
    "\n",
    "- Make a list of people who should take the favorite languages poll. Include\n",
    "some names that are already in the dictionary and some that are not.\n",
    "- Loop through the list of people who should take the poll. If they have\n",
    "already taken the poll, print a message thanking them for responding. If they\n",
    "have not yet taken the poll, print a message inviting them to take the poll."
   ],
   "id": "c7cea0f5829da747"
  },
  {
   "metadata": {
    "ExecuteTime": {
     "end_time": "2024-07-24T11:20:15.123598Z",
     "start_time": "2024-07-24T11:20:15.121367Z"
    }
   },
   "cell_type": "code",
   "source": [
    "favorite_languages = {\n",
    "    \"jen\": \"python\",\n",
    "    \"sarah\": \"c\",\n",
    "    \"edward\": \"rust\",\n",
    "    \"phil\": \"python\",\n",
    "}\n",
    "\n",
    "people = [\"jen\", \"phil\", \"dave\", \"eric\"]\n",
    "\n",
    "for person in people:\n",
    "    if person in favorite_languages:\n",
    "        print(f\"Thank you for taking the poll, {person}\")\n",
    "    else:\n",
    "        print(f\"Please take the poll, {person}\")"
   ],
   "id": "4476e7f1538aeec7",
   "outputs": [
    {
     "name": "stdout",
     "output_type": "stream",
     "text": [
      "Thank you for taking the poll, jen\n",
      "Thank you for taking the poll, phil\n",
      "Please take the poll, dave\n",
      "Please take the poll, eric\n"
     ]
    }
   ],
   "execution_count": 14
  },
  {
   "metadata": {},
   "cell_type": "markdown",
   "source": [
    "## 6-7. People:\n",
    "\n",
    "Start with the program you wrote for Exercise 6-1. Make two new dictionaries\n",
    "representing different people, and store all three dictionaries in a list called\n",
    "`people`. Loop through your list of people. As you loop through the list, print\n",
    "everything you know about each person."
   ],
   "id": "497ce33238db3948"
  },
  {
   "metadata": {
    "ExecuteTime": {
     "end_time": "2024-07-24T11:31:46.174316Z",
     "start_time": "2024-07-24T11:31:46.171529Z"
    }
   },
   "cell_type": "code",
   "source": [
    "me = {\n",
    "    \"first_name\": \"Martin\",\n",
    "    \"last_name\": \"Rist\",\n",
    "    \"age\": 51,\n",
    "    \"city\": \"Exeter\"\n",
    "}\n",
    "\n",
    "andy = {\n",
    "    \"first_name\": \"Andy\",\n",
    "    \"last_name\": \"Smith\",\n",
    "    \"age\": 42,\n",
    "    \"city\": \"London\"\n",
    "}\n",
    "\n",
    "sally = {\n",
    "    \"first_name\": \"Sally\",\n",
    "    \"last_name\": \"James\",\n",
    "    \"age\": 65,\n",
    "    \"city\": \"Hastings\"\n",
    "}\n",
    "\n",
    "people = [me, andy, sally]\n",
    "\n",
    "for person in people:\n",
    "    print(f\"Details for {person[\"first_name\"]}:\")\n",
    "    for key, value in person.items():\n",
    "        print(f\"{key}: {value}\")\n",
    "    print()"
   ],
   "id": "d85dbb1e6c62bc40",
   "outputs": [
    {
     "name": "stdout",
     "output_type": "stream",
     "text": [
      "Details for Martin:\n",
      "first_name: Martin\n",
      "last_name: Rist\n",
      "age: 51\n",
      "city: Exeter\n",
      "\n",
      "Details for Andy:\n",
      "first_name: Andy\n",
      "last_name: Smith\n",
      "age: 42\n",
      "city: London\n",
      "\n",
      "Details for Sally:\n",
      "first_name: Sally\n",
      "last_name: James\n",
      "age: 65\n",
      "city: Hastings\n",
      "\n"
     ]
    }
   ],
   "execution_count": 17
  },
  {
   "metadata": {},
   "cell_type": "markdown",
   "source": [
    "## 6-8. Pets:\n",
    "\n",
    "Make several dictionaries, where each dictionary represents a different pet.\n",
    "In each dictionary, include the kind of animal and the owner’s name. Store these\n",
    "dictionaries in a list called `pets`. Next, loop through your list and as you\n",
    "do, print everything you know about each pet."
   ],
   "id": "d4641fead242fe21"
  },
  {
   "metadata": {
    "ExecuteTime": {
     "end_time": "2024-07-24T11:35:05.517851Z",
     "start_time": "2024-07-24T11:35:05.515381Z"
    }
   },
   "cell_type": "code",
   "source": [
    "spot = {\n",
    "    \"name\": \"Spot\",\n",
    "    \"type\": \"dog\",\n",
    "    \"owner\": \"Dave\",\n",
    "    \"age\": 4\n",
    "}\n",
    "\n",
    "milly = {\n",
    "    \"name\": \"Milly\",\n",
    "    \"type\": \"cat\",\n",
    "    \"owner\": \"Jane\",\n",
    "    \"age\": 12\n",
    "}\n",
    "\n",
    "flopsy = {\n",
    "    \"name\": \"Flopsy\",\n",
    "    \"type\": \"rabbit\",\n",
    "    \"owner\": \"Stan\",\n",
    "    \"age\": 5\n",
    "}\n",
    "\n",
    "pets = [spot, milly, flopsy]\n",
    "\n",
    "for pet in pets:\n",
    "    print(f\"Details for {pet['name']}:\")\n",
    "    for key, value in pet.items():\n",
    "        print(f\"{key}: {value}\")\n",
    "    print()"
   ],
   "id": "bd3ea17db0900dc6",
   "outputs": [
    {
     "name": "stdout",
     "output_type": "stream",
     "text": [
      "Details for Spot:\n",
      "name: Spot\n",
      "type: dog\n",
      "owner: Dave\n",
      "age: 4\n",
      "\n",
      "Details for Milly:\n",
      "name: Milly\n",
      "type: cat\n",
      "owner: Jane\n",
      "age: 12\n",
      "\n",
      "Details for Flopsy:\n",
      "name: Flopsy\n",
      "type: rabbit\n",
      "owner: Stan\n",
      "age: 5\n",
      "\n"
     ]
    }
   ],
   "execution_count": 21
  },
  {
   "metadata": {},
   "cell_type": "markdown",
   "source": [
    "## 6-9. Favorite Places:\n",
    "\n",
    "Make a dictionary called `favorite_places`. Think of three names to use as keys\n",
    "in the dictionary, and store one to three favorite places for each person.\n",
    "\n",
    "Loop through the dictionary, and print each person’s name and their favorite\n",
    "places"
   ],
   "id": "636ae32f0459001d"
  },
  {
   "metadata": {
    "ExecuteTime": {
     "end_time": "2024-07-24T11:38:06.221259Z",
     "start_time": "2024-07-24T11:38:06.216837Z"
    }
   },
   "cell_type": "code",
   "source": [
    "favourite_places = {\n",
    "    \"Mike\": [\"London\", \"Sydney\", \"New York\"],\n",
    "    \"Sally\": [\"Peru\", \"Istanbul\"],\n",
    "    \"Jen\": [\"Berlin\", \"Paris\", \"Frankfurt\"],\n",
    "}\n",
    "\n",
    "for person, places in favourite_places.items():\n",
    "    print(f\"{person}'s favourite places are {\", \".join(places)}\")"
   ],
   "id": "fba8a87524edacf5",
   "outputs": [
    {
     "name": "stdout",
     "output_type": "stream",
     "text": [
      "Mike's favourite places are London, Sydney, New York\n",
      "Sally's favourite places are Peru, Istanbul\n",
      "Jen's favourite places are Berlin, Paris, Frankfurt\n"
     ]
    }
   ],
   "execution_count": 23
  },
  {
   "metadata": {},
   "cell_type": "markdown",
   "source": [
    "## 6-10. Favorite Numbers:\n",
    "\n",
    "Modify your program from Exercise 6-2 so each person can have more than one\n",
    "favorite number. Then print each person’s name along with their favorite\n",
    "numbers"
   ],
   "id": "3db1929ff7dc6ca9"
  },
  {
   "metadata": {
    "ExecuteTime": {
     "end_time": "2024-07-24T11:40:53.931719Z",
     "start_time": "2024-07-24T11:40:53.929503Z"
    }
   },
   "cell_type": "code",
   "source": [
    "favourite_numbers = {\n",
    "    \"Douglas\": [42, 43, 44],\n",
    "    \"Beast\": [666, 668],\n",
    "    \"Andrew\": [7],\n",
    "    \"Sarah\": [1234, 5678]\n",
    "}\n",
    "\n",
    "for name, numbers in favourite_numbers.items():\n",
    "    print(f\"{name}'s favourite numbers are {\", \".join(map(str, numbers))}\")\n"
   ],
   "id": "fb93f9d906cd1903",
   "outputs": [
    {
     "name": "stdout",
     "output_type": "stream",
     "text": [
      "Douglas's favourite numbers are 42, 43, 44\n",
      "Beast's favourite numbers are 666, 668\n",
      "Andrew's favourite numbers are 7\n",
      "Sarah's favourite numbers are 1234, 5678\n"
     ]
    }
   ],
   "execution_count": 30
  },
  {
   "metadata": {},
   "cell_type": "markdown",
   "source": [
    "# 6-11. Cities:\n",
    "\n",
    "Make a dictionary called `cities`. Use the names of three cities as keys in\n",
    "your dictionary. Create a dictionary of information about each city and include\n",
    "the country that the city is in, its approximate population, and one fact about\n",
    "that city.\n",
    "\n",
    "The keys for each city’s dictionary should be something like `country`,\n",
    "`population`, and `fact`.\n",
    "\n",
    "Print the name of each city and all of the information you have stored about it."
   ],
   "id": "8dc9e2a99a0b39a8"
  },
  {
   "metadata": {
    "ExecuteTime": {
     "end_time": "2024-07-24T11:45:13.763858Z",
     "start_time": "2024-07-24T11:45:13.759193Z"
    }
   },
   "cell_type": "code",
   "source": [
    "cities = {\n",
    "    \"London\": {\n",
    "        \"country\": \"United Kingdom\",\n",
    "        \"population\": 8799800,\n",
    "        \"fact\": \"London is the capital of the United Kingdom\",\n",
    "    },\n",
    "    \"Paris\": {\n",
    "        \"country\": \"France\",\n",
    "        \"population\": 2102650,\n",
    "        \"fact\": \"Paris is the fourth largest city in the EU\",\n",
    "    },\n",
    "    \"New York\": {\n",
    "        \"country\": \"USA\",\n",
    "        \"population\": 8804190,\n",
    "        \"fact\": \"New York is the most populous city in the US\",\n",
    "    }\n",
    "}\n",
    "\n",
    "for city, details in cities.items():\n",
    "    print(f\"Details for {city}:\")\n",
    "    for key, value in details.items():\n",
    "        print(f\"{key}: {value}\")\n",
    "    print()"
   ],
   "id": "f7e76b5458d7febb",
   "outputs": [
    {
     "name": "stdout",
     "output_type": "stream",
     "text": [
      "Details for London:\n",
      "country: United Kingdom\n",
      "population: 8799800\n",
      "fact: London is the capital of the United Kingdom\n",
      "\n",
      "Details for Paris:\n",
      "country: France\n",
      "population: 2102650\n",
      "fact: Paris is the fourth largest city in the EU\n",
      "\n",
      "Details for New York:\n",
      "country: USA\n",
      "population: 8804190\n",
      "fact: New York is the most populous city in the US\n",
      "\n"
     ]
    }
   ],
   "execution_count": 32
  },
  {
   "metadata": {},
   "cell_type": "markdown",
   "source": "",
   "id": "f50145c690388764"
  }
 ],
 "metadata": {
  "kernelspec": {
   "display_name": "Python 3",
   "language": "python",
   "name": "python3"
  },
  "language_info": {
   "codemirror_mode": {
    "name": "ipython",
    "version": 2
   },
   "file_extension": ".py",
   "mimetype": "text/x-python",
   "name": "python",
   "nbconvert_exporter": "python",
   "pygments_lexer": "ipython2",
   "version": "2.7.6"
  }
 },
 "nbformat": 4,
 "nbformat_minor": 5
}
