{
 "cells": [
  {
   "metadata": {},
   "cell_type": "markdown",
   "source": "Chapter 9 - Classes",
   "id": "630a516d77286e41"
  },
  {
   "metadata": {},
   "cell_type": "markdown",
   "source": [
    "# 9-1. Restaurant:\n",
    "\n",
    "Make a class called `Restaurant`. The `__init__()` method for `Restaurant`\n",
    "should store two attributes: a `restaurant_name` and a `cuisine_type`.\n",
    "\n",
    "Make a method called `describe_restaurant()` that prints these two pieces of\n",
    "information, and a method called `open_restaurant()` that prints a message\n",
    "indicating that the restaurant is open.\n",
    "\n",
    "Make an instance called `restaurant` from your class. Print the two attributes\n",
    "individually, and then call both methods."
   ],
   "id": "5ff40d665f8332e9"
  },
  {
   "metadata": {
    "ExecuteTime": {
     "end_time": "2024-07-25T09:32:52.295515Z",
     "start_time": "2024-07-25T09:32:52.292346Z"
    }
   },
   "cell_type": "code",
   "source": [
    "class Restaurant:\n",
    "\n",
    "    def __init__(self, restaurant_name, cuisine_type):\n",
    "        \"\"\"Initialise a new Restaurant instance.\"\"\"\n",
    "        self.restaurant_name = restaurant_name\n",
    "        self.cuisine_type = cuisine_type\n",
    "\n",
    "    def describe_restaurant(self):\n",
    "        print(f\"{self.restaurant_name} serves {self.cuisine_type} cuisine\")\n",
    "\n",
    "    def open_restaurant(self):\n",
    "        print(f\"{self.restaurant_name} is now open\")\n",
    "\n",
    "restaurant = Restaurant(\"Mon Plaisir\", \"French\")\n",
    "\n",
    "restaurant.describe_restaurant()\n",
    "restaurant.open_restaurant()"
   ],
   "id": "8c81798874c07e22",
   "outputs": [
    {
     "name": "stdout",
     "output_type": "stream",
     "text": [
      "Mon Plaisir serves French cuisine\n",
      "Mon Plaisir is now open\n"
     ]
    }
   ],
   "execution_count": 1
  },
  {
   "metadata": {},
   "cell_type": "markdown",
   "source": [
    "# 9-2. Three Restaurants:\n",
    "\n",
    "Start with your class from Exercise 9-1. Create three different instances from\n",
    "the class, and call `describe_restaurant()` for each instance."
   ],
   "id": "2a501662c7e74c69"
  },
  {
   "metadata": {
    "ExecuteTime": {
     "end_time": "2024-07-25T09:34:45.975406Z",
     "start_time": "2024-07-25T09:34:45.971464Z"
    }
   },
   "cell_type": "code",
   "source": [
    "mon_plaisir = Restaurant(\"Mon Plaisir\", \"French\")\n",
    "mcdonalds = Restaurant(\"McDonalds\", \"Fast Food\")\n",
    "the_ivy = Restaurant(\"The Ivy\", \"British\")\n",
    "\n",
    "mon_plaisir.describe_restaurant()\n",
    "mcdonalds.describe_restaurant()\n",
    "the_ivy.describe_restaurant()"
   ],
   "id": "f64a5541d88ac961",
   "outputs": [
    {
     "name": "stdout",
     "output_type": "stream",
     "text": [
      "Mon Plaisir serves French cuisine\n",
      "McDonalds serves Fast Food cuisine\n",
      "The Ivy serves British cuisine\n"
     ]
    }
   ],
   "execution_count": 2
  },
  {
   "metadata": {},
   "cell_type": "markdown",
   "source": [
    "# 9-3. Users:\n",
    "\n",
    "Make a class called `User`. Create two attributes called `first_name` and\n",
    "`last_name`, and then create several other attributes that are typically stored\n",
    "in a user profile. Make a method called `describe_user()` that prints a\n",
    "summary of the user’s information. Make another method called `greet_user()`\n",
    "that prints a personalized greeting to the user.\n",
    "\n",
    "Create several instances representing different users, and call both methods\n",
    "for each user."
   ],
   "id": "5b4ea3c8ecab6075"
  },
  {
   "metadata": {
    "ExecuteTime": {
     "end_time": "2024-07-25T09:37:40.633697Z",
     "start_time": "2024-07-25T09:37:40.629395Z"
    }
   },
   "cell_type": "code",
   "source": [
    "class User:\n",
    "    def __init__(self, first_name, last_name, age, email):\n",
    "        self.first_name = first_name\n",
    "        self.last_name = last_name\n",
    "        self.age = age\n",
    "        self.email = email\n",
    "\n",
    "\n",
    "    def describe_user(self):\n",
    "        print(f\"{self.first_name} {self.last_name} ({self.email}) - age {self.age}\")\n",
    "\n",
    "    def greet_user(self):\n",
    "        print(f\"Hello {self.first_name}\")\n",
    "\n",
    "martin = User(\"Martin\", \"Rist\", \"51\", \"martin.rist@example.com\")\n",
    "david = User(\"David\", \"Smith\", \"23\", \"david.smith@example.com\")\n",
    "\n",
    "martin.describe_user()\n",
    "martin.greet_user()\n",
    "david.describe_user()\n",
    "david.greet_user()"
   ],
   "id": "d11a023d0cdac160",
   "outputs": [
    {
     "name": "stdout",
     "output_type": "stream",
     "text": [
      "Martin Rist (martin.rist@example.com) - age 51\n",
      "Hello Martin\n",
      "David Smith (david.smith@example.com) - age 23\n",
      "Hello David\n"
     ]
    }
   ],
   "execution_count": 3
  },
  {
   "metadata": {},
   "cell_type": "markdown",
   "source": [
    "# 9-4. Number Served:\n",
    "\n",
    "Start with your program from Exercise 9-1. Add an attribute called\n",
    "`number_served` with a default value of 0. Create an instance called\n",
    "`restaurant` from this class. Print the number of customers the restaurant\n",
    "has served, and then change this value and print it again.\n",
    "\n",
    "Add a method called `set_number_served()` that lets you set the number of\n",
    "customers that have been served. Call this method with a new number and\n",
    "print the value again.\n",
    "\n",
    "Add a method called `increment_number_served()` that lets you increment the\n",
    "number of customers who've been served. Call this method with any number\n",
    "you like that could represent how many customers were served in, say, a\n",
    "day of business."
   ],
   "id": "640f88896275e3d6"
  },
  {
   "metadata": {
    "ExecuteTime": {
     "end_time": "2024-07-25T09:45:20.611896Z",
     "start_time": "2024-07-25T09:45:20.606278Z"
    }
   },
   "cell_type": "code",
   "source": [
    "class Restaurant:\n",
    "\n",
    "    def __init__(self, restaurant_name, cuisine_type, number_served=0):\n",
    "        \"\"\"Initialise a new Restaurant instance.\"\"\"\n",
    "        self.restaurant_name = restaurant_name\n",
    "        self.cuisine_type = cuisine_type\n",
    "        self.number_served = number_served\n",
    "\n",
    "    def describe_restaurant(self):\n",
    "        print(f\"{self.restaurant_name} serves {self.cuisine_type} cuisine\")\n",
    "\n",
    "    def open_restaurant(self):\n",
    "        print(f\"{self.restaurant_name} is now open\")\n",
    "\n",
    "    def set_number_served(self, number_served):\n",
    "        self.number_served = number_served\n",
    "\n",
    "    def increment_number_served(self, number_served):\n",
    "        self.number_served += number_served\n",
    "\n",
    "the_ivy = Restaurant(\"The Ivy\", \"British\")\n",
    "print(f\"{the_ivy.restaurant_name} has served {the_ivy.number_served} customers\")\n",
    "print()\n",
    "\n",
    "print(\"Setting number of served customers to 10\")\n",
    "the_ivy.set_number_served(10)\n",
    "print(f\"{the_ivy.restaurant_name} has now served {the_ivy.number_served} customers\")\n",
    "print()\n",
    "\n",
    "print(\"Incrementing number of served customers by 25\")\n",
    "the_ivy.increment_number_served(25)\n",
    "print(f\"{the_ivy.restaurant_name} has now served {the_ivy.number_served} customers\")"
   ],
   "id": "2ab0d358bcf74efe",
   "outputs": [
    {
     "name": "stdout",
     "output_type": "stream",
     "text": [
      "The Ivy has served 0 customers\n",
      "\n",
      "Setting number of served customers to 10\n",
      "The Ivy has now served 10 customers\n",
      "\n",
      "Incrementing number of served customers by 25\n",
      "The Ivy has now served 35 customers\n"
     ]
    }
   ],
   "execution_count": 6
  },
  {
   "metadata": {},
   "cell_type": "markdown",
   "source": [
    "# 9-5. Login Attempts:\n",
    "\n",
    "Add an attribute called `login_attempts` to your `User` class from Exercise 9-3.\n",
    "Write a method called `increment_login_attempts()` that increments the value of\n",
    "`login_attempts` by 1. Write another method called `reset_login_attempts()` that\n",
    "resets the value of `login_attempts` to 0.\n",
    "\n",
    "Make an instance of the `User` class and call `increment_login_attempts()`\n",
    "several times. Print the value of `login_attempts` to make sure it was\n",
    "incremented properly, and then call `reset_login_attempts()`.\n",
    "\n",
    "Print `login_attempts` again to make sure it was reset to 0."
   ],
   "id": "ed8d02f7bf47552a"
  },
  {
   "metadata": {
    "ExecuteTime": {
     "end_time": "2024-07-25T09:48:49.605085Z",
     "start_time": "2024-07-25T09:48:49.602267Z"
    }
   },
   "cell_type": "code",
   "source": [
    "class User:\n",
    "    def __init__(self, first_name, last_name, age, email):\n",
    "        self.first_name = first_name\n",
    "        self.last_name = last_name\n",
    "        self.age = age\n",
    "        self.email = email\n",
    "        self.login_attempts = 0\n",
    "\n",
    "    def increment_login_attempts(self):\n",
    "        self.login_attempts += 1\n",
    "\n",
    "    def reset_login_attempts(self):\n",
    "        self.login_attempts = 0\n",
    "\n",
    "martin = User(\"Martin\", \"Rist\", \"51\", \"martin.rist@example.com\")\n",
    "print(\"Martin's login attempts:\", martin.login_attempts)\n",
    "print()\n",
    "\n",
    "print(\"Attempting 4 logins\")\n",
    "martin.increment_login_attempts()\n",
    "martin.increment_login_attempts()\n",
    "martin.increment_login_attempts()\n",
    "martin.increment_login_attempts()\n",
    "print(\"Martin's login attempts:\", martin.login_attempts)\n",
    "print()\n",
    "\n",
    "print(\"Resetting login attempts\")\n",
    "martin.reset_login_attempts()\n",
    "print(\"Martin's login attempts:\", martin.login_attempts)"
   ],
   "id": "7fc6af3bb09d3688",
   "outputs": [
    {
     "name": "stdout",
     "output_type": "stream",
     "text": [
      "Martin's login attempts: 0\n",
      "\n",
      "Attempting 4 logins\n",
      "Martin's login attempts: 4\n",
      "\n",
      "Resetting login attempts\n",
      "Martin's login attempts: 0\n"
     ]
    }
   ],
   "execution_count": 9
  },
  {
   "metadata": {},
   "cell_type": "markdown",
   "source": [
    "# 9-6. Ice Cream Stand:\n",
    "\n",
    "An ice cream stand is a specific kind of restaurant. Write a class called\n",
    "`IceCreamStand` that inherits from the `Restaurant` class you wrote in\n",
    "Exercise 9-1 or Exercise 9-4. Either version of the class will work; just pick\n",
    "the one you like better. Add an attribute called flavors that stores a list\n",
    "of ice cream flavors. Write a method that displays these flavors. Create an\n",
    "instance of `IceCreamStand`, and call this method."
   ],
   "id": "2ca69245f6e0b5da"
  },
  {
   "metadata": {
    "ExecuteTime": {
     "end_time": "2024-07-25T10:06:39.872314Z",
     "start_time": "2024-07-25T10:06:39.867541Z"
    }
   },
   "cell_type": "code",
   "source": [
    "class IceCreamStand(Restaurant):\n",
    "\n",
    "    def __init__(self, restaurant_name, cuisine_type, flavours):\n",
    "        super().__init__(restaurant_name, cuisine_type)\n",
    "        self.flavours = flavours\n",
    "\n",
    "    def display_flavours(self):\n",
    "        print(f\"Ice Cream Stand '{self.restaurant_name}' sells the following flavours:\")\n",
    "        for flavour in self.flavours:\n",
    "            print(f\"- {flavour}\")\n",
    "\n",
    "my_ice_cream_stand = IceCreamStand(\"My Ices\", \"Ice Creams\", [\"vanilla\", \"mint choc chip\", \"strawberry\"])\n",
    "my_ice_cream_stand.display_flavours()\n"
   ],
   "id": "cef7672fdcf7aac3",
   "outputs": [
    {
     "name": "stdout",
     "output_type": "stream",
     "text": [
      "Ice Cream Stand 'My Ices' sells the following flavours:\n",
      "- vanilla\n",
      "- mint choc chip\n",
      "- strawberry\n"
     ]
    }
   ],
   "execution_count": 12
  },
  {
   "metadata": {},
   "cell_type": "markdown",
   "source": [
    "# 9-7. Admin:\n",
    "\n",
    "An administrator is a special kind of user. Write a class called `Admin` that\n",
    "inherits from the `User` class you wrote in Exercise 9-3 or Exercise 9-5.\n",
    "\n",
    "Add an attribute, `privileges`, that stores a list of strings like\n",
    "\"can add post\", \"can delete post\", \"can ban user\", and so on.\n",
    "\n",
    "Write a method called `show_privileges()` that lists the administrator’s\n",
    "set of privileges. Create an instance of `Admin`, and call your method."
   ],
   "id": "6c13ec758376d50"
  },
  {
   "metadata": {
    "ExecuteTime": {
     "end_time": "2024-07-25T10:09:39.286603Z",
     "start_time": "2024-07-25T10:09:39.282884Z"
    }
   },
   "cell_type": "code",
   "source": [
    "class Admin(User):\n",
    "\n",
    "    def __init__(self, first_name, last_name, age, email, privileges):\n",
    "        super().__init__(first_name, last_name, age, email)\n",
    "        self.privileges = privileges\n",
    "\n",
    "    def show_privileges(self):\n",
    "        print(f\"Administrator {self.email} has the following privileges:\")\n",
    "        for privilege in self.privileges:\n",
    "            print(f\"- {privilege}\")\n",
    "\n",
    "me_as_admin = Admin(\"Martin\", \"Rist\", 51, \"martin.rist@example.com\",\n",
    "                    [\n",
    "                        \"can delete users\",\n",
    "                        \"can lock users\",\n",
    "                        \"can unlock users\",\n",
    "                        \"can delete posts\"\n",
    "                    ])\n",
    "\n",
    "me_as_admin.show_privileges()"
   ],
   "id": "4c4df8cbb4526ef5",
   "outputs": [
    {
     "name": "stdout",
     "output_type": "stream",
     "text": [
      "Administrator martin.rist@example.com has the following privileges:\n",
      "- can delete users\n",
      "- can lock users\n",
      "- can unlock users\n",
      "- can delete posts\n"
     ]
    }
   ],
   "execution_count": 14
  },
  {
   "metadata": {},
   "cell_type": "markdown",
   "source": [
    "# 9-8. Privileges:\n",
    "\n",
    "Write a separate `Privileges` class. The class should have one attribute,\n",
    "`privileges`, that stores a list of strings as described in Exercise 9-7.\n",
    "Move the `show_privileges()` method to this class. Make a `Privileges` instance\n",
    "as an attribute in the `Admin` class. Create a new instance of `Admin` and use\n",
    "your method to show its privileges."
   ],
   "id": "190c31c1b9a5e5a6"
  },
  {
   "metadata": {
    "ExecuteTime": {
     "end_time": "2024-07-25T10:12:36.856699Z",
     "start_time": "2024-07-25T10:12:36.851745Z"
    }
   },
   "cell_type": "code",
   "source": [
    "class Privileges:\n",
    "    def __init__(self, privileges):\n",
    "        self.privileges = privileges\n",
    "\n",
    "    def show_privileges(self):\n",
    "        for privilege in self.privileges:\n",
    "            print(f\"- {privilege}\")\n",
    "\n",
    "class Admin(User):\n",
    "\n",
    "    def __init__(self, first_name, last_name, age, email, privileges):\n",
    "        super().__init__(first_name, last_name, age, email)\n",
    "        self.privileges = privileges\n",
    "\n",
    "    def show_privileges(self):\n",
    "        print(f\"Administrator {self.email} has the following privileges:\")\n",
    "        self.privileges.show_privileges()\n",
    "\n",
    "my_privileges = Privileges([\n",
    "    \"can delete users\",\n",
    "    \"can lock users\",\n",
    "    \"can unlock users\",\n",
    "    \"can delete posts\"\n",
    "    ])\n",
    "\n",
    "me_as_admin_2 = Admin(\"Martin\", \"Rist\", 51, \"martin.rist@example.com\", my_privileges)\n",
    "\n",
    "me_as_admin_2.show_privileges()\n"
   ],
   "id": "369e3e06affa9f6e",
   "outputs": [
    {
     "name": "stdout",
     "output_type": "stream",
     "text": [
      "Administrator martin.rist@example.com has the following privileges:\n",
      "- can delete users\n",
      "- can lock users\n",
      "- can unlock users\n",
      "- can delete posts\n"
     ]
    }
   ],
   "execution_count": 15
  },
  {
   "metadata": {},
   "cell_type": "markdown",
   "source": [
    "# 9-10. Imported Restaurant:\n",
    "\n",
    "Using your latest `Restaurant` class, store it in a module. Make a separate\n",
    "file that imports `Restaurant`. Make a `Restaurant` instance, and call one of\n",
    "`Restaurant`’s methods to show that the import statement is working properly."
   ],
   "id": "f87d875a23965b7f"
  },
  {
   "metadata": {
    "ExecuteTime": {
     "end_time": "2024-07-25T10:45:42.743660Z",
     "start_time": "2024-07-25T10:45:42.741591Z"
    }
   },
   "cell_type": "code",
   "source": [
    "import restaurant\n",
    "\n",
    "restaurant = restaurant.Restaurant(\"My Restaurant\", \"French\")\n",
    "restaurant.describe_restaurant()\n"
   ],
   "id": "41f35162da1af2fa",
   "outputs": [
    {
     "name": "stdout",
     "output_type": "stream",
     "text": [
      "My Restaurant serves French cuisine\n"
     ]
    }
   ],
   "execution_count": 17
  },
  {
   "metadata": {},
   "cell_type": "markdown",
   "source": [
    "# 9-11. Imported Admin:\n",
    "\n",
    "Start with your work from Exercise 9-8. Store the classes `User`, `Privileges`,\n",
    "and `Admin` in one module. Create a separate file, make an `Admin` instance,\n",
    "and call `show_privileges()` to show that everything is working correctly."
   ],
   "id": "5f8fdc3611dc1a11"
  },
  {
   "metadata": {
    "ExecuteTime": {
     "end_time": "2024-07-25T10:47:35.059088Z",
     "start_time": "2024-07-25T10:47:35.055294Z"
    }
   },
   "cell_type": "code",
   "source": [
    "import accounts\n",
    "\n",
    "my_privileges = accounts.Privileges([\n",
    "    \"can delete users\",\n",
    "    \"can lock users\",\n",
    "    \"can unlock users\",\n",
    "    \"can delete posts\"\n",
    "])\n",
    "\n",
    "me_as_admin_3 = accounts.Admin(\"Martin\", \"Rist\", 51, \"martin.rist@example.com\", my_privileges)\n",
    "\n",
    "me_as_admin_3.show_privileges()\n"
   ],
   "id": "8971abee294b2ea0",
   "outputs": [
    {
     "name": "stdout",
     "output_type": "stream",
     "text": [
      "Administrator martin.rist@example.com has the following privileges:\n",
      "- can delete users\n",
      "- can lock users\n",
      "- can unlock users\n",
      "- can delete posts\n"
     ]
    }
   ],
   "execution_count": 18
  },
  {
   "metadata": {},
   "cell_type": "markdown",
   "source": [
    "# 9-13. Dice:\n",
    "\n",
    "Make a class `Die` with one attribute called `sides`, which has a default\n",
    "value of 6. Write a method called `roll_die()` that prints a random number\n",
    "between 1 and the number of sides the die has.\n",
    "\n",
    "Make a 6-sided die and roll it 10 times.  Make a 10-sided die and a 20-sided\n",
    "die. Roll each die 10 times."
   ],
   "id": "cc92d437307022a8"
  },
  {
   "metadata": {
    "ExecuteTime": {
     "end_time": "2024-07-25T10:50:38.440100Z",
     "start_time": "2024-07-25T10:50:38.436296Z"
    }
   },
   "cell_type": "code",
   "source": [
    "from random import randint\n",
    "\n",
    "class Die:\n",
    "    \"\"\"An n-sided die\"\"\"\n",
    "\n",
    "    def __init__(self, sides=6):\n",
    "       self.sides = sides\n",
    "\n",
    "    def roll_die(self):\n",
    "        return randint(1, self.sides)\n",
    "\n",
    "d6 = Die()\n",
    "d10 = Die(10)\n",
    "d20 = Die(20)\n",
    "\n",
    "print([d6.roll_die() for _ in range(10)])\n",
    "print([d10.roll_die() for _ in range(10)])\n",
    "print([d20.roll_die() for _ in range(10)])"
   ],
   "id": "90f5aeb9051031",
   "outputs": [
    {
     "name": "stdout",
     "output_type": "stream",
     "text": [
      "[4, 4, 6, 4, 6, 4, 3, 2, 3, 6]\n",
      "[7, 10, 8, 5, 3, 9, 3, 5, 7, 7]\n",
      "[1, 8, 4, 5, 4, 16, 19, 1, 5, 4]\n"
     ]
    }
   ],
   "execution_count": 22
  },
  {
   "metadata": {},
   "cell_type": "markdown",
   "source": [
    "# 9-14. Lottery:\n",
    "\n",
    "Make a list or tuple containing a series of 10 numbers and 5 letters. Randomly\n",
    "select 4 numbers or letters from the list and print a message saying that any\n",
    "ticket matching these 4 numbers or letters wins a prize."
   ],
   "id": "3aa00f15d5296a7d"
  },
  {
   "metadata": {
    "ExecuteTime": {
     "end_time": "2024-07-25T10:52:49.235117Z",
     "start_time": "2024-07-25T10:52:49.231612Z"
    }
   },
   "cell_type": "code",
   "source": [
    "from random import choice\n",
    "\n",
    "alphabet = ('0', '1', '2', '3', '4', '5', '6', '7', '8', '9', 'A', 'B', 'C', 'D', 'E')\n",
    "\n",
    "winning_ticket = \"\".join([choice(alphabet) for _ in range(1, 5)])\n",
    "print(f\"Any ticket matching {winning_ticket} wins!\")"
   ],
   "id": "7f661f12d11991a3",
   "outputs": [
    {
     "name": "stdout",
     "output_type": "stream",
     "text": [
      "Any ticket matching 6C2D wins!\n"
     ]
    }
   ],
   "execution_count": 26
  },
  {
   "metadata": {},
   "cell_type": "markdown",
   "source": [
    "# 9-15. Lottery Analysis:\n",
    "\n",
    "You can use a loop to see how hard it might be to win the kind of lottery you\n",
    "just modeled. Make a list or tuple called `my_ticket`. Write a loop that keeps\n",
    "pulling numbers until your ticket wins. Print a message reporting how many\n",
    "times the loop had to run to give you a winning ticket."
   ],
   "id": "9e1f1399e36c0502"
  },
  {
   "metadata": {
    "ExecuteTime": {
     "end_time": "2024-07-25T10:55:21.216115Z",
     "start_time": "2024-07-25T10:55:21.120818Z"
    }
   },
   "cell_type": "code",
   "source": [
    "my_ticket = \"4D1A\"\n",
    "\n",
    "def winning_ticket():\n",
    "    alphabet = ('0', '1', '2', '3', '4', '5', '6', '7', '8', '9', 'A', 'B', 'C', 'D', 'E')\n",
    "    return \"\".join([choice(alphabet) for _ in range(1, 5)])\n",
    "\n",
    "attempts = 0\n",
    "while True:\n",
    "    attempts += 1\n",
    "    if my_ticket == winning_ticket():\n",
    "        print(f\"Your ticket won in {attempts} attempts\")\n",
    "        break"
   ],
   "id": "c9581c0056c31c5e",
   "outputs": [
    {
     "name": "stdout",
     "output_type": "stream",
     "text": [
      "Your ticket won in 83843 attempts\n"
     ]
    }
   ],
   "execution_count": 31
  },
  {
   "metadata": {},
   "cell_type": "code",
   "outputs": [],
   "execution_count": null,
   "source": "",
   "id": "e9ab59194e7efe63"
  }
 ],
 "metadata": {
  "kernelspec": {
   "display_name": "Python 3",
   "language": "python",
   "name": "python3"
  },
  "language_info": {
   "codemirror_mode": {
    "name": "ipython",
    "version": 2
   },
   "file_extension": ".py",
   "mimetype": "text/x-python",
   "name": "python",
   "nbconvert_exporter": "python",
   "pygments_lexer": "ipython2",
   "version": "2.7.6"
  }
 },
 "nbformat": 4,
 "nbformat_minor": 5
}
