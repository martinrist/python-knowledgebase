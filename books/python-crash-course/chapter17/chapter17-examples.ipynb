{
 "cells": [
  {
   "metadata": {},
   "cell_type": "markdown",
   "source": "# Working with APIs",
   "id": "e7606ba21791faf5"
  },
  {
   "metadata": {
    "ExecuteTime": {
     "end_time": "2024-08-05T13:10:27.857275Z",
     "start_time": "2024-08-05T13:10:26.859617Z"
    }
   },
   "cell_type": "code",
   "source": [
    "import requests\n",
    "\n",
    "url = \"https://api.github.com/search/repositories\"\n",
    "url += \"?q=language:python+sort:stars+stars:>10000\"\n",
    "\n",
    "headers = {\"Accept\": \"application/vnd.github.v3+json\"}\n",
    "r = requests.get(url, headers=headers)\n",
    "\n",
    "print(f\"Status code: {r.status_code}\")"
   ],
   "id": "c286068f85289f91",
   "outputs": [
    {
     "name": "stdout",
     "output_type": "stream",
     "text": [
      "Status code: 200\n",
      "dict_keys(['total_count', 'incomplete_results', 'items'])\n"
     ]
    }
   ],
   "execution_count": 2
  },
  {
   "metadata": {},
   "cell_type": "markdown",
   "source": "Convert the response object to a dictionary and print some summary data",
   "id": "8e2fb2da85edce2a"
  },
  {
   "metadata": {
    "ExecuteTime": {
     "end_time": "2024-08-05T13:12:08.279961Z",
     "start_time": "2024-08-05T13:12:08.276076Z"
    }
   },
   "cell_type": "code",
   "source": [
    "response_dict = r.json()\n",
    "print(f\"Total repositories: {response_dict['total_count']}\")\n",
    "print(f\"Complete results: {not response_dict['incomplete_results']}\")"
   ],
   "id": "1ccfb160214a1fec",
   "outputs": [
    {
     "name": "stdout",
     "output_type": "stream",
     "text": [
      "Total repositories: 517\n",
      "Complete results: True\n"
     ]
    }
   ],
   "execution_count": 3
  },
  {
   "metadata": {},
   "cell_type": "markdown",
   "source": "Explore information about repositories",
   "id": "b461226342488dd3"
  },
  {
   "metadata": {},
   "cell_type": "code",
   "outputs": [
    {
     "name": "stdout",
     "output_type": "stream",
     "text": [
      "Repositories returned: 30\n"
     ]
    }
   ],
   "execution_count": 4,
   "source": [
    "repo_dicts = response_dict['items']\n",
    "print(f\"Repositories returned: {len(repo_dicts)}\")"
   ],
   "id": "7714e6f9edc622ca"
  },
  {
   "metadata": {},
   "cell_type": "markdown",
   "source": "Examine the first repository",
   "id": "8e2dc079bcf64c2"
  },
  {
   "metadata": {
    "ExecuteTime": {
     "end_time": "2024-08-05T13:16:01.679849Z",
     "start_time": "2024-08-05T13:16:01.674902Z"
    }
   },
   "cell_type": "code",
   "source": [
    "repo_dict = repo_dicts[0]\n",
    "print(f\"Keys: {len(repo_dict)}\")\n",
    "\n",
    "print(\"\\nSelected information about first repository:\")\n",
    "print(f\"Name: {repo_dict['name']}\")\n",
    "print(f\"Owner: {repo_dict['owner']['login']}\")\n",
    "print(f\"Stars: {repo_dict['stargazers_count']}\")\n",
    "print(f\"Repository: {repo_dict['html_url']}\")\n",
    "print(f\"Created: {repo_dict['created_at']}\")\n",
    "print(f\"Updated: {repo_dict['updated_at']}\")\n",
    "print(f\"Description: {repo_dict['description']}\")"
   ],
   "id": "a6d0b39e6ed0041c",
   "outputs": [
    {
     "name": "stdout",
     "output_type": "stream",
     "text": [
      "Keys: 80\n",
      "\n",
      "Selected information about first repository:\n",
      "Name: public-apis\n",
      "Owner: public-apis\n",
      "Stars: 308597\n",
      "Repository: https://github.com/public-apis/public-apis\n",
      "Created: 2016-03-20T23:49:42Z\n",
      "Updated: 2024-08-05T13:07:24Z\n",
      "Description: A collective list of free APIs\n"
     ]
    }
   ],
   "execution_count": 8
  },
  {
   "metadata": {},
   "cell_type": "code",
   "outputs": [],
   "execution_count": null,
   "source": "",
   "id": "c15dd5c91fb14c21"
  }
 ],
 "metadata": {
  "kernelspec": {
   "display_name": "Python 3",
   "language": "python",
   "name": "python3"
  },
  "language_info": {
   "codemirror_mode": {
    "name": "ipython",
    "version": 2
   },
   "file_extension": ".py",
   "mimetype": "text/x-python",
   "name": "python",
   "nbconvert_exporter": "python",
   "pygments_lexer": "ipython2",
   "version": "2.7.6"
  }
 },
 "nbformat": 4,
 "nbformat_minor": 5
}
