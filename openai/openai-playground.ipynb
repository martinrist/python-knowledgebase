{
 "cells": [
  {
   "cell_type": "markdown",
   "source": [
    "# OpenAI Playground\n",
    "\n",
    "This playground requires your OpenAI key to be specified in the `OPENAI_API_KEY` environment\n",
    "variable.\n",
    "\n",
    "To do this for a Jupyter Notebook server running in IntelliJ:\n",
    "\n",
    "1. Open IntelliJ settings\n",
    "2. Navigate to _Languages & Frameworks -> Jupyter -> Jupyter Sever\n",
    "3. In _Environment Variables_, add `OPENAI_API_KEY=<your key here>`\n",
    "4. Restart the Jupyter server to pick up the new setting"
   ],
   "metadata": {
    "collapsed": false
   },
   "id": "a1c5564ecdf29cb0"
  },
  {
   "cell_type": "code",
   "outputs": [],
   "source": [
    "from openai import OpenAI\n",
    "client = OpenAI()"
   ],
   "metadata": {
    "collapsed": false,
    "ExecuteTime": {
     "end_time": "2024-01-18T12:27:58.458778Z",
     "start_time": "2024-01-18T12:27:58.268337Z"
    }
   },
   "id": "725da32d10fe9f5e",
   "execution_count": 1
  },
  {
   "cell_type": "code",
   "outputs": [
    {
     "data": {
      "text/plain": "ChatCompletion(id='chatcmpl-8iLqOZJW6VCJYiy8IV3QK8mYK6M3I', choices=[Choice(finish_reason='stop', index=0, logprobs=None, message=ChatCompletionMessage(content=\"Dad is doing well, thank you for asking! He's been busy with work and taking care of the house, but overall he's doing great. Is there anything else you'd like to know about him?\", role='assistant', function_call=None, tool_calls=None))], created=1705581092, model='gpt-3.5-turbo-0613', object='chat.completion', system_fingerprint=None, usage=CompletionUsage(completion_tokens=43, prompt_tokens=19, total_tokens=62))"
     },
     "execution_count": 5,
     "metadata": {},
     "output_type": "execute_result"
    }
   ],
   "source": [
    "response = client.chat.completions.create(\n",
    "    model=\"gpt-3.5-turbo\",\n",
    "    messages=[\n",
    "        {\"role\": \"system\", \"content\": \"You are my mum\"},\n",
    "        {\"role\": \"user\", \"content\": \"How is Dad?\"}\n",
    "    ]\n",
    ")\n",
    "response"
   ],
   "metadata": {
    "collapsed": false,
    "ExecuteTime": {
     "end_time": "2024-01-18T12:31:33.558741Z",
     "start_time": "2024-01-18T12:31:32.385143Z"
    }
   },
   "id": "7c7cbf448eea5cf6",
   "execution_count": 5
  },
  {
   "cell_type": "code",
   "outputs": [],
   "source": [],
   "metadata": {
    "collapsed": false
   },
   "id": "e7fdb58c0328701c"
  }
 ],
 "metadata": {
  "kernelspec": {
   "display_name": "Python 3",
   "language": "python",
   "name": "python3"
  },
  "language_info": {
   "codemirror_mode": {
    "name": "ipython",
    "version": 2
   },
   "file_extension": ".py",
   "mimetype": "text/x-python",
   "name": "python",
   "nbconvert_exporter": "python",
   "pygments_lexer": "ipython2",
   "version": "2.7.6"
  }
 },
 "nbformat": 4,
 "nbformat_minor": 5
}
