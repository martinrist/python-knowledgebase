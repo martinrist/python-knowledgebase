{
 "cells": [
  {
   "cell_type": "code",
   "execution_count": 74,
   "id": "initial_id",
   "metadata": {
    "collapsed": true,
    "ExecuteTime": {
     "end_time": "2024-03-03T17:43:10.244041Z",
     "start_time": "2024-03-03T17:43:10.111237Z"
    }
   },
   "outputs": [],
   "source": [
    "import boto3\n",
    "boto3.setup_default_session(profile_name='AdministratorAccess-xDSandbox')\n",
    "client = boto3.client('dynamodb')"
   ]
  },
  {
   "cell_type": "code",
   "outputs": [
    {
     "data": {
      "text/plain": "{'Items': [{'Movie': {'S': 'Toy Story'},\n   'Role': {'S': 'Woody'},\n   'Actor': {'S': 'Tom Hanks'},\n   'Genre': {'S': \"Children's\"},\n   'Year': {'N': '1995'}},\n  {'Movie': {'S': 'Cast Away'},\n   'Role': {'S': 'Chuck Noland'},\n   'Actor': {'S': 'Tom Hanks'},\n   'Genre': {'S': 'Drama'},\n   'Year': {'N': '2000'}}],\n 'Count': 2,\n 'ScannedCount': 2,\n 'ResponseMetadata': {'RequestId': '436QK81OQCUF3NIFRK94883KO7VV4KQNSO5AEMVJF66Q9ASUAAJG',\n  'HTTPStatusCode': 200,\n  'HTTPHeaders': {'server': 'Server',\n   'date': 'Sun, 03 Mar 2024 17:43:10 GMT',\n   'content-type': 'application/x-amz-json-1.0',\n   'content-length': '284',\n   'connection': 'keep-alive',\n   'x-amzn-requestid': '436QK81OQCUF3NIFRK94883KO7VV4KQNSO5AEMVJF66Q9ASUAAJG',\n   'x-amz-crc32': '3213372331'},\n  'RetryAttempts': 0}}"
     },
     "execution_count": 75,
     "metadata": {},
     "output_type": "execute_result"
    }
   ],
   "source": [
    "client.query(\n",
    "    TableName='martinrist-MoviesAndActors',\n",
    "    KeyConditionExpression='#actor = :actor AND #movie BETWEEN :a AND :z',\n",
    "    ExpressionAttributeNames={\n",
    "        '#actor': 'Actor',\n",
    "        '#movie': 'Movie'\n",
    "    },\n",
    "    ExpressionAttributeValues={\n",
    "        ':actor': { 'S': 'Tom Hanks' },\n",
    "        ':a': { 'S': 'A' },\n",
    "        ':z': { 'S': 'Z' }\n",
    "    },\n",
    "    ScanIndexForward=False\n",
    ")"
   ],
   "metadata": {
    "collapsed": false,
    "ExecuteTime": {
     "end_time": "2024-03-03T17:43:10.652040Z",
     "start_time": "2024-03-03T17:43:10.245281Z"
    }
   },
   "id": "7f255abfc77cd6f7",
   "execution_count": 75
  },
  {
   "cell_type": "code",
   "outputs": [
    {
     "data": {
      "text/plain": "[{'Movie': {'S': 'Black Swan'},\n  'Role': {'S': 'Nina Sayers'},\n  'Actor': {'S': 'Natalie Portman'},\n  'Genre': {'S': 'Drama'},\n  'Year': {'N': '2010'}}]"
     },
     "execution_count": 76,
     "metadata": {},
     "output_type": "execute_result"
    }
   ],
   "source": [
    "client.query(\n",
    "    TableName='martinrist-MoviesAndActors',\n",
    "    KeyConditionExpression='#actor = :actor AND begins_with(#movie, :black)',\n",
    "    ExpressionAttributeNames={\n",
    "        '#actor': 'Actor',\n",
    "        '#movie': 'Movie'\n",
    "    },\n",
    "    ExpressionAttributeValues={\n",
    "        ':actor': { 'S': 'Natalie Portman' },\n",
    "        ':black': { 'S': 'Black' }\n",
    "    }\n",
    ")['Items']"
   ],
   "metadata": {
    "collapsed": false,
    "ExecuteTime": {
     "end_time": "2024-03-03T17:43:10.689988Z",
     "start_time": "2024-03-03T17:43:10.652855Z"
    }
   },
   "id": "241406a6e0994fe3",
   "execution_count": 76
  },
  {
   "cell_type": "code",
   "outputs": [
    {
     "data": {
      "text/plain": "[{'Movie': {'S': 'Cast Away'},\n  'Role': {'S': 'Chuck Noland'},\n  'Actor': {'S': 'Tom Hanks'},\n  'Genre': {'S': 'Drama'},\n  'Year': {'N': '2000'}}]"
     },
     "execution_count": 77,
     "metadata": {},
     "output_type": "execute_result"
    }
   ],
   "source": [
    "client.query(\n",
    "    TableName='martinrist-MoviesAndActors',\n",
    "    KeyConditionExpression='#actor = :actor',\n",
    "    FilterExpression='#year > :year',\n",
    "    ExpressionAttributeNames={\n",
    "        '#actor': 'Actor',\n",
    "        '#year': 'Year'\n",
    "    },\n",
    "    ExpressionAttributeValues={\n",
    "        ':actor': { 'S': 'Tom Hanks' },\n",
    "        ':year': { 'N': '1995' }\n",
    "    }\n",
    "    \n",
    ")['Items']"
   ],
   "metadata": {
    "collapsed": false,
    "ExecuteTime": {
     "end_time": "2024-03-03T17:43:10.739119Z",
     "start_time": "2024-03-03T17:43:10.691380Z"
    }
   },
   "id": "5c33dc82731c5652",
   "execution_count": 77
  },
  {
   "cell_type": "code",
   "outputs": [
    {
     "data": {
      "text/plain": "[{'Movie': {'S': 'Toy Story'},\n  'Actor': {'S': 'Tom Hanks'},\n  'Genre': {'S': \"Children's\"}},\n {'Movie': {'S': 'Toy Story'},\n  'Actor': {'S': 'Tim Allen'},\n  'Genre': {'S': \"Children's\"}}]"
     },
     "execution_count": 78,
     "metadata": {},
     "output_type": "execute_result"
    }
   ],
   "source": [
    "client.scan(\n",
    "    TableName='martinrist-MoviesAndActors',\n",
    "    FilterExpression='#genre = :genre',\n",
    "    ProjectionExpression='#actor, #movie, #genre',\n",
    "    ExpressionAttributeNames={\n",
    "        '#genre': 'Genre',\n",
    "        '#actor': 'Actor',\n",
    "        '#movie': 'Movie'\n",
    "    },\n",
    "    ExpressionAttributeValues={\n",
    "        ':genre': { 'S': 'Children\\'s' }\n",
    "    }\n",
    "    \n",
    ")['Items']"
   ],
   "metadata": {
    "collapsed": false,
    "ExecuteTime": {
     "end_time": "2024-03-03T17:43:10.776952Z",
     "start_time": "2024-03-03T17:43:10.740245Z"
    }
   },
   "id": "684ce81f4dfce32f",
   "execution_count": 78
  }
 ],
 "metadata": {
  "kernelspec": {
   "display_name": "Python 3",
   "language": "python",
   "name": "python3"
  },
  "language_info": {
   "codemirror_mode": {
    "name": "ipython",
    "version": 2
   },
   "file_extension": ".py",
   "mimetype": "text/x-python",
   "name": "python",
   "nbconvert_exporter": "python",
   "pygments_lexer": "ipython2",
   "version": "2.7.6"
  }
 },
 "nbformat": 4,
 "nbformat_minor": 5
}
