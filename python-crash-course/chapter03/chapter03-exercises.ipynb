{
 "cells": [
  {
   "cell_type": "markdown",
   "source": [
    "# Chapter 3 - Introducing Lists"
   ],
   "metadata": {
    "collapsed": false
   },
   "id": "49a209f1b718ecac"
  },
  {
   "cell_type": "markdown",
   "source": [
    "## 3-1. Names"
   ],
   "metadata": {
    "collapsed": false
   },
   "id": "afaa50ee82870d8c"
  },
  {
   "cell_type": "code",
   "outputs": [],
   "source": [
    "# Store the names of a few of your friends in a list called names.\n",
    "names = [\"Alice\", \"Bob\", \"Carol\", \"David\", \"Eve\", \"Frank\"]"
   ],
   "metadata": {
    "collapsed": true,
    "ExecuteTime": {
     "end_time": "2024-01-18T10:24:58.656160Z",
     "start_time": "2024-01-18T10:24:58.572377Z"
    }
   },
   "id": "initial_id",
   "execution_count": 114
  },
  {
   "cell_type": "code",
   "outputs": [
    {
     "name": "stdout",
     "output_type": "stream",
     "text": [
      "names = ['Alice', 'Bob', 'Carol', 'David', 'Eve', 'Frank']\n",
      "names[0] = Alice\n",
      "names[1] = Bob\n",
      "names[-1] = Frank\n"
     ]
    }
   ],
   "source": [
    "# Print each person’s name by accessing each element in the list, one at a time.\n",
    "print(f\"names = {names}\")\n",
    "print(f\"names[0] = {names[0]}\")\n",
    "print(f\"names[1] = {names[1]}\")\n",
    "print(f\"names[-1] = {names[-1]}\")"
   ],
   "metadata": {
    "collapsed": false,
    "ExecuteTime": {
     "end_time": "2024-01-18T10:24:58.659033Z",
     "start_time": "2024-01-18T10:24:58.650678Z"
    }
   },
   "id": "e2024cb31608b33b",
   "execution_count": 115
  },
  {
   "cell_type": "markdown",
   "source": [
    "## 3-2. Greetings"
   ],
   "metadata": {
    "collapsed": false
   },
   "id": "9f596cd9f614364c"
  },
  {
   "cell_type": "code",
   "outputs": [
    {
     "name": "stdout",
     "output_type": "stream",
     "text": [
      "Hello Alice, how are you?\n",
      "Hello Bob, how are you?\n",
      "Hello Frank, how are you?\n"
     ]
    }
   ],
   "source": [
    "# Start with the list you used in Exercise 3-1, but instead of just printing each person’s name,\n",
    "# print a message to them. The text of each message should be the same, but each message should be\n",
    "# personalized with the person’s name.\n",
    "print(f\"Hello {names[0]}, how are you?\")\n",
    "print(f\"Hello {names[1]}, how are you?\")\n",
    "print(f\"Hello {names[-1]}, how are you?\")"
   ],
   "metadata": {
    "collapsed": false,
    "ExecuteTime": {
     "end_time": "2024-01-18T10:24:58.670554Z",
     "start_time": "2024-01-18T10:24:58.661312Z"
    }
   },
   "id": "857744aa86794437",
   "execution_count": 116
  },
  {
   "cell_type": "markdown",
   "source": [
    "## 3-3. Your Own List"
   ],
   "metadata": {
    "collapsed": false
   },
   "id": "5fb11f8c9608db14"
  },
  {
   "cell_type": "code",
   "outputs": [],
   "source": [
    "# Think of your favorite mode of transportation, such as a motorcycle or a car, and make a list\n",
    "# that stores several examples.\n",
    "bikes = [\"Raleigh\", \"Vitus\", \"Brand-X\", \"Cervelo\"]"
   ],
   "metadata": {
    "collapsed": false,
    "ExecuteTime": {
     "end_time": "2024-01-18T10:24:58.671003Z",
     "start_time": "2024-01-18T10:24:58.663928Z"
    }
   },
   "id": "a0abb2089c237c76",
   "execution_count": 117
  },
  {
   "cell_type": "code",
   "outputs": [
    {
     "name": "stdout",
     "output_type": "stream",
     "text": [
      "I would like to own a Cervelo bike\n"
     ]
    }
   ],
   "source": [
    "# Use your list to print a series of statements about these items,\n",
    "# such as “I would like to own a Honda motorcycle.”\n",
    "print(f\"I would like to own a {bikes[-1]} bike\")"
   ],
   "metadata": {
    "collapsed": false,
    "ExecuteTime": {
     "end_time": "2024-01-18T10:24:58.696785Z",
     "start_time": "2024-01-18T10:24:58.672113Z"
    }
   },
   "id": "3f7e1aa504913faa",
   "execution_count": 118
  },
  {
   "cell_type": "markdown",
   "source": [
    "## 3-4. Guest List"
   ],
   "metadata": {
    "collapsed": false
   },
   "id": "32622e240c289ef"
  },
  {
   "cell_type": "code",
   "outputs": [],
   "source": [
    "# If you could invite anyone, living or deceased, to dinner, who would you invite?\n",
    "# Make a list that includes at least three people you’d like to invite to dinner.\n",
    "guests = [\"Newton\", \"Einstein\", \"Penrose\", \"Hawking\"]"
   ],
   "metadata": {
    "collapsed": false,
    "ExecuteTime": {
     "end_time": "2024-01-18T10:24:58.698430Z",
     "start_time": "2024-01-18T10:24:58.686497Z"
    }
   },
   "id": "a22b774f1430fc",
   "execution_count": 119
  },
  {
   "cell_type": "code",
   "outputs": [
    {
     "name": "stdout",
     "output_type": "stream",
     "text": [
      "Hey Newton. Would you like to come to dinner?\n",
      "Hey Einstein. Would you like to come to dinner?\n",
      "Hey Penrose. Would you like to come to dinner?\n",
      "Hey Hawking. Would you like to come to dinner?\n"
     ]
    }
   ],
   "source": [
    "# Then use your list to print a message to each person, inviting them to dinner.\n",
    "for guest in guests:\n",
    "    print(f\"Hey {guest}. Would you like to come to dinner?\")"
   ],
   "metadata": {
    "collapsed": false,
    "ExecuteTime": {
     "end_time": "2024-01-18T10:24:58.710912Z",
     "start_time": "2024-01-18T10:24:58.700240Z"
    }
   },
   "id": "cb7d96c4af043409",
   "execution_count": 120
  },
  {
   "cell_type": "markdown",
   "source": [
    "## 3-5. Changing Guest List"
   ],
   "metadata": {
    "collapsed": false
   },
   "id": "bd7fa7e7d38a9279"
  },
  {
   "cell_type": "code",
   "outputs": [
    {
     "name": "stdout",
     "output_type": "stream",
     "text": [
      "Penrose can't make your dinner - they have another appointment.  Inviting Kaku instead\n"
     ]
    }
   ],
   "source": [
    "# You just heard that one of your guests can’t make the dinner, so you need to send out a\n",
    "# new set of invitations. You’ll have to think of someone else to invite.\n",
    "\n",
    "# Start with your program from Exercise 3-4. Add a print() call at the end of your program,\n",
    "# stating the name of the guest who can’t make it.\n",
    "no_show = \"Penrose\"\n",
    "replacement_guest = \"Kaku\"\n",
    "print(f\"{no_show} can't make your dinner - they have another appointment.  Inviting {replacement_guest} instead\")"
   ],
   "metadata": {
    "collapsed": false,
    "ExecuteTime": {
     "end_time": "2024-01-18T10:24:58.711482Z",
     "start_time": "2024-01-18T10:24:58.702955Z"
    }
   },
   "id": "5bf27142a523b06f",
   "execution_count": 121
  },
  {
   "cell_type": "code",
   "outputs": [],
   "source": [
    "# Modify your list, replacing the name of the guest who can’t make it with the name of the\n",
    "# new person you are inviting.\n",
    "guests.remove(no_show)\n",
    "guests.append(replacement_guest)"
   ],
   "metadata": {
    "collapsed": false,
    "ExecuteTime": {
     "end_time": "2024-01-18T10:24:58.741821Z",
     "start_time": "2024-01-18T10:24:58.712915Z"
    }
   },
   "id": "361d644604093532",
   "execution_count": 122
  },
  {
   "cell_type": "code",
   "outputs": [
    {
     "name": "stdout",
     "output_type": "stream",
     "text": [
      "Hey Newton. Would you like to come to dinner?\n",
      "Hey Einstein. Would you like to come to dinner?\n",
      "Hey Hawking. Would you like to come to dinner?\n",
      "Hey Kaku. Would you like to come to dinner?\n"
     ]
    }
   ],
   "source": [
    "# Print a second set of invitation messages, one for each person who is still in your list.\n",
    "for guest in guests:\n",
    "    print(f\"Hey {guest}. Would you like to come to dinner?\")"
   ],
   "metadata": {
    "collapsed": false,
    "ExecuteTime": {
     "end_time": "2024-01-18T10:24:58.756734Z",
     "start_time": "2024-01-18T10:24:58.743545Z"
    }
   },
   "id": "1b4dba13d14d11ee",
   "execution_count": 123
  },
  {
   "cell_type": "markdown",
   "source": [
    "## 3-6. More Guests"
   ],
   "metadata": {
    "collapsed": false
   },
   "id": "5a902d3885e6cc72"
  },
  {
   "cell_type": "code",
   "outputs": [
    {
     "name": "stdout",
     "output_type": "stream",
     "text": [
      "Found a bigger table - inviting three more guests\n"
     ]
    }
   ],
   "source": [
    "# You just found a bigger dinner table, so now more space is available. Think of three more\n",
    "# guests to invite to dinner.\n",
    "\n",
    "# Start with your program from Exercise 3-4 or 3-5. Add a print() call to the end of your program,\n",
    "# informing people that you found a bigger table.\n",
    "print(\"Found a bigger table - inviting three more guests\")\n"
   ],
   "metadata": {
    "collapsed": false,
    "ExecuteTime": {
     "end_time": "2024-01-18T10:24:58.769175Z",
     "start_time": "2024-01-18T10:24:58.758185Z"
    }
   },
   "id": "161ce3eb118e853d",
   "execution_count": 124
  },
  {
   "cell_type": "code",
   "outputs": [],
   "source": [
    "# Use insert() to add one new guest to the beginning of your list.\n",
    "guests.insert(0, \"Best\")"
   ],
   "metadata": {
    "collapsed": false,
    "ExecuteTime": {
     "end_time": "2024-01-18T10:24:58.769940Z",
     "start_time": "2024-01-18T10:24:58.761840Z"
    }
   },
   "id": "a290895f81ec63b8",
   "execution_count": 125
  },
  {
   "cell_type": "code",
   "outputs": [],
   "source": [
    "# Use insert() to add one new guest to the middle of your list.\n",
    "guests.insert(3, \"Thompson\")"
   ],
   "metadata": {
    "collapsed": false,
    "ExecuteTime": {
     "end_time": "2024-01-18T10:24:58.792171Z",
     "start_time": "2024-01-18T10:24:58.771462Z"
    }
   },
   "id": "a29d3e688e9f5f7b",
   "execution_count": 126
  },
  {
   "cell_type": "code",
   "outputs": [],
   "source": [
    "# Use append() to add one new guest to the end of your list.\n",
    "guests.append(\"Kipchoge\")"
   ],
   "metadata": {
    "collapsed": false,
    "ExecuteTime": {
     "end_time": "2024-01-18T10:24:58.806418Z",
     "start_time": "2024-01-18T10:24:58.793156Z"
    }
   },
   "id": "64646810fe54acb9",
   "execution_count": 127
  },
  {
   "cell_type": "code",
   "outputs": [
    {
     "name": "stdout",
     "output_type": "stream",
     "text": [
      "Hey Best. Would you like to come to dinner?\n",
      "Hey Newton. Would you like to come to dinner?\n",
      "Hey Einstein. Would you like to come to dinner?\n",
      "Hey Thompson. Would you like to come to dinner?\n",
      "Hey Hawking. Would you like to come to dinner?\n",
      "Hey Kaku. Would you like to come to dinner?\n",
      "Hey Kipchoge. Would you like to come to dinner?\n"
     ]
    }
   ],
   "source": [
    "# Print a new set of invitation messages, one for each person in your list.\n",
    "for guest in guests:\n",
    "    print(f\"Hey {guest}. Would you like to come to dinner?\")"
   ],
   "metadata": {
    "collapsed": false,
    "ExecuteTime": {
     "end_time": "2024-01-18T10:24:58.807275Z",
     "start_time": "2024-01-18T10:24:58.796403Z"
    }
   },
   "id": "ab9103c63bea6980",
   "execution_count": 128
  },
  {
   "cell_type": "markdown",
   "source": [
    "## 3-7. Shrinking Guest List"
   ],
   "metadata": {
    "collapsed": false
   },
   "id": "b7ba3f51e1e64007"
  },
  {
   "cell_type": "code",
   "outputs": [
    {
     "name": "stdout",
     "output_type": "stream",
     "text": [
      "Sorry, I've just found out I can only invite two guests for dinner\n"
     ]
    }
   ],
   "source": [
    "# You just found out that your new dinner table won’t arrive in time for the dinner,\n",
    "# and now you have space for only two guests.\n",
    "\n",
    "# Start with your program from Exercise 3-6. Add a new line that prints a message\n",
    "# saying that you can invite only two people for dinner.\n",
    "print(\"Sorry, I've just found out I can only invite two guests for dinner\")"
   ],
   "metadata": {
    "collapsed": false,
    "ExecuteTime": {
     "end_time": "2024-01-18T10:24:58.817813Z",
     "start_time": "2024-01-18T10:24:58.809154Z"
    }
   },
   "id": "976f2a17d850ce1e",
   "execution_count": 129
  },
  {
   "cell_type": "code",
   "outputs": [
    {
     "name": "stdout",
     "output_type": "stream",
     "text": [
      "Sorry, Best, I can't invite you any more\n",
      "Sorry, Newton, I can't invite you any more\n",
      "Sorry, Einstein, I can't invite you any more\n",
      "Sorry, Thompson, I can't invite you any more\n",
      "Sorry, Hawking, I can't invite you any more\n"
     ]
    }
   ],
   "source": [
    "# Use pop() to remove guests from your list one at a time until only two names remain\n",
    "# in your list. Each time you pop a name from your list, print a message to that person\n",
    "# letting them know you’re sorry you can’t invite them to dinner.\n",
    "while len(guests) > 2:\n",
    "    removed_guest = guests.pop(0)\n",
    "    print(f\"Sorry, {removed_guest}, I can't invite you any more\")"
   ],
   "metadata": {
    "collapsed": false,
    "ExecuteTime": {
     "end_time": "2024-01-18T10:24:58.829016Z",
     "start_time": "2024-01-18T10:24:58.819157Z"
    }
   },
   "id": "238f33e9c8c06df5",
   "execution_count": 130
  },
  {
   "cell_type": "code",
   "outputs": [
    {
     "name": "stdout",
     "output_type": "stream",
     "text": [
      "Hey Kaku. You're still on the invitation list!\n",
      "Hey Kipchoge. You're still on the invitation list!\n"
     ]
    }
   ],
   "source": [
    "# Print a message to each of the two people still on your list, letting them know\n",
    "# they’re still invited.\n",
    "for guest in guests:\n",
    "    print(f\"Hey {guest}. You're still on the invitation list!\")"
   ],
   "metadata": {
    "collapsed": false,
    "ExecuteTime": {
     "end_time": "2024-01-18T10:24:58.830631Z",
     "start_time": "2024-01-18T10:24:58.821983Z"
    }
   },
   "id": "21b050010c5545a4",
   "execution_count": 131
  },
  {
   "cell_type": "code",
   "outputs": [],
   "source": [
    "# Use del to remove the last two names from your list, so you have an empty list.\n",
    "del(guests[0])\n",
    "del(guests[0])"
   ],
   "metadata": {
    "collapsed": false,
    "ExecuteTime": {
     "end_time": "2024-01-18T10:24:58.831060Z",
     "start_time": "2024-01-18T10:24:58.824576Z"
    }
   },
   "id": "af32df0d9ec46cfa",
   "execution_count": 132
  },
  {
   "cell_type": "code",
   "outputs": [
    {
     "name": "stdout",
     "output_type": "stream",
     "text": [
      "[]\n"
     ]
    }
   ],
   "source": [
    "# Print your list to make sure you actually have an empty list at the end of your program.\n",
    "print(guests)"
   ],
   "metadata": {
    "collapsed": false,
    "ExecuteTime": {
     "end_time": "2024-01-18T10:24:58.862332Z",
     "start_time": "2024-01-18T10:24:58.832298Z"
    }
   },
   "id": "59cc71ed96de638a",
   "execution_count": 133
  },
  {
   "cell_type": "markdown",
   "source": [
    "## 3-8. Seeing the World"
   ],
   "metadata": {
    "collapsed": false
   },
   "id": "81babe02ef5885b7"
  },
  {
   "cell_type": "code",
   "outputs": [],
   "source": [
    "# Think of at least five places in the world you’d like to visit.  Store the locations in a\n",
    "# list. Make sure the list is not in alphabetical order.\n",
    "locations = [\"Japan\", \"China\", \"Brazil\", \"Chile\", \"Egypt\", \"Poland\"]"
   ],
   "metadata": {
    "collapsed": false,
    "ExecuteTime": {
     "end_time": "2024-01-18T10:24:58.886511Z",
     "start_time": "2024-01-18T10:24:58.863529Z"
    }
   },
   "id": "b23a7abb90766503",
   "execution_count": 134
  },
  {
   "cell_type": "code",
   "outputs": [
    {
     "data": {
      "text/plain": "['Japan', 'China', 'Brazil', 'Chile', 'Egypt', 'Poland']"
     },
     "execution_count": 135,
     "metadata": {},
     "output_type": "execute_result"
    }
   ],
   "source": [
    "# Print your list in its original order. Don’t worry about printing the list neatly,\n",
    "# just print it as a raw Python list.\n",
    "locations"
   ],
   "metadata": {
    "collapsed": false,
    "ExecuteTime": {
     "end_time": "2024-01-18T10:24:58.906738Z",
     "start_time": "2024-01-18T10:24:58.887764Z"
    }
   },
   "id": "fa36ff769a114278",
   "execution_count": 135
  },
  {
   "cell_type": "code",
   "outputs": [
    {
     "data": {
      "text/plain": "['Brazil', 'Chile', 'China', 'Egypt', 'Japan', 'Poland']"
     },
     "execution_count": 136,
     "metadata": {},
     "output_type": "execute_result"
    }
   ],
   "source": [
    "# Use sorted() to print your list in alphabetical order without modifying the actual list.\n",
    "sorted(locations)"
   ],
   "metadata": {
    "collapsed": false,
    "ExecuteTime": {
     "end_time": "2024-01-18T10:24:58.908486Z",
     "start_time": "2024-01-18T10:24:58.898174Z"
    }
   },
   "id": "cf90ad94fcf98dd8",
   "execution_count": 136
  },
  {
   "cell_type": "code",
   "outputs": [
    {
     "data": {
      "text/plain": "['Japan', 'China', 'Brazil', 'Chile', 'Egypt', 'Poland']"
     },
     "execution_count": 137,
     "metadata": {},
     "output_type": "execute_result"
    }
   ],
   "source": [
    "# Show that your list is still in its original order by printing it.\n",
    "locations"
   ],
   "metadata": {
    "collapsed": false,
    "ExecuteTime": {
     "end_time": "2024-01-18T10:24:58.920308Z",
     "start_time": "2024-01-18T10:24:58.910010Z"
    }
   },
   "id": "b1596bdf72e8a45e",
   "execution_count": 137
  },
  {
   "cell_type": "code",
   "outputs": [
    {
     "data": {
      "text/plain": "['Poland', 'Japan', 'Egypt', 'China', 'Chile', 'Brazil']"
     },
     "execution_count": 138,
     "metadata": {},
     "output_type": "execute_result"
    }
   ],
   "source": [
    "# Use sorted() to print your list in reverse-alphabetical order without changing the order of the original list.\n",
    "sorted(locations, reverse=True)"
   ],
   "metadata": {
    "collapsed": false,
    "ExecuteTime": {
     "end_time": "2024-01-18T10:24:58.920893Z",
     "start_time": "2024-01-18T10:24:58.912617Z"
    }
   },
   "id": "37c68d8ac3e723f2",
   "execution_count": 138
  },
  {
   "cell_type": "code",
   "outputs": [
    {
     "data": {
      "text/plain": "['Japan', 'China', 'Brazil', 'Chile', 'Egypt', 'Poland']"
     },
     "execution_count": 139,
     "metadata": {},
     "output_type": "execute_result"
    }
   ],
   "source": [
    "# Show that your list is still in its original order by printing it again.\n",
    "locations"
   ],
   "metadata": {
    "collapsed": false,
    "ExecuteTime": {
     "end_time": "2024-01-18T10:24:58.956577Z",
     "start_time": "2024-01-18T10:24:58.922354Z"
    }
   },
   "id": "4294edbef90441b7",
   "execution_count": 139
  },
  {
   "cell_type": "code",
   "outputs": [
    {
     "data": {
      "text/plain": "['Poland', 'Egypt', 'Chile', 'Brazil', 'China', 'Japan']"
     },
     "execution_count": 140,
     "metadata": {},
     "output_type": "execute_result"
    }
   ],
   "source": [
    "# Use reverse() to change the order of your list. Print the list to show that its order has changed.\n",
    "locations.reverse()\n",
    "locations"
   ],
   "metadata": {
    "collapsed": false,
    "ExecuteTime": {
     "end_time": "2024-01-18T10:24:58.975980Z",
     "start_time": "2024-01-18T10:24:58.957200Z"
    }
   },
   "id": "ff01743396819205",
   "execution_count": 140
  },
  {
   "cell_type": "code",
   "outputs": [
    {
     "data": {
      "text/plain": "['Japan', 'China', 'Brazil', 'Chile', 'Egypt', 'Poland']"
     },
     "execution_count": 141,
     "metadata": {},
     "output_type": "execute_result"
    }
   ],
   "source": [
    "# Use reverse() to change the order of your list again. Print the list to show it’s back to its original order.\n",
    "locations.reverse()\n",
    "locations"
   ],
   "metadata": {
    "collapsed": false,
    "ExecuteTime": {
     "end_time": "2024-01-18T10:24:58.988459Z",
     "start_time": "2024-01-18T10:24:58.977391Z"
    }
   },
   "id": "d2bcb8652a4c48bf",
   "execution_count": 141
  },
  {
   "cell_type": "code",
   "outputs": [
    {
     "data": {
      "text/plain": "['Brazil', 'Chile', 'China', 'Egypt', 'Japan', 'Poland']"
     },
     "execution_count": 142,
     "metadata": {},
     "output_type": "execute_result"
    }
   ],
   "source": [
    "# - Use sort() to change your list so it’s stored in alphabetical order. Print the list to show that its order has been changed.\n",
    "locations.sort()\n",
    "locations"
   ],
   "metadata": {
    "collapsed": false,
    "ExecuteTime": {
     "end_time": "2024-01-18T10:24:58.989138Z",
     "start_time": "2024-01-18T10:24:58.979765Z"
    }
   },
   "id": "fe4fcb6a4c5533dc",
   "execution_count": 142
  },
  {
   "cell_type": "code",
   "outputs": [
    {
     "data": {
      "text/plain": "['Poland', 'Japan', 'Egypt', 'China', 'Chile', 'Brazil']"
     },
     "execution_count": 143,
     "metadata": {},
     "output_type": "execute_result"
    }
   ],
   "source": [
    "# - Use sort() to change your list so it’s stored in reverse-alphabetical order. Print the list to show that its order has changed.\n",
    "locations.sort(reverse=True)\n",
    "locations"
   ],
   "metadata": {
    "collapsed": false,
    "ExecuteTime": {
     "end_time": "2024-01-18T10:24:58.999964Z",
     "start_time": "2024-01-18T10:24:58.990418Z"
    }
   },
   "id": "38c74e257dc14eb6",
   "execution_count": 143
  },
  {
   "cell_type": "markdown",
   "source": [
    "## 3-9. Dinner Guests"
   ],
   "metadata": {
    "collapsed": false
   },
   "id": "f64918d3093fed6d"
  },
  {
   "cell_type": "code",
   "outputs": [
    {
     "name": "stdout",
     "output_type": "stream",
     "text": [
      "I'm now inviting 4 guests to dinner\n"
     ]
    }
   ],
   "source": [
    "# Working with one of the programs from Exercises 3-4 through 3-7, use len() to print\n",
    "# a message indicating the number of people you’re inviting to dinner.\n",
    "guests = [\"Newton\", \"Einstein\", \"Penrose\", \"Hawking\"]\n",
    "print(f\"I'm now inviting {len(guests)} guests to dinner\")"
   ],
   "metadata": {
    "collapsed": false,
    "ExecuteTime": {
     "end_time": "2024-01-18T10:25:40.171318Z",
     "start_time": "2024-01-18T10:25:40.161529Z"
    }
   },
   "id": "ebf700605c48daba",
   "execution_count": 146
  }
 ],
 "metadata": {
  "kernelspec": {
   "display_name": "Python 3",
   "language": "python",
   "name": "python3"
  },
  "language_info": {
   "codemirror_mode": {
    "name": "ipython",
    "version": 2
   },
   "file_extension": ".py",
   "mimetype": "text/x-python",
   "name": "python",
   "nbconvert_exporter": "python",
   "pygments_lexer": "ipython2",
   "version": "2.7.6"
  }
 },
 "nbformat": 4,
 "nbformat_minor": 5
}
