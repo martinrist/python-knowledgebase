{
 "cells": [
  {
   "cell_type": "markdown",
   "id": "6aa3058e",
   "metadata": {},
   "source": [
    "## Squaring Up"
   ]
  },
  {
   "cell_type": "markdown",
   "id": "5af7d03e",
   "metadata": {},
   "source": [
    "**HINT 1:** Two triangles, when added together, make a square"
   ]
  },
  {
   "cell_type": "markdown",
   "id": "904577f5",
   "metadata": {},
   "source": [
    "**HINT 2:** Your two triangles will be of different sizes"
   ]
  },
  {
   "cell_type": "markdown",
   "id": "9b094dfc-9e6e-40f8-a343-aee8db57af38",
   "metadata": {},
   "source": [
    "**HINT 3:** Here are some examples for you:\n",
    "\n",
    "triangle(2) + triangle(3) = 3 + 6 = 9\n",
    "\n",
    "triangle(3) + triangle(4) = 6 + 10 = 16"
   ]
  },
  {
   "cell_type": "code",
   "id": "687b1069-7a8c-46bc-b1c6-6ab94fe4a1e7",
   "metadata": {
    "ExecuteTime": {
     "end_time": "2024-06-21T15:46:02.766704Z",
     "start_time": "2024-06-21T15:46:02.762051Z"
    }
   },
   "source": [
    "def triangle(num):\n",
    "    if num == 1:\n",
    "        return num\n",
    "    return num + triangle(num - 1)\n",
    "\n",
    "def square(num):\n",
    "    return triangle(num - 1) + triangle(num) if num > 1 else 1\n",
    "\n",
    "square(-5)"
   ],
   "outputs": [
    {
     "data": {
      "text/plain": [
       "1"
      ]
     },
     "execution_count": 4,
     "metadata": {},
     "output_type": "execute_result"
    }
   ],
   "execution_count": 4
  },
  {
   "metadata": {},
   "cell_type": "code",
   "outputs": [],
   "execution_count": null,
   "source": "",
   "id": "8085f314f1048f57"
  }
 ],
 "metadata": {
  "kernelspec": {
   "display_name": "Python 3 (ipykernel)",
   "language": "python",
   "name": "python3"
  },
  "language_info": {
   "codemirror_mode": {
    "name": "ipython",
    "version": 3
   },
   "file_extension": ".py",
   "mimetype": "text/x-python",
   "name": "python",
   "nbconvert_exporter": "python",
   "pygments_lexer": "ipython3",
   "version": "3.9.13"
  },
  "vscode": {
   "interpreter": {
    "hash": "949777d72b0d2535278d3dc13498b2535136f6dfe0678499012e853ee9abcab1"
   }
  }
 },
 "nbformat": 4,
 "nbformat_minor": 5
}
