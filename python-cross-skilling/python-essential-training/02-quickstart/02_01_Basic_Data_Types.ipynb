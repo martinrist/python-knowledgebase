{
 "cells": [
  {
   "cell_type": "markdown",
   "id": "72e8177d",
   "metadata": {},
   "source": [
    "# Basic Data Types"
   ]
  },
  {
   "cell_type": "markdown",
   "id": "62f373f2",
   "metadata": {},
   "source": [
    "## Defining a Variable"
   ]
  },
  {
   "cell_type": "code",
   "id": "c625d1e8",
   "metadata": {
    "ExecuteTime": {
     "end_time": "2024-06-21T12:36:33.433689Z",
     "start_time": "2024-06-21T12:36:33.430654Z"
    }
   },
   "source": [
    "x = 5"
   ],
   "outputs": [],
   "execution_count": 1
  },
  {
   "cell_type": "code",
   "id": "e33dd9d1",
   "metadata": {
    "ExecuteTime": {
     "end_time": "2024-06-21T12:36:35.937291Z",
     "start_time": "2024-06-21T12:36:35.933873Z"
    }
   },
   "source": [
    "print(x)"
   ],
   "outputs": [
    {
     "name": "stdout",
     "output_type": "stream",
     "text": [
      "5\n"
     ]
    }
   ],
   "execution_count": 2
  },
  {
   "cell_type": "code",
   "id": "396bd3c1",
   "metadata": {
    "ExecuteTime": {
     "end_time": "2024-06-21T12:36:48.128381Z",
     "start_time": "2024-06-21T12:36:48.123025Z"
    }
   },
   "source": [
    "x"
   ],
   "outputs": [
    {
     "data": {
      "text/plain": [
       "5"
      ]
     },
     "execution_count": 3,
     "metadata": {},
     "output_type": "execute_result"
    }
   ],
   "execution_count": 3
  },
  {
   "cell_type": "code",
   "id": "e26b25dc",
   "metadata": {
    "ExecuteTime": {
     "end_time": "2024-06-21T12:36:54.110035Z",
     "start_time": "2024-06-21T12:36:54.105147Z"
    }
   },
   "source": [
    "1x"
   ],
   "outputs": [
    {
     "ename": "SyntaxError",
     "evalue": "invalid decimal literal (1060429478.py, line 1)",
     "output_type": "error",
     "traceback": [
      "\u001B[0;36m  Cell \u001B[0;32mIn[4], line 1\u001B[0;36m\u001B[0m\n\u001B[0;31m    1x\u001B[0m\n\u001B[0m    ^\u001B[0m\n\u001B[0;31mSyntaxError\u001B[0m\u001B[0;31m:\u001B[0m invalid decimal literal\n"
     ]
    }
   ],
   "execution_count": 4
  },
  {
   "cell_type": "code",
   "id": "d045d01a",
   "metadata": {
    "ExecuteTime": {
     "end_time": "2024-06-21T12:37:02.986583Z",
     "start_time": "2024-06-21T12:37:02.982855Z"
    }
   },
   "source": [
    "name = 'Ryan'"
   ],
   "outputs": [],
   "execution_count": 5
  },
  {
   "cell_type": "code",
   "id": "eac35943",
   "metadata": {
    "ExecuteTime": {
     "end_time": "2024-06-21T12:37:10.142797Z",
     "start_time": "2024-06-21T12:37:10.138976Z"
    }
   },
   "source": [
    "type(name)"
   ],
   "outputs": [
    {
     "data": {
      "text/plain": [
       "str"
      ]
     },
     "execution_count": 6,
     "metadata": {},
     "output_type": "execute_result"
    }
   ],
   "execution_count": 6
  },
  {
   "cell_type": "code",
   "id": "1a93aa83",
   "metadata": {
    "ExecuteTime": {
     "end_time": "2024-06-21T12:37:11.525725Z",
     "start_time": "2024-06-21T12:37:11.522150Z"
    }
   },
   "source": [
    "type(x)"
   ],
   "outputs": [
    {
     "data": {
      "text/plain": [
       "int"
      ]
     },
     "execution_count": 7,
     "metadata": {},
     "output_type": "execute_result"
    }
   ],
   "execution_count": 7
  },
  {
   "cell_type": "markdown",
   "id": "8b7a8afe",
   "metadata": {},
   "source": [
    "## Numbers"
   ]
  },
  {
   "cell_type": "code",
   "id": "66b59611",
   "metadata": {
    "ExecuteTime": {
     "end_time": "2024-06-21T12:38:43.323604Z",
     "start_time": "2024-06-21T12:38:43.318678Z"
    }
   },
   "source": [
    "type(1.5)"
   ],
   "outputs": [
    {
     "data": {
      "text/plain": [
       "float"
      ]
     },
     "execution_count": 8,
     "metadata": {},
     "output_type": "execute_result"
    }
   ],
   "execution_count": 8
  },
  {
   "cell_type": "code",
   "id": "260be4ae",
   "metadata": {
    "ExecuteTime": {
     "end_time": "2024-06-21T12:38:44.569805Z",
     "start_time": "2024-06-21T12:38:44.565144Z"
    }
   },
   "source": [
    "1.23456789"
   ],
   "outputs": [
    {
     "data": {
      "text/plain": [
       "1.23456789"
      ]
     },
     "execution_count": 9,
     "metadata": {},
     "output_type": "execute_result"
    }
   ],
   "execution_count": 9
  },
  {
   "cell_type": "code",
   "id": "b0c62fcc",
   "metadata": {
    "ExecuteTime": {
     "end_time": "2024-06-21T12:38:45.820757Z",
     "start_time": "2024-06-21T12:38:45.816771Z"
    }
   },
   "source": [
    "12345678.9"
   ],
   "outputs": [
    {
     "data": {
      "text/plain": [
       "12345678.9"
      ]
     },
     "execution_count": 10,
     "metadata": {},
     "output_type": "execute_result"
    }
   ],
   "execution_count": 10
  },
  {
   "cell_type": "code",
   "id": "b57e9f24",
   "metadata": {
    "ExecuteTime": {
     "end_time": "2024-06-21T12:38:48.545878Z",
     "start_time": "2024-06-21T12:38:48.543376Z"
    }
   },
   "source": [
    "type(2j)"
   ],
   "outputs": [
    {
     "data": {
      "text/plain": [
       "complex"
      ]
     },
     "execution_count": 11,
     "metadata": {},
     "output_type": "execute_result"
    }
   ],
   "execution_count": 11
  },
  {
   "cell_type": "code",
   "id": "70f204ce",
   "metadata": {
    "ExecuteTime": {
     "end_time": "2024-06-21T12:38:49.703316Z",
     "start_time": "2024-06-21T12:38:49.699726Z"
    }
   },
   "source": [
    "1j * 1j"
   ],
   "outputs": [
    {
     "data": {
      "text/plain": [
       "(-1+0j)"
      ]
     },
     "execution_count": 12,
     "metadata": {},
     "output_type": "execute_result"
    }
   ],
   "execution_count": 12
  },
  {
   "cell_type": "markdown",
   "id": "d6b29b9e",
   "metadata": {},
   "source": [
    "## Strings"
   ]
  },
  {
   "cell_type": "code",
   "id": "4b72f826",
   "metadata": {
    "ExecuteTime": {
     "end_time": "2024-06-21T12:39:45.919955Z",
     "start_time": "2024-06-21T12:39:45.916430Z"
    }
   },
   "source": [
    "'String 1 ' + 'String 2'"
   ],
   "outputs": [
    {
     "data": {
      "text/plain": [
       "'String 1 String 2'"
      ]
     },
     "execution_count": 15,
     "metadata": {},
     "output_type": "execute_result"
    }
   ],
   "execution_count": 15
  },
  {
   "cell_type": "code",
   "id": "14c2ced2",
   "metadata": {
    "ExecuteTime": {
     "end_time": "2024-06-21T12:39:49.770231Z",
     "start_time": "2024-06-21T12:39:49.766929Z"
    }
   },
   "source": [
    "'1' + '1'"
   ],
   "outputs": [
    {
     "data": {
      "text/plain": [
       "'11'"
      ]
     },
     "execution_count": 16,
     "metadata": {},
     "output_type": "execute_result"
    }
   ],
   "execution_count": 16
  },
  {
   "cell_type": "code",
   "execution_count": 14,
   "id": "1b327896",
   "metadata": {},
   "outputs": [
    {
     "ename": "TypeError",
     "evalue": "can only concatenate str (not \"int\") to str",
     "output_type": "error",
     "traceback": [
      "\u001B[0;31m---------------------------------------------------------------------------\u001B[0m",
      "\u001B[0;31mTypeError\u001B[0m                                 Traceback (most recent call last)",
      "Input \u001B[0;32mIn [14]\u001B[0m, in \u001B[0;36m<module>\u001B[0;34m\u001B[0m\n\u001B[0;32m----> 1\u001B[0m \u001B[38;5;124;43m'\u001B[39;49m\u001B[38;5;124;43m1\u001B[39;49m\u001B[38;5;124;43m'\u001B[39;49m\u001B[43m \u001B[49m\u001B[38;5;241;43m+\u001B[39;49m\u001B[43m \u001B[49m\u001B[38;5;241;43m1\u001B[39;49m\n",
      "\u001B[0;31mTypeError\u001B[0m: can only concatenate str (not \"int\") to str"
     ]
    }
   ],
   "source": [
    "'1' + 1"
   ]
  },
  {
   "cell_type": "markdown",
   "id": "9afbc149",
   "metadata": {},
   "source": [
    "## Booleans"
   ]
  },
  {
   "cell_type": "code",
   "id": "a3d9b9bc",
   "metadata": {
    "ExecuteTime": {
     "end_time": "2024-06-21T12:41:15.841076Z",
     "start_time": "2024-06-21T12:41:15.837260Z"
    }
   },
   "source": [
    "True"
   ],
   "outputs": [
    {
     "data": {
      "text/plain": [
       "True"
      ]
     },
     "execution_count": 17,
     "metadata": {},
     "output_type": "execute_result"
    }
   ],
   "execution_count": 17
  },
  {
   "cell_type": "code",
   "id": "a8379a41",
   "metadata": {
    "ExecuteTime": {
     "end_time": "2024-06-21T12:41:16.266628Z",
     "start_time": "2024-06-21T12:41:16.262998Z"
    }
   },
   "source": [
    "False"
   ],
   "outputs": [
    {
     "data": {
      "text/plain": [
       "False"
      ]
     },
     "execution_count": 18,
     "metadata": {},
     "output_type": "execute_result"
    }
   ],
   "execution_count": 18
  },
  {
   "cell_type": "code",
   "execution_count": 18,
   "id": "e3c34286",
   "metadata": {},
   "outputs": [],
   "source": [
    "true = True"
   ]
  },
  {
   "cell_type": "code",
   "execution_count": 19,
   "id": "85d586ae",
   "metadata": {},
   "outputs": [
    {
     "data": {
      "text/plain": [
       "True"
      ]
     },
     "execution_count": 19,
     "metadata": {},
     "output_type": "execute_result"
    }
   ],
   "source": [
    "1 == 1"
   ]
  },
  {
   "cell_type": "code",
   "execution_count": 20,
   "id": "4992ca39",
   "metadata": {},
   "outputs": [
    {
     "data": {
      "text/plain": [
       "False"
      ]
     },
     "execution_count": 20,
     "metadata": {},
     "output_type": "execute_result"
    }
   ],
   "source": [
    "1 == 2"
   ]
  },
  {
   "cell_type": "code",
   "execution_count": null,
   "id": "bde64579",
   "metadata": {},
   "outputs": [],
   "source": []
  }
 ],
 "metadata": {
  "kernelspec": {
   "display_name": "Python 3 (ipykernel)",
   "language": "python",
   "name": "python3"
  },
  "language_info": {
   "codemirror_mode": {
    "name": "ipython",
    "version": 3
   },
   "file_extension": ".py",
   "mimetype": "text/x-python",
   "name": "python",
   "nbconvert_exporter": "python",
   "pygments_lexer": "ipython3",
   "version": "3.9.13"
  }
 },
 "nbformat": 4,
 "nbformat_minor": 5
}
