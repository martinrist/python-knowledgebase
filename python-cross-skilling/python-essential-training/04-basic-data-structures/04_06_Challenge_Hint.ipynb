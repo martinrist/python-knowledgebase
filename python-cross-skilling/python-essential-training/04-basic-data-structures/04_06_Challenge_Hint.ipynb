{
 "cells": [
  {
   "cell_type": "markdown",
   "id": "6a6c3649",
   "metadata": {},
   "source": [
    "## ASCII Art Encoding\n"
   ]
  },
  {
   "cell_type": "markdown",
   "id": "47490f41",
   "metadata": {},
   "source": [
    "### Challenge Hints!"
   ]
  },
  {
   "cell_type": "markdown",
   "id": "a8c64bd5",
   "metadata": {},
   "source": [
    "**Hint 1:** While iterating through each character of a string, we can print out when a string has \"switched\" from one character to another:"
   ]
  },
  {
   "cell_type": "code",
   "execution_count": 2,
   "id": "c3d70033",
   "metadata": {},
   "outputs": [
    {
     "name": "stdout",
     "output_type": "stream",
     "text": [
      "New character is A\n",
      "New character is B\n",
      "New character is C\n"
     ]
    }
   ],
   "source": [
    "stringVal = 'AAAAABBBBBCCCCC'\n",
    "\n",
    "prevChar = None\n",
    "for char in stringVal:\n",
    "    if char != prevChar:\n",
    "        print(f'New character is {char}')\n",
    "    prevChar = char"
   ]
  },
  {
   "cell_type": "markdown",
   "id": "54ce72f7",
   "metadata": {},
   "source": [
    "**Hint 2:** Remember that you can multiply a string by a number!"
   ]
  },
  {
   "cell_type": "code",
   "execution_count": 3,
   "id": "7ab4bd96",
   "metadata": {},
   "outputs": [
    {
     "data": {
      "text/plain": [
       "'AAAAA'"
      ]
     },
     "execution_count": 3,
     "metadata": {},
     "output_type": "execute_result"
    }
   ],
   "source": [
    "'A'*5"
   ]
  },
  {
   "cell_type": "code",
   "id": "7777d38e",
   "metadata": {
    "ExecuteTime": {
     "end_time": "2024-06-21T14:38:06.068104Z",
     "start_time": "2024-06-21T14:38:06.063380Z"
    }
   },
   "source": [
    "def encodeString(stringVal):\n",
    "    result = []\n",
    "    prev_char = None\n",
    "\n",
    "    for char in stringVal:\n",
    "        if char != prev_char:\n",
    "            prev_char = char\n",
    "            new_count = 1\n",
    "        else:\n",
    "            _, count = result.pop()\n",
    "            new_count = count + 1\n",
    "\n",
    "        result.append((char, new_count))\n",
    "\n",
    "    return result\n",
    "\n",
    "def decodeString(encodedList):\n",
    "    letters = [ char * count for char, count in encodedList]\n",
    "    return \"\".join(letters)\n"
   ],
   "outputs": [],
   "execution_count": 21
  },
  {
   "metadata": {
    "ExecuteTime": {
     "end_time": "2024-06-21T14:38:07.054028Z",
     "start_time": "2024-06-21T14:38:07.049550Z"
    }
   },
   "cell_type": "code",
   "source": "decodeString([('W', 5), ('1', 2), ('G', 3)])",
   "id": "a1ae67104f9537aa",
   "outputs": [
    {
     "data": {
      "text/plain": [
       "'WWWWW11GGG'"
      ]
     },
     "execution_count": 22,
     "metadata": {},
     "output_type": "execute_result"
    }
   ],
   "execution_count": 22
  },
  {
   "metadata": {
    "ExecuteTime": {
     "end_time": "2024-06-21T14:35:17.731887Z",
     "start_time": "2024-06-21T14:35:17.727836Z"
    }
   },
   "cell_type": "code",
   "source": "encodeString(\"AAAAABBBBAAA\")",
   "id": "d5c116b431001f7b",
   "outputs": [
    {
     "data": {
      "text/plain": [
       "[('A', 5), ('B', 4), ('A', 3)]"
      ]
     },
     "execution_count": 14,
     "metadata": {},
     "output_type": "execute_result"
    }
   ],
   "execution_count": 14
  },
  {
   "metadata": {
    "ExecuteTime": {
     "end_time": "2024-06-21T14:35:39.873870Z",
     "start_time": "2024-06-21T14:35:39.868143Z"
    }
   },
   "cell_type": "code",
   "source": "encodeString(\"Bookkeeping\")",
   "id": "5dfc0a1e7a33545c",
   "outputs": [
    {
     "data": {
      "text/plain": [
       "[('B', 1),\n",
       " ('o', 2),\n",
       " ('k', 2),\n",
       " ('e', 2),\n",
       " ('p', 1),\n",
       " ('i', 1),\n",
       " ('n', 1),\n",
       " ('g', 1)]"
      ]
     },
     "execution_count": 15,
     "metadata": {},
     "output_type": "execute_result"
    }
   ],
   "execution_count": 15
  },
  {
   "cell_type": "code",
   "id": "3eee6256",
   "metadata": {
    "ExecuteTime": {
     "end_time": "2024-06-21T14:28:59.254401Z",
     "start_time": "2024-06-21T14:28:59.251157Z"
    }
   },
   "source": [
    "art = '''\n",
    "\n",
    "                                                                                \n",
    "                                                                                \n",
    "                               %%%%%%%%%%%%%%%%%%%                              \n",
    "                        %%%%%%%%%%%%%%%%%%%%%%%%%%%%%%%%%                       \n",
    "                    %%%%%%%%                         %%%%%%%%                   \n",
    "                %%%%%%%                                   %%%%%%                \n",
    "              %%%%%%                                         %%%%%%             \n",
    "           %%%%%%                                               %%%%%           \n",
    "          %%%%%                                                   %%%%%         \n",
    "        %%%%%                                                       %%%%%       \n",
    "       %%%%                 %%%%%              %%%%%                  %%%%      \n",
    "      %%%%                 %%%%%%%            %%%%%%%                  %%%%     \n",
    "     %%%%                  %%%%%%%            %%%%%%%                   %%%%    \n",
    "    %%%%                   %%%%%%%            %%%%%%%                    %%%%   \n",
    "    %%%%                    %%%%%              %%%%%                     %%%%   \n",
    "   %%%%                                                                   %%%%  \n",
    "   %%%%                                                                   %%%%  \n",
    "   %%%%                                                                   %%%%  \n",
    "   %%%%                                                      %%%%        %%%%   \n",
    "    %%%%       %%%%%%                                        %%%%%       %%%%   \n",
    "    %%%%         %%%%                                       %%%%        %%%%    \n",
    "     %%%%         %%%%                                     %%%%         %%%%    \n",
    "      %%%%         %%%%%                                  %%%%         %%%%     \n",
    "       %%%%%         %%%%%                             %%%%%         %%%%%      \n",
    "        %%%%%          %%%%%%                        %%%%%          %%%%        \n",
    "          %%%%%           %%%%%%%               %%%%%%%           %%%%%         \n",
    "            %%%%%             %%%%%%%%%%%%%%%%%%%%%             %%%%%           \n",
    "              %%%%%%%                                        %%%%%              \n",
    "                 %%%%%%%                                 %%%%%%%                \n",
    "                     %%%%%%%%%                     %%%%%%%%%                    \n",
    "                          %%%%%%%%%%%%%%%%%%%%%%%%%%%%%                         \n",
    "                                   %%%%%%%%%%%%                                 \n",
    "                                                                                \n",
    "                                                                                 \n",
    "\n",
    "'''"
   ],
   "outputs": [],
   "execution_count": 1
  },
  {
   "cell_type": "code",
   "execution_count": 7,
   "id": "dec27033",
   "metadata": {},
   "outputs": [],
   "source": [
    "encodedString = encodeString(art)"
   ]
  },
  {
   "cell_type": "code",
   "execution_count": 8,
   "id": "942d4ff8",
   "metadata": {},
   "outputs": [],
   "source": [
    "decodeString(encodedString)"
   ]
  },
  {
   "cell_type": "code",
   "id": "e1485f53",
   "metadata": {
    "ExecuteTime": {
     "end_time": "2024-06-21T14:29:10.502190Z",
     "start_time": "2024-06-21T14:29:10.495965Z"
    }
   },
   "source": "art.split('\\n')",
   "outputs": [
    {
     "data": {
      "text/plain": [
       "['',\n",
       " '',\n",
       " '                                                                                ',\n",
       " '                                                                                ',\n",
       " '                               %%%%%%%%%%%%%%%%%%%                              ',\n",
       " '                        %%%%%%%%%%%%%%%%%%%%%%%%%%%%%%%%%                       ',\n",
       " '                    %%%%%%%%                         %%%%%%%%                   ',\n",
       " '                %%%%%%%                                   %%%%%%                ',\n",
       " '              %%%%%%                                         %%%%%%             ',\n",
       " '           %%%%%%                                               %%%%%           ',\n",
       " '          %%%%%                                                   %%%%%         ',\n",
       " '        %%%%%                                                       %%%%%       ',\n",
       " '       %%%%                 %%%%%              %%%%%                  %%%%      ',\n",
       " '      %%%%                 %%%%%%%            %%%%%%%                  %%%%     ',\n",
       " '     %%%%                  %%%%%%%            %%%%%%%                   %%%%    ',\n",
       " '    %%%%                   %%%%%%%            %%%%%%%                    %%%%   ',\n",
       " '    %%%%                    %%%%%              %%%%%                     %%%%   ',\n",
       " '   %%%%                                                                   %%%%  ',\n",
       " '   %%%%                                                                   %%%%  ',\n",
       " '   %%%%                                                                   %%%%  ',\n",
       " '   %%%%                                                      %%%%        %%%%   ',\n",
       " '    %%%%       %%%%%%                                        %%%%%       %%%%   ',\n",
       " '    %%%%         %%%%                                       %%%%        %%%%    ',\n",
       " '     %%%%         %%%%                                     %%%%         %%%%    ',\n",
       " '      %%%%         %%%%%                                  %%%%         %%%%     ',\n",
       " '       %%%%%         %%%%%                             %%%%%         %%%%%      ',\n",
       " '        %%%%%          %%%%%%                        %%%%%          %%%%        ',\n",
       " '          %%%%%           %%%%%%%               %%%%%%%           %%%%%         ',\n",
       " '            %%%%%             %%%%%%%%%%%%%%%%%%%%%             %%%%%           ',\n",
       " '              %%%%%%%                                        %%%%%              ',\n",
       " '                 %%%%%%%                                 %%%%%%%                ',\n",
       " '                     %%%%%%%%%                     %%%%%%%%%                    ',\n",
       " '                          %%%%%%%%%%%%%%%%%%%%%%%%%%%%%                         ',\n",
       " '                                   %%%%%%%%%%%%                                 ',\n",
       " '                                                                                ',\n",
       " '                                                                                 ',\n",
       " '',\n",
       " '']"
      ]
     },
     "execution_count": 2,
     "metadata": {},
     "output_type": "execute_result"
    }
   ],
   "execution_count": 2
  },
  {
   "metadata": {
    "ExecuteTime": {
     "end_time": "2024-06-21T14:29:17.150564Z",
     "start_time": "2024-06-21T14:29:17.147829Z"
    }
   },
   "cell_type": "code",
   "source": "art.splitlines()",
   "id": "116e5c57e8add68c",
   "outputs": [
    {
     "data": {
      "text/plain": [
       "['',\n",
       " '',\n",
       " '                                                                                ',\n",
       " '                                                                                ',\n",
       " '                               %%%%%%%%%%%%%%%%%%%                              ',\n",
       " '                        %%%%%%%%%%%%%%%%%%%%%%%%%%%%%%%%%                       ',\n",
       " '                    %%%%%%%%                         %%%%%%%%                   ',\n",
       " '                %%%%%%%                                   %%%%%%                ',\n",
       " '              %%%%%%                                         %%%%%%             ',\n",
       " '           %%%%%%                                               %%%%%           ',\n",
       " '          %%%%%                                                   %%%%%         ',\n",
       " '        %%%%%                                                       %%%%%       ',\n",
       " '       %%%%                 %%%%%              %%%%%                  %%%%      ',\n",
       " '      %%%%                 %%%%%%%            %%%%%%%                  %%%%     ',\n",
       " '     %%%%                  %%%%%%%            %%%%%%%                   %%%%    ',\n",
       " '    %%%%                   %%%%%%%            %%%%%%%                    %%%%   ',\n",
       " '    %%%%                    %%%%%              %%%%%                     %%%%   ',\n",
       " '   %%%%                                                                   %%%%  ',\n",
       " '   %%%%                                                                   %%%%  ',\n",
       " '   %%%%                                                                   %%%%  ',\n",
       " '   %%%%                                                      %%%%        %%%%   ',\n",
       " '    %%%%       %%%%%%                                        %%%%%       %%%%   ',\n",
       " '    %%%%         %%%%                                       %%%%        %%%%    ',\n",
       " '     %%%%         %%%%                                     %%%%         %%%%    ',\n",
       " '      %%%%         %%%%%                                  %%%%         %%%%     ',\n",
       " '       %%%%%         %%%%%                             %%%%%         %%%%%      ',\n",
       " '        %%%%%          %%%%%%                        %%%%%          %%%%        ',\n",
       " '          %%%%%           %%%%%%%               %%%%%%%           %%%%%         ',\n",
       " '            %%%%%             %%%%%%%%%%%%%%%%%%%%%             %%%%%           ',\n",
       " '              %%%%%%%                                        %%%%%              ',\n",
       " '                 %%%%%%%                                 %%%%%%%                ',\n",
       " '                     %%%%%%%%%                     %%%%%%%%%                    ',\n",
       " '                          %%%%%%%%%%%%%%%%%%%%%%%%%%%%%                         ',\n",
       " '                                   %%%%%%%%%%%%                                 ',\n",
       " '                                                                                ',\n",
       " '                                                                                 ',\n",
       " '']"
      ]
     },
     "execution_count": 3,
     "metadata": {},
     "output_type": "execute_result"
    }
   ],
   "execution_count": 3
  },
  {
   "metadata": {},
   "cell_type": "code",
   "outputs": [],
   "execution_count": null,
   "source": "",
   "id": "26ab47f853d2947f"
  }
 ],
 "metadata": {
  "kernelspec": {
   "display_name": "Python 3 (ipykernel)",
   "language": "python",
   "name": "python3"
  },
  "language_info": {
   "codemirror_mode": {
    "name": "ipython",
    "version": 3
   },
   "file_extension": ".py",
   "mimetype": "text/x-python",
   "name": "python",
   "nbconvert_exporter": "python",
   "pygments_lexer": "ipython3",
   "version": "3.9.13"
  },
  "vscode": {
   "interpreter": {
    "hash": "949777d72b0d2535278d3dc13498b2535136f6dfe0678499012e853ee9abcab1"
   }
  }
 },
 "nbformat": 4,
 "nbformat_minor": 5
}
