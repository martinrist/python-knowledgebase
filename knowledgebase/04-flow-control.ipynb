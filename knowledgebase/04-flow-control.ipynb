{
 "cells": [
  {
   "metadata": {},
   "cell_type": "markdown",
   "source": "# Flow Control",
   "id": "44a9c0055531c13e"
  },
  {
   "metadata": {},
   "cell_type": "markdown",
   "source": "## `if` Statements",
   "id": "edde604904288282"
  },
  {
   "metadata": {},
   "cell_type": "markdown",
   "source": "Use `if` / `else` to control conditional logic: ",
   "id": "c10f8428bde3ffb9"
  },
  {
   "metadata": {
    "ExecuteTime": {
     "end_time": "2024-06-24T15:31:38.090380Z",
     "start_time": "2024-06-24T15:31:38.087981Z"
    }
   },
   "cell_type": "code",
   "source": [
    "cars = [\"audi\", \"bmw\", \"subaru\", \"toyota\"]\n",
    "\n",
    "for car in cars:\n",
    "    if len(car) > 4:\n",
    "        print(f\"{car} is a long car name\")\n",
    "    else:\n",
    "        print(f\"{car} is a short car name\")"
   ],
   "id": "a3a5b73e9285965c",
   "outputs": [
    {
     "name": "stdout",
     "output_type": "stream",
     "text": [
      "audi is a short car name\n",
      "bmw is a short car name\n",
      "subaru is a long car name\n",
      "toyota is a long car name\n"
     ]
    }
   ],
   "execution_count": 3
  },
  {
   "metadata": {},
   "cell_type": "markdown",
   "source": "The `if` condition is a boolean logic expression, so we can use operators like `and` / `or` / `not`",
   "id": "7372feb68c337267"
  },
  {
   "metadata": {
    "ExecuteTime": {
     "end_time": "2024-06-24T15:35:00.890819Z",
     "start_time": "2024-06-24T15:35:00.887013Z"
    }
   },
   "cell_type": "code",
   "source": [
    "age = 21\n",
    "print(age < 5 or age > 18)\n",
    "print(not age < 5)"
   ],
   "id": "f8b1e8b6603a99d0",
   "outputs": [
    {
     "name": "stdout",
     "output_type": "stream",
     "text": [
      "True\n",
      "True\n",
      "True\n"
     ]
    }
   ],
   "execution_count": 9
  },
  {
   "metadata": {},
   "cell_type": "markdown",
   "source": "Use `elif` to do multiple `else` / `if` chains:",
   "id": "5a8a7d78e1336b35"
  },
  {
   "metadata": {
    "ExecuteTime": {
     "end_time": "2024-06-24T15:36:51.436658Z",
     "start_time": "2024-06-24T15:36:51.433884Z"
    }
   },
   "cell_type": "code",
   "source": [
    "age = 21\n",
    "if age < 1:\n",
    "    print(\"You are a baby\")\n",
    "elif 1 <= age < 3:\n",
    "    print(\"You are a toddler\")\n",
    "elif 3 <= age < 13:\n",
    "    print(\"You are a child\")\n",
    "elif 13 <= age < 18:\n",
    "    print(\"You are a teenage child\")\n",
    "else:\n",
    "    print(\"You are an adult\")    "
   ],
   "id": "4c124a3e8d65a652",
   "outputs": [
    {
     "name": "stdout",
     "output_type": "stream",
     "text": [
      "You are an adult\n"
     ]
    }
   ],
   "execution_count": 10
  },
  {
   "metadata": {},
   "cell_type": "markdown",
   "source": "To test list membership, use `in` / `not in`:",
   "id": "3a5fda29aeab65d3"
  },
  {
   "metadata": {
    "ExecuteTime": {
     "end_time": "2024-06-24T15:37:52.730879Z",
     "start_time": "2024-06-24T15:37:52.727846Z"
    }
   },
   "cell_type": "code",
   "source": [
    "requested_toppings = [\"mushrooms\", \"onions\", \"peppers\"]\n",
    "print(\"peppers\" in requested_toppings)\n",
    "print(\"mushrooms\" not in requested_toppings)"
   ],
   "id": "da39a672f570b06f",
   "outputs": [
    {
     "name": "stdout",
     "output_type": "stream",
     "text": [
      "True\n",
      "False\n"
     ]
    }
   ],
   "execution_count": 11
  },
  {
   "metadata": {},
   "cell_type": "markdown",
   "source": "## `while` Loops",
   "id": "7e4ba29f57a22a48"
  },
  {
   "metadata": {},
   "cell_type": "markdown",
   "source": [
    "Whereas `for` loops iterate over a collection of fixed size, `while` loops\n",
    "continue to execute as long as, or _while_ a certain condition is true:"
   ],
   "id": "251b7cd67b66f283"
  },
  {
   "metadata": {
    "ExecuteTime": {
     "end_time": "2024-07-24T15:49:03.007064Z",
     "start_time": "2024-07-24T15:49:03.004619Z"
    }
   },
   "cell_type": "code",
   "source": [
    "current_number = 1\n",
    "while current_number <= 5:\n",
    "    print(current_number)\n",
    "    current_number += 1"
   ],
   "id": "5af9d7cbf142aa40",
   "outputs": [
    {
     "name": "stdout",
     "output_type": "stream",
     "text": [
      "1\n",
      "2\n",
      "3\n",
      "4\n",
      "5\n"
     ]
    }
   ],
   "execution_count": 2
  },
  {
   "metadata": {},
   "cell_type": "markdown",
   "source": [
    "To exit a `while` loop (or any other loop) immediately without running remaining\n",
    "code in the loop, use the `break` statement:"
   ],
   "id": "58df59aab4d6e230"
  },
  {
   "metadata": {
    "ExecuteTime": {
     "end_time": "2024-07-24T15:56:41.045098Z",
     "start_time": "2024-07-24T15:56:41.042031Z"
    }
   },
   "cell_type": "code",
   "source": [
    "current_number = 0\n",
    "while current_number < 10:\n",
    "    current_number += 1\n",
    "    \n",
    "    # Ends the loop when it encounters the first multiple of 3\n",
    "    if current_number % 3 == 0:\n",
    "        break\n",
    "    \n",
    "    print(current_number)\n",
    "    "
   ],
   "id": "a72292b507fc1ec1",
   "outputs": [
    {
     "name": "stdout",
     "output_type": "stream",
     "text": [
      "1\n",
      "2\n"
     ]
    }
   ],
   "execution_count": 8
  },
  {
   "metadata": {},
   "cell_type": "markdown",
   "source": [
    "`break` exits out of the loop completely.  By contrast, `continue` returns to\n",
    "the beginning, on the next loop iteration:"
   ],
   "id": "42aa155bddb197b"
  },
  {
   "metadata": {
    "ExecuteTime": {
     "end_time": "2024-07-24T15:56:44.798Z",
     "start_time": "2024-07-24T15:56:44.794603Z"
    }
   },
   "cell_type": "code",
   "source": [
    "current_number = 0\n",
    "while current_number < 10:\n",
    "    current_number += 1\n",
    "    \n",
    "    # Doesn't print multiples of three, but continues the loop\n",
    "    if current_number % 3 == 0:\n",
    "        continue\n",
    "\n",
    "    print(current_number)"
   ],
   "id": "a874b6a28ea2319c",
   "outputs": [
    {
     "name": "stdout",
     "output_type": "stream",
     "text": [
      "1\n",
      "2\n",
      "4\n",
      "5\n",
      "7\n",
      "8\n",
      "10\n"
     ]
    }
   ],
   "execution_count": 9
  },
  {
   "metadata": {},
   "cell_type": "code",
   "outputs": [],
   "execution_count": null,
   "source": "",
   "id": "1ad13b05bd6e9328"
  }
 ],
 "metadata": {
  "kernelspec": {
   "display_name": "Python 3",
   "language": "python",
   "name": "python3"
  },
  "language_info": {
   "codemirror_mode": {
    "name": "ipython",
    "version": 2
   },
   "file_extension": ".py",
   "mimetype": "text/x-python",
   "name": "python",
   "nbconvert_exporter": "python",
   "pygments_lexer": "ipython2",
   "version": "2.7.6"
  }
 },
 "nbformat": 4,
 "nbformat_minor": 5
}
