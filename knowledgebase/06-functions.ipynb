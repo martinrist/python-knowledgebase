{
 "cells": [
  {
   "metadata": {},
   "cell_type": "markdown",
   "source": "# Functions",
   "id": "2dff0638de08dbb4"
  },
  {
   "metadata": {},
   "cell_type": "markdown",
   "source": [
    "Simple functions are introduced with `def` and called by name with\n",
    "parentheses:"
   ],
   "id": "208cbd847a8b8aa0"
  },
  {
   "metadata": {
    "ExecuteTime": {
     "end_time": "2024-07-24T16:12:50.943159Z",
     "start_time": "2024-07-24T16:12:50.940608Z"
    }
   },
   "cell_type": "code",
   "source": [
    "def greet_user():\n",
    "    \"\"\"Display a simple greeting\"\"\"\n",
    "    print(\"Hello!\")\n",
    "\n",
    "greet_user()"
   ],
   "id": "260cb6d25b36a519",
   "outputs": [
    {
     "name": "stdout",
     "output_type": "stream",
     "text": [
      "Hello!\n"
     ]
    }
   ],
   "execution_count": 1
  },
  {
   "metadata": {},
   "cell_type": "markdown",
   "source": [
    "To pass values to the function, they are included in the definition.  Here,\n",
    "`username` is the _parameter_ and the value passed at runtime (`Martin`) is\n",
    "the _argument_."
   ],
   "id": "7182343bfdb56837"
  },
  {
   "metadata": {
    "ExecuteTime": {
     "end_time": "2024-07-24T16:14:23.075142Z",
     "start_time": "2024-07-24T16:14:23.071776Z"
    }
   },
   "cell_type": "code",
   "source": [
    "def greet_user(username):\n",
    "    \"\"\"Display a simple greeting including `username`\"\"\"\n",
    "    print(f\"Hello {username}\")\n",
    "\n",
    "greet_user(\"Martin\")"
   ],
   "id": "88f5c03621ade0d8",
   "outputs": [
    {
     "name": "stdout",
     "output_type": "stream",
     "text": [
      "Hello Martin\n"
     ]
    }
   ],
   "execution_count": 5
  },
  {
   "metadata": {},
   "cell_type": "markdown",
   "source": [
    "Arguments to functions can be of the following types:\n",
    "\n",
    "- _Positional_ - these are values that are matched based on their _position_\n",
    "in the function call.  They must appear in the order specified.\n",
    "- _Keyword_ - these are name-value pairs that are passed to functions.  Their\n",
    "order can change."
   ],
   "id": "5cbde16fe5a014ca"
  },
  {
   "metadata": {
    "ExecuteTime": {
     "end_time": "2024-07-24T16:22:32.812589Z",
     "start_time": "2024-07-24T16:22:32.808099Z"
    }
   },
   "cell_type": "code",
   "source": [
    "def describe_pet(animal_type, pet_name):\n",
    "    \"\"\"Display information about a pet.\"\"\"\n",
    "    print(f\"I have a {animal_type}\")\n",
    "    print(f\"My {animal_type}'s name is {pet_name.title()}.\")\n",
    "\n",
    "# This uses positional arguments.  Note that the arguments must be in this order\n",
    "describe_pet(\"hamster\", \"harry\")\n",
    "\n",
    "# This version uses keyword arguments:\n",
    "describe_pet(animal_type=\"dog\", pet_name=\"willie\")\n",
    "\n",
    "# This version also works\n",
    "describe_pet(pet_name=\"sandy\", animal_type=\"cat\")"
   ],
   "id": "c33515b6adb684ca",
   "outputs": [
    {
     "name": "stdout",
     "output_type": "stream",
     "text": [
      "I have a hamster\n",
      "My hamster's name is Harry.\n",
      "I have a dog\n",
      "My dog's name is Willie.\n",
      "I have a cat\n",
      "My cat's name is Sandy.\n"
     ]
    }
   ],
   "execution_count": 9
  },
  {
   "metadata": {},
   "cell_type": "markdown",
   "source": [
    "_Default values_ can be specified for each parameter.  Note that defaulted\n",
    "parameters need to appear after non-defaulted ones:"
   ],
   "id": "5a8a3c0bad7c02ba"
  },
  {
   "metadata": {
    "ExecuteTime": {
     "end_time": "2024-07-24T16:24:58.767857Z",
     "start_time": "2024-07-24T16:24:58.765050Z"
    }
   },
   "cell_type": "code",
   "source": [
    "def describe_pet(pet_name, animal_type = \"dog\"):\n",
    "    \"\"\"Display information about a pet.\"\"\"\n",
    "    print(f\"I have a {animal_type}\")\n",
    "    print(f\"My {animal_type}'s name is {pet_name.title()}.\")\n",
    "\n",
    "describe_pet(\"patch\")\n",
    "\n",
    "describe_pet(\"flopsy\", \"rabbit\")"
   ],
   "id": "77d74e4b363e313c",
   "outputs": [
    {
     "name": "stdout",
     "output_type": "stream",
     "text": [
      "I have a dog\n",
      "My dog's name is Patch.\n",
      "I have a rabbit\n",
      "My rabbit's name is Flopsy.\n"
     ]
    }
   ],
   "execution_count": 11
  },
  {
   "metadata": {},
   "cell_type": "markdown",
   "source": "Functions can return values using the `return` keyword:",
   "id": "51f258ae71b38959"
  },
  {
   "metadata": {
    "ExecuteTime": {
     "end_time": "2024-07-24T16:33:34.156215Z",
     "start_time": "2024-07-24T16:33:34.153221Z"
    }
   },
   "cell_type": "code",
   "source": [
    "def get_formatted_name(first_name, last_name):\n",
    "    \"\"\"Return a full name, neatly formatted\"\"\"\n",
    "    full_name = f\"{first_name} {last_name}\"\n",
    "    return full_name.title()\n",
    "\n",
    "musician = get_formatted_name(\"jimi\", \"hendrix\")\n",
    "print(musician)"
   ],
   "id": "889618cff45a8c85",
   "outputs": [
    {
     "name": "stdout",
     "output_type": "stream",
     "text": [
      "Jimi Hendrix\n"
     ]
    }
   ],
   "execution_count": 14
  },
  {
   "metadata": {},
   "cell_type": "markdown",
   "source": [
    "To pass an arbitrary number of positional arguments to a function, use `*args`.\n",
    "The arguments are available as a tuple within the function body:"
   ],
   "id": "eb7e5d21953f476b"
  },
  {
   "metadata": {
    "ExecuteTime": {
     "end_time": "2024-07-24T16:47:06.567656Z",
     "start_time": "2024-07-24T16:47:06.563001Z"
    }
   },
   "cell_type": "code",
   "source": [
    "def make_pizza(*toppings):\n",
    "    \"\"\"Prints the list of toppings that have been requested\"\"\"\n",
    "    print(\"Making pizza with toppings:\")\n",
    "    for topping in toppings:\n",
    "        print(f\"- {topping}\")\n",
    "\n",
    "make_pizza(\"Pepperoni\")\n",
    "print()\n",
    "make_pizza(\"Cheese\", \"Ham\", \"Pineapple\")"
   ],
   "id": "39cb418169d5dd9a",
   "outputs": [
    {
     "name": "stdout",
     "output_type": "stream",
     "text": [
      "Making pizza with toppings:\n",
      "- Pepperoni\n",
      "\n",
      "Making pizza with toppings:\n",
      "- Cheese\n",
      "- Ham\n",
      "- Pineapple\n"
     ]
    }
   ],
   "execution_count": 17
  },
  {
   "metadata": {},
   "cell_type": "markdown",
   "source": "Note that arbitrary arguments must come after positional arguments:",
   "id": "31572e19a1c4b9ec"
  },
  {
   "metadata": {
    "ExecuteTime": {
     "end_time": "2024-07-24T16:48:32.061866Z",
     "start_time": "2024-07-24T16:48:32.058181Z"
    }
   },
   "cell_type": "code",
   "source": [
    "def make_pizza(size, *toppings):\n",
    "    print(f\"Making a {size} pizza with toppings:\")\n",
    "    for topping in toppings:\n",
    "        print(f\"- {topping}\")\n",
    "\n",
    "make_pizza(\"large\", \"Cheese\", \"Pineapple\")"
   ],
   "id": "2adf848bfafe29e3",
   "outputs": [
    {
     "name": "stdout",
     "output_type": "stream",
     "text": [
      "Making a Large pizza with toppings:\n",
      "- Cheese\n",
      "- Pineapple\n"
     ]
    }
   ],
   "execution_count": 18
  },
  {
   "metadata": {},
   "cell_type": "markdown",
   "source": "To accept an arbitrary number of keyword arguments, use `**kwargs`:",
   "id": "643f27f254c2deea"
  },
  {
   "metadata": {
    "ExecuteTime": {
     "end_time": "2024-07-24T16:51:09.797339Z",
     "start_time": "2024-07-24T16:51:09.793264Z"
    }
   },
   "cell_type": "code",
   "source": [
    "def build_profile(first, last, **user_info):\n",
    "    \"\"\"Build a dictionary containing everything about a user\"\"\"\n",
    "    user_info[\"first_name\"] = first\n",
    "    user_info[\"last_name\"] = last\n",
    "    return user_info\n",
    "\n",
    "user_profile = build_profile(\"Albert\", \"Einstein\",\n",
    "                             location=\"Princeton\", field=\"Physics\")\n",
    "print(user_profile)"
   ],
   "id": "8056eb4936e99240",
   "outputs": [
    {
     "name": "stdout",
     "output_type": "stream",
     "text": [
      "{'location': 'Princeton', 'field': 'Physics', 'first_name': 'Albert', 'last_name': 'Einstein'}\n"
     ]
    }
   ],
   "execution_count": 20
  },
  {
   "metadata": {},
   "cell_type": "code",
   "outputs": [],
   "execution_count": null,
   "source": "",
   "id": "30b7d4b02ea21e32"
  }
 ],
 "metadata": {
  "kernelspec": {
   "display_name": "Python 3",
   "language": "python",
   "name": "python3"
  },
  "language_info": {
   "codemirror_mode": {
    "name": "ipython",
    "version": 2
   },
   "file_extension": ".py",
   "mimetype": "text/x-python",
   "name": "python",
   "nbconvert_exporter": "python",
   "pygments_lexer": "ipython2",
   "version": "2.7.6"
  }
 },
 "nbformat": 4,
 "nbformat_minor": 5
}
