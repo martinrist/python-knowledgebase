{
 "cells": [
  {
   "metadata": {},
   "cell_type": "markdown",
   "source": "# Collection Types",
   "id": "c9dca396c3ee0cb6"
  },
  {
   "metadata": {},
   "cell_type": "markdown",
   "source": "## Lists",
   "id": "3d0fc9bdc324b441"
  },
  {
   "metadata": {},
   "cell_type": "markdown",
   "source": "A _list_ is an _ordered_ collection of items, with 0-based index:",
   "id": "75b8781937a79f02"
  },
  {
   "metadata": {
    "ExecuteTime": {
     "end_time": "2024-06-24T13:29:28.074199Z",
     "start_time": "2024-06-24T13:29:28.069666Z"
    }
   },
   "cell_type": "code",
   "source": [
    "bicycles = [\"trek\", \"cannondale\", \"redline\", \"specialised\"]\n",
    "print(bicycles)"
   ],
   "id": "8a0927de8f9cff53",
   "outputs": [
    {
     "name": "stdout",
     "output_type": "stream",
     "text": [
      "['trek', 'cannondale', 'redline', 'specialised']\n"
     ]
    }
   ],
   "execution_count": 3
  },
  {
   "metadata": {},
   "cell_type": "markdown",
   "source": "List items can be accessed by index, either 0-based from the front, or negative (from the end):",
   "id": "d61b412818ca8fb2"
  },
  {
   "metadata": {
    "ExecuteTime": {
     "end_time": "2024-06-24T13:30:12.360409Z",
     "start_time": "2024-06-24T13:30:12.356285Z"
    }
   },
   "cell_type": "code",
   "source": "bicycles[1]",
   "id": "5cea94d328268298",
   "outputs": [
    {
     "data": {
      "text/plain": [
       "'cannondale'"
      ]
     },
     "execution_count": 5,
     "metadata": {},
     "output_type": "execute_result"
    }
   ],
   "execution_count": 5
  },
  {
   "metadata": {
    "ExecuteTime": {
     "end_time": "2024-06-24T13:30:22.005629Z",
     "start_time": "2024-06-24T13:30:22.001081Z"
    }
   },
   "cell_type": "code",
   "source": [
    "# The last item\n",
    "bicycles[-1]"
   ],
   "id": "dbde8e4821115776",
   "outputs": [
    {
     "data": {
      "text/plain": [
       "'specialised'"
      ]
     },
     "execution_count": 6,
     "metadata": {},
     "output_type": "execute_result"
    }
   ],
   "execution_count": 6
  },
  {
   "metadata": {
    "ExecuteTime": {
     "end_time": "2024-06-24T13:30:33.837890Z",
     "start_time": "2024-06-24T13:30:33.832915Z"
    }
   },
   "cell_type": "code",
   "source": "bicycles[-2]",
   "id": "788dddd7415e473c",
   "outputs": [
    {
     "data": {
      "text/plain": [
       "'redline'"
      ]
     },
     "execution_count": 9,
     "metadata": {},
     "output_type": "execute_result"
    }
   ],
   "execution_count": 9
  },
  {
   "metadata": {},
   "cell_type": "markdown",
   "source": "Changing individual items can be done by assigning a value to an indexed item:",
   "id": "8138d43a96ad105e"
  },
  {
   "metadata": {
    "ExecuteTime": {
     "end_time": "2024-06-24T13:33:37.257374Z",
     "start_time": "2024-06-24T13:33:37.253795Z"
    }
   },
   "cell_type": "code",
   "source": [
    "motorcycles = [\"honda\", \"yamaha\", \"suzuki\"]\n",
    "motorcycles[0] = \"ducati\"\n",
    "motorcycles"
   ],
   "id": "9218a1471e63323b",
   "outputs": [
    {
     "data": {
      "text/plain": [
       "['ducati', 'yamaha', 'suzuki']"
      ]
     },
     "execution_count": 18,
     "metadata": {},
     "output_type": "execute_result"
    }
   ],
   "execution_count": 18
  },
  {
   "metadata": {},
   "cell_type": "markdown",
   "source": "To _append_ elements to the end of a list, use `append()`:",
   "id": "7a1a1cf632ffae8f"
  },
  {
   "metadata": {
    "ExecuteTime": {
     "end_time": "2024-06-24T13:34:23.922583Z",
     "start_time": "2024-06-24T13:34:23.917510Z"
    }
   },
   "cell_type": "code",
   "source": [
    "motorcycles = [\"honda\", \"yamaha\", \"suzuki\"]\n",
    "motorcycles.append(\"honda\")\n",
    "motorcycles"
   ],
   "id": "143cff6b61857701",
   "outputs": [
    {
     "data": {
      "text/plain": [
       "['honda', 'yamaha', 'suzuki', 'honda']"
      ]
     },
     "execution_count": 20,
     "metadata": {},
     "output_type": "execute_result"
    }
   ],
   "execution_count": 20
  },
  {
   "metadata": {},
   "cell_type": "markdown",
   "source": "To _insert_ elements within a list, use `insert(pos, value)`:",
   "id": "fcd5bdc74e7fe3b1"
  },
  {
   "metadata": {
    "ExecuteTime": {
     "end_time": "2024-06-24T13:34:55.098550Z",
     "start_time": "2024-06-24T13:34:55.094614Z"
    }
   },
   "cell_type": "code",
   "source": [
    "motorcycles = [\"honda\", \"yamaha\", \"suzuki\"]\n",
    "motorcycles.insert(0, \"ducati\")\n",
    "motorcycles"
   ],
   "id": "af48ee6b6561c758",
   "outputs": [
    {
     "data": {
      "text/plain": [
       "['ducati', 'honda', 'yamaha', 'suzuki']"
      ]
     },
     "execution_count": 21,
     "metadata": {},
     "output_type": "execute_result"
    }
   ],
   "execution_count": 21
  },
  {
   "metadata": {},
   "cell_type": "markdown",
   "source": "To _remove_ elements from a list, by position, use the `del` statement on the item:",
   "id": "5afb8531c63cb03"
  },
  {
   "metadata": {
    "ExecuteTime": {
     "end_time": "2024-06-24T13:35:55.616270Z",
     "start_time": "2024-06-24T13:35:55.611137Z"
    }
   },
   "cell_type": "code",
   "source": [
    "motorcycles = [\"honda\", \"yamaha\", \"suzuki\"]\n",
    "del motorcycles[0]              # Note that this is a statement, not a function\n",
    "motorcycles"
   ],
   "id": "49769219a92dffef",
   "outputs": [
    {
     "data": {
      "text/plain": [
       "['yamaha', 'suzuki']"
      ]
     },
     "execution_count": 22,
     "metadata": {},
     "output_type": "execute_result"
    }
   ],
   "execution_count": 22
  },
  {
   "metadata": {},
   "cell_type": "markdown",
   "source": "To remove elements from a list then use it, use `pop()`:",
   "id": "afb2657a46993088"
  },
  {
   "metadata": {
    "ExecuteTime": {
     "end_time": "2024-06-24T13:37:09.272241Z",
     "start_time": "2024-06-24T13:37:09.268338Z"
    }
   },
   "cell_type": "code",
   "source": [
    "motorcycles = [\"honda\", \"yamaha\", \"suzuki\"]\n",
    "my_bike = motorcycles.pop()\n",
    "print(my_bike)\n",
    "print(\"-------\")\n",
    "print(motorcycles)\n"
   ],
   "id": "25db48c20c9dc0fa",
   "outputs": [
    {
     "name": "stdout",
     "output_type": "stream",
     "text": [
      "suzuki\n",
      "-------\n",
      "['honda', 'yamaha']\n"
     ]
    }
   ],
   "execution_count": 24
  },
  {
   "metadata": {},
   "cell_type": "markdown",
   "source": "`pop(pos)` can be used to pop items from any position in a list:",
   "id": "3b751a6606e9ae85"
  },
  {
   "metadata": {
    "ExecuteTime": {
     "end_time": "2024-06-24T13:38:10.535008Z",
     "start_time": "2024-06-24T13:38:10.529533Z"
    }
   },
   "cell_type": "code",
   "source": [
    "motorcycles = [\"honda\", \"yamaha\", \"suzuki\"]\n",
    "my_bike = motorcycles.pop(2)\n",
    "my_bike"
   ],
   "id": "5befa56ddc8f111e",
   "outputs": [
    {
     "data": {
      "text/plain": [
       "'suzuki'"
      ]
     },
     "execution_count": 29,
     "metadata": {},
     "output_type": "execute_result"
    }
   ],
   "execution_count": 29
  },
  {
   "metadata": {},
   "cell_type": "markdown",
   "source": "To remove an item by value (without knowing the index), use `remove()`:",
   "id": "79edbe7a6ea047d7"
  },
  {
   "metadata": {
    "ExecuteTime": {
     "end_time": "2024-06-24T13:39:14.092424Z",
     "start_time": "2024-06-24T13:39:14.088789Z"
    }
   },
   "cell_type": "code",
   "source": [
    "motorcycles = [\"honda\", \"yamaha\", \"suzuki\"]\n",
    "motorcycles.remove(\"yamaha\")\n",
    "motorcycles"
   ],
   "id": "fdf1beaabff6a5a8",
   "outputs": [
    {
     "data": {
      "text/plain": [
       "['honda', 'suzuki']"
      ]
     },
     "execution_count": 36,
     "metadata": {},
     "output_type": "execute_result"
    }
   ],
   "execution_count": 36
  },
  {
   "metadata": {},
   "cell_type": "markdown",
   "source": "Lists can be sorted in-place using `sort()`:",
   "id": "879ceb253ec220ac"
  },
  {
   "metadata": {
    "ExecuteTime": {
     "end_time": "2024-06-24T13:41:17.285437Z",
     "start_time": "2024-06-24T13:41:17.282948Z"
    }
   },
   "cell_type": "code",
   "source": [
    "cars = [\"bmw\", \"audi\", \"toyota\", \"subaru\"]\n",
    "cars.sort()\n",
    "print(cars)\n",
    "\n",
    "# Use `reverse=True` to reverse the sort order\n",
    "cars.sort(reverse=True)\n",
    "print(cars)"
   ],
   "id": "bcd61f06e743faf3",
   "outputs": [
    {
     "name": "stdout",
     "output_type": "stream",
     "text": [
      "['audi', 'bmw', 'subaru', 'toyota']\n",
      "['toyota', 'subaru', 'bmw', 'audi']\n"
     ]
    }
   ],
   "execution_count": 40
  },
  {
   "metadata": {},
   "cell_type": "markdown",
   "source": "To return a sorted list, maintaining the original order, use `sorted(list)`:",
   "id": "a924ac631f7c9fe0"
  },
  {
   "metadata": {
    "ExecuteTime": {
     "end_time": "2024-06-24T13:42:25.738874Z",
     "start_time": "2024-06-24T13:42:25.734902Z"
    }
   },
   "cell_type": "code",
   "source": [
    "cars = [\"bmw\", \"audi\", \"toyota\", \"subaru\"]\n",
    "print(sorted(cars))\n",
    "print(sorted(cars, reverse=True))\n",
    "print(cars)"
   ],
   "id": "6657cac3024605fc",
   "outputs": [
    {
     "name": "stdout",
     "output_type": "stream",
     "text": [
      "['audi', 'bmw', 'subaru', 'toyota']\n",
      "['toyota', 'subaru', 'bmw', 'audi']\n",
      "['bmw', 'audi', 'toyota', 'subaru']\n"
     ]
    }
   ],
   "execution_count": 44
  },
  {
   "metadata": {},
   "cell_type": "markdown",
   "source": "To _reverse- the order of a list in-place, use `reverse()`:",
   "id": "59d6f52185c85217"
  },
  {
   "metadata": {
    "ExecuteTime": {
     "end_time": "2024-06-24T13:45:01.295547Z",
     "start_time": "2024-06-24T13:45:01.291624Z"
    }
   },
   "cell_type": "code",
   "source": [
    "cars = [\"bmw\", \"audi\", \"toyota\", \"subaru\"]\n",
    "cars.reverse()\n",
    "print(cars)"
   ],
   "id": "d21a67ca841292b7",
   "outputs": [
    {
     "name": "stdout",
     "output_type": "stream",
     "text": [
      "['subaru', 'toyota', 'audi', 'bmw']\n"
     ]
    }
   ],
   "execution_count": 54
  },
  {
   "metadata": {},
   "cell_type": "markdown",
   "source": "The _length_ of a list can be found using `len(list)`:",
   "id": "1eca1138617d689a"
  },
  {
   "metadata": {
    "ExecuteTime": {
     "end_time": "2024-06-24T13:45:02.126149Z",
     "start_time": "2024-06-24T13:45:02.121826Z"
    }
   },
   "cell_type": "code",
   "source": "len(cars)",
   "id": "c8ebccbd4b047c9e",
   "outputs": [
    {
     "data": {
      "text/plain": [
       "4"
      ]
     },
     "execution_count": 55,
     "metadata": {},
     "output_type": "execute_result"
    }
   ],
   "execution_count": 55
  },
  {
   "metadata": {},
   "cell_type": "code",
   "outputs": [],
   "execution_count": null,
   "source": "",
   "id": "a087aa349bcd7adb"
  }
 ],
 "metadata": {
  "kernelspec": {
   "display_name": "Python 3",
   "language": "python",
   "name": "python3"
  },
  "language_info": {
   "codemirror_mode": {
    "name": "ipython",
    "version": 2
   },
   "file_extension": ".py",
   "mimetype": "text/x-python",
   "name": "python",
   "nbconvert_exporter": "python",
   "pygments_lexer": "ipython2",
   "version": "2.7.6"
  }
 },
 "nbformat": 4,
 "nbformat_minor": 5
}
