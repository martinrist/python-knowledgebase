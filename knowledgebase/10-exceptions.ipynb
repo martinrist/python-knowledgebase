{
 "cells": [
  {
   "metadata": {},
   "cell_type": "markdown",
   "source": "# Exceptions",
   "id": "a01650a9a43f7765"
  },
  {
   "metadata": {},
   "cell_type": "markdown",
   "source": [
    "Exceptions are used to manage errors that arise during program execution.\n",
    "Exceptions are handled using `try-except` blocks:"
   ],
   "id": "2a465782a69f514b"
  },
  {
   "metadata": {
    "ExecuteTime": {
     "end_time": "2024-07-25T11:24:58.037801Z",
     "start_time": "2024-07-25T11:24:58.033798Z"
    }
   },
   "cell_type": "code",
   "source": [
    "try:\n",
    "    print(5/0)\n",
    "except ZeroDivisionError:\n",
    "    print(\"You can't divide by zero!\")"
   ],
   "id": "57194c5fff4c64ab",
   "outputs": [
    {
     "name": "stdout",
     "output_type": "stream",
     "text": [
      "You can't divide by zero!\n"
     ]
    }
   ],
   "execution_count": 2
  },
  {
   "metadata": {},
   "cell_type": "markdown",
   "source": "To fail silently, use `pass` inside the `except` block:",
   "id": "dbf785a140c43c23"
  },
  {
   "metadata": {
    "ExecuteTime": {
     "end_time": "2024-07-25T11:29:14.413683Z",
     "start_time": "2024-07-25T11:29:14.410911Z"
    }
   },
   "cell_type": "code",
   "source": [
    "try:\n",
    "    print(5/0)\n",
    "except ZeroDivisionError:\n",
    "    pass\n",
    "print(\"Done!\")"
   ],
   "id": "1cdd336b9e75e07b",
   "outputs": [
    {
     "name": "stdout",
     "output_type": "stream",
     "text": [
      "Done!\n"
     ]
    }
   ],
   "execution_count": 6
  },
  {
   "metadata": {},
   "cell_type": "code",
   "outputs": [],
   "execution_count": null,
   "source": "",
   "id": "6224a2b6a606a08d"
  }
 ],
 "metadata": {
  "kernelspec": {
   "display_name": "Python 3",
   "language": "python",
   "name": "python3"
  },
  "language_info": {
   "codemirror_mode": {
    "name": "ipython",
    "version": 2
   },
   "file_extension": ".py",
   "mimetype": "text/x-python",
   "name": "python",
   "nbconvert_exporter": "python",
   "pygments_lexer": "ipython2",
   "version": "2.7.6"
  }
 },
 "nbformat": 4,
 "nbformat_minor": 5
}
