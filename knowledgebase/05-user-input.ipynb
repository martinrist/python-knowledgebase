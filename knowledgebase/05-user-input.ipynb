{
 "cells": [
  {
   "metadata": {},
   "cell_type": "markdown",
   "source": "# User Input",
   "id": "6a60734984e359ee"
  },
  {
   "metadata": {},
   "cell_type": "markdown",
   "source": "Use the `input()` function to prompt user for a string input:",
   "id": "eac0dfbd04a51abf"
  },
  {
   "metadata": {
    "ExecuteTime": {
     "end_time": "2024-07-24T15:38:04.461194Z",
     "start_time": "2024-07-24T15:37:59.995111Z"
    }
   },
   "cell_type": "code",
   "source": [
    "message = input(\"Enter a message:\")\n",
    "print(f\"You said: {message}\")"
   ],
   "id": "e0f0cb19fe46d9ca",
   "outputs": [
    {
     "name": "stdout",
     "output_type": "stream",
     "text": [
      "You said: hello there\n"
     ]
    }
   ],
   "execution_count": 1
  },
  {
   "metadata": {},
   "cell_type": "markdown",
   "source": [
    "To attempt to accept numeric input, use `int()` to attempt to parse the input\n",
    "string to an `int`:"
   ],
   "id": "a54aeeadf2a040f1"
  },
  {
   "metadata": {
    "ExecuteTime": {
     "end_time": "2024-07-24T15:40:06.068719Z",
     "start_time": "2024-07-24T15:40:04.828754Z"
    }
   },
   "cell_type": "code",
   "source": [
    "age = input(\"What is your age?\")\n",
    "age = int(age)\n",
    "\n",
    "print(f\"You are {age} years old\")"
   ],
   "id": "92abca77071e6cfa",
   "outputs": [
    {
     "ename": "ValueError",
     "evalue": "invalid literal for int() with base 10: 'foo'",
     "output_type": "error",
     "traceback": [
      "\u001B[0;31m---------------------------------------------------------------------------\u001B[0m",
      "\u001B[0;31mValueError\u001B[0m                                Traceback (most recent call last)",
      "Cell \u001B[0;32mIn[3], line 2\u001B[0m\n\u001B[1;32m      1\u001B[0m age \u001B[38;5;241m=\u001B[39m \u001B[38;5;28minput\u001B[39m(\u001B[38;5;124m\"\u001B[39m\u001B[38;5;124mWhat is your age?\u001B[39m\u001B[38;5;124m\"\u001B[39m)\n\u001B[0;32m----> 2\u001B[0m age \u001B[38;5;241m=\u001B[39m \u001B[38;5;28;43mint\u001B[39;49m\u001B[43m(\u001B[49m\u001B[43mage\u001B[49m\u001B[43m)\u001B[49m\n\u001B[1;32m      4\u001B[0m \u001B[38;5;28mprint\u001B[39m(\u001B[38;5;124mf\u001B[39m\u001B[38;5;124m\"\u001B[39m\u001B[38;5;124mYou are \u001B[39m\u001B[38;5;132;01m{\u001B[39;00mage\u001B[38;5;132;01m}\u001B[39;00m\u001B[38;5;124m years old\u001B[39m\u001B[38;5;124m\"\u001B[39m)\n",
      "\u001B[0;31mValueError\u001B[0m: invalid literal for int() with base 10: 'foo'"
     ]
    }
   ],
   "execution_count": 3
  },
  {
   "metadata": {},
   "cell_type": "markdown",
   "source": [
    "User input is often used in conjunction with a `while` loop to continue until\n",
    "a specific 'exit' value is given:"
   ],
   "id": "21f2a92a02b11888"
  },
  {
   "metadata": {
    "ExecuteTime": {
     "end_time": "2024-07-24T15:51:00.514417Z",
     "start_time": "2024-07-24T15:50:52.172616Z"
    }
   },
   "cell_type": "code",
   "source": [
    "prompt = \"/nTell me something, and I'll repeat it back to you:\"\n",
    "prompt += \"Enter 'quit' to end the program.\"\n",
    "\n",
    "message = \"\"\n",
    "while message != \"quit\":    \n",
    "    message = input(prompt)\n",
    "    if message != \"quit\":\n",
    "        print(message)"
   ],
   "id": "6be03386e3c47bae",
   "outputs": [
    {
     "name": "stdout",
     "output_type": "stream",
     "text": [
      "\n",
      "\n",
      "\n",
      "\n",
      "\n",
      "\n",
      "\n",
      "\n",
      "quit\n"
     ]
    }
   ],
   "execution_count": 4
  },
  {
   "metadata": {},
   "cell_type": "code",
   "outputs": [],
   "execution_count": null,
   "source": "",
   "id": "432d8abc58a95bfd"
  }
 ],
 "metadata": {
  "kernelspec": {
   "display_name": "Python 3",
   "language": "python",
   "name": "python3"
  },
  "language_info": {
   "codemirror_mode": {
    "name": "ipython",
    "version": 2
   },
   "file_extension": ".py",
   "mimetype": "text/x-python",
   "name": "python",
   "nbconvert_exporter": "python",
   "pygments_lexer": "ipython2",
   "version": "2.7.6"
  }
 },
 "nbformat": 4,
 "nbformat_minor": 5
}
