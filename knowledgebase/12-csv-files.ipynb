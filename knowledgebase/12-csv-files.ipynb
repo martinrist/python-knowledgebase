{
 "cells": [
  {
   "metadata": {},
   "cell_type": "markdown",
   "source": "# Processing CSV Files",
   "id": "7e47b5541dd25fe3"
  },
  {
   "metadata": {},
   "cell_type": "markdown",
   "source": "Create a reader for the CSV file using `csv.reader`:",
   "id": "815aad5a18e1ac40"
  },
  {
   "metadata": {
    "ExecuteTime": {
     "end_time": "2024-08-05T11:57:36.408497Z",
     "start_time": "2024-08-05T11:57:36.404548Z"
    }
   },
   "cell_type": "code",
   "source": [
    "from pathlib import Path\n",
    "import csv\n",
    "\n",
    "path = Path(\"data/sitka_weather_07-2021_simple.csv\")\n",
    "lines = path.read_text(encoding=\"utf-8\").splitlines()\n",
    "\n",
    "reader = csv.reader(lines)"
   ],
   "id": "a85a261eb3c9cdf9",
   "outputs": [],
   "execution_count": 12
  },
  {
   "metadata": {},
   "cell_type": "markdown",
   "source": "Read the header row using `next(reader)`:",
   "id": "3a9cdc1486485f9f"
  },
  {
   "metadata": {
    "ExecuteTime": {
     "end_time": "2024-08-05T11:58:30.109014Z",
     "start_time": "2024-08-05T11:58:30.105442Z"
    }
   },
   "cell_type": "code",
   "source": [
    "reader = csv.reader(lines)\n",
    "header_row = next(reader)\n",
    "\n",
    "for index, column_header in enumerate(header_row):\n",
    "    print(index, column_header)"
   ],
   "id": "18f16c2be64a85b6",
   "outputs": [
    {
     "name": "stdout",
     "output_type": "stream",
     "text": [
      "0 STATION\n",
      "1 NAME\n",
      "2 DATE\n",
      "3 TAVG\n",
      "4 TMAX\n",
      "5 TMIN\n"
     ]
    }
   ],
   "execution_count": 15
  },
  {
   "metadata": {},
   "cell_type": "markdown",
   "source": "",
   "id": "c2274eac3697750"
  }
 ],
 "metadata": {
  "kernelspec": {
   "display_name": "Python 3",
   "language": "python",
   "name": "python3"
  },
  "language_info": {
   "codemirror_mode": {
    "name": "ipython",
    "version": 2
   },
   "file_extension": ".py",
   "mimetype": "text/x-python",
   "name": "python",
   "nbconvert_exporter": "python",
   "pygments_lexer": "ipython2",
   "version": "2.7.6"
  }
 },
 "nbformat": 4,
 "nbformat_minor": 5
}
