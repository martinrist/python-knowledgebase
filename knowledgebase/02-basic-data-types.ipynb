{
 "cells": [
  {
   "metadata": {},
   "cell_type": "markdown",
   "source": "# Basic Data Types",
   "id": "5d1a0a6f7a4a6906"
  },
  {
   "metadata": {},
   "cell_type": "markdown",
   "source": "## Strings",
   "id": "d4cdebed462e1c57"
  },
  {
   "metadata": {},
   "cell_type": "markdown",
   "source": "String literals can be single- or double-quoted, based on their contents:",
   "id": "52f1c4e85f1a8598"
  },
  {
   "metadata": {
    "ExecuteTime": {
     "end_time": "2024-06-24T13:02:48.394090Z",
     "start_time": "2024-06-24T13:02:48.390255Z"
    }
   },
   "cell_type": "code",
   "source": [
    "import decimal\n",
    "\n",
    "single_quoted_string = 'This is a valid string surrounded in single quotes'\n",
    "double_quoted_string = \"This is a valid string surrounded in double quotes\"\n",
    "\n",
    "single_quoted_string_containing_double_quotes = 'This has \"double quotes\" in it'\n",
    "double_quoted_string_containing_single_quotes = \"This has 'double quotes' in it\""
   ],
   "id": "cb4e6822031a6200",
   "outputs": [],
   "execution_count": 2
  },
  {
   "metadata": {},
   "cell_type": "markdown",
   "source": "Quotes of the same type as the delimiter can also be escaped:",
   "id": "b4928e5fe62e3b3c"
  },
  {
   "metadata": {
    "ExecuteTime": {
     "end_time": "2024-06-24T13:04:26.789783Z",
     "start_time": "2024-06-24T13:04:26.785853Z"
    }
   },
   "cell_type": "code",
   "source": [
    "single_quoted_with_escaped_single_quotes = 'This contains \\'escaped single-quotes\\''\n",
    "print(single_quoted_with_escaped_single_quotes)\n",
    "\n",
    "double_quoted_with_escaped_double_quotes = \"This contains \\\"escaped double-quotes\\\"\"\n",
    "print(double_quoted_with_escaped_double_quotes)"
   ],
   "id": "53e1848215b9c123",
   "outputs": [
    {
     "name": "stdout",
     "output_type": "stream",
     "text": [
      "This contains 'escaped single-quotes'\n",
      "This contains \"escaped single-quotes\"\n"
     ]
    }
   ],
   "execution_count": 6
  },
  {
   "metadata": {},
   "cell_type": "markdown",
   "source": "String casing can be changed with `title()`, `upper()` and `lower()`:",
   "id": "8d8dfe867eb10a20"
  },
  {
   "metadata": {
    "ExecuteTime": {
     "end_time": "2024-06-24T13:05:27.110267Z",
     "start_time": "2024-06-24T13:05:27.107707Z"
    }
   },
   "cell_type": "code",
   "source": [
    "name = \"ada lovelace\"\n",
    "print(name.title())\n",
    "print(name.upper())\n",
    "print(name.lower())"
   ],
   "id": "53a39c71e2eaea05",
   "outputs": [
    {
     "name": "stdout",
     "output_type": "stream",
     "text": [
      "Ada Lovelace\n",
      "ADA LOVELACE\n",
      "ada lovelace\n"
     ]
    }
   ],
   "execution_count": 9
  },
  {
   "metadata": {},
   "cell_type": "markdown",
   "source": [
    "_String interpolation_ allows a variable or expression to be included in an\n",
    "_f-string_:"
   ],
   "id": "9557c71d4ce19c64"
  },
  {
   "metadata": {
    "ExecuteTime": {
     "end_time": "2024-06-24T13:07:39.438021Z",
     "start_time": "2024-06-24T13:07:39.433820Z"
    }
   },
   "cell_type": "code",
   "source": [
    "first_name = \"Ada\"\n",
    "last_name = \"Lovelace\"\n",
    "print(f\"{first_name} {last_name}\")\n",
    "\n",
    "one = 1\n",
    "two = 2\n",
    "print(f\"{one} plus {two} equals {one + two}\")"
   ],
   "id": "5c3ac15550e4ded2",
   "outputs": [
    {
     "name": "stdout",
     "output_type": "stream",
     "text": [
      "Ada Lovelace\n",
      "1 plus 2 equals 3\n"
     ]
    }
   ],
   "execution_count": 11
  },
  {
   "metadata": {},
   "cell_type": "markdown",
   "source": [
    "Whitespace can be stripped from the start, end or both of a string using\n",
    "`lstrip()`, `rstrip()` and `strip()`:"
   ],
   "id": "6d84394ba9561d90"
  },
  {
   "metadata": {
    "ExecuteTime": {
     "end_time": "2024-06-24T13:10:11.657984Z",
     "start_time": "2024-06-24T13:10:11.653309Z"
    }
   },
   "cell_type": "code",
   "source": [
    "favourite_language = \"    python    \"\n",
    "print(f\"My favourite language is {favourite_language}.\")\n",
    "print(f\"My favourite language is {favourite_language.lstrip()}.\")\n",
    "print(f\"My favourite language is {favourite_language.rstrip()}.\")\n",
    "print(f\"My favourite language is {favourite_language.strip()}.\")"
   ],
   "id": "742f15eb7e48dd73",
   "outputs": [
    {
     "name": "stdout",
     "output_type": "stream",
     "text": [
      "My favourite language is     python    .\n",
      "My favourite language is python    .\n",
      "My favourite language is     python.\n",
      "My favourite language is python.\n"
     ]
    }
   ],
   "execution_count": 13
  },
  {
   "metadata": {},
   "cell_type": "markdown",
   "source": [
    "Prefixes and suffixes can be removed from the start / end of a string using\n",
    "`removeprefix()` / `removesuffix()`: "
   ],
   "id": "f180e06ce07e73ce"
  },
  {
   "metadata": {
    "ExecuteTime": {
     "end_time": "2024-06-24T13:11:52.496078Z",
     "start_time": "2024-06-24T13:11:52.493442Z"
    }
   },
   "cell_type": "code",
   "source": [
    "testurl = \"https://www.example.com/path\"\n",
    "print(testurl.removeprefix(\"https://\"))\n",
    "print(testurl.removesuffix(\"/path\"))"
   ],
   "id": "7548791d878fa889",
   "outputs": [
    {
     "name": "stdout",
     "output_type": "stream",
     "text": [
      "www.example.com/path\n",
      "https://www.example.com\n"
     ]
    }
   ],
   "execution_count": 15
  },
  {
   "metadata": {},
   "cell_type": "markdown",
   "source": "## Numbers",
   "id": "2135e9c0b4932579"
  },
  {
   "metadata": {},
   "cell_type": "markdown",
   "source": "Integers (`int`s) support standard arithmetic operations: ",
   "id": "d58ea223656afc9d"
  },
  {
   "metadata": {
    "ExecuteTime": {
     "end_time": "2024-06-24T13:14:27.289248Z",
     "start_time": "2024-06-24T13:14:27.285579Z"
    }
   },
   "cell_type": "code",
   "source": "2 + 3",
   "id": "bbe425d2978b4e69",
   "outputs": [
    {
     "data": {
      "text/plain": [
       "5"
      ]
     },
     "execution_count": 22,
     "metadata": {},
     "output_type": "execute_result"
    }
   ],
   "execution_count": 22
  },
  {
   "metadata": {
    "ExecuteTime": {
     "end_time": "2024-06-24T13:14:28.348608Z",
     "start_time": "2024-06-24T13:14:28.343764Z"
    }
   },
   "cell_type": "code",
   "source": "type(2 + 3)",
   "id": "41d1e125f8aa7b6c",
   "outputs": [
    {
     "data": {
      "text/plain": [
       "int"
      ]
     },
     "execution_count": 23,
     "metadata": {},
     "output_type": "execute_result"
    }
   ],
   "execution_count": 23
  },
  {
   "metadata": {
    "ExecuteTime": {
     "end_time": "2024-06-24T13:13:02.776333Z",
     "start_time": "2024-06-24T13:13:02.772514Z"
    }
   },
   "cell_type": "code",
   "source": "3 - 2",
   "id": "de0053aa7b46728a",
   "outputs": [
    {
     "data": {
      "text/plain": [
       "1"
      ]
     },
     "execution_count": 17,
     "metadata": {},
     "output_type": "execute_result"
    }
   ],
   "execution_count": 17
  },
  {
   "metadata": {
    "ExecuteTime": {
     "end_time": "2024-06-24T13:13:16.465591Z",
     "start_time": "2024-06-24T13:13:16.461742Z"
    }
   },
   "cell_type": "code",
   "source": "3 * 2",
   "id": "40f19b8904c222fc",
   "outputs": [
    {
     "data": {
      "text/plain": [
       "20"
      ]
     },
     "execution_count": 18,
     "metadata": {},
     "output_type": "execute_result"
    }
   ],
   "execution_count": 18
  },
  {
   "metadata": {
    "ExecuteTime": {
     "end_time": "2024-06-24T13:13:20.413552Z",
     "start_time": "2024-06-24T13:13:20.409880Z"
    }
   },
   "cell_type": "code",
   "source": "3 / 2",
   "id": "29f693e451fedd03",
   "outputs": [
    {
     "data": {
      "text/plain": [
       "1.0"
      ]
     },
     "execution_count": 19,
     "metadata": {},
     "output_type": "execute_result"
    }
   ],
   "execution_count": 19
  },
  {
   "metadata": {
    "ExecuteTime": {
     "end_time": "2024-06-24T13:14:49.016323Z",
     "start_time": "2024-06-24T13:14:49.013119Z"
    }
   },
   "cell_type": "code",
   "source": [
    "# note the return type\n",
    "type(3 / 2)"
   ],
   "id": "8cc7034fac0a5a40",
   "outputs": [
    {
     "data": {
      "text/plain": [
       "float"
      ]
     },
     "execution_count": 24,
     "metadata": {},
     "output_type": "execute_result"
    }
   ],
   "execution_count": 24
  },
  {
   "metadata": {
    "ExecuteTime": {
     "end_time": "2024-06-24T13:14:51.101723Z",
     "start_time": "2024-06-24T13:14:51.098197Z"
    }
   },
   "cell_type": "code",
   "source": "3 ** 2",
   "id": "d69e993603699b46",
   "outputs": [
    {
     "data": {
      "text/plain": [
       "9"
      ]
     },
     "execution_count": 25,
     "metadata": {},
     "output_type": "execute_result"
    }
   ],
   "execution_count": 25
  },
  {
   "metadata": {},
   "cell_type": "markdown",
   "source": "Any number with a decimal point is called a _float_:",
   "id": "abd5264c78c25824"
  },
  {
   "metadata": {
    "ExecuteTime": {
     "end_time": "2024-06-24T13:15:04.053647Z",
     "start_time": "2024-06-24T13:15:04.050344Z"
    }
   },
   "cell_type": "code",
   "source": "0.1 + 0.1",
   "id": "883bc2a78937e858",
   "outputs": [
    {
     "data": {
      "text/plain": [
       "0.2"
      ]
     },
     "execution_count": 26,
     "metadata": {},
     "output_type": "execute_result"
    }
   ],
   "execution_count": 26
  },
  {
   "metadata": {
    "ExecuteTime": {
     "end_time": "2024-06-24T13:15:09.502030Z",
     "start_time": "2024-06-24T13:15:09.498858Z"
    }
   },
   "cell_type": "code",
   "source": "2 * 0.2",
   "id": "48bec8fc7eb2d79e",
   "outputs": [
    {
     "data": {
      "text/plain": [
       "0.4"
      ]
     },
     "execution_count": 27,
     "metadata": {},
     "output_type": "execute_result"
    }
   ],
   "execution_count": 27
  },
  {
   "metadata": {},
   "cell_type": "markdown",
   "source": "Standard warnings apply about using floats.  Use `Decimal` instead for monetary values:",
   "id": "e667af255adc7fbd"
  },
  {
   "metadata": {
    "ExecuteTime": {
     "end_time": "2024-06-24T13:16:37.613277Z",
     "start_time": "2024-06-24T13:16:37.610434Z"
    }
   },
   "cell_type": "code",
   "source": "0.2 + 0.1",
   "id": "2438c11ea2397aa1",
   "outputs": [
    {
     "data": {
      "text/plain": [
       "0.30000000000000004"
      ]
     },
     "execution_count": 32,
     "metadata": {},
     "output_type": "execute_result"
    }
   ],
   "execution_count": 32
  },
  {
   "metadata": {
    "ExecuteTime": {
     "end_time": "2024-06-24T13:16:38.553332Z",
     "start_time": "2024-06-24T13:16:38.549697Z"
    }
   },
   "cell_type": "code",
   "source": [
    "from decimal import Decimal\n",
    "Decimal(0.2) + Decimal(0.1)"
   ],
   "id": "61091374c5b8518",
   "outputs": [
    {
     "data": {
      "text/plain": [
       "Decimal('0.3000000000000000166533453694')"
      ]
     },
     "execution_count": 33,
     "metadata": {},
     "output_type": "execute_result"
    }
   ],
   "execution_count": 33
  },
  {
   "metadata": {},
   "cell_type": "markdown",
   "source": "Underscores can be used to add clarity to numeric literals:",
   "id": "b7ca01516fdc3bb4"
  },
  {
   "metadata": {
    "ExecuteTime": {
     "end_time": "2024-06-24T13:18:15.310327Z",
     "start_time": "2024-06-24T13:18:15.308461Z"
    }
   },
   "cell_type": "code",
   "source": "one_million_million = 1_000_000_000_000",
   "id": "7e7c79518ae3acf0",
   "outputs": [],
   "execution_count": 34
  }
 ],
 "metadata": {
  "kernelspec": {
   "display_name": "Python 3",
   "language": "python",
   "name": "python3"
  },
  "language_info": {
   "codemirror_mode": {
    "name": "ipython",
    "version": 2
   },
   "file_extension": ".py",
   "mimetype": "text/x-python",
   "name": "python",
   "nbconvert_exporter": "python",
   "pygments_lexer": "ipython2",
   "version": "2.7.6"
  }
 },
 "nbformat": 4,
 "nbformat_minor": 5
}
