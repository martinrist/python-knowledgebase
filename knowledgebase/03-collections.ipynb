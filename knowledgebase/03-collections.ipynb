{
 "cells": [
  {
   "metadata": {},
   "cell_type": "markdown",
   "source": "# Collection Types",
   "id": "c9dca396c3ee0cb6"
  },
  {
   "metadata": {},
   "cell_type": "markdown",
   "source": "## Lists",
   "id": "3d0fc9bdc324b441"
  },
  {
   "metadata": {},
   "cell_type": "markdown",
   "source": "A _list_ is an _ordered_ collection of items, with 0-based index:",
   "id": "75b8781937a79f02"
  },
  {
   "metadata": {
    "ExecuteTime": {
     "end_time": "2024-06-24T13:29:28.074199Z",
     "start_time": "2024-06-24T13:29:28.069666Z"
    }
   },
   "cell_type": "code",
   "source": [
    "bicycles = [\"trek\", \"cannondale\", \"redline\", \"specialised\"]\n",
    "print(bicycles)"
   ],
   "id": "8a0927de8f9cff53",
   "outputs": [
    {
     "name": "stdout",
     "output_type": "stream",
     "text": [
      "['trek', 'cannondale', 'redline', 'specialised']\n"
     ]
    }
   ],
   "execution_count": 3
  },
  {
   "metadata": {},
   "cell_type": "markdown",
   "source": "List items can be accessed by index, either 0-based from the front, or negative (from the end):",
   "id": "d61b412818ca8fb2"
  },
  {
   "metadata": {
    "ExecuteTime": {
     "end_time": "2024-06-24T13:30:12.360409Z",
     "start_time": "2024-06-24T13:30:12.356285Z"
    }
   },
   "cell_type": "code",
   "source": "bicycles[1]",
   "id": "5cea94d328268298",
   "outputs": [
    {
     "data": {
      "text/plain": [
       "'cannondale'"
      ]
     },
     "execution_count": 5,
     "metadata": {},
     "output_type": "execute_result"
    }
   ],
   "execution_count": 5
  },
  {
   "metadata": {
    "ExecuteTime": {
     "end_time": "2024-06-24T13:30:22.005629Z",
     "start_time": "2024-06-24T13:30:22.001081Z"
    }
   },
   "cell_type": "code",
   "source": [
    "# The last item\n",
    "bicycles[-1]"
   ],
   "id": "dbde8e4821115776",
   "outputs": [
    {
     "data": {
      "text/plain": [
       "'specialised'"
      ]
     },
     "execution_count": 6,
     "metadata": {},
     "output_type": "execute_result"
    }
   ],
   "execution_count": 6
  },
  {
   "metadata": {
    "ExecuteTime": {
     "end_time": "2024-06-24T13:30:33.837890Z",
     "start_time": "2024-06-24T13:30:33.832915Z"
    }
   },
   "cell_type": "code",
   "source": "bicycles[-2]",
   "id": "788dddd7415e473c",
   "outputs": [
    {
     "data": {
      "text/plain": [
       "'redline'"
      ]
     },
     "execution_count": 9,
     "metadata": {},
     "output_type": "execute_result"
    }
   ],
   "execution_count": 9
  },
  {
   "metadata": {},
   "cell_type": "markdown",
   "source": "Changing individual items can be done by assigning a value to an indexed item:",
   "id": "8138d43a96ad105e"
  },
  {
   "metadata": {
    "ExecuteTime": {
     "end_time": "2024-06-24T13:33:37.257374Z",
     "start_time": "2024-06-24T13:33:37.253795Z"
    }
   },
   "cell_type": "code",
   "source": [
    "motorcycles = [\"honda\", \"yamaha\", \"suzuki\"]\n",
    "motorcycles[0] = \"ducati\"\n",
    "motorcycles"
   ],
   "id": "9218a1471e63323b",
   "outputs": [
    {
     "data": {
      "text/plain": [
       "['ducati', 'yamaha', 'suzuki']"
      ]
     },
     "execution_count": 18,
     "metadata": {},
     "output_type": "execute_result"
    }
   ],
   "execution_count": 18
  },
  {
   "metadata": {},
   "cell_type": "markdown",
   "source": "To _append_ elements to the end of a list, use `append()`:",
   "id": "7a1a1cf632ffae8f"
  },
  {
   "metadata": {
    "ExecuteTime": {
     "end_time": "2024-06-24T13:34:23.922583Z",
     "start_time": "2024-06-24T13:34:23.917510Z"
    }
   },
   "cell_type": "code",
   "source": [
    "motorcycles = [\"honda\", \"yamaha\", \"suzuki\"]\n",
    "motorcycles.append(\"honda\")\n",
    "motorcycles"
   ],
   "id": "143cff6b61857701",
   "outputs": [
    {
     "data": {
      "text/plain": [
       "['honda', 'yamaha', 'suzuki', 'honda']"
      ]
     },
     "execution_count": 20,
     "metadata": {},
     "output_type": "execute_result"
    }
   ],
   "execution_count": 20
  },
  {
   "metadata": {},
   "cell_type": "markdown",
   "source": "To _insert_ elements within a list, use `insert(pos, value)`:",
   "id": "fcd5bdc74e7fe3b1"
  },
  {
   "metadata": {
    "ExecuteTime": {
     "end_time": "2024-06-24T13:34:55.098550Z",
     "start_time": "2024-06-24T13:34:55.094614Z"
    }
   },
   "cell_type": "code",
   "source": [
    "motorcycles = [\"honda\", \"yamaha\", \"suzuki\"]\n",
    "motorcycles.insert(0, \"ducati\")\n",
    "motorcycles"
   ],
   "id": "af48ee6b6561c758",
   "outputs": [
    {
     "data": {
      "text/plain": [
       "['ducati', 'honda', 'yamaha', 'suzuki']"
      ]
     },
     "execution_count": 21,
     "metadata": {},
     "output_type": "execute_result"
    }
   ],
   "execution_count": 21
  },
  {
   "metadata": {},
   "cell_type": "markdown",
   "source": "To _remove_ elements from a list, by position, use the `del` statement on the item:",
   "id": "5afb8531c63cb03"
  },
  {
   "metadata": {
    "ExecuteTime": {
     "end_time": "2024-06-24T13:35:55.616270Z",
     "start_time": "2024-06-24T13:35:55.611137Z"
    }
   },
   "cell_type": "code",
   "source": [
    "motorcycles = [\"honda\", \"yamaha\", \"suzuki\"]\n",
    "del motorcycles[0]              # Note that this is a statement, not a function\n",
    "motorcycles"
   ],
   "id": "49769219a92dffef",
   "outputs": [
    {
     "data": {
      "text/plain": [
       "['yamaha', 'suzuki']"
      ]
     },
     "execution_count": 22,
     "metadata": {},
     "output_type": "execute_result"
    }
   ],
   "execution_count": 22
  },
  {
   "metadata": {},
   "cell_type": "markdown",
   "source": "To remove elements from a list then use it, use `pop()`:",
   "id": "afb2657a46993088"
  },
  {
   "metadata": {
    "ExecuteTime": {
     "end_time": "2024-06-24T13:37:09.272241Z",
     "start_time": "2024-06-24T13:37:09.268338Z"
    }
   },
   "cell_type": "code",
   "source": [
    "motorcycles = [\"honda\", \"yamaha\", \"suzuki\"]\n",
    "my_bike = motorcycles.pop()\n",
    "print(my_bike)\n",
    "print(\"-------\")\n",
    "print(motorcycles)\n"
   ],
   "id": "25db48c20c9dc0fa",
   "outputs": [
    {
     "name": "stdout",
     "output_type": "stream",
     "text": [
      "suzuki\n",
      "-------\n",
      "['honda', 'yamaha']\n"
     ]
    }
   ],
   "execution_count": 24
  },
  {
   "metadata": {},
   "cell_type": "markdown",
   "source": "`pop(pos)` can be used to pop items from any position in a list:",
   "id": "3b751a6606e9ae85"
  },
  {
   "metadata": {
    "ExecuteTime": {
     "end_time": "2024-06-24T13:38:10.535008Z",
     "start_time": "2024-06-24T13:38:10.529533Z"
    }
   },
   "cell_type": "code",
   "source": [
    "motorcycles = [\"honda\", \"yamaha\", \"suzuki\"]\n",
    "my_bike = motorcycles.pop(2)\n",
    "my_bike"
   ],
   "id": "5befa56ddc8f111e",
   "outputs": [
    {
     "data": {
      "text/plain": [
       "'suzuki'"
      ]
     },
     "execution_count": 29,
     "metadata": {},
     "output_type": "execute_result"
    }
   ],
   "execution_count": 29
  },
  {
   "metadata": {},
   "cell_type": "markdown",
   "source": "To remove an item by value (without knowing the index), use `remove()`:",
   "id": "79edbe7a6ea047d7"
  },
  {
   "metadata": {
    "ExecuteTime": {
     "end_time": "2024-06-24T13:39:14.092424Z",
     "start_time": "2024-06-24T13:39:14.088789Z"
    }
   },
   "cell_type": "code",
   "source": [
    "motorcycles = [\"honda\", \"yamaha\", \"suzuki\"]\n",
    "motorcycles.remove(\"yamaha\")\n",
    "motorcycles"
   ],
   "id": "fdf1beaabff6a5a8",
   "outputs": [
    {
     "data": {
      "text/plain": [
       "['honda', 'suzuki']"
      ]
     },
     "execution_count": 36,
     "metadata": {},
     "output_type": "execute_result"
    }
   ],
   "execution_count": 36
  },
  {
   "metadata": {},
   "cell_type": "markdown",
   "source": "Lists can be sorted in-place using `sort()`:",
   "id": "879ceb253ec220ac"
  },
  {
   "metadata": {
    "ExecuteTime": {
     "end_time": "2024-06-24T13:41:17.285437Z",
     "start_time": "2024-06-24T13:41:17.282948Z"
    }
   },
   "cell_type": "code",
   "source": [
    "cars = [\"bmw\", \"audi\", \"toyota\", \"subaru\"]\n",
    "cars.sort()\n",
    "print(cars)\n",
    "\n",
    "# Use `reverse=True` to reverse the sort order\n",
    "cars.sort(reverse=True)\n",
    "print(cars)"
   ],
   "id": "bcd61f06e743faf3",
   "outputs": [
    {
     "name": "stdout",
     "output_type": "stream",
     "text": [
      "['audi', 'bmw', 'subaru', 'toyota']\n",
      "['toyota', 'subaru', 'bmw', 'audi']\n"
     ]
    }
   ],
   "execution_count": 40
  },
  {
   "metadata": {},
   "cell_type": "markdown",
   "source": "To return a sorted list, maintaining the original order, use `sorted(list)`:",
   "id": "a924ac631f7c9fe0"
  },
  {
   "metadata": {
    "ExecuteTime": {
     "end_time": "2024-06-24T13:42:25.738874Z",
     "start_time": "2024-06-24T13:42:25.734902Z"
    }
   },
   "cell_type": "code",
   "source": [
    "cars = [\"bmw\", \"audi\", \"toyota\", \"subaru\"]\n",
    "print(sorted(cars))\n",
    "print(sorted(cars, reverse=True))\n",
    "print(cars)"
   ],
   "id": "6657cac3024605fc",
   "outputs": [
    {
     "name": "stdout",
     "output_type": "stream",
     "text": [
      "['audi', 'bmw', 'subaru', 'toyota']\n",
      "['toyota', 'subaru', 'bmw', 'audi']\n",
      "['bmw', 'audi', 'toyota', 'subaru']\n"
     ]
    }
   ],
   "execution_count": 44
  },
  {
   "metadata": {},
   "cell_type": "markdown",
   "source": "To _reverse- the order of a list in-place, use `reverse()`:",
   "id": "59d6f52185c85217"
  },
  {
   "metadata": {
    "ExecuteTime": {
     "end_time": "2024-06-24T13:45:01.295547Z",
     "start_time": "2024-06-24T13:45:01.291624Z"
    }
   },
   "cell_type": "code",
   "source": [
    "cars = [\"bmw\", \"audi\", \"toyota\", \"subaru\"]\n",
    "cars.reverse()\n",
    "print(cars)"
   ],
   "id": "d21a67ca841292b7",
   "outputs": [
    {
     "name": "stdout",
     "output_type": "stream",
     "text": [
      "['subaru', 'toyota', 'audi', 'bmw']\n"
     ]
    }
   ],
   "execution_count": 54
  },
  {
   "metadata": {},
   "cell_type": "markdown",
   "source": "The _length_ of a list can be found using `len(list)`:",
   "id": "1eca1138617d689a"
  },
  {
   "metadata": {
    "ExecuteTime": {
     "end_time": "2024-06-24T13:45:02.126149Z",
     "start_time": "2024-06-24T13:45:02.121826Z"
    }
   },
   "cell_type": "code",
   "source": "len(cars)",
   "id": "c8ebccbd4b047c9e",
   "outputs": [
    {
     "data": {
      "text/plain": [
       "4"
      ]
     },
     "execution_count": 55,
     "metadata": {},
     "output_type": "execute_result"
    }
   ],
   "execution_count": 55
  },
  {
   "metadata": {},
   "cell_type": "markdown",
   "source": [
    "To take a portion of a list, use a _slice_ - `[start:stop]`.  This returns\n",
    "a copy of the part of the list from `start` (inclusive) to `stop` (exclusive):"
   ],
   "id": "7e85d14435fd6a0e"
  },
  {
   "metadata": {
    "ExecuteTime": {
     "end_time": "2024-06-24T14:50:57.050277Z",
     "start_time": "2024-06-24T14:50:57.046656Z"
    }
   },
   "cell_type": "code",
   "source": [
    "players = [\"charles\", \"martina\", \"micheal\", \"florence\", \"eli\"]\n",
    "players[2:4]"
   ],
   "id": "149726cd2651294d",
   "outputs": [
    {
     "data": {
      "text/plain": [
       "['micheal', 'florence']"
      ]
     },
     "execution_count": 82,
     "metadata": {},
     "output_type": "execute_result"
    }
   ],
   "execution_count": 82
  },
  {
   "metadata": {},
   "cell_type": "markdown",
   "source": "Omitting `start` or `stop` defaults to the first / last item in the list:",
   "id": "80b4dc7a993db393"
  },
  {
   "metadata": {
    "ExecuteTime": {
     "end_time": "2024-06-24T14:50:59.199259Z",
     "start_time": "2024-06-24T14:50:59.196133Z"
    }
   },
   "cell_type": "code",
   "source": "players[:3]",
   "id": "46d70870153a93c6",
   "outputs": [
    {
     "data": {
      "text/plain": [
       "['charles', 'martina', 'micheal']"
      ]
     },
     "execution_count": 83,
     "metadata": {},
     "output_type": "execute_result"
    }
   ],
   "execution_count": 83
  },
  {
   "metadata": {
    "ExecuteTime": {
     "end_time": "2024-06-24T14:51:00.191737Z",
     "start_time": "2024-06-24T14:51:00.187926Z"
    }
   },
   "cell_type": "code",
   "source": "players[3:]",
   "id": "64f80eb38ac5899e",
   "outputs": [
    {
     "data": {
      "text/plain": [
       "['florence', 'eli']"
      ]
     },
     "execution_count": 84,
     "metadata": {},
     "output_type": "execute_result"
    }
   ],
   "execution_count": 84
  },
  {
   "metadata": {
    "ExecuteTime": {
     "end_time": "2024-06-24T14:51:54.510108Z",
     "start_time": "2024-06-24T14:51:54.506392Z"
    }
   },
   "cell_type": "code",
   "source": [
    "# a handy way of getting the last 2 items\n",
    "players[-2:]"
   ],
   "id": "4526b3e084f7b332",
   "outputs": [
    {
     "data": {
      "text/plain": [
       "['florence', 'eli']"
      ]
     },
     "execution_count": 88,
     "metadata": {},
     "output_type": "execute_result"
    }
   ],
   "execution_count": 88
  },
  {
   "metadata": {
    "ExecuteTime": {
     "end_time": "2024-06-24T14:51:18.516952Z",
     "start_time": "2024-06-24T14:51:18.512639Z"
    }
   },
   "cell_type": "code",
   "source": [
    "# this is a handy shortcut for creating a copy of a list\n",
    "players[:]"
   ],
   "id": "de98fdaddf7812ba",
   "outputs": [
    {
     "data": {
      "text/plain": [
       "['charles', 'martina', 'micheal', 'florence', 'eli']"
      ]
     },
     "execution_count": 86,
     "metadata": {},
     "output_type": "execute_result"
    }
   ],
   "execution_count": 86
  },
  {
   "metadata": {
    "ExecuteTime": {
     "end_time": "2024-06-24T14:53:54.614088Z",
     "start_time": "2024-06-24T14:53:54.610353Z"
    }
   },
   "cell_type": "code",
   "source": [
    "players = [\"charles\", \"martina\", \"micheal\", \"florence\", \"eli\"]\n",
    "players_reference = players\n",
    "players_copy = players[:]\n",
    "players[2] = \"wilma\"\n",
    "\n",
    "print(players)\n",
    "print(players_reference)\n",
    "print(players_copy)"
   ],
   "id": "9fcd046be38a1953",
   "outputs": [
    {
     "name": "stdout",
     "output_type": "stream",
     "text": [
      "['charles', 'martina', 'wilma', 'florence', 'eli']\n",
      "['charles', 'martina', 'wilma', 'florence', 'eli']\n",
      "['charles', 'martina', 'micheal', 'florence', 'eli']\n"
     ]
    }
   ],
   "execution_count": 91
  },
  {
   "metadata": {},
   "cell_type": "markdown",
   "source": "## Tuples",
   "id": "843446e3bcbadcc9"
  },
  {
   "metadata": {},
   "cell_type": "markdown",
   "source": "_Tuples_ look like lists, except you use parentheses, rather than square brackets: ",
   "id": "65fcbdbeeea1a20c"
  },
  {
   "metadata": {
    "ExecuteTime": {
     "end_time": "2024-06-24T14:57:32.917527Z",
     "start_time": "2024-06-24T14:57:32.915183Z"
    }
   },
   "cell_type": "code",
   "source": [
    "dimensions = (200, 50)\n",
    "print(dimensions[0])\n",
    "print(dimensions[1])"
   ],
   "id": "c7593f321c7ac235",
   "outputs": [
    {
     "name": "stdout",
     "output_type": "stream",
     "text": [
      "200\n",
      "50\n"
     ]
    }
   ],
   "execution_count": 96
  },
  {
   "metadata": {},
   "cell_type": "markdown",
   "source": [
    "Tuples are _immutable_ - you can't append items, or change existing ones.  Both\n",
    "of these lines will fail:"
   ],
   "id": "f9354cb0f850f11d"
  },
  {
   "metadata": {
    "ExecuteTime": {
     "end_time": "2024-06-24T14:58:33.457797Z",
     "start_time": "2024-06-24T14:58:33.454811Z"
    }
   },
   "cell_type": "code",
   "source": [
    "# AttributeError: 'tuple' object has no attribute 'append'\n",
    "# dimensions.append(400)\n",
    "\n",
    "# TypeError: 'tuple' object does not support item assignment\n",
    "# dimensions[0] = 300"
   ],
   "id": "7f004953cf65c8a6",
   "outputs": [],
   "execution_count": 100
  },
  {
   "metadata": {},
   "cell_type": "markdown",
   "source": "However, it _is_ possible to overwrite the value as a whole, since the reference is mutable:",
   "id": "f001ed0ea93ec9a5"
  },
  {
   "metadata": {
    "ExecuteTime": {
     "end_time": "2024-06-24T15:02:19.010689Z",
     "start_time": "2024-06-24T15:02:19.007766Z"
    }
   },
   "cell_type": "code",
   "source": [
    "dimensions = (400, 100)\n",
    "print(dimensions[0])\n",
    "print(dimensions[1])"
   ],
   "id": "843b54f96f4339b4",
   "outputs": [
    {
     "name": "stdout",
     "output_type": "stream",
     "text": [
      "400\n",
      "100\n"
     ]
    }
   ],
   "execution_count": 102
  },
  {
   "metadata": {},
   "cell_type": "markdown",
   "source": "## Ranges",
   "id": "d3e3d323b93c273b"
  },
  {
   "metadata": {},
   "cell_type": "markdown",
   "source": [
    "To create a range of numbers, use the `range(start, stop)` function.  This creates a\n",
    "`range` type of `int`s from `start` (inclusive) to `stop` (exclusive) that\n",
    "can be iterated over:"
   ],
   "id": "751ac86cf80365fa"
  },
  {
   "metadata": {},
   "cell_type": "markdown",
   "source": "",
   "id": "4174ea23bc613bc"
  },
  {
   "metadata": {
    "ExecuteTime": {
     "end_time": "2024-06-24T14:40:15.148234Z",
     "start_time": "2024-06-24T14:40:15.143299Z"
    }
   },
   "cell_type": "code",
   "source": "type(range(1, 100))",
   "id": "3b40438e64f20cdc",
   "outputs": [
    {
     "data": {
      "text/plain": [
       "range"
      ]
     },
     "execution_count": 60,
     "metadata": {},
     "output_type": "execute_result"
    }
   ],
   "execution_count": 60
  },
  {
   "metadata": {
    "ExecuteTime": {
     "end_time": "2024-06-24T14:42:05.766435Z",
     "start_time": "2024-06-24T14:42:05.763370Z"
    }
   },
   "cell_type": "code",
   "source": [
    "for value in range(1, 5):\n",
    "    print(value)"
   ],
   "id": "fc48fb6a3b9adb5f",
   "outputs": [
    {
     "name": "stdout",
     "output_type": "stream",
     "text": [
      "1\n",
      "2\n",
      "3\n",
      "4\n"
     ]
    }
   ],
   "execution_count": 61
  },
  {
   "metadata": {},
   "cell_type": "markdown",
   "source": "Use the `step` parameter to only include values every `step`:",
   "id": "492ea05009bbef8"
  },
  {
   "metadata": {
    "ExecuteTime": {
     "end_time": "2024-06-24T14:43:58.253614Z",
     "start_time": "2024-06-24T14:43:58.250430Z"
    }
   },
   "cell_type": "code",
   "source": [
    "for value in range(1, 10, 3):\n",
    "    print(value)"
   ],
   "id": "64ff0ba8726dbd9",
   "outputs": [
    {
     "name": "stdout",
     "output_type": "stream",
     "text": [
      "1\n",
      "4\n",
      "7\n"
     ]
    }
   ],
   "execution_count": 66
  },
  {
   "metadata": {},
   "cell_type": "markdown",
   "source": "Can create a list of numbers by passing the output of `range()` to the `list()` constructor:",
   "id": "9b48210a6713623"
  },
  {
   "metadata": {
    "ExecuteTime": {
     "end_time": "2024-06-24T14:43:07.199925Z",
     "start_time": "2024-06-24T14:43:07.197341Z"
    }
   },
   "cell_type": "code",
   "source": "list(range(1, 10))",
   "id": "1da9bc84fa574f91",
   "outputs": [
    {
     "data": {
      "text/plain": [
       "[1, 2, 3, 4, 5, 6, 7, 8, 9]"
      ]
     },
     "execution_count": 63,
     "metadata": {},
     "output_type": "execute_result"
    }
   ],
   "execution_count": 63
  },
  {
   "metadata": {},
   "cell_type": "markdown",
   "source": "## Iteration",
   "id": "8b7d461ee8355b19"
  },
  {
   "metadata": {},
   "cell_type": "markdown",
   "source": "Use a `for` loop to iterate through the contents of a collection:",
   "id": "14f03cb2dc7858a6"
  },
  {
   "metadata": {
    "ExecuteTime": {
     "end_time": "2024-06-24T14:36:54.011605Z",
     "start_time": "2024-06-24T14:36:54.007190Z"
    }
   },
   "cell_type": "code",
   "source": [
    "magicians = [\"alice\", \"david\", \"carolina\"]\n",
    "for magician in magicians:\n",
    "    print(magician)"
   ],
   "id": "26586bd3a45ee865",
   "outputs": [
    {
     "name": "stdout",
     "output_type": "stream",
     "text": [
      "alice\n",
      "david\n",
      "carolina\n"
     ]
    }
   ],
   "execution_count": 56
  },
  {
   "metadata": {},
   "cell_type": "markdown",
   "source": "## Comprehensions",
   "id": "2ad6c08c5825c2db"
  },
  {
   "metadata": {},
   "cell_type": "markdown",
   "source": "A _list comprehension_ is a concise way to generate lists in single lines of code:",
   "id": "a00caba502b24729"
  },
  {
   "metadata": {
    "ExecuteTime": {
     "end_time": "2024-06-24T14:45:26.882168Z",
     "start_time": "2024-06-24T14:45:26.878621Z"
    }
   },
   "cell_type": "code",
   "source": "[value ** 2 for value in range(1, 11)]",
   "id": "2417cd894fe9df4e",
   "outputs": [
    {
     "data": {
      "text/plain": [
       "[1, 4, 9, 16, 25, 36, 49, 64, 81, 100]"
      ]
     },
     "execution_count": 68,
     "metadata": {},
     "output_type": "execute_result"
    }
   ],
   "execution_count": 68
  },
  {
   "metadata": {},
   "cell_type": "markdown",
   "source": "## Dictionaries",
   "id": "b52857ee471a1dd4"
  },
  {
   "metadata": {},
   "cell_type": "markdown",
   "source": [
    "A _dictionary_ is a collection of _key-value_ pairs.  Denoted by curly braces.\n",
    "Both keys and values can be of any type:"
   ],
   "id": "1a9104a0d1dba4ea"
  },
  {
   "metadata": {
    "ExecuteTime": {
     "end_time": "2024-07-24T10:49:56.452545Z",
     "start_time": "2024-07-24T10:49:56.450095Z"
    }
   },
   "cell_type": "code",
   "source": [
    "alien_0 = { \"colour\": \"green\", \"points\": 5, \"invincible\": True}\n",
    "alien_1 = { \"colour\": \"yellow\", \"points\": 10, \"invincible\": False}"
   ],
   "id": "2e9555a2e5eb1960",
   "outputs": [],
   "execution_count": 4
  },
  {
   "metadata": {},
   "cell_type": "markdown",
   "source": [
    "Values can be accessed by looking up keys using `[]`.  Invalid keys give\n",
    "a `KeyError`, or can be substituted with a default value using `get()`:"
   ],
   "id": "9469695b57c8394a"
  },
  {
   "metadata": {
    "ExecuteTime": {
     "end_time": "2024-07-24T10:51:19.276452Z",
     "start_time": "2024-07-24T10:51:19.272183Z"
    }
   },
   "cell_type": "code",
   "source": "alien_0[\"colour\"]",
   "id": "e38e72a6de7b9960",
   "outputs": [
    {
     "data": {
      "text/plain": [
       "'green'"
      ]
     },
     "execution_count": 8,
     "metadata": {},
     "output_type": "execute_result"
    }
   ],
   "execution_count": 8
  },
  {
   "metadata": {
    "ExecuteTime": {
     "end_time": "2024-07-24T10:51:20.303129Z",
     "start_time": "2024-07-24T10:51:20.292496Z"
    }
   },
   "cell_type": "code",
   "source": "alien_0[\"foo\"]",
   "id": "8313f3991c72ada6",
   "outputs": [
    {
     "ename": "KeyError",
     "evalue": "'foo'",
     "output_type": "error",
     "traceback": [
      "\u001B[0;31m---------------------------------------------------------------------------\u001B[0m",
      "\u001B[0;31mKeyError\u001B[0m                                  Traceback (most recent call last)",
      "Cell \u001B[0;32mIn[9], line 1\u001B[0m\n\u001B[0;32m----> 1\u001B[0m \u001B[43malien_0\u001B[49m\u001B[43m[\u001B[49m\u001B[38;5;124;43m\"\u001B[39;49m\u001B[38;5;124;43mfoo\u001B[39;49m\u001B[38;5;124;43m\"\u001B[39;49m\u001B[43m]\u001B[49m\n",
      "\u001B[0;31mKeyError\u001B[0m: 'foo'"
     ]
    }
   ],
   "execution_count": 9
  },
  {
   "metadata": {
    "ExecuteTime": {
     "end_time": "2024-07-24T10:51:20.988816Z",
     "start_time": "2024-07-24T10:51:20.985508Z"
    }
   },
   "cell_type": "code",
   "source": "alien_0.get(\"foo\", \"default\")",
   "id": "55d874ba6306d6ee",
   "outputs": [
    {
     "data": {
      "text/plain": [
       "'default'"
      ]
     },
     "execution_count": 10,
     "metadata": {},
     "output_type": "execute_result"
    }
   ],
   "execution_count": 10
  },
  {
   "metadata": {},
   "cell_type": "markdown",
   "source": "Dictionaries are mutable - new key value pairs can be added:",
   "id": "96a8d049ae5ba8dd"
  },
  {
   "metadata": {
    "ExecuteTime": {
     "end_time": "2024-07-24T10:52:57.287835Z",
     "start_time": "2024-07-24T10:52:57.285700Z"
    }
   },
   "cell_type": "code",
   "source": [
    "alien_0[\"x_position\"] = 0\n",
    "alien_0[\"y_position\"] = 25\n",
    "\n",
    "print(alien_0)"
   ],
   "id": "d8b1b73e1ab2713a",
   "outputs": [
    {
     "name": "stdout",
     "output_type": "stream",
     "text": [
      "{'colour': 'green', 'points': 5, 'invincible': True, 'x_position': 0, 'y_position': 25}\n"
     ]
    }
   ],
   "execution_count": 14
  },
  {
   "metadata": {},
   "cell_type": "markdown",
   "source": "Dictionary values can be modified as well as added:",
   "id": "c5f522ec27ab293"
  },
  {
   "metadata": {
    "ExecuteTime": {
     "end_time": "2024-07-24T10:54:02.593179Z",
     "start_time": "2024-07-24T10:54:02.589878Z"
    }
   },
   "cell_type": "code",
   "source": [
    "alien_1[\"colour\"] = \"red\"\n",
    "alien_1"
   ],
   "id": "1276a33faca3586a",
   "outputs": [
    {
     "data": {
      "text/plain": [
       "{'colour': 'red', 'points': 10, 'invincible': False}"
      ]
     },
     "execution_count": 15,
     "metadata": {},
     "output_type": "execute_result"
    }
   ],
   "execution_count": 15
  },
  {
   "metadata": {},
   "cell_type": "markdown",
   "source": "To delete entries from a dictionary use the `del` _statement_:",
   "id": "3c370ab077d4b55a"
  },
  {
   "metadata": {
    "ExecuteTime": {
     "end_time": "2024-07-24T10:55:30.538247Z",
     "start_time": "2024-07-24T10:55:30.535716Z"
    }
   },
   "cell_type": "code",
   "source": [
    "del alien_0[\"points\"]\n",
    "alien_0"
   ],
   "id": "df0749982a583a80",
   "outputs": [
    {
     "data": {
      "text/plain": [
       "{'colour': 'green', 'invincible': True, 'x_position': 0, 'y_position': 25}"
      ]
     },
     "execution_count": 16,
     "metadata": {},
     "output_type": "execute_result"
    }
   ],
   "execution_count": 16
  },
  {
   "metadata": {},
   "cell_type": "markdown",
   "source": "To loop through all key-value pairs in a dictionary, use `items()`:",
   "id": "bf9cc8b46bc19065"
  },
  {
   "metadata": {
    "ExecuteTime": {
     "end_time": "2024-07-24T11:10:14.189897Z",
     "start_time": "2024-07-24T11:10:14.187179Z"
    }
   },
   "cell_type": "code",
   "source": [
    "for key, value in alien_0.items():\n",
    "    print(f\"{key}: {value}\")"
   ],
   "id": "9b7b343779b1deb5",
   "outputs": [
    {
     "name": "stdout",
     "output_type": "stream",
     "text": [
      "colour: green\n",
      "invincible: True\n",
      "x_position: 0\n",
      "y_position: 25\n"
     ]
    }
   ],
   "execution_count": 18
  },
  {
   "metadata": {},
   "cell_type": "code",
   "outputs": [],
   "execution_count": null,
   "source": "",
   "id": "b6ff46c69c8b4b8f"
  },
  {
   "metadata": {},
   "cell_type": "markdown",
   "source": [
    "To loop through all the keys in a dictionary, use `keys()`.  Note that this is\n",
    "also the default behaviour, so you don't have to use `keys()` explicitly:"
   ],
   "id": "c6a1f44f4f76cff8"
  },
  {
   "metadata": {
    "ExecuteTime": {
     "end_time": "2024-07-24T11:12:05.141560Z",
     "start_time": "2024-07-24T11:12:05.138119Z"
    }
   },
   "cell_type": "code",
   "source": [
    "for key in alien_0.keys():\n",
    "    print(f\"Found key: {key}\")\n",
    "    \n",
    "print()\n",
    "\n",
    "for key in alien_0:\n",
    "    print(f\"Found key: {key}\")\n"
   ],
   "id": "e5fefcf3bf925aa6",
   "outputs": [
    {
     "name": "stdout",
     "output_type": "stream",
     "text": [
      "Found key: colour\n",
      "Found key: invincible\n",
      "Found key: x_position\n",
      "Found key: y_position\n",
      "\n",
      "Found key: colour\n",
      "Found key: invincible\n",
      "Found key: x_position\n",
      "Found key: y_position\n"
     ]
    }
   ],
   "execution_count": 22
  },
  {
   "metadata": {},
   "cell_type": "markdown",
   "source": "Values can be looped through using `values()`:",
   "id": "ce0971208403a5e0"
  },
  {
   "metadata": {
    "ExecuteTime": {
     "end_time": "2024-07-24T11:13:30.855600Z",
     "start_time": "2024-07-24T11:13:30.853220Z"
    }
   },
   "cell_type": "code",
   "source": [
    "favorite_languages = {\n",
    "    'jen': 'python',\n",
    "    'sarah': 'c',\n",
    "    'edward': 'rust',\n",
    "    'phil': 'python',\n",
    "}\n",
    "\n",
    "print(\"The following languages have been mentioned:\")\n",
    "for language in favorite_languages.values():\n",
    "    print(language.title())"
   ],
   "id": "6dae7446616968d7",
   "outputs": [
    {
     "name": "stdout",
     "output_type": "stream",
     "text": [
      "The following languages have been mentioned:\n",
      "Python\n",
      "C\n",
      "Rust\n",
      "Python\n"
     ]
    }
   ],
   "execution_count": 24
  },
  {
   "metadata": {},
   "cell_type": "code",
   "outputs": [],
   "execution_count": null,
   "source": "",
   "id": "5a9df9941a1cd7cb"
  }
 ],
 "metadata": {
  "kernelspec": {
   "display_name": "Python 3",
   "language": "python",
   "name": "python3"
  },
  "language_info": {
   "codemirror_mode": {
    "name": "ipython",
    "version": 2
   },
   "file_extension": ".py",
   "mimetype": "text/x-python",
   "name": "python",
   "nbconvert_exporter": "python",
   "pygments_lexer": "ipython2",
   "version": "2.7.6"
  }
 },
 "nbformat": 4,
 "nbformat_minor": 5
}
