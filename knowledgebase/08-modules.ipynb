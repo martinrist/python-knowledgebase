{
 "cells": [
  {
   "metadata": {},
   "cell_type": "markdown",
   "source": "# Modules",
   "id": "dd29b20505bb3f80"
  },
  {
   "metadata": {},
   "cell_type": "markdown",
   "source": [
    "Declarations such as functions and classes can be stored in _modules_.\n",
    "There are several ways to import modules, or their contents:\n",
    "\n",
    "- Importing an entire module with all its definitions\n",
    "- Importing specific definitions within a module\n",
    "- Using `as` to give a definition an alias\n",
    "- Using `as` to give a module an alias\n",
    "- Importing all definitions in a module"
   ],
   "id": "a3ebc842b1769c5a"
  },
  {
   "metadata": {
    "ExecuteTime": {
     "end_time": "2024-07-25T10:36:49.124360Z",
     "start_time": "2024-07-25T10:36:49.120982Z"
    }
   },
   "cell_type": "code",
   "source": [
    "# Import an entire module with definitions\n",
    "import modules.maths\n",
    "\n",
    "# Note that references to the definitions need to include the module name\n",
    "print(modules.maths.add(2, 3))\n",
    "print(modules.maths.subtract(3, 1))"
   ],
   "id": "139fe9190106684f",
   "outputs": [
    {
     "name": "stdout",
     "output_type": "stream",
     "text": [
      "5\n",
      "2\n"
     ]
    }
   ],
   "execution_count": 31
  },
  {
   "metadata": {
    "ExecuteTime": {
     "end_time": "2024-07-25T10:37:07.551173Z",
     "start_time": "2024-07-25T10:37:07.547790Z"
    }
   },
   "cell_type": "code",
   "source": [
    "# Import a specific function\n",
    "from modules.maths import add\n",
    "\n",
    "print(modules.maths.add(2, 3))"
   ],
   "id": "cd7d8b30904b0374",
   "outputs": [
    {
     "name": "stdout",
     "output_type": "stream",
     "text": [
      "5\n",
      "-1\n"
     ]
    }
   ],
   "execution_count": 33
  },
  {
   "metadata": {
    "ExecuteTime": {
     "end_time": "2024-07-25T10:37:53.613498Z",
     "start_time": "2024-07-25T10:37:53.611420Z"
    }
   },
   "cell_type": "code",
   "source": [
    "# Use `as` to give a definition an alias\n",
    "from modules.maths import add as plus\n",
    "\n",
    "# Note that the reference is now unqualified\n",
    "print(plus(4, 5))"
   ],
   "id": "e55a003d5ce467df",
   "outputs": [
    {
     "name": "stdout",
     "output_type": "stream",
     "text": [
      "9\n"
     ]
    }
   ],
   "execution_count": 34
  },
  {
   "metadata": {
    "ExecuteTime": {
     "end_time": "2024-07-25T10:38:23.554702Z",
     "start_time": "2024-07-25T10:38:23.551408Z"
    }
   },
   "cell_type": "code",
   "source": [
    "# Use `as` to give a whole module an alias:\n",
    "import modules.maths as maths\n",
    "\n",
    "# Note that the reference is now qualified using the alias\n",
    "print(maths.add(1, 2))"
   ],
   "id": "d7532a8692c42a58",
   "outputs": [
    {
     "name": "stdout",
     "output_type": "stream",
     "text": [
      "3\n"
     ]
    }
   ],
   "execution_count": 35
  },
  {
   "metadata": {
    "ExecuteTime": {
     "end_time": "2024-07-25T10:39:33.548748Z",
     "start_time": "2024-07-25T10:39:33.544468Z"
    }
   },
   "cell_type": "code",
   "source": [
    "# Importing all functions in a module\n",
    "from modules.maths import *\n",
    "\n",
    "# All functions can now be accessed unqualified\n",
    "print(add(1, 2))\n",
    "print(subtract(3, 4))"
   ],
   "id": "f97463a0e8f73090",
   "outputs": [
    {
     "name": "stdout",
     "output_type": "stream",
     "text": [
      "3\n",
      "-1\n"
     ]
    }
   ],
   "execution_count": 37
  },
  {
   "metadata": {},
   "cell_type": "markdown",
   "source": "We can also import multiple definitions (e.g. classes):",
   "id": "1ae01245b7253d40"
  },
  {
   "metadata": {},
   "cell_type": "code",
   "outputs": [],
   "execution_count": null,
   "source": [
    "from modules.car import Car, ElectricCar\n",
    "\n",
    "my_mustang = Car('ford', 'mustang', 2024)\n",
    "my_leaf = ElectricCar('nissan', 'leaf', 2024)"
   ],
   "id": "97a005808221e8ca"
  }
 ],
 "metadata": {
  "kernelspec": {
   "display_name": "Python 3",
   "language": "python",
   "name": "python3"
  },
  "language_info": {
   "codemirror_mode": {
    "name": "ipython",
    "version": 2
   },
   "file_extension": ".py",
   "mimetype": "text/x-python",
   "name": "python",
   "nbconvert_exporter": "python",
   "pygments_lexer": "ipython2",
   "version": "2.7.6"
  }
 },
 "nbformat": 4,
 "nbformat_minor": 5
}
