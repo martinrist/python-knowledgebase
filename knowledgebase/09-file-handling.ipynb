{
 "cells": [
  {
   "metadata": {},
   "cell_type": "markdown",
   "source": [
    "# File Handling\n",
    "\n",
    "## Reading & Writing Text"
   ],
   "id": "c61ade2e561033d5"
  },
  {
   "metadata": {},
   "cell_type": "markdown",
   "source": "Working with files and directories is helped with the `pathlib` module:",
   "id": "bb53b465acf5ea0a"
  },
  {
   "metadata": {
    "ExecuteTime": {
     "end_time": "2024-07-25T11:18:36.877083Z",
     "start_time": "2024-07-25T11:18:36.872370Z"
    }
   },
   "cell_type": "code",
   "source": [
    "from pathlib import Path\n",
    "\n",
    "path = Path(\"data/pi_digits.txt\")\n",
    "contents = path.read_text()\n",
    "print(contents)"
   ],
   "id": "81cbab8800b6f172",
   "outputs": [
    {
     "name": "stdout",
     "output_type": "stream",
     "text": [
      "3.1415926535\n",
      "  8979323846\n",
      "  2643383279\n"
     ]
    }
   ],
   "execution_count": 3
  },
  {
   "metadata": {},
   "cell_type": "markdown",
   "source": "To access individual lines in the file, use `splitlines()`",
   "id": "15f204d3d56667f2"
  },
  {
   "metadata": {
    "ExecuteTime": {
     "end_time": "2024-07-25T11:20:54.499078Z",
     "start_time": "2024-07-25T11:20:54.495417Z"
    }
   },
   "cell_type": "code",
   "source": [
    "from pathlib import Path\n",
    "\n",
    "path = Path(\"data/pi_digits.txt\")\n",
    "contents = path.read_text()\n",
    "lines = contents.splitlines()\n",
    "print(f\"File has {len(lines)} lines\")"
   ],
   "id": "929bf16a7c9bf6a0",
   "outputs": [
    {
     "name": "stdout",
     "output_type": "stream",
     "text": [
      "File has 3 lines\n"
     ]
    }
   ],
   "execution_count": 5
  },
  {
   "metadata": {},
   "cell_type": "markdown",
   "source": "Write to ta file using the `write_text()` method",
   "id": "3d2502fe517da16c"
  },
  {
   "metadata": {
    "ExecuteTime": {
     "end_time": "2024-07-25T11:22:34.110589Z",
     "start_time": "2024-07-25T11:22:34.106798Z"
    }
   },
   "cell_type": "code",
   "source": [
    "path = Path(\"data/programming.txt\")\n",
    "path.write_text(\"I love programming\")"
   ],
   "id": "d8727e84f74e34e8",
   "outputs": [
    {
     "data": {
      "text/plain": [
       "18"
      ]
     },
     "execution_count": 6,
     "metadata": {},
     "output_type": "execute_result"
    }
   ],
   "execution_count": 6
  },
  {
   "metadata": {},
   "cell_type": "markdown",
   "source": "Exception handling can be used to manage cases where files aren't found:",
   "id": "3d6eae47cb787cfa"
  },
  {
   "metadata": {
    "ExecuteTime": {
     "end_time": "2024-07-25T11:27:34.505109Z",
     "start_time": "2024-07-25T11:27:34.501644Z"
    }
   },
   "cell_type": "code",
   "source": [
    "from pathlib import Path\n",
    "\n",
    "path = Path(\"data/not_there.txt\")\n",
    "\n",
    "try:\n",
    "    contents = path.read_text()\n",
    "except FileNotFoundError:\n",
    "    print(\"Unable to find file!\")\n",
    "else:\n",
    "    print(contents)"
   ],
   "id": "d958785f9ddcfb76",
   "outputs": [
    {
     "name": "stdout",
     "output_type": "stream",
     "text": [
      "Unable to find file!\n"
     ]
    }
   ],
   "execution_count": 10
  },
  {
   "metadata": {},
   "cell_type": "markdown",
   "source": [
    "## Handling JSON with the `json` module\n",
    "\n",
    "JSON can be serialised and deserialised using the `json` module:"
   ],
   "id": "264592b881fe8186"
  },
  {
   "metadata": {
    "ExecuteTime": {
     "end_time": "2024-07-25T11:32:18.303348Z",
     "start_time": "2024-07-25T11:32:18.300607Z"
    }
   },
   "cell_type": "code",
   "source": [
    "import json\n",
    "\n",
    "numbers = [2, 3, 5, 7, 11, 13, 17, 19, 23]\n",
    "dictionary = {\"numbers\": numbers}\n",
    "\n",
    "print(json.dumps(numbers))\n",
    "\n",
    "dictionary_as_json = json.dumps(dictionary)\n",
    "print(dictionary_as_json)\n",
    "\n",
    "dictionary_reloaded = json.loads(dictionary_as_json)\n",
    "print(dictionary_reloaded[\"numbers\"])\n"
   ],
   "id": "fe98c1d6a5731a3",
   "outputs": [
    {
     "name": "stdout",
     "output_type": "stream",
     "text": [
      "[2, 3, 5, 7, 11, 13, 17, 19, 23]\n",
      "{\"numbers\": [2, 3, 5, 7, 11, 13, 17, 19, 23]}\n",
      "[2, 3, 5, 7, 11, 13, 17, 19, 23]\n"
     ]
    }
   ],
   "execution_count": 19
  },
  {
   "metadata": {},
   "cell_type": "code",
   "outputs": [],
   "execution_count": null,
   "source": "",
   "id": "1e4eec683b367d23"
  }
 ],
 "metadata": {
  "kernelspec": {
   "display_name": "Python 3",
   "language": "python",
   "name": "python3"
  },
  "language_info": {
   "codemirror_mode": {
    "name": "ipython",
    "version": 2
   },
   "file_extension": ".py",
   "mimetype": "text/x-python",
   "name": "python",
   "nbconvert_exporter": "python",
   "pygments_lexer": "ipython2",
   "version": "2.7.6"
  }
 },
 "nbformat": 4,
 "nbformat_minor": 5
}
