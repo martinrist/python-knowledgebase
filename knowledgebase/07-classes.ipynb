{
 "cells": [
  {
   "metadata": {},
   "cell_type": "markdown",
   "source": "# Classes",
   "id": "a3a76f86edef8b2b"
  },
  {
   "metadata": {},
   "cell_type": "markdown",
   "source": [
    "Classes can be created using the `class` keyword and an `__init()__` method\n",
    "to act as a constructor.\n",
    "\n",
    "Functions declared on a class definition are called _methods_, and have\n",
    "an initial `self` parameter, to indicate that they are _instance methods_:"
   ],
   "id": "485a444923f1b90c"
  },
  {
   "metadata": {
    "ExecuteTime": {
     "end_time": "2024-07-25T09:38:34.900048Z",
     "start_time": "2024-07-25T09:38:34.895968Z"
    }
   },
   "cell_type": "code",
   "source": [
    "class Dog:\n",
    "    \"\"\"A simple attempt to model a dog.\"\"\"\n",
    "\n",
    "    def __init__(self, name, age):\n",
    "        \"\"\"Initialise name and age attributes.\"\"\"\n",
    "        self.name = name\n",
    "        self.age = age\n",
    "\n",
    "    def sit(self):\n",
    "        \"\"\"Simulate a dog sitting in response to a command.\"\"\"\n",
    "        print(f\"{self.name} is now sitting.\")\n",
    "\n",
    "    def roll_over(self):\n",
    "        \"\"\"Simulate a dog rolling over in response to a command.\"\"\"\n",
    "        print(f\"{self.name} rolled over!\")\n",
    "\n",
    "my_dog_1 = Dog(\"Willie\", 6)"
   ],
   "id": "6e147aff11275afd",
   "outputs": [],
   "execution_count": 6
  },
  {
   "metadata": {},
   "cell_type": "markdown",
   "source": [
    "Attributes on a class instance can be accessed using dot notation.  Similarly,\n",
    "instance methods can be called. `self` is set to the instance on which the\n",
    "method is invoked:"
   ],
   "id": "20f6a1e753928e1c"
  },
  {
   "metadata": {
    "ExecuteTime": {
     "end_time": "2024-07-25T09:38:36.619047Z",
     "start_time": "2024-07-25T09:38:36.614962Z"
    }
   },
   "cell_type": "code",
   "source": [
    "my_dog_2 = Dog(\"Willie\", 6)\n",
    "print(f\"My dog is called {my_dog_2.name} and is {my_dog_2.age} years old.\")\n",
    "my_dog_2.sit()\n",
    "my_dog_2.roll_over()"
   ],
   "id": "f7d77aa96b09be86",
   "outputs": [
    {
     "name": "stdout",
     "output_type": "stream",
     "text": [
      "My dog is called Willie and is 6 years old.\n",
      "Willie is now sitting.\n",
      "Willie rolled over!\n"
     ]
    }
   ],
   "execution_count": 7
  },
  {
   "metadata": {},
   "cell_type": "markdown",
   "source": [
    "Default values for attributes can be set by setting their values in the\n",
    "initialiser explicitly, or by using a default parameter value in the\n",
    "initialiser signature:"
   ],
   "id": "4d18ca4bb3347776"
  },
  {
   "metadata": {
    "ExecuteTime": {
     "end_time": "2024-07-25T09:40:43.965200Z",
     "start_time": "2024-07-25T09:40:43.961862Z"
    }
   },
   "cell_type": "code",
   "source": [
    "class Car:\n",
    "    def __init__(self, make, model, year, odometer_reading = 0):\n",
    "        self.make = make\n",
    "        self.model = model\n",
    "        self.year = year\n",
    "        self.odometer_reading = odometer_reading\n",
    "\n",
    "    def read_odometer(self):\n",
    "        print(f\"This car has {self.odometer_reading} miles on the clock.\")\n",
    "\n",
    "car = Car(\"Ford\", \"Focus\", \"2024\")\n",
    "car.read_odometer()"
   ],
   "id": "56d7dcf7a0606b7f",
   "outputs": [
    {
     "name": "stdout",
     "output_type": "stream",
     "text": [
      "This car has 0 miles on the clock.\n"
     ]
    }
   ],
   "execution_count": 9
  },
  {
   "metadata": {},
   "cell_type": "markdown",
   "source": [
    "If a class is a specialised version of another class, we can use _inheritance_\n",
    "to enable the _child class_ to take on the attributes and methods of the _parent\n",
    "class_, and add / override its own.\n",
    "\n",
    "When initialising a child class, use `super().__init__(...)` to pass the\n",
    "initialisation call up the inheritance hierarchy:"
   ],
   "id": "48518c9689eb468c"
  },
  {
   "metadata": {
    "ExecuteTime": {
     "end_time": "2024-07-25T09:56:55.912748Z",
     "start_time": "2024-07-25T09:56:55.905928Z"
    }
   },
   "cell_type": "code",
   "source": [
    "class Car:\n",
    "    \"\"\"A simple attempt to represent a car.\"\"\"\n",
    "\n",
    "    def __init__(self, make, model, year):\n",
    "        \"\"\"Initialize attributes to describe a car.\"\"\"\n",
    "        self.make = make\n",
    "        self.model = model\n",
    "        self.year = year\n",
    "        self.odometer_reading = 0\n",
    "\n",
    "    def get_descriptive_name(self):\n",
    "        \"\"\"Return a neatly formatted descriptive name.\"\"\"\n",
    "        long_name = f\"{self.year} {self.make} {self.model}\"\n",
    "        return long_name.title()\n",
    "\n",
    "    def read_odometer(self):\n",
    "        \"\"\"Print a statement showing the car's mileage.\"\"\"\n",
    "        print(f\"This car has {self.odometer_reading} miles on it.\")\n",
    "\n",
    "    def update_odometer(self, mileage):\n",
    "        \"\"\"Set the odometer reading to the given value.\"\"\"\n",
    "        if mileage >= self.odometer_reading:\n",
    "            self.odometer_reading = mileage\n",
    "        else:\n",
    "            print(\"You can't roll back an odometer!\")\n",
    "\n",
    "    def increment_odometer(self, miles):\n",
    "        \"\"\"Add the given amount to the odometer reading.\"\"\"\n",
    "        self.odometer_reading += miles\n",
    "\n",
    "class ElectricCar(Car):\n",
    "    \"\"\"Represents aspects of a car that are specific to electric vehicles\"\"\"\n",
    "    \n",
    "    def __init__(self, make, model, year):\n",
    "        # Note that `self` is not needed here\n",
    "        super().__init__(make, model, year)\n",
    "        \n",
    "        # Then define subclass-specific attributes\n",
    "        self.battery_size = 40\n",
    "    \n",
    "    # Then define additional methods\n",
    "    def describe_battery(self):\n",
    "        \"\"\"Print a statement describing the battery size\"\"\"\n",
    "        print(f\"This car has a {self.battery_size}-kWh battery.\")\n",
    "\n",
    "    def get_descriptive_name(self):\n",
    "        \"\"\"Return a neatly formatted descriptive name specific to the electric car.\"\"\"\n",
    "        long_name = super().get_descriptive_name()\n",
    "        battery_size = \n",
    "        return f\"{long_name.title()} - (${self.describe_battery()}\"\n",
    "\n",
    "\n",
    "my_leaf = ElectricCar(\"nissan\", \"leaf\", 2024)\n",
    "\n",
    "print(my_leaf.get_descriptive_name())\n",
    "my_leaf.describe_battery()"
   ],
   "id": "bfcb5494dbcf7839",
   "outputs": [
    {
     "name": "stdout",
     "output_type": "stream",
     "text": [
      "***2024 Nissan Leaf\n",
      "This car has a 40-kWh battery.\n",
      "2024 Nissan Leaf - ($None\n",
      "This car has a 40-kWh battery.\n"
     ]
    }
   ],
   "execution_count": 16
  },
  {
   "metadata": {},
   "cell_type": "code",
   "outputs": [],
   "execution_count": null,
   "source": "",
   "id": "be3be690179ee567"
  }
 ],
 "metadata": {
  "kernelspec": {
   "display_name": "Python 3",
   "language": "python",
   "name": "python3"
  },
  "language_info": {
   "codemirror_mode": {
    "name": "ipython",
    "version": 2
   },
   "file_extension": ".py",
   "mimetype": "text/x-python",
   "name": "python",
   "nbconvert_exporter": "python",
   "pygments_lexer": "ipython2",
   "version": "2.7.6"
  }
 },
 "nbformat": 4,
 "nbformat_minor": 5
}
