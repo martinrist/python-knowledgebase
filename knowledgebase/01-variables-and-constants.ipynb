{
 "cells": [
  {
   "metadata": {},
   "cell_type": "markdown",
   "source": "# Variables & Constants",
   "id": "5daf1812d830fa1"
  },
  {
   "metadata": {},
   "cell_type": "markdown",
   "source": "## Variables",
   "id": "bb9d4035327a6370"
  },
  {
   "metadata": {},
   "cell_type": "markdown",
   "source": "Variables are assigned using standard `=` syntax, and can be referenced as normal:",
   "id": "4a2985cb5ee9dfa6"
  },
  {
   "metadata": {
    "ExecuteTime": {
     "end_time": "2024-06-24T13:00:50.385523Z",
     "start_time": "2024-06-24T13:00:50.381880Z"
    }
   },
   "cell_type": "code",
   "source": [
    "message = \"Hello Python world!\"\n",
    "print(message)"
   ],
   "id": "40c707ba5deb9953",
   "outputs": [
    {
     "name": "stdout",
     "output_type": "stream",
     "text": [
      "Hello Python world!\n"
     ]
    }
   ],
   "execution_count": 1
  },
  {
   "metadata": {},
   "cell_type": "markdown",
   "source": "Variable assignments are mutable:",
   "id": "35df8697873cceac"
  },
  {
   "metadata": {
    "ExecuteTime": {
     "end_time": "2024-06-24T13:00:50.388221Z",
     "start_time": "2024-06-24T13:00:50.386558Z"
    }
   },
   "cell_type": "code",
   "source": [
    "message = \"Hello again Python world!\"\n",
    "print(message)"
   ],
   "id": "d3bc9ef6daa0d610",
   "outputs": [
    {
     "name": "stdout",
     "output_type": "stream",
     "text": [
      "Hello again Python world!\n"
     ]
    }
   ],
   "execution_count": 2
  },
  {
   "metadata": {},
   "cell_type": "markdown",
   "source": [
    "Variable names contain letters, numbers and underscores, and can't start with a\n",
    "number.\n",
    "\n",
    "`lower_snake_case` is a common convention for variable names:"
   ],
   "id": "89cab61c2aa2043c"
  },
  {
   "metadata": {
    "ExecuteTime": {
     "end_time": "2024-06-24T13:00:50.396228Z",
     "start_time": "2024-06-24T13:00:50.394483Z"
    }
   },
   "cell_type": "code",
   "source": [
    "valid_variable = 1\n",
    "valid_variable_2 = \"foo\"\n",
    "# 1_not_valid = 4"
   ],
   "id": "9f8d9092e7fa31ac",
   "outputs": [],
   "execution_count": 3
  },
  {
   "metadata": {},
   "cell_type": "markdown",
   "source": "## Constants",
   "id": "a68c89837dc8f4a1"
  },
  {
   "metadata": {},
   "cell_type": "markdown",
   "source": [
    "A _constant_ is a variable whose value doesn't change.  Cannot be enforced, but\n",
    "conventionally constants are given `ALL_CAPS` names:"
   ],
   "id": "237a391114e7313f"
  },
  {
   "metadata": {},
   "cell_type": "code",
   "outputs": [],
   "execution_count": null,
   "source": "MAX_CONNECTIONS = 2000",
   "id": "d34714a10efde655"
  }
 ],
 "metadata": {
  "kernelspec": {
   "display_name": "Python 3",
   "language": "python",
   "name": "python3"
  },
  "language_info": {
   "codemirror_mode": {
    "name": "ipython",
    "version": 2
   },
   "file_extension": ".py",
   "mimetype": "text/x-python",
   "name": "python",
   "nbconvert_exporter": "python",
   "pygments_lexer": "ipython2",
   "version": "2.7.6"
  }
 },
 "nbformat": 4,
 "nbformat_minor": 5
}
