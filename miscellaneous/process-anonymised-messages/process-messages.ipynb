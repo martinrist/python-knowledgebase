{
 "cells": [
  {
   "cell_type": "code",
   "execution_count": 25,
   "id": "initial_id",
   "metadata": {
    "collapsed": true,
    "ExecuteTime": {
     "end_time": "2024-03-08T17:12:09.687559Z",
     "start_time": "2024-03-08T17:12:09.682016Z"
    }
   },
   "outputs": [
    {
     "data": {
      "text/plain": "'07400 819978'"
     },
     "execution_count": 25,
     "metadata": {},
     "output_type": "execute_result"
    }
   ],
   "source": [
    "from random import randint\n",
    "\n",
    "def get_random_number():\n",
    "    return f'07{random_with_n_digits(3)} {random_with_n_digits(6)}'\n",
    "\n",
    "def random_with_n_digits(n):\n",
    "    range_start = 10**(n-1)\n",
    "    range_end = (10**n)-1\n",
    "    return randint(range_start, range_end)\n",
    "\n",
    "get_random_number()"
   ]
  },
  {
   "cell_type": "code",
   "outputs": [],
   "source": [
    "import re\n",
    "\n",
    "input_path = \"input.csv\"\n",
    "output_path = 'output.csv'\n",
    "\n",
    "with open(input_path, 'r') as input_file:\n",
    "    with open(output_path, 'w') as output_file:\n",
    "\n",
    "        input_text = input_file.read()\n",
    "\n",
    "        for input_line in input_text.split(\"\\n\"):\n",
    "            output_line = re.sub('XXXX', get_random_number(), input_line)\n",
    "            output_file.write(f'{output_line}\\n')\n"
   ],
   "metadata": {
    "collapsed": false,
    "ExecuteTime": {
     "end_time": "2024-03-08T17:05:38.492194Z",
     "start_time": "2024-03-08T17:05:38.481394Z"
    }
   },
   "id": "3520bf98f4c81062",
   "execution_count": 24
  },
  {
   "cell_type": "code",
   "outputs": [],
   "source": [],
   "metadata": {
    "collapsed": false
   },
   "id": "951f2b0a8bbcea29"
  }
 ],
 "metadata": {
  "kernelspec": {
   "display_name": "Python 3",
   "language": "python",
   "name": "python3"
  },
  "language_info": {
   "codemirror_mode": {
    "name": "ipython",
    "version": 2
   },
   "file_extension": ".py",
   "mimetype": "text/x-python",
   "name": "python",
   "nbconvert_exporter": "python",
   "pygments_lexer": "ipython2",
   "version": "2.7.6"
  }
 },
 "nbformat": 4,
 "nbformat_minor": 5
}
